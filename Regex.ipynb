{
 "cells": [
  {
   "cell_type": "markdown",
   "metadata": {},
   "source": [
    "### Python Regex (Regular Expressions)\n",
    "\n",
    "This file is about how Python regex works, and using the basic patterns and functions in Python’s regex module, re, for to analyze text strings."
   ]
  },
  {
   "cell_type": "code",
   "execution_count": 1,
   "metadata": {},
   "outputs": [],
   "source": [
    "fh = open(r'Data/test_emails.txt', 'r').read()\n",
    "\n",
    "# precede the directory path with an r: converts a string into a raw string,\n",
    "# which helps to avoid conflicts such as backslashes in directory paths on Windows."
   ]
  },
  {
   "cell_type": "code",
   "execution_count": 2,
   "metadata": {},
   "outputs": [
    {
     "name": "stdout",
     "output_type": "stream",
     "text": [
      "From r  Thu Oct 31 08:11:39 2002\n",
      "Retur\n",
      "der.com>\n",
      "Message-Id: <200210311310.g9VDANt24674@bloodwork.mr.itd.UM>\n",
      "From: \"Mr. Be\n",
      "\n",
      "\n",
      "From r  Thu Oct 31 17:27:16 2002\n",
      "Retur\n",
      "g_715@epatra.com>\n",
      "Message-Id: <200210312227.g9VMQvDj017948@bluewhale.cs.CU>\n",
      "From: \"PRINCE OBONG ELEME\" <obo\n"
     ]
    }
   ],
   "source": [
    "# to find out who the emails are from. We could try raw Python on its own:\n",
    "\n",
    "for line in fh.split(\"n\"):\n",
    "    if \"From\" in line:\n",
    "        print(line)"
   ]
  },
  {
   "cell_type": "markdown",
   "metadata": {},
   "source": [
    "### Python’s 're' module"
   ]
  },
  {
   "cell_type": "code",
   "execution_count": 3,
   "metadata": {},
   "outputs": [
    {
     "name": "stdout",
     "output_type": "stream",
     "text": [
      "From: \"Mr. Ben Suleman\" <bensul2004nng@spinfinder.com>\n",
      "From: \"PRINCE OBONG ELEME\" <obong_715@epatra.com>\n"
     ]
    }
   ],
   "source": [
    "# import Python’s re module.\n",
    "# Then, use re.findall() function that returns a list of all instances\n",
    "# of a pattern we define in the string we’re looking at.\n",
    "\n",
    "import re\n",
    "\n",
    "# re.findall(pattern, string)\n",
    "for line in re.findall(\"From:.*\", fh): # .* is a shorthand for a string pattern\n",
    "    print(line)"
   ]
  },
  {
   "cell_type": "markdown",
   "metadata": {},
   "source": [
    "### Common Python Regex Patterns\n",
    "\n",
    "w : alphanumeric characters, which means a-z, A-Z, and 0-9. It also matches the underscore, _, and the dash, -.\n",
    "\n",
    "d : digits, which means 0-9.\n",
    "\n",
    "s :  whitespace characters, which include the tab, new line, carriage return, and space characters.\n",
    "\n",
    "S : non-whitespace characters.\n",
    "\n",
    ". :  any character except the new line character n.\n",
    "\n",
    "\\* : zero or more instances of a pattern on its left. This means it looks for repeating patterns.\n",
    "\n",
    "\\+ : one or more instances of a pattern on its left."
   ]
  },
  {
   "cell_type": "code",
   "execution_count": 4,
   "metadata": {},
   "outputs": [
    {
     "name": "stdout",
     "output_type": "stream",
     "text": [
      "['\"Mr. Ben Suleman\"']\n",
      "['\"PRINCE OBONG ELEME\"']\n"
     ]
    }
   ],
   "source": [
    "# pick out just the name between the quotation marks:\n",
    "\n",
    "match = re.findall(\"From:.*\", fh)\n",
    "\n",
    "for line in match:\n",
    "    print(re.findall('\\\".*\\\"', line)) # \\\" is used to escape quotation marks\n",
    "    \n",
    "# The name is also printed within square brackets because re.findall returns matches in a list."
   ]
  },
  {
   "cell_type": "code",
   "execution_count": 5,
   "metadata": {},
   "outputs": [
    {
     "name": "stdout",
     "output_type": "stream",
     "text": [
      "['bensul2004nng@spinfinder.com']\n",
      "['obong_715@epatra.com']\n"
     ]
    }
   ],
   "source": [
    "# # pick out just the email address:\n",
    "\n",
    "for line in match:\n",
    "    print(re.findall(\"\\w\\S*@.*\\w\", line))"
   ]
  },
  {
   "cell_type": "markdown",
   "metadata": {},
   "source": [
    "\n",
    "##### Let's analyze the pattern (\"\\w\\S*@.*\\w\") for finding out email:\n",
    "\n",
    "    First part (\\w\\S*@) is up to the @ character:\n",
    "The part of the email before the @ symbol might contain alphanumeric characters, which means w is required. However, because some emails contain a period or a dash, that’s not enough. We add S to look for non-whitespace characters. But, w\\S will get only two characters. Add * to look for repetitions.\n",
    "   \n",
    "     Second part (@.*\\w), is the the domain name:\n",
    "It usually contains alphanumeric characters, periods, and a dash sometimes, so a . will do. we extend the search with a *. This allows us to match any character till the end of the line. After the @ symbol we have .*\\w, which means that the pattern we want is a group of any type of characters ending with an alphanumeric character. This excludes >.\n"
   ]
  },
  {
   "cell_type": "code",
   "execution_count": 6,
   "metadata": {},
   "outputs": [],
   "source": [
    "#"
   ]
  },
  {
   "cell_type": "markdown",
   "metadata": {},
   "source": [
    "#### re.search function\n",
    "\n",
    "finds out the first instance of a pattern in a string, and returns it as a re match object.\n",
    "group() method converts the match object into a string."
   ]
  },
  {
   "cell_type": "code",
   "execution_count": 7,
   "metadata": {},
   "outputs": [
    {
     "name": "stdout",
     "output_type": "stream",
     "text": [
      "<class 're.Match'>\n",
      "<class 'str'>\n",
      "<re.Match object; span=(299, 343), match='Subject: URGENT ASSISTANCE /RELATIONSHIP (P)'>\n",
      "Subject: URGENT ASSISTANCE /RELATIONSHIP (P)\n"
     ]
    }
   ],
   "source": [
    "match = re.search(\"Subject:.*\", fh)\n",
    "\n",
    "print(type(match))\n",
    "\n",
    "# group() method converts the match object into a string.\n",
    "print(type(match.group()))\n",
    "print(match)\n",
    "print(match.group())"
   ]
  },
  {
   "cell_type": "markdown",
   "metadata": {},
   "source": [
    "#### re.split() function\n",
    "\n",
    "splits the text with the delimiter"
   ]
  },
  {
   "cell_type": "code",
   "execution_count": 8,
   "metadata": {},
   "outputs": [
    {
     "name": "stdout",
     "output_type": "stream",
     "text": [
      "username: bensul2004nng, domain name: spinfinder.com\n",
      "username: obong_715, domain name: epatra.com\n"
     ]
    }
   ],
   "source": [
    "from_section = re.findall(\"From:.*\", fh)\n",
    "\n",
    "for item in from_section:\n",
    "    for email in re.findall(\"\\w\\S*@.*\\w\", item):\n",
    "        username, domainname = re.split('@', email)\n",
    "        print(\"username: {}, domain name: {}\".format(username, domainname))\n",
    "    \n"
   ]
  },
  {
   "cell_type": "markdown",
   "metadata": {},
   "source": [
    "#### re.sub() function\n",
    "It substitutes parts of a string.\n"
   ]
  },
  {
   "cell_type": "code",
   "execution_count": 9,
   "metadata": {},
   "outputs": [
    {
     "name": "stdout",
     "output_type": "stream",
     "text": [
      "From: \"Mr. Ben Suleman\"\n",
      "Sender: \"Mr. Ben Suleman\"\n"
     ]
    }
   ],
   "source": [
    "from_section = re.search('From:.*\\\"', fh).group()\n",
    "\n",
    "email_sender = re.sub('From','Sender', from_section)\n",
    "\n",
    "print(from_section)\n",
    "print(email_sender)\n"
   ]
  },
  {
   "cell_type": "markdown",
   "metadata": {},
   "source": [
    "## Regex with Pandas"
   ]
  },
  {
   "cell_type": "code",
   "execution_count": 10,
   "metadata": {},
   "outputs": [],
   "source": [
    "import re\n",
    "import pandas as pd\n",
    "import email\n",
    "\n",
    "emails = []\n",
    "\n",
    "fex = open(r'Data/fradulent_emails.txt', 'r').read()"
   ]
  },
  {
   "cell_type": "code",
   "execution_count": 11,
   "metadata": {},
   "outputs": [
    {
     "name": "stdout",
     "output_type": "stream",
     "text": [
      "<class 'list'>\n",
      "3978\n"
     ]
    },
    {
     "data": {
      "text/plain": [
       "''"
      ]
     },
     "execution_count": 11,
     "metadata": {},
     "output_type": "execute_result"
    }
   ],
   "source": [
    "# Since each email in the file starts wtih 'From r', we split them by 'From r'.\n",
    "# Then get rid of the first empty string in the contents list.\n",
    "contents = re.split(r'From r', fex)\n",
    "print(type(contents))\n",
    "print(len(contents))\n",
    "contents.pop(0)"
   ]
  },
  {
   "cell_type": "code",
   "execution_count": 12,
   "metadata": {},
   "outputs": [],
   "source": [
    "for item in contents:\n",
    "\n",
    "    emails_dict ={} # holds the info about emails, later we turn it to pandas dataframe.\n",
    "\n",
    "    # Step 1: find the From section\n",
    "    from_section = re.search(r'From:.*', item)\n",
    "    \n",
    "    # Step 2: Check if from section exists. If exists, get the name and email, if not assign the variables to None to prevent errors.\n",
    "    if from_section is not None:\n",
    "        \n",
    "        sender_email = re.search('\\w\\S*@.*\\w', from_section.group())\n",
    "        sender_name = re.search(r':.*<', from_section.group())\n",
    "    else:\n",
    "        sender_email = None\n",
    "        sender_name = None\n",
    "        \n",
    "    # Step 3A: assign sender's email as string to a variable.\n",
    "        # don't forget that re.search function returns match object.\n",
    "        # still need to check wheteher the email exists.\n",
    "    \n",
    "    if sender_email is not None:\n",
    "        sender_email = sender_email.group()\n",
    "    else:\n",
    "        sender_email = None\n",
    "    \n",
    "    # add sender's email to the dictionary\n",
    "    \n",
    "    emails_dict[\"sender_email\"] = sender_email\n",
    "    \n",
    "    # Step 3B: actions for sender's name almost similar to sender' email \n",
    "        # if the sender's name isn't None, first get rid of the ':' and the white spaces in front of the name\n",
    "        # and then get rid of the white spaces and '<' after the name.  \n",
    "    if sender_name is not None:\n",
    "        \n",
    "        sender_name = re.sub(\"s*<\", \"\", re.sub(\":s*\", \"\", sender_name.group())) \n",
    "    else:\n",
    "        sender_name = None\n",
    "    \n",
    "    # add sender's name to the dictionary\n",
    "    \n",
    "    emails_dict[\"sender_name\"] = sender_name\n",
    "    \n",
    "    # we do exactly the same set of steps to acquire the recipient’s email address and name for the dictionary.\n",
    "    \n",
    "    # Step 1: find the To section\n",
    "    to_section = re.search(r'To:.*', item)\n",
    "    \n",
    "    # Step 2: Check if to section exists. If exists, get the name and email, if not assign the variables to None to prevent errors.\n",
    "    if to_section is not None:\n",
    "        \n",
    "        recipient_email = re.search('\\w\\S*@.*\\w', to_section.group())\n",
    "        recipient_name = re.search(r':.*<', to_section.group())\n",
    "    else:\n",
    "        recipient_email = None\n",
    "        recipient_name = None\n",
    "        \n",
    "    # Step 3A: assign sender's email as string to a variable.\n",
    "        # don't forget that re.search function returns match object.\n",
    "        # still need to check wheteher the email exists.\n",
    "    \n",
    "    if recipient_email is not None:\n",
    "        recipient_email = recipient_email.group()\n",
    "    else:\n",
    "        recipient_email = None\n",
    "    \n",
    "    # add sender's email to the dictionary\n",
    "    \n",
    "    emails_dict[\"recipient_email\"] = recipient_email\n",
    "    \n",
    "    # Step 3B: actions for sender's name almost similar to sender' email \n",
    "        # if the sender's name isn't None, first get rid of the ':' and the white spaces in front of the name\n",
    "        # and then get rid of the white spaces and '<' after the name.  \n",
    "    if recipient_name is not None:\n",
    "        \n",
    "        recipient_name = re.sub(\"s*<\", \"\", re.sub(\":s*\", \"\", recipient_name.group())) \n",
    "    else:\n",
    "        recipient_name = None\n",
    "    \n",
    "    # add sender's name to the dictionary\n",
    "    \n",
    "    emails_dict[\"recipient_name\"] = recipient_name\n",
    "\n",
    "    # The Date of the email\n",
    "        \n",
    "    # Step 1: find the date section\n",
    "    date_section = re.search(r'Date:.*', item)\n",
    "    \n",
    "    \n",
    "    # Step 2: Check if date section exists. If exists, get only the DD MMM YYYY part.\n",
    "        \n",
    "    if date_section is not None:\n",
    "        \n",
    "        date = re.search(r\"\\d+\\s\\w+\\s\\d+\", date_section.group())\n",
    "    else:\n",
    "        date = None\n",
    "    \n",
    "    # Step 3: check if the date exists, and then assign it as string to a variable.\n",
    "    \n",
    "    if date is not None:\n",
    "        date_sent = date.group()\n",
    "    else:\n",
    "        date_sent = None\n",
    "    \n",
    "    # add date to the dictionary\n",
    "    \n",
    "    emails_dict[\"date_sent\"] = date_sent\n",
    "       \n",
    "    \n",
    "    # similar steps for the email's subject\n",
    "    \n",
    "    # Step 1: find the Subject section\n",
    "    subject_section = re.search(r'Subject:.*', item)\n",
    "    \n",
    "    # Step 2: Check if subject section exists. If exists, get rid of the 'Subject: ' and \n",
    "        # get only the subject itself.\n",
    "        \n",
    "    if subject_section is not None:\n",
    "        \n",
    "        subject = re.sub(r\"Subject: \", \"\", subject_section.group())\n",
    "    else:\n",
    "        subject = None\n",
    "    \n",
    "    # add subject to the dictionary\n",
    "    \n",
    "    emails_dict[\"subject\"] = subject\n",
    "    \n",
    "    \n",
    "    # body of the e-mail\n",
    "    \n",
    "    # turn the string to email message\n",
    "    full_email = email.message_from_string(item)\n",
    "    \n",
    "    # get the body of the email\n",
    "    body = full_email.get_payload()\n",
    "    \n",
    "    # add the body to the dictionary\n",
    "    emails_dict[\"email_body\"] = 'email body' #subsituted for body variable not to store all the body\n",
    "    \n",
    "    # Finally append the dictionary to the emails list.\n",
    "    emails.append(emails_dict)\n",
    "    \n",
    "    "
   ]
  },
  {
   "cell_type": "code",
   "execution_count": 13,
   "metadata": {},
   "outputs": [
    {
     "name": "stdout",
     "output_type": "stream",
     "text": [
      "Number of emails: 3977\n"
     ]
    }
   ],
   "source": [
    "print(\"Number of emails: \"+ str(len(emails)))"
   ]
  },
  {
   "cell_type": "code",
   "execution_count": 14,
   "metadata": {},
   "outputs": [
    {
     "name": "stdout",
     "output_type": "stream",
     "text": [
      "sender_email: vivianmutan11@yahoo.com\n",
      "sender_name:  vivian mutan \n",
      "recipient_email: R@M\n",
      "recipient_name: None\n",
      "date_sent: 17 Nov 2005\n",
      "subject: From vivian mutan\n",
      "email_body: email body\n"
     ]
    }
   ],
   "source": [
    "# print a sample item \n",
    "\n",
    "for key, value in emails[1957].items():\n",
    "    print(str(key) + \": \" + str(emails[1957][key]))"
   ]
  },
  {
   "cell_type": "markdown",
   "metadata": {},
   "source": [
    "### Manipulating Data with Pandas"
   ]
  },
  {
   "cell_type": "code",
   "execution_count": 15,
   "metadata": {},
   "outputs": [
    {
     "data": {
      "text/html": [
       "<div>\n",
       "<style scoped>\n",
       "    .dataframe tbody tr th:only-of-type {\n",
       "        vertical-align: middle;\n",
       "    }\n",
       "\n",
       "    .dataframe tbody tr th {\n",
       "        vertical-align: top;\n",
       "    }\n",
       "\n",
       "    .dataframe thead th {\n",
       "        text-align: right;\n",
       "    }\n",
       "</style>\n",
       "<table border=\"1\" class=\"dataframe\">\n",
       "  <thead>\n",
       "    <tr style=\"text-align: right;\">\n",
       "      <th></th>\n",
       "      <th>sender_email</th>\n",
       "      <th>sender_name</th>\n",
       "      <th>recipient_email</th>\n",
       "      <th>recipient_name</th>\n",
       "      <th>date_sent</th>\n",
       "      <th>subject</th>\n",
       "      <th>email_body</th>\n",
       "    </tr>\n",
       "  </thead>\n",
       "  <tbody>\n",
       "    <tr>\n",
       "      <th>0</th>\n",
       "      <td>james_ngola2002@maktoob.com</td>\n",
       "      <td>\"MR. JAMES NGOLA.\"</td>\n",
       "      <td>james_ngola2002@maktoob.com</td>\n",
       "      <td>None</td>\n",
       "      <td>31 Oct 2002</td>\n",
       "      <td>URGENT BUSINESS ASSISTANCE AND PARTNERSHIP</td>\n",
       "      <td>email body</td>\n",
       "    </tr>\n",
       "    <tr>\n",
       "      <th>1</th>\n",
       "      <td>bensul2004nng@spinfinder.com</td>\n",
       "      <td>\"Mr. Ben Suleman\"</td>\n",
       "      <td>R@M</td>\n",
       "      <td>None</td>\n",
       "      <td>31 Oct 2002</td>\n",
       "      <td>URGENT ASSISTANCE /RELATIONSHIP (P)</td>\n",
       "      <td>email body</td>\n",
       "    </tr>\n",
       "    <tr>\n",
       "      <th>2</th>\n",
       "      <td>obong_715@epatra.com</td>\n",
       "      <td>\"PRINCE OBONG ELEME\"</td>\n",
       "      <td>obong_715@epatra.com</td>\n",
       "      <td>None</td>\n",
       "      <td>31 Oct 2002</td>\n",
       "      <td>GOOD DAY TO YOU</td>\n",
       "      <td>email body</td>\n",
       "    </tr>\n",
       "    <tr>\n",
       "      <th>3</th>\n",
       "      <td>obong_715@epatra.com</td>\n",
       "      <td>\"PRINCE OBONG ELEME\"</td>\n",
       "      <td>webmaster@aclweb.org</td>\n",
       "      <td>None</td>\n",
       "      <td>31 Oct 2002</td>\n",
       "      <td>GOOD DAY TO YOU</td>\n",
       "      <td>email body</td>\n",
       "    </tr>\n",
       "    <tr>\n",
       "      <th>4</th>\n",
       "      <td>m_abacha03@www.com</td>\n",
       "      <td>\"Maryam Abacha\"</td>\n",
       "      <td>m_abacha03@www.com</td>\n",
       "      <td>None</td>\n",
       "      <td>1 Nov 2002</td>\n",
       "      <td>I Need Your Assistance.</td>\n",
       "      <td>email body</td>\n",
       "    </tr>\n",
       "    <tr>\n",
       "      <th>...</th>\n",
       "      <td>...</td>\n",
       "      <td>...</td>\n",
       "      <td>...</td>\n",
       "      <td>...</td>\n",
       "      <td>...</td>\n",
       "      <td>...</td>\n",
       "      <td>...</td>\n",
       "    </tr>\n",
       "    <tr>\n",
       "      <th>3972</th>\n",
       "      <td>michealagu0255@zipmail.com.br</td>\n",
       "      <td>None</td>\n",
       "      <td>None</td>\n",
       "      <td>None</td>\n",
       "      <td>None</td>\n",
       "      <td>=?iso-8859-1?Q?CONTACT=20GLOBAL=20MAX=20SHIPIN...</td>\n",
       "      <td>email body</td>\n",
       "    </tr>\n",
       "    <tr>\n",
       "      <th>3973</th>\n",
       "      <td>ali_sherif252@hotmail.fr</td>\n",
       "      <td>ali sherif</td>\n",
       "      <td>ali_sherif105@yahoo.co.uk</td>\n",
       "      <td></td>\n",
       "      <td>17 Sep 2007</td>\n",
       "      <td>TREAT AS URGENT.</td>\n",
       "      <td>email body</td>\n",
       "    </tr>\n",
       "    <tr>\n",
       "      <th>3974</th>\n",
       "      <td>drusmanibrahimtg08@hotmail.fr</td>\n",
       "      <td>Dr Usman Ibrahim Danko</td>\n",
       "      <td>drusmanibrahim.tg@homs.cc</td>\n",
       "      <td></td>\n",
       "      <td>18 Sep 2007</td>\n",
       "      <td>From Dr Usman Ibrahim / Mr Wahid Yoffe property.</td>\n",
       "      <td>email body</td>\n",
       "    </tr>\n",
       "    <tr>\n",
       "      <th>3975</th>\n",
       "      <td>motherdorisk61@hotmail.com</td>\n",
       "      <td>Mother Doris Killam</td>\n",
       "      <td>motherdorisk9@yahoo.com.hk</td>\n",
       "      <td></td>\n",
       "      <td>19 Sep 2007</td>\n",
       "      <td>My Beloved In Christ.</td>\n",
       "      <td>email body</td>\n",
       "    </tr>\n",
       "    <tr>\n",
       "      <th>3976</th>\n",
       "      <td>None</td>\n",
       "      <td>None</td>\n",
       "      <td>None</td>\n",
       "      <td>None</td>\n",
       "      <td>19 Sep 2007</td>\n",
       "      <td>ATTENTION</td>\n",
       "      <td>email body</td>\n",
       "    </tr>\n",
       "  </tbody>\n",
       "</table>\n",
       "<p>3977 rows × 7 columns</p>\n",
       "</div>"
      ],
      "text/plain": [
       "                       sender_email               sender_name  \\\n",
       "0       james_ngola2002@maktoob.com       \"MR. JAMES NGOLA.\"    \n",
       "1      bensul2004nng@spinfinder.com        \"Mr. Ben Suleman\"    \n",
       "2              obong_715@epatra.com     \"PRINCE OBONG ELEME\"    \n",
       "3              obong_715@epatra.com     \"PRINCE OBONG ELEME\"    \n",
       "4                m_abacha03@www.com          \"Maryam Abacha\"    \n",
       "...                             ...                       ...   \n",
       "3972  michealagu0255@zipmail.com.br                      None   \n",
       "3973       ali_sherif252@hotmail.fr               ali sherif    \n",
       "3974  drusmanibrahimtg08@hotmail.fr   Dr Usman Ibrahim Danko    \n",
       "3975     motherdorisk61@hotmail.com      Mother Doris Killam    \n",
       "3976                           None                      None   \n",
       "\n",
       "                  recipient_email recipient_name    date_sent  \\\n",
       "0     james_ngola2002@maktoob.com           None  31 Oct 2002   \n",
       "1                             R@M           None  31 Oct 2002   \n",
       "2            obong_715@epatra.com           None  31 Oct 2002   \n",
       "3            webmaster@aclweb.org           None  31 Oct 2002   \n",
       "4              m_abacha03@www.com           None   1 Nov 2002   \n",
       "...                           ...            ...          ...   \n",
       "3972                         None           None         None   \n",
       "3973    ali_sherif105@yahoo.co.uk                 17 Sep 2007   \n",
       "3974    drusmanibrahim.tg@homs.cc                 18 Sep 2007   \n",
       "3975   motherdorisk9@yahoo.com.hk                 19 Sep 2007   \n",
       "3976                         None           None  19 Sep 2007   \n",
       "\n",
       "                                                subject  email_body  \n",
       "0            URGENT BUSINESS ASSISTANCE AND PARTNERSHIP  email body  \n",
       "1                   URGENT ASSISTANCE /RELATIONSHIP (P)  email body  \n",
       "2                                       GOOD DAY TO YOU  email body  \n",
       "3                                       GOOD DAY TO YOU  email body  \n",
       "4                               I Need Your Assistance.  email body  \n",
       "...                                                 ...         ...  \n",
       "3972  =?iso-8859-1?Q?CONTACT=20GLOBAL=20MAX=20SHIPIN...  email body  \n",
       "3973                                   TREAT AS URGENT.  email body  \n",
       "3974   From Dr Usman Ibrahim / Mr Wahid Yoffe property.  email body  \n",
       "3975                            My Beloved In Christ.    email body  \n",
       "3976                                          ATTENTION  email body  \n",
       "\n",
       "[3977 rows x 7 columns]"
      ]
     },
     "execution_count": 15,
     "metadata": {},
     "output_type": "execute_result"
    }
   ],
   "source": [
    "# turn the list to a pandas dataframe\n",
    "\n",
    "emails_df = pd.DataFrame(emails)\n",
    "emails_df"
   ]
  },
  {
   "cell_type": "code",
   "execution_count": 49,
   "metadata": {},
   "outputs": [
    {
     "data": {
      "text/html": [
       "<div>\n",
       "<style scoped>\n",
       "    .dataframe tbody tr th:only-of-type {\n",
       "        vertical-align: middle;\n",
       "    }\n",
       "\n",
       "    .dataframe tbody tr th {\n",
       "        vertical-align: top;\n",
       "    }\n",
       "\n",
       "    .dataframe thead th {\n",
       "        text-align: right;\n",
       "    }\n",
       "</style>\n",
       "<table border=\"1\" class=\"dataframe\">\n",
       "  <thead>\n",
       "    <tr style=\"text-align: right;\">\n",
       "      <th></th>\n",
       "      <th>sender_email</th>\n",
       "      <th>sender_name</th>\n",
       "      <th>recipient_email</th>\n",
       "      <th>recipient_name</th>\n",
       "      <th>date_sent</th>\n",
       "      <th>subject</th>\n",
       "      <th>email_body</th>\n",
       "    </tr>\n",
       "  </thead>\n",
       "  <tbody>\n",
       "    <tr>\n",
       "      <th>2</th>\n",
       "      <td>obong_715@epatra.com</td>\n",
       "      <td>\"PRINCE OBONG ELEME\"</td>\n",
       "      <td>obong_715@epatra.com</td>\n",
       "      <td>None</td>\n",
       "      <td>31 Oct 2002</td>\n",
       "      <td>GOOD DAY TO YOU</td>\n",
       "      <td>email body</td>\n",
       "    </tr>\n",
       "    <tr>\n",
       "      <th>3</th>\n",
       "      <td>obong_715@epatra.com</td>\n",
       "      <td>\"PRINCE OBONG ELEME\"</td>\n",
       "      <td>webmaster@aclweb.org</td>\n",
       "      <td>None</td>\n",
       "      <td>31 Oct 2002</td>\n",
       "      <td>GOOD DAY TO YOU</td>\n",
       "      <td>email body</td>\n",
       "    </tr>\n",
       "    <tr>\n",
       "      <th>16</th>\n",
       "      <td>anayoawka@hotmail.com</td>\n",
       "      <td>\" DR. ANAYO AWKA \"</td>\n",
       "      <td>webmaster@aclweb.org</td>\n",
       "      <td>None</td>\n",
       "      <td>15 Nov 2002</td>\n",
       "      <td>REQUEST FOR YOUR UNRESERVED ASSISTANCE</td>\n",
       "      <td>email body</td>\n",
       "    </tr>\n",
       "    <tr>\n",
       "      <th>17</th>\n",
       "      <td>anayoawka@hotmail.com</td>\n",
       "      <td>\" DR. ANAYO AWKA \"</td>\n",
       "      <td>webmaster@aclweb.org</td>\n",
       "      <td>None</td>\n",
       "      <td>15 Nov 2002</td>\n",
       "      <td>REQUEST FOR YOUR UNRESERVED ASSISTANCE</td>\n",
       "      <td>email body</td>\n",
       "    </tr>\n",
       "    <tr>\n",
       "      <th>102</th>\n",
       "      <td>marabac011@hotmail.com</td>\n",
       "      <td>\"Dr mariam abacha\"</td>\n",
       "      <td>marabac121@ny.com</td>\n",
       "      <td>None</td>\n",
       "      <td>7 Feb 2003</td>\n",
       "      <td>urgent and confidential.</td>\n",
       "      <td>email body</td>\n",
       "    </tr>\n",
       "    <tr>\n",
       "      <th>...</th>\n",
       "      <td>...</td>\n",
       "      <td>...</td>\n",
       "      <td>...</td>\n",
       "      <td>...</td>\n",
       "      <td>...</td>\n",
       "      <td>...</td>\n",
       "      <td>...</td>\n",
       "    </tr>\n",
       "    <tr>\n",
       "      <th>3965</th>\n",
       "      <td>kennethobia5@hotmail.com</td>\n",
       "      <td>KENNETH OBI</td>\n",
       "      <td>kennethobi@gmail.com</td>\n",
       "      <td></td>\n",
       "      <td>12 Sep 2007</td>\n",
       "      <td>Attention please</td>\n",
       "      <td>email body</td>\n",
       "    </tr>\n",
       "    <tr>\n",
       "      <th>3969</th>\n",
       "      <td>motherdorisk93@hotmail.com</td>\n",
       "      <td>Mother Doris Killam</td>\n",
       "      <td>motherdorisk9@yahoo.com.hk</td>\n",
       "      <td></td>\n",
       "      <td>14 Sep 2007</td>\n",
       "      <td>My Beloved In Christ.</td>\n",
       "      <td>email body</td>\n",
       "    </tr>\n",
       "    <tr>\n",
       "      <th>3973</th>\n",
       "      <td>ali_sherif252@hotmail.fr</td>\n",
       "      <td>ali sherif</td>\n",
       "      <td>ali_sherif105@yahoo.co.uk</td>\n",
       "      <td></td>\n",
       "      <td>17 Sep 2007</td>\n",
       "      <td>TREAT AS URGENT.</td>\n",
       "      <td>email body</td>\n",
       "    </tr>\n",
       "    <tr>\n",
       "      <th>3974</th>\n",
       "      <td>drusmanibrahimtg08@hotmail.fr</td>\n",
       "      <td>Dr Usman Ibrahim Danko</td>\n",
       "      <td>drusmanibrahim.tg@homs.cc</td>\n",
       "      <td></td>\n",
       "      <td>18 Sep 2007</td>\n",
       "      <td>From Dr Usman Ibrahim / Mr Wahid Yoffe property.</td>\n",
       "      <td>email body</td>\n",
       "    </tr>\n",
       "    <tr>\n",
       "      <th>3975</th>\n",
       "      <td>motherdorisk61@hotmail.com</td>\n",
       "      <td>Mother Doris Killam</td>\n",
       "      <td>motherdorisk9@yahoo.com.hk</td>\n",
       "      <td></td>\n",
       "      <td>19 Sep 2007</td>\n",
       "      <td>My Beloved In Christ.</td>\n",
       "      <td>email body</td>\n",
       "    </tr>\n",
       "  </tbody>\n",
       "</table>\n",
       "<p>459 rows × 7 columns</p>\n",
       "</div>"
      ],
      "text/plain": [
       "                       sender_email               sender_name  \\\n",
       "2              obong_715@epatra.com     \"PRINCE OBONG ELEME\"    \n",
       "3              obong_715@epatra.com     \"PRINCE OBONG ELEME\"    \n",
       "16            anayoawka@hotmail.com       \" DR. ANAYO AWKA \"    \n",
       "17            anayoawka@hotmail.com       \" DR. ANAYO AWKA \"    \n",
       "102          marabac011@hotmail.com       \"Dr mariam abacha\"    \n",
       "...                             ...                       ...   \n",
       "3965       kennethobia5@hotmail.com              KENNETH OBI    \n",
       "3969     motherdorisk93@hotmail.com      Mother Doris Killam    \n",
       "3973       ali_sherif252@hotmail.fr               ali sherif    \n",
       "3974  drusmanibrahimtg08@hotmail.fr   Dr Usman Ibrahim Danko    \n",
       "3975     motherdorisk61@hotmail.com      Mother Doris Killam    \n",
       "\n",
       "                 recipient_email recipient_name    date_sent  \\\n",
       "2           obong_715@epatra.com           None  31 Oct 2002   \n",
       "3           webmaster@aclweb.org           None  31 Oct 2002   \n",
       "16          webmaster@aclweb.org           None  15 Nov 2002   \n",
       "17          webmaster@aclweb.org           None  15 Nov 2002   \n",
       "102            marabac121@ny.com           None   7 Feb 2003   \n",
       "...                          ...            ...          ...   \n",
       "3965        kennethobi@gmail.com                 12 Sep 2007   \n",
       "3969  motherdorisk9@yahoo.com.hk                 14 Sep 2007   \n",
       "3973   ali_sherif105@yahoo.co.uk                 17 Sep 2007   \n",
       "3974   drusmanibrahim.tg@homs.cc                 18 Sep 2007   \n",
       "3975  motherdorisk9@yahoo.com.hk                 19 Sep 2007   \n",
       "\n",
       "                                               subject  email_body  \n",
       "2                                      GOOD DAY TO YOU  email body  \n",
       "3                                      GOOD DAY TO YOU  email body  \n",
       "16              REQUEST FOR YOUR UNRESERVED ASSISTANCE  email body  \n",
       "17              REQUEST FOR YOUR UNRESERVED ASSISTANCE  email body  \n",
       "102                           urgent and confidential.  email body  \n",
       "...                                                ...         ...  \n",
       "3965                                  Attention please  email body  \n",
       "3969                             My Beloved In Christ.  email body  \n",
       "3973                                  TREAT AS URGENT.  email body  \n",
       "3974  From Dr Usman Ibrahim / Mr Wahid Yoffe property.  email body  \n",
       "3975                           My Beloved In Christ.    email body  \n",
       "\n",
       "[459 rows x 7 columns]"
      ]
     },
     "execution_count": 49,
     "metadata": {},
     "output_type": "execute_result"
    }
   ],
   "source": [
    "#  to find emails sent from one or another domain name we use '|' \n",
    "\n",
    "import numpy as np\n",
    "emails_df[emails_df['sender_email'].str.contains('epatra|hotmail', na = False)] # we use 'na=False' to get rid of None values."
   ]
  },
  {
   "cell_type": "code",
   "execution_count": 55,
   "metadata": {},
   "outputs": [
    {
     "data": {
      "text/plain": [
       "array([  1, 584], dtype=int64)"
      ]
     },
     "execution_count": 55,
     "metadata": {},
     "output_type": "execute_result"
    }
   ],
   "source": [
    "# using Regex to find emails sent from particular email adresses\n",
    "\n",
    "index = emails_df[emails_df['sender_email'].str.contains(r'\\w\\S*@spinfinder.com', na=False)].index.values\n",
    "index"
   ]
  },
  {
   "cell_type": "code",
   "execution_count": 62,
   "metadata": {},
   "outputs": [
    {
     "data": {
      "text/html": [
       "<div>\n",
       "<style scoped>\n",
       "    .dataframe tbody tr th:only-of-type {\n",
       "        vertical-align: middle;\n",
       "    }\n",
       "\n",
       "    .dataframe tbody tr th {\n",
       "        vertical-align: top;\n",
       "    }\n",
       "\n",
       "    .dataframe thead th {\n",
       "        text-align: right;\n",
       "    }\n",
       "</style>\n",
       "<table border=\"1\" class=\"dataframe\">\n",
       "  <thead>\n",
       "    <tr style=\"text-align: right;\">\n",
       "      <th></th>\n",
       "      <th>sender_email</th>\n",
       "      <th>email_body</th>\n",
       "    </tr>\n",
       "  </thead>\n",
       "  <tbody>\n",
       "    <tr>\n",
       "      <th>1</th>\n",
       "      <td>bensul2004nng@spinfinder.com</td>\n",
       "      <td>email body</td>\n",
       "    </tr>\n",
       "    <tr>\n",
       "      <th>584</th>\n",
       "      <td>rharare1@spinfinder.com</td>\n",
       "      <td>email body</td>\n",
       "    </tr>\n",
       "  </tbody>\n",
       "</table>\n",
       "</div>"
      ],
      "text/plain": [
       "                     sender_email  email_body\n",
       "1    bensul2004nng@spinfinder.com  email body\n",
       "584       rharare1@spinfinder.com  email body"
      ]
     },
     "execution_count": 62,
     "metadata": {},
     "output_type": "execute_result"
    }
   ],
   "source": [
    "adress_df = emails_df.loc[index, ['sender_email', 'email_body']]\n",
    "adress_df"
   ]
  },
  {
   "cell_type": "markdown",
   "metadata": {},
   "source": [
    "source : [Dataquest - Tutorial: Python Regex (Regular Expressions) for Data Scientists](https://www.dataquest.io/blog/regular-expressions-data-scientists/)"
   ]
  }
 ],
 "metadata": {
  "kernelspec": {
   "display_name": "Python 3",
   "language": "python",
   "name": "python3"
  },
  "language_info": {
   "codemirror_mode": {
    "name": "ipython",
    "version": 3
   },
   "file_extension": ".py",
   "mimetype": "text/x-python",
   "name": "python",
   "nbconvert_exporter": "python",
   "pygments_lexer": "ipython3",
   "version": "3.7.6"
  }
 },
 "nbformat": 4,
 "nbformat_minor": 4
}
