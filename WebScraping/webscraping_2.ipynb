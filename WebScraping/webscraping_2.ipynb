{
  "nbformat": 4,
  "nbformat_minor": 0,
  "metadata": {
    "colab": {
      "name": "webscraping_2.ipynb",
      "provenance": [],
      "collapsed_sections": [],
      "mount_file_id": "1wfJwDUfafIqxlW2DdCHWk9gNt0EiYn7b",
      "authorship_tag": "ABX9TyMhw2F4YONkxHce1zmihGJZ",
      "include_colab_link": true
    },
    "kernelspec": {
      "name": "python3",
      "display_name": "Python 3"
    }
  },
  "cells": [
    {
      "cell_type": "markdown",
      "metadata": {
        "id": "view-in-github",
        "colab_type": "text"
      },
      "source": [
        "<a href=\"https://colab.research.google.com/github/kurtsenol/pandas/blob/master/WebScraping/webscraping_2.ipynb\" target=\"_parent\"><img src=\"https://colab.research.google.com/assets/colab-badge.svg\" alt=\"Open In Colab\"/></a>"
      ]
    },
    {
      "cell_type": "markdown",
      "metadata": {
        "id": "D9r5oauKZd7V",
        "colab_type": "text"
      },
      "source": [
        "# WEB SCRAPING"
      ]
    },
    {
      "cell_type": "code",
      "metadata": {
        "id": "h-H9GXjnZfpy",
        "colab_type": "code",
        "colab": {}
      },
      "source": [
        "import requests\n",
        "from requests import get\n",
        "from bs4 import BeautifulSoup\n",
        "\n",
        "import pandas as pd\n",
        "import numpy as np\n",
        "\n",
        "from time import sleep\n",
        "from random import randint"
      ],
      "execution_count": null,
      "outputs": []
    },
    {
      "cell_type": "code",
      "metadata": {
        "id": "C3vG83QmaSO2",
        "colab_type": "code",
        "colab": {}
      },
      "source": [
        "#initialize empty lists where you'll store your data\n",
        "\n",
        "abstracts=[]\n",
        "titles = []\n",
        "years=[]\n",
        "journals = []"
      ],
      "execution_count": null,
      "outputs": []
    },
    {
      "cell_type": "code",
      "metadata": {
        "id": "clFZPR_nZjVQ",
        "colab_type": "code",
        "colab": {}
      },
      "source": [
        "url_base = \"https://journals.sagepub.com/toc/jhtd/\""
      ],
      "execution_count": null,
      "outputs": []
    },
    {
      "cell_type": "code",
      "metadata": {
        "id": "hWHkciIVzxhr",
        "colab_type": "code",
        "colab": {}
      },
      "source": [
        "vol = range(42,44)\n",
        "issue = range(1,9)\n",
        "\n",
        "urls = [url_base + str(v) + \"/\"+ str(i) for v in vol for i in issue]"
      ],
      "execution_count": null,
      "outputs": []
    },
    {
      "cell_type": "code",
      "metadata": {
        "id": "_Zjbaxac1i-A",
        "colab_type": "code",
        "colab": {}
      },
      "source": [
        "urls.extend([url_base + \"44/\"+ str(j) for j in range(1,6)])"
      ],
      "execution_count": null,
      "outputs": []
    },
    {
      "cell_type": "code",
      "metadata": {
        "id": "ADn41Hxc2GKG",
        "colab_type": "code",
        "colab": {
          "base_uri": "https://localhost:8080/",
          "height": 370
        },
        "outputId": "aa861da8-eb87-4ede-ae13-ff0ddd934700"
      },
      "source": [
        "urls"
      ],
      "execution_count": null,
      "outputs": [
        {
          "output_type": "execute_result",
          "data": {
            "text/plain": [
              "['https://journals.sagepub.com/toc/jhtd/42/1',\n",
              " 'https://journals.sagepub.com/toc/jhtd/42/2',\n",
              " 'https://journals.sagepub.com/toc/jhtd/42/3',\n",
              " 'https://journals.sagepub.com/toc/jhtd/42/4',\n",
              " 'https://journals.sagepub.com/toc/jhtd/42/5',\n",
              " 'https://journals.sagepub.com/toc/jhtd/42/6',\n",
              " 'https://journals.sagepub.com/toc/jhtd/42/7',\n",
              " 'https://journals.sagepub.com/toc/jhtd/42/8',\n",
              " 'https://journals.sagepub.com/toc/jhtd/43/1',\n",
              " 'https://journals.sagepub.com/toc/jhtd/43/2',\n",
              " 'https://journals.sagepub.com/toc/jhtd/43/3',\n",
              " 'https://journals.sagepub.com/toc/jhtd/43/4',\n",
              " 'https://journals.sagepub.com/toc/jhtd/43/5',\n",
              " 'https://journals.sagepub.com/toc/jhtd/43/6',\n",
              " 'https://journals.sagepub.com/toc/jhtd/43/7',\n",
              " 'https://journals.sagepub.com/toc/jhtd/43/8',\n",
              " 'https://journals.sagepub.com/toc/jhtd/44/1',\n",
              " 'https://journals.sagepub.com/toc/jhtd/44/2',\n",
              " 'https://journals.sagepub.com/toc/jhtd/44/3',\n",
              " 'https://journals.sagepub.com/toc/jhtd/44/4',\n",
              " 'https://journals.sagepub.com/toc/jhtd/44/5']"
            ]
          },
          "metadata": {
            "tags": []
          },
          "execution_count": 123
        }
      ]
    },
    {
      "cell_type": "code",
      "metadata": {
        "id": "03xlHsKt2iig",
        "colab_type": "code",
        "colab": {
          "base_uri": "https://localhost:8080/",
          "height": 1000
        },
        "outputId": "a6bdd2e3-bda4-400f-df2a-092184d3e8fb"
      },
      "source": [
        "for url in urls:\n",
        "  \n",
        "  dois= []\n",
        "  \n",
        "  results = requests.get(url)\n",
        "  \n",
        "  soup = BeautifulSoup(results.text, \"html.parser\")\n",
        "  soup.prettify()\n",
        "  links = soup.find_all('a', attrs= {\"data-item-name\":\"view-full-text\"})\n",
        "\n",
        "  for link in links:\n",
        "    dois.append(link['href'])\n",
        "\n",
        "  url_articles = [\"https://journals.sagepub.com\" + dois[i] for i in range(len(dois))]\n",
        "\n",
        "  for url_article in url_articles:\n",
        "    \n",
        "    print(url_article)\n",
        "    \n",
        "    res = requests.get(url_article)\n",
        "    soup_article = BeautifulSoup(res.text, \"html.parser\")\n",
        "\n",
        "    abstract = soup_article.find('div', attrs= {'class':\"abstractSection abstractInFull\"}).text if soup_article.find('div', attrs= {'class':\"abstractSection abstractInFull\"}) else \" \"\n",
        "    abstracts.append(abstract)\n",
        "\n",
        "    title = soup_article.find('div', attrs= {'class':\"publicationContentTitle\"}).text\n",
        "    titles.append(title)\n",
        "\n",
        "    year = soup_article.find('span', attrs= {'class':\"publicationContentEpubDate\"}).text\n",
        "    years.append(year)\n",
        "\n",
        "    journal = soup_article.find('span', attrs= {'class':\"journalName\"}) .text\n",
        "    journals.append(journal)\n",
        "\n",
        "    sleep(randint(2,10)) \n"
      ],
      "execution_count": null,
      "outputs": [
        {
          "output_type": "stream",
          "text": [
            "https://journals.sagepub.com/doi/full/10.1177/1096348014561027\n",
            "https://journals.sagepub.com/doi/full/10.1177/1096348014563396\n",
            "https://journals.sagepub.com/doi/full/10.1177/1096348014550921\n",
            "https://journals.sagepub.com/doi/full/10.1177/1096348014550867\n",
            "https://journals.sagepub.com/doi/full/10.1177/1096348016683512\n",
            "https://journals.sagepub.com/doi/full/10.1177/1096348015597028\n",
            "https://journals.sagepub.com/doi/full/10.1177/1096348014563394\n",
            "https://journals.sagepub.com/doi/full/10.1177/1096348015584441\n",
            "https://journals.sagepub.com/doi/full/10.1177/1096348014561026\n",
            "https://journals.sagepub.com/doi/full/10.1177/1096348016654971\n",
            "https://journals.sagepub.com/doi/full/10.1177/1096348014562425\n",
            "https://journals.sagepub.com/doi/full/10.1177/1096348015597036\n",
            "https://journals.sagepub.com/doi/full/10.1177/1096348015597031\n",
            "https://journals.sagepub.com/doi/full/10.1177/1096348015597032\n",
            "https://journals.sagepub.com/doi/full/10.1177/1096348015584438\n",
            "https://journals.sagepub.com/doi/full/10.1177/1096348015584439\n",
            "https://journals.sagepub.com/doi/full/10.1177/1096348014565026\n",
            "https://journals.sagepub.com/doi/full/10.1177/1096348015597029\n",
            "https://journals.sagepub.com/doi/full/10.1177/1096348015597035\n",
            "https://journals.sagepub.com/doi/full/10.1177/1096348015584443\n",
            "https://journals.sagepub.com/doi/full/10.1177/1096348015597034\n",
            "https://journals.sagepub.com/doi/full/10.1177/1096348015614957\n",
            "https://journals.sagepub.com/doi/full/10.1177/1096348015584440\n",
            "https://journals.sagepub.com/doi/full/10.1177/1096348015619410\n",
            "https://journals.sagepub.com/doi/full/10.1177/1096348015619411\n",
            "https://journals.sagepub.com/doi/full/10.1177/1096348015614958\n",
            "https://journals.sagepub.com/doi/full/10.1177/1096348018772892\n",
            "https://journals.sagepub.com/doi/full/10.1177/1096348018773864\n",
            "https://journals.sagepub.com/doi/full/10.1177/1096348015597033\n",
            "https://journals.sagepub.com/doi/full/10.1177/1096348015597030\n",
            "https://journals.sagepub.com/doi/full/10.1177/1096348015619412\n",
            "https://journals.sagepub.com/doi/full/10.1177/1096348015598202\n",
            "https://journals.sagepub.com/doi/full/10.1177/1096348016640583\n",
            "https://journals.sagepub.com/doi/full/10.1177/1096348015614959\n",
            "https://journals.sagepub.com/doi/full/10.1177/1096348015619747\n",
            "https://journals.sagepub.com/doi/full/10.1177/1096348016654974\n",
            "https://journals.sagepub.com/doi/full/10.1177/1096348016640584\n",
            "https://journals.sagepub.com/doi/full/10.1177/1096348016654973\n",
            "https://journals.sagepub.com/doi/full/10.1177/1096348016671393\n",
            "https://journals.sagepub.com/doi/full/10.1177/1096348015619414\n",
            "https://journals.sagepub.com/doi/full/10.1177/1096348016640588\n",
            "https://journals.sagepub.com/doi/full/10.1177/1096348016654972\n",
            "https://journals.sagepub.com/doi/full/10.1177/1096348016671395\n",
            "https://journals.sagepub.com/doi/full/10.1177/1096348016671396\n",
            "https://journals.sagepub.com/doi/full/10.1177/1096348016671394\n",
            "https://journals.sagepub.com/doi/full/10.1177/1096348016675926\n",
            "https://journals.sagepub.com/doi/full/10.1177/1096348016678449\n",
            "https://journals.sagepub.com/doi/full/10.1177/1096348017727057\n",
            "https://journals.sagepub.com/doi/full/10.1177/1096348017696844\n",
            "https://journals.sagepub.com/doi/full/10.1177/1096348017709499\n",
            "https://journals.sagepub.com/doi/full/10.1177/1096348017744016\n",
            "https://journals.sagepub.com/doi/full/10.1177/1096348017731131\n",
            "https://journals.sagepub.com/doi/full/10.1177/1096348017744017\n",
            "https://journals.sagepub.com/doi/full/10.1177/1096348017731129\n",
            "https://journals.sagepub.com/doi/full/10.1177/1096348017736568\n",
            "https://journals.sagepub.com/doi/full/10.1177/1096348018759056\n",
            "https://journals.sagepub.com/doi/full/10.1177/1096348017736570\n",
            "https://journals.sagepub.com/doi/full/10.1177/1096348017704497\n",
            "https://journals.sagepub.com/doi/full/10.1177/1096348017731130\n",
            "https://journals.sagepub.com/doi/full/10.1177/1096348017704498\n",
            "https://journals.sagepub.com/doi/full/10.1177/1096348018764583\n",
            "https://journals.sagepub.com/doi/full/10.1177/1096348017753521\n",
            "https://journals.sagepub.com/doi/full/10.1177/1096348018762579\n",
            "https://journals.sagepub.com/doi/full/10.1177/1096348017736569\n",
            "https://journals.sagepub.com/doi/full/10.1177/1096348018764573\n",
            "https://journals.sagepub.com/doi/full/10.1177/1096348018767948\n",
            "https://journals.sagepub.com/doi/full/10.1177/1096348018789741\n",
            "https://journals.sagepub.com/doi/full/10.1177/1096348018765321\n",
            "https://journals.sagepub.com/doi/full/10.1177/1096348018777046\n",
            "https://journals.sagepub.com/doi/full/10.1177/1096348018776461\n",
            "https://journals.sagepub.com/doi/full/10.1177/1096348018776453\n",
            "https://journals.sagepub.com/doi/full/10.1177/1096348018804613\n",
            "https://journals.sagepub.com/doi/full/10.1177/1096348018793507\n",
            "https://journals.sagepub.com/doi/full/10.1177/1096348018804621\n",
            "https://journals.sagepub.com/doi/full/10.1177/1096348018807293\n",
            "https://journals.sagepub.com/doi/full/10.1177/1096348018804617\n",
            "https://journals.sagepub.com/doi/full/10.1177/1096348018813733\n",
            "https://journals.sagepub.com/doi/full/10.1177/1096348018807289\n",
            "https://journals.sagepub.com/doi/full/10.1177/1096348018804610\n",
            "https://journals.sagepub.com/doi/full/10.1177/1096348018808360\n",
            "https://journals.sagepub.com/doi/full/10.1177/1096348019838613\n",
            "https://journals.sagepub.com/doi/full/10.1177/1096348019830176\n",
            "https://journals.sagepub.com/doi/full/10.1177/1096348018823903\n",
            "https://journals.sagepub.com/doi/full/10.1177/1096348018810388\n",
            "https://journals.sagepub.com/doi/full/10.1177/1096348018817593\n",
            "https://journals.sagepub.com/doi/full/10.1177/1096348018823912\n",
            "https://journals.sagepub.com/doi/full/10.1177/1096348018817586\n",
            "https://journals.sagepub.com/doi/full/10.1177/1096348019838022\n",
            "https://journals.sagepub.com/doi/full/10.1177/1096348019828094\n",
            "https://journals.sagepub.com/doi/full/10.1177/1096348019835600\n",
            "https://journals.sagepub.com/doi/full/10.1177/1096348018817582\n",
            "https://journals.sagepub.com/doi/full/10.1177/1096348019840798\n",
            "https://journals.sagepub.com/doi/full/10.1177/1096348019828446\n",
            "https://journals.sagepub.com/doi/full/10.1177/1096348019838028\n",
            "https://journals.sagepub.com/doi/full/10.1177/1096348019840790\n",
            "https://journals.sagepub.com/doi/full/10.1177/1096348019828440\n",
            "https://journals.sagepub.com/doi/full/10.1177/1096348019836273\n",
            "https://journals.sagepub.com/doi/full/10.1177/1096348019837750\n",
            "https://journals.sagepub.com/doi/full/10.1177/1096348019849665\n",
            "https://journals.sagepub.com/doi/full/10.1177/1096348019849675\n",
            "https://journals.sagepub.com/doi/full/10.1177/1096348019836277\n",
            "https://journals.sagepub.com/doi/full/10.1177/1096348019849684\n",
            "https://journals.sagepub.com/doi/full/10.1177/1096348019835602\n",
            "https://journals.sagepub.com/doi/full/10.1177/1096348019840789\n",
            "https://journals.sagepub.com/doi/full/10.1177/1096348019840795\n",
            "https://journals.sagepub.com/doi/full/10.1177/1096348019848482\n",
            "https://journals.sagepub.com/doi/full/10.1177/1096348019851838\n",
            "https://journals.sagepub.com/doi/full/10.1177/1096348019849667\n",
            "https://journals.sagepub.com/doi/full/10.1177/1096348019855687\n",
            "https://journals.sagepub.com/doi/full/10.1177/1096348019854793\n",
            "https://journals.sagepub.com/doi/full/10.1177/1096348019879488\n",
            "https://journals.sagepub.com/doi/full/10.1177/1096348019854792\n",
            "https://journals.sagepub.com/doi/full/10.1177/1096348019840794\n",
            "https://journals.sagepub.com/doi/full/10.1177/1096348019850279\n",
            "https://journals.sagepub.com/doi/full/10.1177/1096348019861740\n",
            "https://journals.sagepub.com/doi/full/10.1177/1096348019862030\n",
            "https://journals.sagepub.com/doi/full/10.1177/1096348019867136\n",
            "https://journals.sagepub.com/doi/full/10.1177/1096348019861746\n",
            "https://journals.sagepub.com/doi/full/10.1177/1096348019870574\n",
            "https://journals.sagepub.com/doi/full/10.1177/1096348019864653\n",
            "https://journals.sagepub.com/doi/full/10.1177/1096348019876688\n",
            "https://journals.sagepub.com/doi/full/10.1177/1096348019883694\n",
            "https://journals.sagepub.com/doi/full/10.1177/1096348019883685\n",
            "https://journals.sagepub.com/doi/full/10.1177/1096348018798446\n",
            "https://journals.sagepub.com/doi/full/10.1177/1096348019862602\n",
            "https://journals.sagepub.com/doi/full/10.1177/1096348019900010\n",
            "https://journals.sagepub.com/doi/full/10.1177/1096348019895562\n",
            "https://journals.sagepub.com/doi/full/10.1177/1096348019892071\n",
            "https://journals.sagepub.com/doi/full/10.1177/1096348019893066\n",
            "https://journals.sagepub.com/doi/full/10.1177/1096348019887202\n",
            "https://journals.sagepub.com/doi/full/10.1177/1096348019895555\n",
            "https://journals.sagepub.com/doi/full/10.1177/1096348019897990\n",
            "https://journals.sagepub.com/doi/full/10.1177/1096348019890055\n",
            "https://journals.sagepub.com/doi/full/10.1177/1096348019893043\n",
            "https://journals.sagepub.com/doi/full/10.1177/1096348019897360\n",
            "https://journals.sagepub.com/doi/full/10.1177/1096348019896086\n",
            "https://journals.sagepub.com/doi/full/10.1177/1096348020901806\n",
            "https://journals.sagepub.com/doi/full/10.1177/1096348019886929\n",
            "https://journals.sagepub.com/doi/full/10.1177/1096348019889121\n",
            "https://journals.sagepub.com/doi/full/10.1177/1096348019899150\n",
            "https://journals.sagepub.com/doi/full/10.1177/1096348020901778\n",
            "https://journals.sagepub.com/doi/full/10.1177/1096348020901762\n",
            "https://journals.sagepub.com/doi/full/10.1177/1096348020901579\n",
            "https://journals.sagepub.com/doi/full/10.1177/1096348020905360\n",
            "https://journals.sagepub.com/doi/full/10.1177/1096348020910211\n",
            "https://journals.sagepub.com/doi/full/10.1177/1096348019899461\n",
            "https://journals.sagepub.com/doi/full/10.1177/1096348020910214\n",
            "https://journals.sagepub.com/doi/full/10.1177/1096348020919024\n",
            "https://journals.sagepub.com/doi/full/10.1177/1096348019899437\n",
            "https://journals.sagepub.com/doi/full/10.1177/1096348019876692\n",
            "https://journals.sagepub.com/doi/full/10.1177/1096348020908636\n",
            "https://journals.sagepub.com/doi/full/10.1177/1096348020912452\n",
            "https://journals.sagepub.com/doi/full/10.1177/1096348020911444\n",
            "https://journals.sagepub.com/doi/full/10.1177/1096348020909855\n",
            "https://journals.sagepub.com/doi/full/10.1177/1096348020914691\n",
            "https://journals.sagepub.com/doi/full/10.1177/1096348020913608\n",
            "https://journals.sagepub.com/doi/full/10.1177/1096348020909537\n",
            "https://journals.sagepub.com/doi/full/10.1177/1096348020912449\n"
          ],
          "name": "stdout"
        }
      ]
    },
    {
      "cell_type": "code",
      "metadata": {
        "colab_type": "code",
        "id": "tGpS4d1FiuD7",
        "colab": {
          "base_uri": "https://localhost:8080/",
          "height": 1000
        },
        "outputId": "78e3cd75-6944-4d2e-9983-46861bd6a2d0"
      },
      "source": [
        "titles"
      ],
      "execution_count": null,
      "outputs": [
        {
          "output_type": "execute_result",
          "data": {
            "text/plain": [
              "['\\n\\nDestination Personality: Scale Development And Validation\\n\\n',\n",
              " '\\n\\nA Study of Experiential Quality, Experiential Value, Experiential Satisfaction, Theme Park Image, and Revisit Intention\\n\\n',\n",
              " '\\n\\nHow We Complain: The Effect of Personality on Consumer Complaint Channels\\n\\n',\n",
              " '\\n\\nCreating a Competitive Advantage by Occupying Critical Position: Analysis of the Tourism Academy Network in Taiwan\\n\\n',\n",
              " '\\n\\nGuest–Server Exchange Model and Performance: The Connection Between Service Climate and Unit-Level Sales in Multiunit Restaurants\\n\\n',\n",
              " '\\n\\nWork or/and Life? An Exploratory Study of Respite Experience of Bed and Breakfast Innkeepers\\n\\n',\n",
              " '\\n\\nWhere in the World? A Geographic Analysis of a Decade of Research in Tourism, Hospitality, and Leisure Journals\\n\\n',\n",
              " '\\n\\nThe Effect of Engagement in Online Social Network on Susceptibility to Influence\\n\\n',\n",
              " '\\n\\nCEO Overconfidence and the Effects of Equity-Based Compensation on Strategic Risk-Taking in the U.S. Restaurant Industry\\n\\n',\n",
              " '\\n\\nTourism Impact and Stakeholders’ Quality of Life\\n\\n',\n",
              " '\\n\\nThe Principle of Reciprocity in Hospitality Contexts: The Relationship Between Tipping Behavior and Food Servers’ Approaches to Handling Leftovers\\n\\n',\n",
              " '\\n\\nHow Do Golf Tourists Manage Golfing Constraints? A Choice Modeling Approach\\n\\n',\n",
              " '\\n\\nThe Behavioral and Intermediate Effects of Advertising on Firm Performance: An Empirical Investigation of the Restaurant Industry\\n\\n',\n",
              " '\\n\\nMaking Punishment Memorialization Pay? Marketing, Networks, and Souvenirs at Small Penal History Museums in Canada\\n\\n',\n",
              " '\\n\\nBrand Attachment, Tour Leader Attachment, and Behavioral Intentions of Tourists\\n\\n',\n",
              " '\\n\\nTourist Shoppers’ Evaluation of Retail Service: A Study of Cross-Border Versus International Outshoppers\\n\\n',\n",
              " '\\n\\nCountry of Origin and Diners’ Perceptions of a Cuisine: The Moderating Effects of Culinary and Institutional Factors\\n\\n',\n",
              " '\\n\\nOnline Traveler Reviews as Social Influence: Price Is No Longer King\\n\\n',\n",
              " '\\n\\nAn Expanded Servicescape Framework as the Driver of Place Attachment and Word of Mouth\\n\\n',\n",
              " '\\n\\nDestination Image Components and Word-of-Mouth Intentions in Urban Tourism: A Multigroup Approach\\n\\n',\n",
              " '\\n\\nAn Empirical Analysis of Intentions to Cocreate Value in Hotels Using Mobile Devices\\n\\n',\n",
              " '\\n\\nThe Effect of Event Supportive Service Environment and Authenticity in the Quality–Value–Satisfaction Framework\\n\\n',\n",
              " '\\n\\nResidents’ Emotional Solidarity with Tourists: Explaining Perceived Impacts of a Cultural Heritage Festival\\n\\n',\n",
              " '\\n\\nHow Can Psychological Contagion Effect be Attenuated? The Role of Boundary Effect on Menu Design\\n\\n',\n",
              " '\\n\\nDoes Franchising Alleviate Restaurants’ Vulnerability to Economic Conditions?\\n\\n',\n",
              " '\\n\\nLearning From “Alien Monks?” The Productivity Spillovers of Foreign-Invested Hotels in China\\n\\n',\n",
              " '\\n\\nAdvancing a Model of Dining\\n\\n',\n",
              " '\\n\\nContributions Toward a Theory of Lodging\\n\\n',\n",
              " '\\n\\nDeveloping a Consumer Complaining and Recovery Effort Scale\\n\\n',\n",
              " '\\n\\nExploring the Negotiation Thesis Application Among Ski Resort Tourists: A Segmentation Approach\\n\\n',\n",
              " '\\n\\nConceptualization and Operationalization of an Altruistic and Egoistic Continuum of Organizational Citizenship Behavior Motivations\\n\\n',\n",
              " '\\n\\nEntertaining International Tourists: An Empirical Study of an Iconic Site in China\\n\\n',\n",
              " '\\n\\nWine Tourist Engagement With the Winescape: Scale Development and Validation\\n\\n',\n",
              " '\\n\\nBarriers to Environmental Technology Adoption in Hotels\\n\\n',\n",
              " '\\n\\nA Three-Component Framework for Trade Show Performance Evaluation\\n\\n',\n",
              " '\\n\\nPerceived Insider Status and Job Design Predict Job Attitudes and Work Performance of Restaurant Employees\\n\\n',\n",
              " '\\n\\nHow Country Image Affects Tourists’ Destination Evaluations: A Moderated Mediation Approach\\n\\n',\n",
              " '\\n\\nWhy Investing in Diversity Management Matters: Organizational Attraction and Person–Organization Fit\\n\\n',\n",
              " '\\n\\nConceptualizing, Validating, and Managing Brand Equity for Tourist Satisfaction\\n\\n',\n",
              " '\\n\\nThe Curse of Tourism?\\n\\n',\n",
              " '\\n\\nA Tri-Method Approach to a Review of Adventure Tourism Literature: Bibliometric Analysis, Content Analysis, and a Quantitative Systematic Literature Review\\n\\n',\n",
              " '\\n\\nEffects of Distance and First-Time Visitation on Tourists’ Length of Stay\\n\\n',\n",
              " '\\n\\nEffects of Destination Social Responsibility and Tourism Impacts on Residents’ Support for Tourism and Perceived Quality of Life\\n\\n',\n",
              " '\\n\\nThe Role of Place Attachment in Developing Emotional Solidarity With Residents\\n\\n',\n",
              " '\\n\\nOther Customer Service Failures: Emotions, Impacts, and Attributions\\n\\n',\n",
              " '\\n\\nThe Effect of Social Networking Sites’ Activities on Customers’ Well-Being\\n\\n',\n",
              " '\\n\\nThe Moderating Role of Career Progression on Job Mobility: A Study of Work–Life Conflict\\n\\n',\n",
              " '\\n\\nThe Effect of Corporate Social Responsibility on Brand Equity and the Moderating Role of Ethical Consumerism: The Case of Starbucks\\n\\n',\n",
              " '\\n\\nThe Relative Impact of Wi-Fi Service on Young Consumers’ Hotel Booking Online\\n\\n',\n",
              " '\\n\\nThe Importance of Having a Balanced Rating Index for Ranking Academic Journals\\n\\n',\n",
              " '\\n\\nThe Effects of Reviewer Expertise on Future Reputation, Popularity, and Financial Performance of Hotels: Insights from Data-Analytics\\n\\n',\n",
              " '\\n\\nCultural Characteristics and Tourist Shopping Spending\\n\\n',\n",
              " '\\n\\nTurning Hotel Employees Into Brand Champions: The Roles of Well-Connected Leaders and Organizational Identification\\n\\n',\n",
              " '\\n\\nApplication of the EMA Model to Tourism Entrepreneurs: Motivation as a Mediator\\n\\n',\n",
              " '\\n\\nAuthenticity in Screen Tourism: Significance of Real and Substituted Screen Locations\\n\\n',\n",
              " '\\n\\nResident Perceptions of the Economic Benefits of Tourism: Toward a Common Measure\\n\\n',\n",
              " '\\n\\nToward an Entrepreneurship Typology of Bed and Breakfasts\\n\\n',\n",
              " '\\n\\nDestination Image Versus Risk Perception\\n\\n',\n",
              " '\\n\\nHow the Employee Looks and Looks at you: Building Customer–Employee Rapport\\n\\n',\n",
              " '\\n\\nA Conceptual Model of Wellness Destination Characteristics That Contribute to Psychological Well-Being\\n\\n',\n",
              " '\\n\\nThe Effects of Experienced Customer Incivility on Employees’ Behavior Toward Customers and Coworkers\\n\\n',\n",
              " '\\n\\nUsing Machine Learning To Cocreate Value Through Dynamic Customer Engagement In A Brand Loyalty Program\\n\\n',\n",
              " '\\n\\nBoredom-Induced Switching Behavior in the Restaurant Industry: The Mediating Role of Attachment\\n\\n',\n",
              " '\\n\\nCan Commercialization Reduce Tourists’ Experience Quality? Evidence From Xijiang Miao Village in Guizhou, China\\n\\n',\n",
              " '\\n\\nExamining the Relevance of Online Customer Textual Reviews on Hotels’ Product and Service Attributes\\n\\n',\n",
              " '\\n\\nThe Social Servicescape: A Multidimensional Operationalization\\n\\n',\n",
              " '\\n\\nMeasuring Hotel Channel Mix: A DEA-BSC Model\\n\\n',\n",
              " '\\n\\nA Bibliometric Analysis of Lodging-Context Research From 1990 to 2016\\n\\n',\n",
              " '\\n\\nAnalyzing the Economic Sustainability of Tourism Development: Evidence from Hong Kong\\n\\n',\n",
              " '\\n\\nIdentification of Merger and Acquisition Waves and Their Macroeconomic Determinants in the Hospitality Industry\\n\\n',\n",
              " '\\n\\nFirm Performance in the Hospitality Industry: Do CEO Attributes and Compensation Matter?\\n\\n',\n",
              " '\\n\\nIt’s Not Just Black or White: Effects of Ambivalence on Residents’ Support for a Mega-Event\\n\\n',\n",
              " '\\n\\nDestination Climate Adaptation\\n\\n',\n",
              " '\\n\\nAttributes of Memorable Gastro-Tourists’ Experiences\\n\\n',\n",
              " '\\n\\nEngaging Destination Stakeholders in the Digital Era: The Best Practice of Italian Regional DMOs\\n\\n',\n",
              " '\\n\\nThe Joint Effect of Power, Relationship Type, and Corporate Social Responsibility Type on Customers’ Intent to Donate\\n\\n',\n",
              " '\\n\\nFace Gain and Face Loss in Restaurant Consumers’ Brand Advocate Behaviors\\n\\n',\n",
              " '\\n\\nRural Tourism and Livelihood Change: An Emic Perspective\\n\\n',\n",
              " '\\n\\nDefining Marijuana Tourism\\n\\n',\n",
              " '\\n\\nProcrastination of Travel: The Effect of Crowdedness\\n\\n',\n",
              " '\\n\\nDestination Personality: Scale Development And Validation\\n\\n',\n",
              " '\\n\\nA Study of Experiential Quality, Experiential Value, Experiential Satisfaction, Theme Park Image, and Revisit Intention\\n\\n',\n",
              " '\\n\\nHow We Complain: The Effect of Personality on Consumer Complaint Channels\\n\\n',\n",
              " '\\n\\nCreating a Competitive Advantage by Occupying Critical Position: Analysis of the Tourism Academy Network in Taiwan\\n\\n',\n",
              " '\\n\\nGuest–Server Exchange Model and Performance: The Connection Between Service Climate and Unit-Level Sales in Multiunit Restaurants\\n\\n',\n",
              " '\\n\\nWork or/and Life? An Exploratory Study of Respite Experience of Bed and Breakfast Innkeepers\\n\\n',\n",
              " '\\n\\nWhere in the World? A Geographic Analysis of a Decade of Research in Tourism, Hospitality, and Leisure Journals\\n\\n',\n",
              " '\\n\\nThe Effect of Engagement in Online Social Network on Susceptibility to Influence\\n\\n',\n",
              " '\\n\\nCEO Overconfidence and the Effects of Equity-Based Compensation on Strategic Risk-Taking in the U.S. Restaurant Industry\\n\\n',\n",
              " '\\n\\nTourism Impact and Stakeholders’ Quality of Life\\n\\n',\n",
              " '\\n\\nThe Principle of Reciprocity in Hospitality Contexts: The Relationship Between Tipping Behavior and Food Servers’ Approaches to Handling Leftovers\\n\\n',\n",
              " '\\n\\nHow Do Golf Tourists Manage Golfing Constraints? A Choice Modeling Approach\\n\\n',\n",
              " '\\n\\nThe Behavioral and Intermediate Effects of Advertising on Firm Performance: An Empirical Investigation of the Restaurant Industry\\n\\n',\n",
              " '\\n\\nMaking Punishment Memorialization Pay? Marketing, Networks, and Souvenirs at Small Penal History Museums in Canada\\n\\n',\n",
              " '\\n\\nBrand Attachment, Tour Leader Attachment, and Behavioral Intentions of Tourists\\n\\n',\n",
              " '\\n\\nTourist Shoppers’ Evaluation of Retail Service: A Study of Cross-Border Versus International Outshoppers\\n\\n',\n",
              " '\\n\\nCountry of Origin and Diners’ Perceptions of a Cuisine: The Moderating Effects of Culinary and Institutional Factors\\n\\n',\n",
              " '\\n\\nOnline Traveler Reviews as Social Influence: Price Is No Longer King\\n\\n',\n",
              " '\\n\\nAn Expanded Servicescape Framework as the Driver of Place Attachment and Word of Mouth\\n\\n',\n",
              " '\\n\\nDestination Image Components and Word-of-Mouth Intentions in Urban Tourism: A Multigroup Approach\\n\\n',\n",
              " '\\n\\nAn Empirical Analysis of Intentions to Cocreate Value in Hotels Using Mobile Devices\\n\\n',\n",
              " '\\n\\nThe Effect of Event Supportive Service Environment and Authenticity in the Quality–Value–Satisfaction Framework\\n\\n',\n",
              " '\\n\\nResidents’ Emotional Solidarity with Tourists: Explaining Perceived Impacts of a Cultural Heritage Festival\\n\\n',\n",
              " '\\n\\nHow Can Psychological Contagion Effect be Attenuated? The Role of Boundary Effect on Menu Design\\n\\n',\n",
              " '\\n\\nDoes Franchising Alleviate Restaurants’ Vulnerability to Economic Conditions?\\n\\n',\n",
              " '\\n\\nLearning From “Alien Monks?” The Productivity Spillovers of Foreign-Invested Hotels in China\\n\\n',\n",
              " '\\n\\nAdvancing a Model of Dining\\n\\n',\n",
              " '\\n\\nContributions Toward a Theory of Lodging\\n\\n',\n",
              " '\\n\\nDeveloping a Consumer Complaining and Recovery Effort Scale\\n\\n',\n",
              " '\\n\\nExploring the Negotiation Thesis Application Among Ski Resort Tourists: A Segmentation Approach\\n\\n',\n",
              " '\\n\\nConceptualization and Operationalization of an Altruistic and Egoistic Continuum of Organizational Citizenship Behavior Motivations\\n\\n',\n",
              " '\\n\\nEntertaining International Tourists: An Empirical Study of an Iconic Site in China\\n\\n',\n",
              " '\\n\\nWine Tourist Engagement With the Winescape: Scale Development and Validation\\n\\n',\n",
              " '\\n\\nBarriers to Environmental Technology Adoption in Hotels\\n\\n',\n",
              " '\\n\\nA Three-Component Framework for Trade Show Performance Evaluation\\n\\n',\n",
              " '\\n\\nPerceived Insider Status and Job Design Predict Job Attitudes and Work Performance of Restaurant Employees\\n\\n',\n",
              " '\\n\\nHow Country Image Affects Tourists’ Destination Evaluations: A Moderated Mediation Approach\\n\\n',\n",
              " '\\n\\nWhy Investing in Diversity Management Matters: Organizational Attraction and Person–Organization Fit\\n\\n',\n",
              " '\\n\\nConceptualizing, Validating, and Managing Brand Equity for Tourist Satisfaction\\n\\n',\n",
              " '\\n\\nThe Curse of Tourism?\\n\\n',\n",
              " '\\n\\nA Tri-Method Approach to a Review of Adventure Tourism Literature: Bibliometric Analysis, Content Analysis, and a Quantitative Systematic Literature Review\\n\\n',\n",
              " '\\n\\nEffects of Distance and First-Time Visitation on Tourists’ Length of Stay\\n\\n',\n",
              " '\\n\\nEffects of Destination Social Responsibility and Tourism Impacts on Residents’ Support for Tourism and Perceived Quality of Life\\n\\n',\n",
              " '\\n\\nThe Role of Place Attachment in Developing Emotional Solidarity With Residents\\n\\n',\n",
              " '\\n\\nOther Customer Service Failures: Emotions, Impacts, and Attributions\\n\\n',\n",
              " '\\n\\nThe Effect of Social Networking Sites’ Activities on Customers’ Well-Being\\n\\n',\n",
              " '\\n\\nThe Moderating Role of Career Progression on Job Mobility: A Study of Work–Life Conflict\\n\\n',\n",
              " '\\n\\nThe Effect of Corporate Social Responsibility on Brand Equity and the Moderating Role of Ethical Consumerism: The Case of Starbucks\\n\\n',\n",
              " '\\n\\nThe Relative Impact of Wi-Fi Service on Young Consumers’ Hotel Booking Online\\n\\n',\n",
              " '\\n\\nThe Importance of Having a Balanced Rating Index for Ranking Academic Journals\\n\\n',\n",
              " '\\n\\nThe Effects of Reviewer Expertise on Future Reputation, Popularity, and Financial Performance of Hotels: Insights from Data-Analytics\\n\\n',\n",
              " '\\n\\nCultural Characteristics and Tourist Shopping Spending\\n\\n',\n",
              " '\\n\\nTurning Hotel Employees Into Brand Champions: The Roles of Well-Connected Leaders and Organizational Identification\\n\\n',\n",
              " '\\n\\nApplication of the EMA Model to Tourism Entrepreneurs: Motivation as a Mediator\\n\\n',\n",
              " '\\n\\nAuthenticity in Screen Tourism: Significance of Real and Substituted Screen Locations\\n\\n',\n",
              " '\\n\\nResident Perceptions of the Economic Benefits of Tourism: Toward a Common Measure\\n\\n',\n",
              " '\\n\\nToward an Entrepreneurship Typology of Bed and Breakfasts\\n\\n',\n",
              " '\\n\\nDestination Image Versus Risk Perception\\n\\n',\n",
              " '\\n\\nHow the Employee Looks and Looks at you: Building Customer–Employee Rapport\\n\\n',\n",
              " '\\n\\nA Conceptual Model of Wellness Destination Characteristics That Contribute to Psychological Well-Being\\n\\n',\n",
              " '\\n\\nThe Effects of Experienced Customer Incivility on Employees’ Behavior Toward Customers and Coworkers\\n\\n',\n",
              " '\\n\\nUsing Machine Learning To Cocreate Value Through Dynamic Customer Engagement In A Brand Loyalty Program\\n\\n',\n",
              " '\\n\\nBoredom-Induced Switching Behavior in the Restaurant Industry: The Mediating Role of Attachment\\n\\n',\n",
              " '\\n\\nCan Commercialization Reduce Tourists’ Experience Quality? Evidence From Xijiang Miao Village in Guizhou, China\\n\\n',\n",
              " '\\n\\nExamining the Relevance of Online Customer Textual Reviews on Hotels’ Product and Service Attributes\\n\\n',\n",
              " '\\n\\nThe Social Servicescape: A Multidimensional Operationalization\\n\\n',\n",
              " '\\n\\nMeasuring Hotel Channel Mix: A DEA-BSC Model\\n\\n',\n",
              " '\\n\\nA Bibliometric Analysis of Lodging-Context Research From 1990 to 2016\\n\\n',\n",
              " '\\n\\nAnalyzing the Economic Sustainability of Tourism Development: Evidence from Hong Kong\\n\\n',\n",
              " '\\n\\nIdentification of Merger and Acquisition Waves and Their Macroeconomic Determinants in the Hospitality Industry\\n\\n',\n",
              " '\\n\\nFirm Performance in the Hospitality Industry: Do CEO Attributes and Compensation Matter?\\n\\n',\n",
              " '\\n\\nIt’s Not Just Black or White: Effects of Ambivalence on Residents’ Support for a Mega-Event\\n\\n',\n",
              " '\\n\\nDestination Climate Adaptation\\n\\n',\n",
              " '\\n\\nAttributes of Memorable Gastro-Tourists’ Experiences\\n\\n',\n",
              " '\\n\\nEngaging Destination Stakeholders in the Digital Era: The Best Practice of Italian Regional DMOs\\n\\n',\n",
              " '\\n\\nThe Joint Effect of Power, Relationship Type, and Corporate Social Responsibility Type on Customers’ Intent to Donate\\n\\n',\n",
              " '\\n\\nFace Gain and Face Loss in Restaurant Consumers’ Brand Advocate Behaviors\\n\\n',\n",
              " '\\n\\nRural Tourism and Livelihood Change: An Emic Perspective\\n\\n',\n",
              " '\\n\\nDefining Marijuana Tourism\\n\\n',\n",
              " '\\n\\nProcrastination of Travel: The Effect of Crowdedness\\n\\n',\n",
              " '\\n\\nIntroducing Our Distinguished Scholar Series\\n\\n',\n",
              " '\\n\\nSystematic Assessment of Theory-Based Research in Hospitality Management: A Prelude to Building Theories\\n\\n',\n",
              " '\\n\\nResident Attribution and Tourist Stereotypes\\n\\n',\n",
              " '\\n\\nDevelopment of a Tourism Destination: Exploring the Role of Destination Capabilities\\n\\n',\n",
              " '\\n\\nHedging Risk with Derivatives in the Rain-Sensitive Hospitality Industry\\n\\n',\n",
              " '\\n\\nConceptual Structure of Lodging-Context Studies: 1990-2016\\n\\n',\n",
              " '\\n\\nCreature of Habit or Embracer of Change? Contrasting Consumer Daily Food Behavior with the Tourism Scenario\\n\\n',\n",
              " '\\n\\nBuilding Theories for Hospitality Discipline: An Attempt to Describe and Elaborate Required Processes and Procedures\\n\\n',\n",
              " '\\n\\nThe Uniqueness of Revenue Management Approaches in Nontraditional Settings: The Case of the Golf Industry\\n\\n',\n",
              " '\\n\\nIt’s Raining Complaints! How Weather Factors Drive Consumer Comments and Word-of-Mouth\\n\\n',\n",
              " '\\n\\nCatalyzing Employee OCBE in Tour Companies: Charismatic Leadership, Organizational Justice, and Pro-Environmental Behaviors\\n\\n',\n",
              " '\\n\\nThe Influence of Online Review Exposure on Reviewers’ Intensity Level of Negative Word of Mouth\\n\\n',\n",
              " '\\n\\nA Dualistic Model of Tourism Seasonality: Approach–Avoidance and Regulatory Focus Theories\\n\\n',\n",
              " '\\n\\nRanking Hospitality and Tourism Journals\\n\\n',\n",
              " '\\n\\nWhat Disgusts Consumers in the Hospitality Industry: The Consumer Reaction to Environmental Contamination Model\\n\\n',\n",
              " '\\n\\nEmotional Appeals in Tourism TV Commercials: A Psycho-Physiological Study\\n\\n',\n",
              " '\\n\\nCustomer Perceptions of Innovativeness: An Accelerator for Value Co-Creation\\n\\n',\n",
              " '\\n\\nIntegrating Destination Attributes, Political (In)Stability, Destination Image, Tourist Satisfaction, and Intention to Recommend: A Study of UAE\\n\\n',\n",
              " '\\n\\nFamily Ownership, Asset Levels, and Firm Performance in Western European Hospitality Companies\\n\\n',\n",
              " '\\n\\nThe Low-Carbon Tourism Experience: A Multidimensional Scale Development\\n\\n',\n",
              " '\\n\\nLocational Strategy of Professional Hosts: Effect on Perceived Quality and Revenue Performance of Airbnb Listings\\n\\n',\n",
              " '\\n\\nVacation as a Public Health Resource: Toward a Wellness-Centered Tourism Design Approach\\n\\n',\n",
              " '\\n\\nImage Congruity or Functional Congruity? The Moderating Effect From the Social Visibility of Hotel Consumption at Different Price Levels\\n\\n',\n",
              " '\\n\\nPlanning for Intangible Cultural Heritage in Tourism: Challenges and Implications\\n\\n',\n",
              " '\\n\\nAnimosity Toward a Country in the Context of Destinations as Tourism Products\\n\\n',\n",
              " '\\n\\nThe Relationship Between Tattoos and Employee Workplace Deviance\\n\\n',\n",
              " '\\n\\nEconomic Impact Assessment of Mega-Events in the United Kingdom and Brazil\\n\\n',\n",
              " '\\n\\nFrom Customer-Related Social Stressors to Emotional Exhaustion: An Application of the Demands–Control Model\\n\\n',\n",
              " '\\n\\nThe Third Place as an Evolving Concept for Hospitality Researchers and Managers\\n\\n',\n",
              " '\\n\\nAre the States United? An Analysis of U.S. Hotels’ Offers Through TripAdvisor’s Eyes\\n\\n',\n",
              " '\\n\\nTheory of Lodging\\n\\n',\n",
              " '\\n\\nA Good Night’s Sleep Matters for Tourists: An Empirical Study for Hospitality Professionals\\n\\n',\n",
              " '\\n\\nUsing Social Network Analysis to Understand Trust, Reciprocity, and Togetherness in Wildlife Tourism Microentrepreneurship\\n\\n',\n",
              " '\\n\\nDeveloping and Validating a Scale for Multidimensional Attributes of Honeymoon Tourism\\n\\n',\n",
              " '\\n\\nEffects of Integrated Resort Experience on Customers’ Hedonic and Eudaimonic Well-Being\\n\\n',\n",
              " '\\n\\nMapping Creative Tourism Research: Reviewing the Field and Outlining Future Directions\\n\\n',\n",
              " '\\n\\nThe Mediating Roles of Young Residents’ Experiential Value and Sense of Community\\n\\n',\n",
              " '\\n\\nPersonality Congruence Among Brands, Recruiters, and Applicants During the Anticipatory Socialization Process\\n\\n',\n",
              " '\\n\\nInbound Tourism, Hospitality Business, and Market Structure\\n\\n',\n",
              " '\\n\\nA Multilevel Review of Hospitality Industry Work–Family Conflict Research and a Strategy for Future Research\\n\\n',\n",
              " '\\n\\nAnalysis of Tourism Seasonality as a Factor Limiting the Sustainable Development of Rural Areas\\n\\n',\n",
              " '\\n\\nOrganizational Ethnic Diversity’s Influence on Hotel Employees’ Satisfaction, Commitment, and Turnover Intention: Gender’s Moderating Role\\n\\n',\n",
              " '\\n\\nShaping Climbers’ Experiencescapes: The Influence of History on the Climbing Experience\\n\\n',\n",
              " '\\n\\nDestination Satisfaction and Revisit Intention of Tourists: Does the Quality of Airport Services Matter?\\n\\n',\n",
              " '\\n\\nConsumers’ Intention to Stay in Green Hotels in Australia: Theorization and Implications\\n\\n',\n",
              " '\\n\\nCustomer Engagement in Hospitality and Tourism Services\\n\\n',\n",
              " '\\n\\nA Decade of Customer Engagement Research in Hospitality and Tourism: A Systematic Review and Research Agenda\\n\\n',\n",
              " '\\n\\nEngaging Restaurant Customers on Facebook: The Power of Belongingness Appeals on Social Media\\n\\n',\n",
              " '\\n\\nEngaging Customers in Value Co-Creation Through Mobile Instant Messaging in the Tourism and Hospitality Industry\\n\\n',\n",
              " '\\n\\nOnline Engagement Among Restaurant Customers: The Importance of Enhancing Flow for Social Media Users\\n\\n',\n",
              " '\\n\\nAntecedents and an Outcome of Customer Engagement With Hotel Brand Community on Facebook\\n\\n',\n",
              " '\\n\\nUser Engagement in Festival Virtual Brand Communities: The Cases of Sónar and Primavera Sound (Barcelona)\\n\\n',\n",
              " '\\n\\nEffect of Cognitive Engagement on the Development of Brand Love in a Hotel Context\\n\\n',\n",
              " '\\n\\nEnhancing Employee Innovation Through Customer Engagement: The Role of Customer Interactivity, Employee Affect, and Motivations\\n\\n',\n",
              " '\\n\\nCustomer Engagement and its Outcomes: The Cross-Level Effect of Service Environment and Brand Equity\\n\\n',\n",
              " '\\n\\nThe Influence of Childhood Engagement in the Context of Hospitality Service Failure Evaluation\\n\\n',\n",
              " '\\n\\nHospitality as an Organizational Culture\\n\\n',\n",
              " '\\n\\nA Cultural Creativity Framework for the Sustainability of Intangible Cultural Heritage\\n\\n',\n",
              " '\\n\\nExploration of Tourist Activities in Urban Destination Using Venue Check-In Data\\n\\n',\n",
              " '\\n\\nTraveling to a Gendered Destination: A Goal-Framed Advertising Perspective\\n\\n',\n",
              " '\\n\\nAn Empirical Estimation of the Value-Added Impact of Lucca Comics and Games Festival on Hotel Performance\\n\\n',\n",
              " '\\n\\nThe Clean Hotel Room: A Public Health Imperative\\n\\n',\n",
              " '\\n\\nMicrolearning: A New Learning Model\\n\\n',\n",
              " '\\n\\nExploring How Employee Sense of Brand Community Affects Their Attitudes and Behavior\\n\\n',\n",
              " '\\n\\nWhat Airbnb Host Listings Influence Peer-to-Peer Tourist Accommodation Price?\\n\\n',\n",
              " '\\n\\nCross-cultural Validation of the Nostalgia Scale for Sport Tourism (NSST): A Multilevel Approach\\n\\n',\n",
              " '\\n\\nThe Influence of Contemporary Negative Political Relations on Ethnic Dining Choices\\n\\n',\n",
              " '\\n\\nListening to Customer Kansei for Restaurant Location Evaluation\\n\\n',\n",
              " '\\n\\nDefining Physician-Assisted Suicide Tourism and Travel\\n\\n',\n",
              " '\\n\\nThe Bundling Strategy: The One-Click Effect on Loss Aversion\\n\\n',\n",
              " '\\n\\nTechnological Disruptions in Restaurant Services: Impact of Innovations and Delivery Services\\n\\n',\n",
              " '\\n\\nA Framework for Classifying Causal Factors of Tourism Demand Seasonality: An Interseason and Intraseason Approach\\n\\n',\n",
              " '\\n\\nVisual Design, Message Content, and Benefit Type: The Case of A Cause-Related Marketing Campaign\\n\\n',\n",
              " '\\n\\nEffect of Commercial Neighbors on The Online Popularity of Peer-To-Peer Accommodation-Sharing Properties\\n\\n',\n",
              " '\\n\\nHow is Intangible Cultural Heritage Valued in the Eyes of Inheritors? Scale Development and Validation\\n\\n',\n",
              " '\\n\\nThe Short- and Long-Run Hotel Demand in Switzerland: A Weighted Macroeconomic Approach\\n\\n',\n",
              " '\\n\\nDeciding To Stay: A Study in Hospitality Managerial Grit\\n\\n',\n",
              " '\\n\\nHerding the Hordes: Using Location-Based Services and Mobile Messaging to Affect Visitor Behavior\\n\\n']"
            ]
          },
          "metadata": {
            "tags": []
          },
          "execution_count": 128
        }
      ]
    },
    {
      "cell_type": "code",
      "metadata": {
        "colab_type": "code",
        "id": "RTUwULNtiuD9",
        "colab": {
          "base_uri": "https://localhost:8080/",
          "height": 34
        },
        "outputId": "b3238f68-4da8-4ae7-c246-d3211b81a148"
      },
      "source": [
        "len(abstracts)"
      ],
      "execution_count": null,
      "outputs": [
        {
          "output_type": "execute_result",
          "data": {
            "text/plain": [
              "238"
            ]
          },
          "metadata": {
            "tags": []
          },
          "execution_count": 129
        }
      ]
    },
    {
      "cell_type": "markdown",
      "metadata": {
        "id": "u9jMHRGywhaA",
        "colab_type": "text"
      },
      "source": [
        "### Building a DataFrame With pandas"
      ]
    },
    {
      "cell_type": "code",
      "metadata": {
        "id": "IZpcPED-wN-K",
        "colab_type": "code",
        "colab": {
          "base_uri": "https://localhost:8080/",
          "height": 570
        },
        "outputId": "6491ed1d-afc9-419f-c5e0-e8239ea72660"
      },
      "source": [
        "df_jhtr = pd.DataFrame({ 'Title': titles, 'Year': years, 'Journal': journals,  'Abstract': abstracts })\n",
        "\n",
        "df_jhtr"
      ],
      "execution_count": null,
      "outputs": [
        {
          "output_type": "execute_result",
          "data": {
            "text/html": [
              "<div>\n",
              "<style scoped>\n",
              "    .dataframe tbody tr th:only-of-type {\n",
              "        vertical-align: middle;\n",
              "    }\n",
              "\n",
              "    .dataframe tbody tr th {\n",
              "        vertical-align: top;\n",
              "    }\n",
              "\n",
              "    .dataframe thead th {\n",
              "        text-align: right;\n",
              "    }\n",
              "</style>\n",
              "<table border=\"1\" class=\"dataframe\">\n",
              "  <thead>\n",
              "    <tr style=\"text-align: right;\">\n",
              "      <th></th>\n",
              "      <th>Title</th>\n",
              "      <th>Year</th>\n",
              "      <th>Journal</th>\n",
              "      <th>Abstract</th>\n",
              "    </tr>\n",
              "  </thead>\n",
              "  <tbody>\n",
              "    <tr>\n",
              "      <th>0</th>\n",
              "      <td>\\n\\nDestination Personality: Scale Development...</td>\n",
              "      <td>\\nFirst Published  December 11, 2014\\n</td>\n",
              "      <td>Journal of Hospitality &amp; Tourism Research</td>\n",
              "      <td>The main objective of this research was to dev...</td>\n",
              "    </tr>\n",
              "    <tr>\n",
              "      <th>1</th>\n",
              "      <td>\\n\\nA Study of Experiential Quality, Experient...</td>\n",
              "      <td>\\nFirst Published  December 28, 2014\\n</td>\n",
              "      <td>Journal of Hospitality &amp; Tourism Research</td>\n",
              "      <td>This study aims at identifying the dimensions ...</td>\n",
              "    </tr>\n",
              "    <tr>\n",
              "      <th>2</th>\n",
              "      <td>\\n\\nHow We Complain: The Effect of Personality...</td>\n",
              "      <td>\\nFirst Published  September 24, 2014\\n</td>\n",
              "      <td>Journal of Hospitality &amp; Tourism Research</td>\n",
              "      <td>The purpose of this study was to investigate t...</td>\n",
              "    </tr>\n",
              "    <tr>\n",
              "      <th>3</th>\n",
              "      <td>\\n\\nCreating a Competitive Advantage by Occupy...</td>\n",
              "      <td>\\nFirst Published  September 26, 2014\\n</td>\n",
              "      <td>Journal of Hospitality &amp; Tourism Research</td>\n",
              "      <td>This study analyzed the relationship between t...</td>\n",
              "    </tr>\n",
              "    <tr>\n",
              "      <th>4</th>\n",
              "      <td>\\n\\nGuest–Server Exchange Model and Performanc...</td>\n",
              "      <td>\\nFirst Published  December 20, 2016\\n</td>\n",
              "      <td>Journal of Hospitality &amp; Tourism Research</td>\n",
              "      <td>Using a sample of 51 full-service restaurants ...</td>\n",
              "    </tr>\n",
              "    <tr>\n",
              "      <th>...</th>\n",
              "      <td>...</td>\n",
              "      <td>...</td>\n",
              "      <td>...</td>\n",
              "      <td>...</td>\n",
              "    </tr>\n",
              "    <tr>\n",
              "      <th>233</th>\n",
              "      <td>\\n\\nEffect of Commercial Neighbors on The Onli...</td>\n",
              "      <td>\\nFirst Published  March 19, 2020\\n</td>\n",
              "      <td>Journal of Hospitality &amp; Tourism Research</td>\n",
              "      <td>Commercial hosts are becoming increasingly com...</td>\n",
              "    </tr>\n",
              "    <tr>\n",
              "      <th>234</th>\n",
              "      <td>\\n\\nHow is Intangible Cultural Heritage Valued...</td>\n",
              "      <td>\\nFirst Published  April 15, 2020\\n</td>\n",
              "      <td>Journal of Hospitality &amp; Tourism Research</td>\n",
              "      <td>Intangible cultural heritage (ICH) is an impor...</td>\n",
              "    </tr>\n",
              "    <tr>\n",
              "      <th>235</th>\n",
              "      <td>\\n\\nThe Short- and Long-Run Hotel Demand in Sw...</td>\n",
              "      <td>\\nFirst Published  April 22, 2020\\n</td>\n",
              "      <td>Journal of Hospitality &amp; Tourism Research</td>\n",
              "      <td>This study develops a vector error correction ...</td>\n",
              "    </tr>\n",
              "    <tr>\n",
              "      <th>236</th>\n",
              "      <td>\\n\\nDeciding To Stay: A Study in Hospitality M...</td>\n",
              "      <td>\\nFirst Published  February 28, 2020\\n</td>\n",
              "      <td>Journal of Hospitality &amp; Tourism Research</td>\n",
              "      <td>Contributing to a relatively new stream of lit...</td>\n",
              "    </tr>\n",
              "    <tr>\n",
              "      <th>237</th>\n",
              "      <td>\\n\\nHerding the Hordes: Using Location-Based S...</td>\n",
              "      <td>\\nFirst Published  March 22, 2020\\n</td>\n",
              "      <td>Journal of Hospitality &amp; Tourism Research</td>\n",
              "      <td>This study investigates modes of moving visito...</td>\n",
              "    </tr>\n",
              "  </tbody>\n",
              "</table>\n",
              "<p>238 rows × 4 columns</p>\n",
              "</div>"
            ],
            "text/plain": [
              "                                                 Title  ...                                           Abstract\n",
              "0    \\n\\nDestination Personality: Scale Development...  ...  The main objective of this research was to dev...\n",
              "1    \\n\\nA Study of Experiential Quality, Experient...  ...  This study aims at identifying the dimensions ...\n",
              "2    \\n\\nHow We Complain: The Effect of Personality...  ...  The purpose of this study was to investigate t...\n",
              "3    \\n\\nCreating a Competitive Advantage by Occupy...  ...  This study analyzed the relationship between t...\n",
              "4    \\n\\nGuest–Server Exchange Model and Performanc...  ...  Using a sample of 51 full-service restaurants ...\n",
              "..                                                 ...  ...                                                ...\n",
              "233  \\n\\nEffect of Commercial Neighbors on The Onli...  ...  Commercial hosts are becoming increasingly com...\n",
              "234  \\n\\nHow is Intangible Cultural Heritage Valued...  ...  Intangible cultural heritage (ICH) is an impor...\n",
              "235  \\n\\nThe Short- and Long-Run Hotel Demand in Sw...  ...  This study develops a vector error correction ...\n",
              "236  \\n\\nDeciding To Stay: A Study in Hospitality M...  ...  Contributing to a relatively new stream of lit...\n",
              "237  \\n\\nHerding the Hordes: Using Location-Based S...  ...  This study investigates modes of moving visito...\n",
              "\n",
              "[238 rows x 4 columns]"
            ]
          },
          "metadata": {
            "tags": []
          },
          "execution_count": 131
        }
      ]
    },
    {
      "cell_type": "code",
      "metadata": {
        "id": "1renhhb7wvqE",
        "colab_type": "code",
        "colab": {
          "base_uri": "https://localhost:8080/",
          "height": 101
        },
        "outputId": "c912656d-ad69-4af9-f395-49bfada192f5"
      },
      "source": [
        "print(df_jhtr.dtypes)"
      ],
      "execution_count": null,
      "outputs": [
        {
          "output_type": "stream",
          "text": [
            "Title       object\n",
            "Year        object\n",
            "Journal     object\n",
            "Abstract    object\n",
            "dtype: object\n"
          ],
          "name": "stdout"
        }
      ]
    },
    {
      "cell_type": "code",
      "metadata": {
        "id": "wC7lMpwcOmRm",
        "colab_type": "code",
        "colab": {}
      },
      "source": [
        "import pickle"
      ],
      "execution_count": null,
      "outputs": []
    },
    {
      "cell_type": "code",
      "metadata": {
        "id": "zF6aa0aPN7NJ",
        "colab_type": "code",
        "colab": {}
      },
      "source": [
        "df_jhtr.to_pickle(\"drive/My Drive/Topic_Modeling/df_jhtr.pkl\")"
      ],
      "execution_count": null,
      "outputs": []
    },
    {
      "cell_type": "code",
      "metadata": {
        "id": "RrCNhXWVN7Ko",
        "colab_type": "code",
        "colab": {}
      },
      "source": [
        "df_temp = pd.read_pickle(\"drive/My Drive/Topic_Modeling/df_jhtr.pkl\")"
      ],
      "execution_count": null,
      "outputs": []
    },
    {
      "cell_type": "code",
      "metadata": {
        "id": "2JjeNfuAN7Ha",
        "colab_type": "code",
        "colab": {
          "base_uri": "https://localhost:8080/",
          "height": 402
        },
        "outputId": "0663e8f6-45fe-4c4d-9eb5-3f2300b6e3a1"
      },
      "source": [
        "df_temp"
      ],
      "execution_count": null,
      "outputs": [
        {
          "output_type": "execute_result",
          "data": {
            "text/html": [
              "<div>\n",
              "<style scoped>\n",
              "    .dataframe tbody tr th:only-of-type {\n",
              "        vertical-align: middle;\n",
              "    }\n",
              "\n",
              "    .dataframe tbody tr th {\n",
              "        vertical-align: top;\n",
              "    }\n",
              "\n",
              "    .dataframe thead th {\n",
              "        text-align: right;\n",
              "    }\n",
              "</style>\n",
              "<table border=\"1\" class=\"dataframe\">\n",
              "  <thead>\n",
              "    <tr style=\"text-align: right;\">\n",
              "      <th></th>\n",
              "      <th>Title</th>\n",
              "      <th>Year</th>\n",
              "      <th>Journal</th>\n",
              "      <th>Abstract</th>\n",
              "    </tr>\n",
              "  </thead>\n",
              "  <tbody>\n",
              "    <tr>\n",
              "      <th>0</th>\n",
              "      <td>\\n\\nDestination Personality: Scale Development...</td>\n",
              "      <td>\\nFirst Published  December 11, 2014\\n</td>\n",
              "      <td>Journal of Hospitality &amp; Tourism Research</td>\n",
              "      <td>The main objective of this research was to dev...</td>\n",
              "    </tr>\n",
              "    <tr>\n",
              "      <th>1</th>\n",
              "      <td>\\n\\nA Study of Experiential Quality, Experient...</td>\n",
              "      <td>\\nFirst Published  December 28, 2014\\n</td>\n",
              "      <td>Journal of Hospitality &amp; Tourism Research</td>\n",
              "      <td>This study aims at identifying the dimensions ...</td>\n",
              "    </tr>\n",
              "    <tr>\n",
              "      <th>2</th>\n",
              "      <td>\\n\\nHow We Complain: The Effect of Personality...</td>\n",
              "      <td>\\nFirst Published  September 24, 2014\\n</td>\n",
              "      <td>Journal of Hospitality &amp; Tourism Research</td>\n",
              "      <td>The purpose of this study was to investigate t...</td>\n",
              "    </tr>\n",
              "    <tr>\n",
              "      <th>3</th>\n",
              "      <td>\\n\\nCreating a Competitive Advantage by Occupy...</td>\n",
              "      <td>\\nFirst Published  September 26, 2014\\n</td>\n",
              "      <td>Journal of Hospitality &amp; Tourism Research</td>\n",
              "      <td>This study analyzed the relationship between t...</td>\n",
              "    </tr>\n",
              "    <tr>\n",
              "      <th>4</th>\n",
              "      <td>\\n\\nGuest–Server Exchange Model and Performanc...</td>\n",
              "      <td>\\nFirst Published  December 20, 2016\\n</td>\n",
              "      <td>Journal of Hospitality &amp; Tourism Research</td>\n",
              "      <td>Using a sample of 51 full-service restaurants ...</td>\n",
              "    </tr>\n",
              "    <tr>\n",
              "      <th>...</th>\n",
              "      <td>...</td>\n",
              "      <td>...</td>\n",
              "      <td>...</td>\n",
              "      <td>...</td>\n",
              "    </tr>\n",
              "    <tr>\n",
              "      <th>233</th>\n",
              "      <td>\\n\\nEffect of Commercial Neighbors on The Onli...</td>\n",
              "      <td>\\nFirst Published  March 19, 2020\\n</td>\n",
              "      <td>Journal of Hospitality &amp; Tourism Research</td>\n",
              "      <td>Commercial hosts are becoming increasingly com...</td>\n",
              "    </tr>\n",
              "    <tr>\n",
              "      <th>234</th>\n",
              "      <td>\\n\\nHow is Intangible Cultural Heritage Valued...</td>\n",
              "      <td>\\nFirst Published  April 15, 2020\\n</td>\n",
              "      <td>Journal of Hospitality &amp; Tourism Research</td>\n",
              "      <td>Intangible cultural heritage (ICH) is an impor...</td>\n",
              "    </tr>\n",
              "    <tr>\n",
              "      <th>235</th>\n",
              "      <td>\\n\\nThe Short- and Long-Run Hotel Demand in Sw...</td>\n",
              "      <td>\\nFirst Published  April 22, 2020\\n</td>\n",
              "      <td>Journal of Hospitality &amp; Tourism Research</td>\n",
              "      <td>This study develops a vector error correction ...</td>\n",
              "    </tr>\n",
              "    <tr>\n",
              "      <th>236</th>\n",
              "      <td>\\n\\nDeciding To Stay: A Study in Hospitality M...</td>\n",
              "      <td>\\nFirst Published  February 28, 2020\\n</td>\n",
              "      <td>Journal of Hospitality &amp; Tourism Research</td>\n",
              "      <td>Contributing to a relatively new stream of lit...</td>\n",
              "    </tr>\n",
              "    <tr>\n",
              "      <th>237</th>\n",
              "      <td>\\n\\nHerding the Hordes: Using Location-Based S...</td>\n",
              "      <td>\\nFirst Published  March 22, 2020\\n</td>\n",
              "      <td>Journal of Hospitality &amp; Tourism Research</td>\n",
              "      <td>This study investigates modes of moving visito...</td>\n",
              "    </tr>\n",
              "  </tbody>\n",
              "</table>\n",
              "<p>238 rows × 4 columns</p>\n",
              "</div>"
            ],
            "text/plain": [
              "                                                 Title  ...                                           Abstract\n",
              "0    \\n\\nDestination Personality: Scale Development...  ...  The main objective of this research was to dev...\n",
              "1    \\n\\nA Study of Experiential Quality, Experient...  ...  This study aims at identifying the dimensions ...\n",
              "2    \\n\\nHow We Complain: The Effect of Personality...  ...  The purpose of this study was to investigate t...\n",
              "3    \\n\\nCreating a Competitive Advantage by Occupy...  ...  This study analyzed the relationship between t...\n",
              "4    \\n\\nGuest–Server Exchange Model and Performanc...  ...  Using a sample of 51 full-service restaurants ...\n",
              "..                                                 ...  ...                                                ...\n",
              "233  \\n\\nEffect of Commercial Neighbors on The Onli...  ...  Commercial hosts are becoming increasingly com...\n",
              "234  \\n\\nHow is Intangible Cultural Heritage Valued...  ...  Intangible cultural heritage (ICH) is an impor...\n",
              "235  \\n\\nThe Short- and Long-Run Hotel Demand in Sw...  ...  This study develops a vector error correction ...\n",
              "236  \\n\\nDeciding To Stay: A Study in Hospitality M...  ...  Contributing to a relatively new stream of lit...\n",
              "237  \\n\\nHerding the Hordes: Using Location-Based S...  ...  This study investigates modes of moving visito...\n",
              "\n",
              "[238 rows x 4 columns]"
            ]
          },
          "metadata": {
            "tags": []
          },
          "execution_count": 88
        }
      ]
    },
    {
      "cell_type": "markdown",
      "metadata": {
        "id": "-en2B3O6xkZQ",
        "colab_type": "text"
      },
      "source": [
        "### Cleaning year and time data"
      ]
    },
    {
      "cell_type": "code",
      "metadata": {
        "id": "D4k85qiBuMwx",
        "colab_type": "code",
        "colab": {
          "base_uri": "https://localhost:8080/",
          "height": 202
        },
        "outputId": "af6c128d-20ba-4dc5-a767-da5eeafd5833"
      },
      "source": [
        "df_temp.info()"
      ],
      "execution_count": null,
      "outputs": [
        {
          "output_type": "stream",
          "text": [
            "<class 'pandas.core.frame.DataFrame'>\n",
            "RangeIndex: 238 entries, 0 to 237\n",
            "Data columns (total 4 columns):\n",
            " #   Column    Non-Null Count  Dtype \n",
            "---  ------    --------------  ----- \n",
            " 0   Title     238 non-null    object\n",
            " 1   Year      238 non-null    object\n",
            " 2   Journal   238 non-null    object\n",
            " 3   Abstract  238 non-null    object\n",
            "dtypes: object(4)\n",
            "memory usage: 7.6+ KB\n"
          ],
          "name": "stdout"
        }
      ]
    },
    {
      "cell_type": "code",
      "metadata": {
        "id": "rwGvUh4yuRTc",
        "colab_type": "code",
        "colab": {}
      },
      "source": [
        "df_temp.drop_duplicates(subset='Title', inplace=True)"
      ],
      "execution_count": null,
      "outputs": []
    },
    {
      "cell_type": "code",
      "metadata": {
        "id": "WrtmokVhwEuz",
        "colab_type": "code",
        "colab": {}
      },
      "source": [
        "df_temp.reset_index(inplace=True, drop=True)"
      ],
      "execution_count": null,
      "outputs": []
    },
    {
      "cell_type": "code",
      "metadata": {
        "id": "s5xR4e0mwEnx",
        "colab_type": "code",
        "colab": {
          "base_uri": "https://localhost:8080/",
          "height": 402
        },
        "outputId": "5dcba9af-45f4-4c4e-cba5-127750f7d1ac"
      },
      "source": [
        "df_temp"
      ],
      "execution_count": null,
      "outputs": [
        {
          "output_type": "execute_result",
          "data": {
            "text/html": [
              "<div>\n",
              "<style scoped>\n",
              "    .dataframe tbody tr th:only-of-type {\n",
              "        vertical-align: middle;\n",
              "    }\n",
              "\n",
              "    .dataframe tbody tr th {\n",
              "        vertical-align: top;\n",
              "    }\n",
              "\n",
              "    .dataframe thead th {\n",
              "        text-align: right;\n",
              "    }\n",
              "</style>\n",
              "<table border=\"1\" class=\"dataframe\">\n",
              "  <thead>\n",
              "    <tr style=\"text-align: right;\">\n",
              "      <th></th>\n",
              "      <th>Title</th>\n",
              "      <th>Year</th>\n",
              "      <th>Journal</th>\n",
              "      <th>Abstract</th>\n",
              "    </tr>\n",
              "  </thead>\n",
              "  <tbody>\n",
              "    <tr>\n",
              "      <th>0</th>\n",
              "      <td>\\n\\nDestination Personality: Scale Development...</td>\n",
              "      <td>\\nFirst Published  December 11, 2014\\n</td>\n",
              "      <td>Journal of Hospitality &amp; Tourism Research</td>\n",
              "      <td>The main objective of this research was to dev...</td>\n",
              "    </tr>\n",
              "    <tr>\n",
              "      <th>1</th>\n",
              "      <td>\\n\\nA Study of Experiential Quality, Experient...</td>\n",
              "      <td>\\nFirst Published  December 28, 2014\\n</td>\n",
              "      <td>Journal of Hospitality &amp; Tourism Research</td>\n",
              "      <td>This study aims at identifying the dimensions ...</td>\n",
              "    </tr>\n",
              "    <tr>\n",
              "      <th>2</th>\n",
              "      <td>\\n\\nHow We Complain: The Effect of Personality...</td>\n",
              "      <td>\\nFirst Published  September 24, 2014\\n</td>\n",
              "      <td>Journal of Hospitality &amp; Tourism Research</td>\n",
              "      <td>The purpose of this study was to investigate t...</td>\n",
              "    </tr>\n",
              "    <tr>\n",
              "      <th>3</th>\n",
              "      <td>\\n\\nCreating a Competitive Advantage by Occupy...</td>\n",
              "      <td>\\nFirst Published  September 26, 2014\\n</td>\n",
              "      <td>Journal of Hospitality &amp; Tourism Research</td>\n",
              "      <td>This study analyzed the relationship between t...</td>\n",
              "    </tr>\n",
              "    <tr>\n",
              "      <th>4</th>\n",
              "      <td>\\n\\nGuest–Server Exchange Model and Performanc...</td>\n",
              "      <td>\\nFirst Published  December 20, 2016\\n</td>\n",
              "      <td>Journal of Hospitality &amp; Tourism Research</td>\n",
              "      <td>Using a sample of 51 full-service restaurants ...</td>\n",
              "    </tr>\n",
              "    <tr>\n",
              "      <th>...</th>\n",
              "      <td>...</td>\n",
              "      <td>...</td>\n",
              "      <td>...</td>\n",
              "      <td>...</td>\n",
              "    </tr>\n",
              "    <tr>\n",
              "      <th>153</th>\n",
              "      <td>\\n\\nEffect of Commercial Neighbors on The Onli...</td>\n",
              "      <td>\\nFirst Published  March 19, 2020\\n</td>\n",
              "      <td>Journal of Hospitality &amp; Tourism Research</td>\n",
              "      <td>Commercial hosts are becoming increasingly com...</td>\n",
              "    </tr>\n",
              "    <tr>\n",
              "      <th>154</th>\n",
              "      <td>\\n\\nHow is Intangible Cultural Heritage Valued...</td>\n",
              "      <td>\\nFirst Published  April 15, 2020\\n</td>\n",
              "      <td>Journal of Hospitality &amp; Tourism Research</td>\n",
              "      <td>Intangible cultural heritage (ICH) is an impor...</td>\n",
              "    </tr>\n",
              "    <tr>\n",
              "      <th>155</th>\n",
              "      <td>\\n\\nThe Short- and Long-Run Hotel Demand in Sw...</td>\n",
              "      <td>\\nFirst Published  April 22, 2020\\n</td>\n",
              "      <td>Journal of Hospitality &amp; Tourism Research</td>\n",
              "      <td>This study develops a vector error correction ...</td>\n",
              "    </tr>\n",
              "    <tr>\n",
              "      <th>156</th>\n",
              "      <td>\\n\\nDeciding To Stay: A Study in Hospitality M...</td>\n",
              "      <td>\\nFirst Published  February 28, 2020\\n</td>\n",
              "      <td>Journal of Hospitality &amp; Tourism Research</td>\n",
              "      <td>Contributing to a relatively new stream of lit...</td>\n",
              "    </tr>\n",
              "    <tr>\n",
              "      <th>157</th>\n",
              "      <td>\\n\\nHerding the Hordes: Using Location-Based S...</td>\n",
              "      <td>\\nFirst Published  March 22, 2020\\n</td>\n",
              "      <td>Journal of Hospitality &amp; Tourism Research</td>\n",
              "      <td>This study investigates modes of moving visito...</td>\n",
              "    </tr>\n",
              "  </tbody>\n",
              "</table>\n",
              "<p>158 rows × 4 columns</p>\n",
              "</div>"
            ],
            "text/plain": [
              "                                                 Title  ...                                           Abstract\n",
              "0    \\n\\nDestination Personality: Scale Development...  ...  The main objective of this research was to dev...\n",
              "1    \\n\\nA Study of Experiential Quality, Experient...  ...  This study aims at identifying the dimensions ...\n",
              "2    \\n\\nHow We Complain: The Effect of Personality...  ...  The purpose of this study was to investigate t...\n",
              "3    \\n\\nCreating a Competitive Advantage by Occupy...  ...  This study analyzed the relationship between t...\n",
              "4    \\n\\nGuest–Server Exchange Model and Performanc...  ...  Using a sample of 51 full-service restaurants ...\n",
              "..                                                 ...  ...                                                ...\n",
              "153  \\n\\nEffect of Commercial Neighbors on The Onli...  ...  Commercial hosts are becoming increasingly com...\n",
              "154  \\n\\nHow is Intangible Cultural Heritage Valued...  ...  Intangible cultural heritage (ICH) is an impor...\n",
              "155  \\n\\nThe Short- and Long-Run Hotel Demand in Sw...  ...  This study develops a vector error correction ...\n",
              "156  \\n\\nDeciding To Stay: A Study in Hospitality M...  ...  Contributing to a relatively new stream of lit...\n",
              "157  \\n\\nHerding the Hordes: Using Location-Based S...  ...  This study investigates modes of moving visito...\n",
              "\n",
              "[158 rows x 4 columns]"
            ]
          },
          "metadata": {
            "tags": []
          },
          "execution_count": 92
        }
      ]
    },
    {
      "cell_type": "code",
      "metadata": {
        "id": "5JS5XX2h299f",
        "colab_type": "code",
        "colab": {}
      },
      "source": [
        "# cleaning Title\n",
        "df_temp['Title'] = df_temp.Title.str.strip('\\n').str.upper()"
      ],
      "execution_count": null,
      "outputs": []
    },
    {
      "cell_type": "code",
      "metadata": {
        "id": "9UED1YKA295y",
        "colab_type": "code",
        "colab": {}
      },
      "source": [
        "# cleaning Journal and Abstract\n",
        "df_temp['Journal'] = df_temp.Journal.str.upper()\n",
        "df_temp['Abstract'] = df_temp.Abstract.str.upper()"
      ],
      "execution_count": null,
      "outputs": []
    },
    {
      "cell_type": "code",
      "metadata": {
        "id": "9l20Z27F292Y",
        "colab_type": "code",
        "colab": {}
      },
      "source": [
        "# cleaning Year\n",
        "\n",
        "import re\n",
        "\n",
        "df_temp['Year']= df_temp.Year.str.extract(pat=r'(\\d{4})').astype('int') "
      ],
      "execution_count": null,
      "outputs": []
    },
    {
      "cell_type": "code",
      "metadata": {
        "id": "xFK8tuJsyTb7",
        "colab_type": "code",
        "colab": {
          "base_uri": "https://localhost:8080/",
          "height": 402
        },
        "outputId": "61b834ff-6065-47f4-d950-cc4c890bf8cb"
      },
      "source": [
        "df_temp"
      ],
      "execution_count": null,
      "outputs": [
        {
          "output_type": "execute_result",
          "data": {
            "text/html": [
              "<div>\n",
              "<style scoped>\n",
              "    .dataframe tbody tr th:only-of-type {\n",
              "        vertical-align: middle;\n",
              "    }\n",
              "\n",
              "    .dataframe tbody tr th {\n",
              "        vertical-align: top;\n",
              "    }\n",
              "\n",
              "    .dataframe thead th {\n",
              "        text-align: right;\n",
              "    }\n",
              "</style>\n",
              "<table border=\"1\" class=\"dataframe\">\n",
              "  <thead>\n",
              "    <tr style=\"text-align: right;\">\n",
              "      <th></th>\n",
              "      <th>Title</th>\n",
              "      <th>Year</th>\n",
              "      <th>Journal</th>\n",
              "      <th>Abstract</th>\n",
              "    </tr>\n",
              "  </thead>\n",
              "  <tbody>\n",
              "    <tr>\n",
              "      <th>0</th>\n",
              "      <td>DESTINATION PERSONALITY: SCALE DEVELOPMENT AND...</td>\n",
              "      <td>2014</td>\n",
              "      <td>JOURNAL OF HOSPITALITY &amp; TOURISM RESEARCH</td>\n",
              "      <td>THE MAIN OBJECTIVE OF THIS RESEARCH WAS TO DEV...</td>\n",
              "    </tr>\n",
              "    <tr>\n",
              "      <th>1</th>\n",
              "      <td>A STUDY OF EXPERIENTIAL QUALITY, EXPERIENTIAL ...</td>\n",
              "      <td>2014</td>\n",
              "      <td>JOURNAL OF HOSPITALITY &amp; TOURISM RESEARCH</td>\n",
              "      <td>THIS STUDY AIMS AT IDENTIFYING THE DIMENSIONS ...</td>\n",
              "    </tr>\n",
              "    <tr>\n",
              "      <th>2</th>\n",
              "      <td>HOW WE COMPLAIN: THE EFFECT OF PERSONALITY ON ...</td>\n",
              "      <td>2014</td>\n",
              "      <td>JOURNAL OF HOSPITALITY &amp; TOURISM RESEARCH</td>\n",
              "      <td>THE PURPOSE OF THIS STUDY WAS TO INVESTIGATE T...</td>\n",
              "    </tr>\n",
              "    <tr>\n",
              "      <th>3</th>\n",
              "      <td>CREATING A COMPETITIVE ADVANTAGE BY OCCUPYING ...</td>\n",
              "      <td>2014</td>\n",
              "      <td>JOURNAL OF HOSPITALITY &amp; TOURISM RESEARCH</td>\n",
              "      <td>THIS STUDY ANALYZED THE RELATIONSHIP BETWEEN T...</td>\n",
              "    </tr>\n",
              "    <tr>\n",
              "      <th>4</th>\n",
              "      <td>GUEST–SERVER EXCHANGE MODEL AND PERFORMANCE: T...</td>\n",
              "      <td>2016</td>\n",
              "      <td>JOURNAL OF HOSPITALITY &amp; TOURISM RESEARCH</td>\n",
              "      <td>USING A SAMPLE OF 51 FULL-SERVICE RESTAURANTS ...</td>\n",
              "    </tr>\n",
              "    <tr>\n",
              "      <th>...</th>\n",
              "      <td>...</td>\n",
              "      <td>...</td>\n",
              "      <td>...</td>\n",
              "      <td>...</td>\n",
              "    </tr>\n",
              "    <tr>\n",
              "      <th>153</th>\n",
              "      <td>EFFECT OF COMMERCIAL NEIGHBORS ON THE ONLINE P...</td>\n",
              "      <td>2020</td>\n",
              "      <td>JOURNAL OF HOSPITALITY &amp; TOURISM RESEARCH</td>\n",
              "      <td>COMMERCIAL HOSTS ARE BECOMING INCREASINGLY COM...</td>\n",
              "    </tr>\n",
              "    <tr>\n",
              "      <th>154</th>\n",
              "      <td>HOW IS INTANGIBLE CULTURAL HERITAGE VALUED IN ...</td>\n",
              "      <td>2020</td>\n",
              "      <td>JOURNAL OF HOSPITALITY &amp; TOURISM RESEARCH</td>\n",
              "      <td>INTANGIBLE CULTURAL HERITAGE (ICH) IS AN IMPOR...</td>\n",
              "    </tr>\n",
              "    <tr>\n",
              "      <th>155</th>\n",
              "      <td>THE SHORT- AND LONG-RUN HOTEL DEMAND IN SWITZE...</td>\n",
              "      <td>2020</td>\n",
              "      <td>JOURNAL OF HOSPITALITY &amp; TOURISM RESEARCH</td>\n",
              "      <td>THIS STUDY DEVELOPS A VECTOR ERROR CORRECTION ...</td>\n",
              "    </tr>\n",
              "    <tr>\n",
              "      <th>156</th>\n",
              "      <td>DECIDING TO STAY: A STUDY IN HOSPITALITY MANAG...</td>\n",
              "      <td>2020</td>\n",
              "      <td>JOURNAL OF HOSPITALITY &amp; TOURISM RESEARCH</td>\n",
              "      <td>CONTRIBUTING TO A RELATIVELY NEW STREAM OF LIT...</td>\n",
              "    </tr>\n",
              "    <tr>\n",
              "      <th>157</th>\n",
              "      <td>HERDING THE HORDES: USING LOCATION-BASED SERVI...</td>\n",
              "      <td>2020</td>\n",
              "      <td>JOURNAL OF HOSPITALITY &amp; TOURISM RESEARCH</td>\n",
              "      <td>THIS STUDY INVESTIGATES MODES OF MOVING VISITO...</td>\n",
              "    </tr>\n",
              "  </tbody>\n",
              "</table>\n",
              "<p>158 rows × 4 columns</p>\n",
              "</div>"
            ],
            "text/plain": [
              "                                                 Title  ...                                           Abstract\n",
              "0    DESTINATION PERSONALITY: SCALE DEVELOPMENT AND...  ...  THE MAIN OBJECTIVE OF THIS RESEARCH WAS TO DEV...\n",
              "1    A STUDY OF EXPERIENTIAL QUALITY, EXPERIENTIAL ...  ...  THIS STUDY AIMS AT IDENTIFYING THE DIMENSIONS ...\n",
              "2    HOW WE COMPLAIN: THE EFFECT OF PERSONALITY ON ...  ...  THE PURPOSE OF THIS STUDY WAS TO INVESTIGATE T...\n",
              "3    CREATING A COMPETITIVE ADVANTAGE BY OCCUPYING ...  ...  THIS STUDY ANALYZED THE RELATIONSHIP BETWEEN T...\n",
              "4    GUEST–SERVER EXCHANGE MODEL AND PERFORMANCE: T...  ...  USING A SAMPLE OF 51 FULL-SERVICE RESTAURANTS ...\n",
              "..                                                 ...  ...                                                ...\n",
              "153  EFFECT OF COMMERCIAL NEIGHBORS ON THE ONLINE P...  ...  COMMERCIAL HOSTS ARE BECOMING INCREASINGLY COM...\n",
              "154  HOW IS INTANGIBLE CULTURAL HERITAGE VALUED IN ...  ...  INTANGIBLE CULTURAL HERITAGE (ICH) IS AN IMPOR...\n",
              "155  THE SHORT- AND LONG-RUN HOTEL DEMAND IN SWITZE...  ...  THIS STUDY DEVELOPS A VECTOR ERROR CORRECTION ...\n",
              "156  DECIDING TO STAY: A STUDY IN HOSPITALITY MANAG...  ...  CONTRIBUTING TO A RELATIVELY NEW STREAM OF LIT...\n",
              "157  HERDING THE HORDES: USING LOCATION-BASED SERVI...  ...  THIS STUDY INVESTIGATES MODES OF MOVING VISITO...\n",
              "\n",
              "[158 rows x 4 columns]"
            ]
          },
          "metadata": {
            "tags": []
          },
          "execution_count": 98
        }
      ]
    },
    {
      "cell_type": "code",
      "metadata": {
        "id": "qeiOOPMZ413x",
        "colab_type": "code",
        "colab": {
          "base_uri": "https://localhost:8080/",
          "height": 101
        },
        "outputId": "31534455-d458-4644-cd4e-f1d393f5110d"
      },
      "source": [
        "# to see where you're missing data and how much data is missing \n",
        "print(df_temp.isnull().sum())"
      ],
      "execution_count": null,
      "outputs": [
        {
          "output_type": "stream",
          "text": [
            "Title       0\n",
            "Year        0\n",
            "Journal     0\n",
            "Abstract    0\n",
            "dtype: int64\n"
          ],
          "name": "stdout"
        }
      ]
    },
    {
      "cell_type": "code",
      "metadata": {
        "id": "n2rWOIzgwEkr",
        "colab_type": "code",
        "colab": {}
      },
      "source": [
        "df_temp.to_excel('drive/My Drive/Topic_Modeling/Extra_Data/jhtr.xlsx')"
      ],
      "execution_count": null,
      "outputs": []
    },
    {
      "cell_type": "code",
      "metadata": {
        "id": "xyT_CpNQ56Ri",
        "colab_type": "code",
        "colab": {}
      },
      "source": [
        ""
      ],
      "execution_count": null,
      "outputs": []
    },
    {
      "cell_type": "code",
      "metadata": {
        "id": "EbN42nfeBr-X",
        "colab_type": "code",
        "colab": {}
      },
      "source": [
        ""
      ],
      "execution_count": null,
      "outputs": []
    },
    {
      "cell_type": "code",
      "metadata": {
        "id": "hHdSktSwBr7e",
        "colab_type": "code",
        "colab": {}
      },
      "source": [
        ""
      ],
      "execution_count": null,
      "outputs": []
    }
  ]
}