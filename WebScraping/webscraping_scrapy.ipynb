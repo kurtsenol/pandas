{
  "nbformat": 4,
  "nbformat_minor": 0,
  "metadata": {
    "colab": {
      "name": "webscraping_scrapy.ipynb",
      "provenance": [],
      "collapsed_sections": [],
      "mount_file_id": "1KOIdxw5AHiI4D-Daz033NtAGG0JDvUZt",
      "authorship_tag": "ABX9TyP3ttodI8uy4d71iGanv+ig",
      "include_colab_link": true
    },
    "kernelspec": {
      "name": "python3",
      "display_name": "Python 3"
    }
  },
  "cells": [
    {
      "cell_type": "markdown",
      "metadata": {
        "id": "view-in-github",
        "colab_type": "text"
      },
      "source": [
        "<a href=\"https://colab.research.google.com/github/kurtsenol/pandas/blob/master/WebScraping/webscraping_scrapy.ipynb\" target=\"_parent\"><img src=\"https://colab.research.google.com/assets/colab-badge.svg\" alt=\"Open In Colab\"/></a>"
      ]
    },
    {
      "cell_type": "markdown",
      "metadata": {
        "id": "D9r5oauKZd7V",
        "colab_type": "text"
      },
      "source": [
        "# SCRAPY"
      ]
    },
    {
      "cell_type": "code",
      "metadata": {
        "id": "1n9bqJWrDH0E",
        "colab_type": "code",
        "colab": {
          "base_uri": "https://localhost:8080/",
          "height": 1000
        },
        "outputId": "399b35ec-28f1-44d5-8ce6-c37e0c8d0038"
      },
      "source": [
        "pip install Scrapy"
      ],
      "execution_count": null,
      "outputs": [
        {
          "output_type": "stream",
          "text": [
            "Collecting Scrapy\n",
            "\u001b[?25l  Downloading https://files.pythonhosted.org/packages/58/59/a942878de3fb03481207a32bea488d7c3bd6bd8deecdbf90b6746dfa2da0/Scrapy-2.3.0-py2.py3-none-any.whl (237kB)\n",
            "\r\u001b[K     |█▍                              | 10kB 16.6MB/s eta 0:00:01\r\u001b[K     |██▊                             | 20kB 4.2MB/s eta 0:00:01\r\u001b[K     |████▏                           | 30kB 5.1MB/s eta 0:00:01\r\u001b[K     |█████▌                          | 40kB 5.6MB/s eta 0:00:01\r\u001b[K     |██████▉                         | 51kB 4.7MB/s eta 0:00:01\r\u001b[K     |████████▎                       | 61kB 5.2MB/s eta 0:00:01\r\u001b[K     |█████████▋                      | 71kB 5.7MB/s eta 0:00:01\r\u001b[K     |███████████                     | 81kB 6.0MB/s eta 0:00:01\r\u001b[K     |████████████▍                   | 92kB 6.1MB/s eta 0:00:01\r\u001b[K     |█████████████▊                  | 102kB 6.1MB/s eta 0:00:01\r\u001b[K     |███████████████▏                | 112kB 6.1MB/s eta 0:00:01\r\u001b[K     |████████████████▌               | 122kB 6.1MB/s eta 0:00:01\r\u001b[K     |██████████████████              | 133kB 6.1MB/s eta 0:00:01\r\u001b[K     |███████████████████▎            | 143kB 6.1MB/s eta 0:00:01\r\u001b[K     |████████████████████▋           | 153kB 6.1MB/s eta 0:00:01\r\u001b[K     |██████████████████████          | 163kB 6.1MB/s eta 0:00:01\r\u001b[K     |███████████████████████▍        | 174kB 6.1MB/s eta 0:00:01\r\u001b[K     |████████████████████████▉       | 184kB 6.1MB/s eta 0:00:01\r\u001b[K     |██████████████████████████▏     | 194kB 6.1MB/s eta 0:00:01\r\u001b[K     |███████████████████████████▌    | 204kB 6.1MB/s eta 0:00:01\r\u001b[K     |█████████████████████████████   | 215kB 6.1MB/s eta 0:00:01\r\u001b[K     |██████████████████████████████▎ | 225kB 6.1MB/s eta 0:00:01\r\u001b[K     |███████████████████████████████▊| 235kB 6.1MB/s eta 0:00:01\r\u001b[K     |████████████████████████████████| 245kB 6.1MB/s \n",
            "\u001b[?25hCollecting cssselect>=0.9.1\n",
            "  Downloading https://files.pythonhosted.org/packages/3b/d4/3b5c17f00cce85b9a1e6f91096e1cc8e8ede2e1be8e96b87ce1ed09e92c5/cssselect-1.1.0-py2.py3-none-any.whl\n",
            "Requirement already satisfied: lxml>=3.5.0; platform_python_implementation == \"CPython\" in /usr/local/lib/python3.6/dist-packages (from Scrapy) (4.2.6)\n",
            "Collecting itemloaders>=1.0.1\n",
            "  Downloading https://files.pythonhosted.org/packages/b9/c5/bd4d083c6d5368885cb8d10ea8355d38a958a57e5bc73945fc3905a7e1ca/itemloaders-1.0.3-py3-none-any.whl\n",
            "Collecting parsel>=1.5.0\n",
            "  Downloading https://files.pythonhosted.org/packages/23/1e/9b39d64cbab79d4362cdd7be7f5e9623d45c4a53b3f7522cd8210df52d8e/parsel-1.6.0-py2.py3-none-any.whl\n",
            "Collecting protego>=0.1.15\n",
            "\u001b[?25l  Downloading https://files.pythonhosted.org/packages/db/6e/bf6d5e4d7cf233b785719aaec2c38f027b9c2ed980a0015ec1a1cced4893/Protego-0.1.16.tar.gz (3.2MB)\n",
            "\u001b[K     |████████████████████████████████| 3.2MB 13.1MB/s \n",
            "\u001b[?25hCollecting pyOpenSSL>=16.2.0\n",
            "\u001b[?25l  Downloading https://files.pythonhosted.org/packages/9e/de/f8342b68fa9e981d348039954657bdf681b2ab93de27443be51865ffa310/pyOpenSSL-19.1.0-py2.py3-none-any.whl (53kB)\n",
            "\u001b[K     |████████████████████████████████| 61kB 7.1MB/s \n",
            "\u001b[?25hCollecting itemadapter>=0.1.0\n",
            "  Downloading https://files.pythonhosted.org/packages/7d/fb/92f848fcfa85dc9f95370eaecb5c99b5230dd4fc5c6bae684f4ca59df973/itemadapter-0.1.0-py3-none-any.whl\n",
            "Collecting cryptography>=2.0\n",
            "\u001b[?25l  Downloading https://files.pythonhosted.org/packages/c0/9c/647e559a6e8be493dc2a7a5d15d26cb501ca60ec299b356f23839a673a83/cryptography-3.1-cp35-abi3-manylinux2010_x86_64.whl (2.6MB)\n",
            "\u001b[K     |████████████████████████████████| 2.6MB 44.1MB/s \n",
            "\u001b[?25hCollecting w3lib>=1.17.0\n",
            "  Downloading https://files.pythonhosted.org/packages/a3/59/b6b14521090e7f42669cafdb84b0ab89301a42f1f1a82fcf5856661ea3a7/w3lib-1.22.0-py2.py3-none-any.whl\n",
            "Collecting zope.interface>=4.1.3\n",
            "\u001b[?25l  Downloading https://files.pythonhosted.org/packages/57/33/565274c28a11af60b7cfc0519d46bde4125fcd7d32ebc0a81b480d0e8da6/zope.interface-5.1.0-cp36-cp36m-manylinux2010_x86_64.whl (234kB)\n",
            "\u001b[K     |████████████████████████████████| 235kB 47.6MB/s \n",
            "\u001b[?25hCollecting PyDispatcher>=2.0.5\n",
            "  Downloading https://files.pythonhosted.org/packages/cd/37/39aca520918ce1935bea9c356bcbb7ed7e52ad4e31bff9b943dfc8e7115b/PyDispatcher-2.0.5.tar.gz\n",
            "Collecting service-identity>=16.0.0\n",
            "  Downloading https://files.pythonhosted.org/packages/e9/7c/2195b890023e098f9618d43ebc337d83c8b38d414326685339eb024db2f6/service_identity-18.1.0-py2.py3-none-any.whl\n",
            "Collecting Twisted>=17.9.0\n",
            "\u001b[?25l  Downloading https://files.pythonhosted.org/packages/b7/04/1a664c9e5ec0224a1c1a154ddecaa4dc7b8967521bba225efcc41a03d5f3/Twisted-20.3.0-cp36-cp36m-manylinux1_x86_64.whl (3.1MB)\n",
            "\u001b[K     |████████████████████████████████| 3.1MB 21.8MB/s \n",
            "\u001b[?25hCollecting queuelib>=1.4.2\n",
            "  Downloading https://files.pythonhosted.org/packages/4c/85/ae64e9145f39dd6d14f8af3fa809a270ef3729f3b90b3c0cf5aa242ab0d4/queuelib-1.5.0-py2.py3-none-any.whl\n",
            "Requirement already satisfied: jmespath>=0.9.5 in /usr/local/lib/python3.6/dist-packages (from itemloaders>=1.0.1->Scrapy) (0.10.0)\n",
            "Requirement already satisfied: six>=1.6.0 in /usr/local/lib/python3.6/dist-packages (from parsel>=1.5.0->Scrapy) (1.15.0)\n",
            "Requirement already satisfied: cffi!=1.11.3,>=1.8 in /usr/local/lib/python3.6/dist-packages (from cryptography>=2.0->Scrapy) (1.14.2)\n",
            "Requirement already satisfied: setuptools in /usr/local/lib/python3.6/dist-packages (from zope.interface>=4.1.3->Scrapy) (50.3.0)\n",
            "Requirement already satisfied: pyasn1-modules in /usr/local/lib/python3.6/dist-packages (from service-identity>=16.0.0->Scrapy) (0.2.8)\n",
            "Requirement already satisfied: attrs>=16.0.0 in /usr/local/lib/python3.6/dist-packages (from service-identity>=16.0.0->Scrapy) (20.2.0)\n",
            "Requirement already satisfied: pyasn1 in /usr/local/lib/python3.6/dist-packages (from service-identity>=16.0.0->Scrapy) (0.4.8)\n",
            "Collecting incremental>=16.10.1\n",
            "  Downloading https://files.pythonhosted.org/packages/f5/1d/c98a587dc06e107115cf4a58b49de20b19222c83d75335a192052af4c4b7/incremental-17.5.0-py2.py3-none-any.whl\n",
            "Collecting hyperlink>=17.1.1\n",
            "\u001b[?25l  Downloading https://files.pythonhosted.org/packages/88/a5/74f77547e9b175eb894d4fec5c76b0c8176c045e5bf3ac6a4d4d3feab4bb/hyperlink-20.0.1-py2.py3-none-any.whl (48kB)\n",
            "\u001b[K     |████████████████████████████████| 51kB 6.0MB/s \n",
            "\u001b[?25hCollecting constantly>=15.1\n",
            "  Downloading https://files.pythonhosted.org/packages/b9/65/48c1909d0c0aeae6c10213340ce682db01b48ea900a7d9fce7a7910ff318/constantly-15.1.0-py2.py3-none-any.whl\n",
            "Collecting PyHamcrest!=1.10.0,>=1.9.0\n",
            "\u001b[?25l  Downloading https://files.pythonhosted.org/packages/40/16/e54cc65891f01cb62893540f44ffd3e8dab0a22443e1b438f1a9f5574bee/PyHamcrest-2.0.2-py3-none-any.whl (52kB)\n",
            "\u001b[K     |████████████████████████████████| 61kB 7.3MB/s \n",
            "\u001b[?25hCollecting Automat>=0.3.0\n",
            "  Downloading https://files.pythonhosted.org/packages/dd/83/5f6f3c1a562674d65efc320257bdc0873ec53147835aeef7762fe7585273/Automat-20.2.0-py2.py3-none-any.whl\n",
            "Requirement already satisfied: pycparser in /usr/local/lib/python3.6/dist-packages (from cffi!=1.11.3,>=1.8->cryptography>=2.0->Scrapy) (2.20)\n",
            "Requirement already satisfied: idna>=2.5 in /usr/local/lib/python3.6/dist-packages (from hyperlink>=17.1.1->Twisted>=17.9.0->Scrapy) (2.10)\n",
            "Building wheels for collected packages: protego, PyDispatcher\n",
            "  Building wheel for protego (setup.py) ... \u001b[?25l\u001b[?25hdone\n",
            "  Created wheel for protego: filename=Protego-0.1.16-cp36-none-any.whl size=7765 sha256=214fb7596de1b93b83d9921253a366f6d8df15661c010748a21ad555a7b226d0\n",
            "  Stored in directory: /root/.cache/pip/wheels/51/01/d1/4a2286a976dccd025ba679acacfe37320540df0f2283ecab12\n",
            "  Building wheel for PyDispatcher (setup.py) ... \u001b[?25l\u001b[?25hdone\n",
            "  Created wheel for PyDispatcher: filename=PyDispatcher-2.0.5-cp36-none-any.whl size=11517 sha256=cecf2bc60ab9bdb493641e93727c18c0d8ff6fb358990b019d2e94e5ed197aad\n",
            "  Stored in directory: /root/.cache/pip/wheels/88/99/96/cfef6665f9cb1522ee6757ae5955feedf2fe25f1737f91fa7f\n",
            "Successfully built protego PyDispatcher\n",
            "Installing collected packages: cssselect, w3lib, parsel, itemadapter, itemloaders, protego, cryptography, pyOpenSSL, zope.interface, PyDispatcher, service-identity, incremental, hyperlink, constantly, PyHamcrest, Automat, Twisted, queuelib, Scrapy\n",
            "Successfully installed Automat-20.2.0 PyDispatcher-2.0.5 PyHamcrest-2.0.2 Scrapy-2.3.0 Twisted-20.3.0 constantly-15.1.0 cryptography-3.1 cssselect-1.1.0 hyperlink-20.0.1 incremental-17.5.0 itemadapter-0.1.0 itemloaders-1.0.3 parsel-1.6.0 protego-0.1.16 pyOpenSSL-19.1.0 queuelib-1.5.0 service-identity-18.1.0 w3lib-1.22.0 zope.interface-5.1.0\n"
          ],
          "name": "stdout"
        }
      ]
    },
    {
      "cell_type": "code",
      "metadata": {
        "id": "YcZEta32L1oC",
        "colab_type": "code",
        "colab": {}
      },
      "source": [
        "# Import a scrapy Selector, response\n",
        "import scrapy\n",
        "from scrapy import Selector"
      ],
      "execution_count": null,
      "outputs": []
    },
    {
      "cell_type": "code",
      "metadata": {
        "id": "6QVJU6iiDVGJ",
        "colab_type": "code",
        "colab": {}
      },
      "source": [
        "url='https://www.datacamp.com/courses/all'"
      ],
      "execution_count": null,
      "outputs": []
    },
    {
      "cell_type": "code",
      "metadata": {
        "id": "axyC6s8OL1iu",
        "colab_type": "code",
        "colab": {
          "base_uri": "https://localhost:8080/",
          "height": 34
        },
        "outputId": "27ded5a7-caf8-48c3-a232-1f2e345b2b66"
      },
      "source": [
        "# Import requests\n",
        "import requests\n",
        "\n",
        "# Create the string html containing the HTML source\n",
        "html = requests.get(url).content\n",
        "\n",
        "# Create the Selector object sel from html\n",
        "sel = Selector( text = html )\n",
        "\n",
        "# Print out the number of elements in the HTML document\n",
        "print( \"You have found: \", len( sel.xpath('//*') ) )"
      ],
      "execution_count": null,
      "outputs": [
        {
          "output_type": "stream",
          "text": [
            "You have found:  8555\n"
          ],
          "name": "stdout"
        }
      ]
    },
    {
      "cell_type": "code",
      "metadata": {
        "id": "Xw1EX4GBDb7J",
        "colab_type": "code",
        "colab": {}
      },
      "source": [
        "# Select all hyperlinks of div elements belonging to class \"course-block\"\n",
        "course_as = sel.css( 'div.course-block > a' )\n",
        "\n",
        "# Selecting all href attributes chaining with css\n",
        "hrefs_from_css = course_as.css( '::attr(href)' )\n",
        "hrefs_from_css"
      ],
      "execution_count": null,
      "outputs": []
    },
    {
      "cell_type": "code",
      "metadata": {
        "id": "74zhzUhBJ588",
        "colab_type": "code",
        "colab": {}
      },
      "source": [
        "# Selecting all href attributes chaining with xpath\n",
        "hrefs_from_xpath = course_as.xpath( './@href' )\n",
        "hrefs_from_xpath"
      ],
      "execution_count": null,
      "outputs": []
    },
    {
      "cell_type": "code",
      "metadata": {
        "id": "NO1qeLD4HPOf",
        "colab_type": "code",
        "colab": {
          "base_uri": "https://localhost:8080/",
          "height": 34
        },
        "outputId": "b6d4a846-3281-47a1-fcfc-9a0f83164ce1"
      },
      "source": [
        "# Create an XPath string to the desired text.\n",
        "xpath = '//p[@id=\"p3\"]/text()'\n",
        "\n",
        "# Create a CSS Locator string to the desired text.\n",
        "css_locator = 'p#p3::text'\n",
        "\n",
        "# Print the text from our selections\n",
        "print( xpath, css_locator )"
      ],
      "execution_count": null,
      "outputs": [
        {
          "output_type": "stream",
          "text": [
            "//p[@id=\"p3\"]/text() p#p3::text\n"
          ],
          "name": "stdout"
        }
      ]
    },
    {
      "cell_type": "code",
      "metadata": {
        "id": "POmp8nMlKGdV",
        "colab_type": "code",
        "colab": {
          "base_uri": "https://localhost:8080/",
          "height": 34
        },
        "outputId": "9be86b4c-f9e0-4621-dc67-2ff10f723977"
      },
      "source": [
        "# Create an XPath string to the desired text.\n",
        "xpath = '//p[@id=\"p3\"]//text()'\n",
        "\n",
        "# Create a CSS Locator string to the desired text.\n",
        "css_locator = 'p#p3 ::text'\n",
        "\n",
        "# Print the text from our selections\n",
        "print( xpath, css_locator )"
      ],
      "execution_count": null,
      "outputs": [
        {
          "output_type": "stream",
          "text": [
            "//p[@id=\"p3\"]//text() p#p3 ::text\n"
          ],
          "name": "stdout"
        }
      ]
    },
    {
      "cell_type": "code",
      "metadata": {
        "id": "5ixL5qtZWqmw",
        "colab_type": "code",
        "colab": {}
      },
      "source": [
        ""
      ],
      "execution_count": null,
      "outputs": []
    },
    {
      "cell_type": "code",
      "metadata": {
        "id": "E5ZKq1e1Vc9M",
        "colab_type": "code",
        "colab": {}
      },
      "source": [
        "url='https://thegoodpubguide.co.uk/pubs/?paged=1&order_by=category&search=pubs&pub_name=&postal_code='"
      ],
      "execution_count": null,
      "outputs": []
    },
    {
      "cell_type": "code",
      "metadata": {
        "id": "8TgVqQHwVdCt",
        "colab_type": "code",
        "colab": {
          "base_uri": "https://localhost:8080/",
          "height": 34
        },
        "outputId": "94b42f5c-19b4-4451-9233-6ce9b429db38"
      },
      "source": [
        "# Create the string html containing the HTML source\n",
        "html = requests.get(url).content\n",
        "\n",
        "# Create the Selector object sel from html\n",
        "sel = Selector(text = html)\n",
        "\n",
        "# Print out the number of elements in the HTML document\n",
        "print( \"You have found: \", len( sel.xpath('//*') ) )"
      ],
      "execution_count": null,
      "outputs": [
        {
          "output_type": "stream",
          "text": [
            "You have found:  8\n"
          ],
          "name": "stdout"
        }
      ]
    },
    {
      "cell_type": "code",
      "metadata": {
        "id": "P_9uF7wVVcSC",
        "colab_type": "code",
        "colab": {}
      },
      "source": [
        ""
      ],
      "execution_count": null,
      "outputs": []
    },
    {
      "cell_type": "code",
      "metadata": {
        "id": "4gt61_h9VcPR",
        "colab_type": "code",
        "colab": {}
      },
      "source": [
        ""
      ],
      "execution_count": null,
      "outputs": []
    }
  ]
}