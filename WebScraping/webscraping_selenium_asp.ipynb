{
  "nbformat": 4,
  "nbformat_minor": 0,
  "metadata": {
    "colab": {
      "name": "webscraping_selenium_asp.ipynb",
      "provenance": [],
      "collapsed_sections": [],
      "mount_file_id": "1CyE6R2L3qLukHku219_q6rYvMFPeLeev",
      "authorship_tag": "ABX9TyN00aZFD70+V25W65pjxb6d",
      "include_colab_link": true
    },
    "kernelspec": {
      "name": "python3",
      "display_name": "Python 3"
    }
  },
  "cells": [
    {
      "cell_type": "markdown",
      "metadata": {
        "id": "view-in-github",
        "colab_type": "text"
      },
      "source": [
        "<a href=\"https://colab.research.google.com/github/kurtsenol/pandas/blob/master/WebScraping/webscraping_selenium_asp.ipynb\" target=\"_parent\"><img src=\"https://colab.research.google.com/assets/colab-badge.svg\" alt=\"Open In Colab\"/></a>"
      ]
    },
    {
      "cell_type": "markdown",
      "metadata": {
        "id": "D9r5oauKZd7V",
        "colab_type": "text"
      },
      "source": [
        "# WEB SCRAPING"
      ]
    },
    {
      "cell_type": "code",
      "metadata": {
        "id": "O8uHDU5VbxUv",
        "colab_type": "code",
        "colab": {
          "base_uri": "https://localhost:8080/",
          "height": 437
        },
        "outputId": "e39aad2d-efe0-4a0f-eb56-31d018792a09"
      },
      "source": [
        "!pip install selenium\n",
        "!apt-get update # to update ubuntu to correctly run apt install\n",
        "!apt install chromium-chromedriver\n",
        "!cp /usr/lib/chromium-browser/chromedriver /usr/bin\n",
        "import sys\n",
        "sys.path.insert(0,'/usr/lib/chromium-browser/chromedriver')\n",
        "from selenium import webdriver\n",
        "chrome_options = webdriver.ChromeOptions()\n",
        "chrome_options.add_argument('--headless')\n",
        "chrome_options.add_argument('--no-sandbox')\n",
        "chrome_options.add_argument('--disable-dev-shm-usage')\n",
        "\n",
        "\n",
        "user_agent = 'Mozilla/5.0 (X11; Linux x86_64) AppleWebKit/537.36 (KHTML, like Gecko) Chrome/60.0.3112.50 Safari/537.36'\n",
        "chrome_options.add_argument(f'user-agent={user_agent}')\n",
        "\n",
        "\n",
        "wd = webdriver.Chrome('chromedriver',chrome_options=chrome_options)"
      ],
      "execution_count": null,
      "outputs": [
        {
          "output_type": "stream",
          "text": [
            "Requirement already satisfied: selenium in /usr/local/lib/python3.6/dist-packages (3.141.0)\n",
            "Requirement already satisfied: urllib3 in /usr/local/lib/python3.6/dist-packages (from selenium) (1.24.3)\n",
            "Hit:1 https://cloud.r-project.org/bin/linux/ubuntu bionic-cran35/ InRelease\n",
            "Ign:2 https://developer.download.nvidia.com/compute/cuda/repos/ubuntu1804/x86_64  InRelease\n",
            "Ign:3 https://developer.download.nvidia.com/compute/machine-learning/repos/ubuntu1804/x86_64  InRelease\n",
            "Hit:4 https://developer.download.nvidia.com/compute/cuda/repos/ubuntu1804/x86_64  Release\n",
            "Hit:5 https://developer.download.nvidia.com/compute/machine-learning/repos/ubuntu1804/x86_64  Release\n",
            "Hit:6 http://ppa.launchpad.net/graphics-drivers/ppa/ubuntu bionic InRelease\n",
            "Get:7 http://security.ubuntu.com/ubuntu bionic-security InRelease [88.7 kB]\n",
            "Hit:8 http://archive.ubuntu.com/ubuntu bionic InRelease\n",
            "Hit:10 http://ppa.launchpad.net/marutter/c2d4u3.5/ubuntu bionic InRelease\n",
            "Hit:11 http://archive.ubuntu.com/ubuntu bionic-updates InRelease\n",
            "Get:13 http://archive.ubuntu.com/ubuntu bionic-backports InRelease [74.6 kB]\n",
            "Fetched 163 kB in 2s (88.2 kB/s)\n",
            "Reading package lists... Done\n",
            "Reading package lists... Done\n",
            "Building dependency tree       \n",
            "Reading state information... Done\n",
            "chromium-chromedriver is already the newest version (85.0.4183.83-0ubuntu0.18.04.2).\n",
            "The following package was automatically installed and is no longer required:\n",
            "  libnvidia-common-440\n",
            "Use 'apt autoremove' to remove it.\n",
            "0 upgraded, 0 newly installed, 0 to remove and 77 not upgraded.\n",
            "cp: '/usr/lib/chromium-browser/chromedriver' and '/usr/bin/chromedriver' are the same file\n"
          ],
          "name": "stdout"
        },
        {
          "output_type": "stream",
          "text": [
            "/usr/local/lib/python3.6/dist-packages/ipykernel_launcher.py:18: DeprecationWarning: use options instead of chrome_options\n"
          ],
          "name": "stderr"
        }
      ]
    },
    {
      "cell_type": "code",
      "metadata": {
        "id": "tREkyjjnqXX2",
        "colab_type": "code",
        "colab": {}
      },
      "source": [
        "### FIND ELEMENTS\n",
        "\n",
        "# h1 = driver.find_element_by_name('h1')\n",
        "# h1 = driver.find_element_by_class_name('someclass')\n",
        "# h1 = driver.find_element_by_xpath('//h1')\n",
        "# h1 = driver.find_element_by_id('greatID')\n",
        "\n",
        "# all_links = driver.find_elements_by_tag_name('a')"
      ],
      "execution_count": null,
      "outputs": []
    },
    {
      "cell_type": "code",
      "metadata": {
        "id": "yoWa10SmrcXt",
        "colab_type": "code",
        "colab": {}
      },
      "source": [
        "### WebElement\n",
        "\n",
        "# driver.get(\"https://news.ycombinator.com/login\")\n",
        "\n",
        "# login = driver.find_element_by_xpath(\"//input\").send_keys(USERNAME)\n",
        "# password = driver.find_element_by_xpath(\"//input[@type='password']\").send_keys(PASSWORD)\n",
        "# submit = driver.find_element_by_xpath(\"//input[@value='login']\").click()"
      ],
      "execution_count": null,
      "outputs": []
    },
    {
      "cell_type": "code",
      "metadata": {
        "id": "_THBqJo3roU4",
        "colab_type": "code",
        "colab": {}
      },
      "source": [
        "### Taking a screenshot\n",
        "\n",
        "# driver.save_screenshot('screenshot.png')"
      ],
      "execution_count": null,
      "outputs": []
    },
    {
      "cell_type": "code",
      "metadata": {
        "id": "CZoFd6ihruK_",
        "colab_type": "code",
        "colab": {}
      },
      "source": [
        "### Executing Javascript\n",
        "\n",
        "# javaScript = \"window.scrollBy(0,1000);\"\n",
        "# driver.execute_script(javaScript)"
      ],
      "execution_count": null,
      "outputs": []
    },
    {
      "cell_type": "code",
      "metadata": {
        "id": "HX6bRqXqr8Lo",
        "colab_type": "code",
        "colab": {}
      },
      "source": [
        "### Waiting for an element to be present\n",
        "\n",
        "# try:\n",
        "#     element = WebDriverWait(driver, 5).until(\n",
        "#         EC.presence_of_element_located((By.ID, \"mySuperId\"))\n",
        "#     )\n",
        "# finally:\n",
        "#     driver.quit()"
      ],
      "execution_count": null,
      "outputs": []
    },
    {
      "cell_type": "code",
      "metadata": {
        "id": "84pfKltO9bS5",
        "colab_type": "code",
        "colab": {}
      },
      "source": [
        "import time\n",
        "import pandas as pd\n",
        "import numpy as np\n",
        "import math"
      ],
      "execution_count": null,
      "outputs": []
    },
    {
      "cell_type": "code",
      "metadata": {
        "id": "sn2s2U27cE9x",
        "colab_type": "code",
        "colab": {}
      },
      "source": [
        "url=\"http://cels.baltimorehousing.org/reg/Reg_MFD_Search.aspx\""
      ],
      "execution_count": null,
      "outputs": []
    },
    {
      "cell_type": "code",
      "metadata": {
        "id": "85RVyYU8IO8h",
        "colab_type": "code",
        "colab": {}
      },
      "source": [
        "df_final_1 = pd.read_csv(\"/content/drive/My Drive/Output/house_final_1.csv\")"
      ],
      "execution_count": null,
      "outputs": []
    },
    {
      "cell_type": "code",
      "metadata": {
        "id": "Ln_b4Fl6IB1_",
        "colab_type": "code",
        "colab": {
          "base_uri": "https://localhost:8080/",
          "height": 402
        },
        "outputId": "88e13077-b090-4b6e-8077-a2c2965762e8"
      },
      "source": [
        "df_final_1"
      ],
      "execution_count": null,
      "outputs": [
        {
          "output_type": "execute_result",
          "data": {
            "text/html": [
              "<div>\n",
              "<style scoped>\n",
              "    .dataframe tbody tr th:only-of-type {\n",
              "        vertical-align: middle;\n",
              "    }\n",
              "\n",
              "    .dataframe tbody tr th {\n",
              "        vertical-align: top;\n",
              "    }\n",
              "\n",
              "    .dataframe thead th {\n",
              "        text-align: right;\n",
              "    }\n",
              "</style>\n",
              "<table border=\"1\" class=\"dataframe\">\n",
              "  <thead>\n",
              "    <tr style=\"text-align: right;\">\n",
              "      <th></th>\n",
              "      <th>Reg#</th>\n",
              "      <th>Date Insp</th>\n",
              "      <th>License Print</th>\n",
              "      <th>Licensed</th>\n",
              "      <th>License Expiration Date</th>\n",
              "      <th>Valid Reg Year</th>\n",
              "      <th>Address</th>\n",
              "      <th>Zip</th>\n",
              "      <th>Block Lot</th>\n",
              "    </tr>\n",
              "  </thead>\n",
              "  <tbody>\n",
              "    <tr>\n",
              "      <th>0</th>\n",
              "      <td>1341</td>\n",
              "      <td>NaN</td>\n",
              "      <td>NaN</td>\n",
              "      <td>NaN</td>\n",
              "      <td>NaN</td>\n",
              "      <td>2012.0</td>\n",
              "      <td>1209 E 43RD ST</td>\n",
              "      <td>21239</td>\n",
              "      <td>5208-005</td>\n",
              "    </tr>\n",
              "    <tr>\n",
              "      <th>1</th>\n",
              "      <td>80460</td>\n",
              "      <td>NaN</td>\n",
              "      <td>NaN</td>\n",
              "      <td>NaN</td>\n",
              "      <td>NaN</td>\n",
              "      <td>2017.0</td>\n",
              "      <td>1201 E 43RD ST</td>\n",
              "      <td>21239</td>\n",
              "      <td>5208-001</td>\n",
              "    </tr>\n",
              "    <tr>\n",
              "      <th>2</th>\n",
              "      <td>501011</td>\n",
              "      <td>12/28/2018</td>\n",
              "      <td>NaN</td>\n",
              "      <td>NaN</td>\n",
              "      <td>NaN</td>\n",
              "      <td>2017.0</td>\n",
              "      <td>1205 E 43RD ST</td>\n",
              "      <td>21239</td>\n",
              "      <td>5208-003</td>\n",
              "    </tr>\n",
              "    <tr>\n",
              "      <th>3</th>\n",
              "      <td>933880</td>\n",
              "      <td>05/09/2020</td>\n",
              "      <td>05/12/2020</td>\n",
              "      <td>Y</td>\n",
              "      <td>05/09/2022</td>\n",
              "      <td>2020.0</td>\n",
              "      <td>1105 E 43RD ST</td>\n",
              "      <td>21239</td>\n",
              "      <td>5207-001B</td>\n",
              "    </tr>\n",
              "    <tr>\n",
              "      <th>4</th>\n",
              "      <td>934891</td>\n",
              "      <td>05/09/2020</td>\n",
              "      <td>05/12/2020</td>\n",
              "      <td>Y</td>\n",
              "      <td>05/09/2022</td>\n",
              "      <td>2020.0</td>\n",
              "      <td>1103 E 43RD ST</td>\n",
              "      <td>21239</td>\n",
              "      <td>5207-001A</td>\n",
              "    </tr>\n",
              "    <tr>\n",
              "      <th>...</th>\n",
              "      <td>...</td>\n",
              "      <td>...</td>\n",
              "      <td>...</td>\n",
              "      <td>...</td>\n",
              "      <td>...</td>\n",
              "      <td>...</td>\n",
              "      <td>...</td>\n",
              "      <td>...</td>\n",
              "      <td>...</td>\n",
              "    </tr>\n",
              "    <tr>\n",
              "      <th>13896</th>\n",
              "      <td>86412</td>\n",
              "      <td>NaN</td>\n",
              "      <td>NaN</td>\n",
              "      <td>NaN</td>\n",
              "      <td>NaN</td>\n",
              "      <td>2017.0</td>\n",
              "      <td>3037 HUNTINGDON AVE</td>\n",
              "      <td>21211</td>\n",
              "      <td>3664B-009</td>\n",
              "    </tr>\n",
              "    <tr>\n",
              "      <th>13897</th>\n",
              "      <td>92766</td>\n",
              "      <td>NaN</td>\n",
              "      <td>NaN</td>\n",
              "      <td>NaN</td>\n",
              "      <td>NaN</td>\n",
              "      <td>2017.0</td>\n",
              "      <td>2930 HUNTINGDON AVE</td>\n",
              "      <td>21211</td>\n",
              "      <td>3653-055</td>\n",
              "    </tr>\n",
              "    <tr>\n",
              "      <th>13898</th>\n",
              "      <td>93097</td>\n",
              "      <td>12/11/2018</td>\n",
              "      <td>12/19/2018</td>\n",
              "      <td>Y</td>\n",
              "      <td>12/11/2020</td>\n",
              "      <td>2019.0</td>\n",
              "      <td>2926 HUNTINGDON AVE</td>\n",
              "      <td>21211</td>\n",
              "      <td>3653-057</td>\n",
              "    </tr>\n",
              "    <tr>\n",
              "      <th>13899</th>\n",
              "      <td>93895</td>\n",
              "      <td>09/13/2018</td>\n",
              "      <td>12/19/2018</td>\n",
              "      <td>Y</td>\n",
              "      <td>09/13/2020</td>\n",
              "      <td>2019.0</td>\n",
              "      <td>2940 HUNTINGDON AVE</td>\n",
              "      <td>21211</td>\n",
              "      <td>3653-050</td>\n",
              "    </tr>\n",
              "    <tr>\n",
              "      <th>13900</th>\n",
              "      <td>86338</td>\n",
              "      <td>12/21/2018</td>\n",
              "      <td>01/05/2019</td>\n",
              "      <td>Y</td>\n",
              "      <td>12/21/2020</td>\n",
              "      <td>2020.0</td>\n",
              "      <td>2656 HUNTINGDON AVE</td>\n",
              "      <td>21211</td>\n",
              "      <td>3630A-088</td>\n",
              "    </tr>\n",
              "  </tbody>\n",
              "</table>\n",
              "<p>13901 rows × 9 columns</p>\n",
              "</div>"
            ],
            "text/plain": [
              "         Reg#   Date Insp License Print  ...              Address    Zip  Block Lot\n",
              "0        1341         NaN           NaN  ...       1209 E 43RD ST  21239   5208-005\n",
              "1       80460         NaN           NaN  ...       1201 E 43RD ST  21239   5208-001\n",
              "2      501011  12/28/2018           NaN  ...       1205 E 43RD ST  21239   5208-003\n",
              "3      933880  05/09/2020    05/12/2020  ...       1105 E 43RD ST  21239  5207-001B\n",
              "4      934891  05/09/2020    05/12/2020  ...       1103 E 43RD ST  21239  5207-001A\n",
              "...       ...         ...           ...  ...                  ...    ...        ...\n",
              "13896   86412         NaN           NaN  ...  3037 HUNTINGDON AVE  21211  3664B-009\n",
              "13897   92766         NaN           NaN  ...  2930 HUNTINGDON AVE  21211   3653-055\n",
              "13898   93097  12/11/2018    12/19/2018  ...  2926 HUNTINGDON AVE  21211   3653-057\n",
              "13899   93895  09/13/2018    12/19/2018  ...  2940 HUNTINGDON AVE  21211   3653-050\n",
              "13900   86338  12/21/2018    01/05/2019  ...  2656 HUNTINGDON AVE  21211  3630A-088\n",
              "\n",
              "[13901 rows x 9 columns]"
            ]
          },
          "metadata": {
            "tags": []
          },
          "execution_count": 11
        }
      ]
    },
    {
      "cell_type": "code",
      "metadata": {
        "id": "y9Ly2_4NFbnw",
        "colab_type": "code",
        "colab": {}
      },
      "source": [
        "first_tuple = [(i, df_final_1[df_final_1[\"Zip\"]==i].shape[0]) for i in df_final_1.Zip.unique()]"
      ],
      "execution_count": null,
      "outputs": []
    },
    {
      "cell_type": "code",
      "metadata": {
        "id": "IyHVQ56kHEem",
        "colab_type": "code",
        "colab": {
          "base_uri": "https://localhost:8080/",
          "height": 168
        },
        "outputId": "03e2b1e8-ea06-4eb7-e428-f8d9d358fded"
      },
      "source": [
        "first_tuple"
      ],
      "execution_count": null,
      "outputs": [
        {
          "output_type": "execute_result",
          "data": {
            "text/plain": [
              "[(21239, 1020),\n",
              " (21231, 2020),\n",
              " (21214, 1220),\n",
              " (21202, 2220),\n",
              " (21205, 3020),\n",
              " (21206, 2620),\n",
              " (21209, 347),\n",
              " (21210, 354),\n",
              " (21211, 1080)]"
            ]
          },
          "metadata": {
            "tags": []
          },
          "execution_count": 9
        }
      ]
    },
    {
      "cell_type": "code",
      "metadata": {
        "id": "wvn6EYaEmLRu",
        "colab_type": "code",
        "colab": {}
      },
      "source": [
        "# zip_list=[21278, 21233, 21235, 21239, 21241, 21251, 21263, 21264, 21270, 21273, 21275, 21231, 21279, 21280, 21281, 21287, 21288, 21289, 21290, 21297, 21298, 21214, 21202, 21203, 21205, 21206, 21209, 21210, 21211, 21212, 21213, 21201, 21215, 21216, 21217, 21218, 21223, 21224, 21229, 21230, 21225]"
      ],
      "execution_count": null,
      "outputs": []
    },
    {
      "cell_type": "code",
      "metadata": {
        "id": "kLh0TfAeHewY",
        "colab_type": "code",
        "colab": {}
      },
      "source": [
        "# zip_list=[21212, 21213, 21201, 21215, 21216, 21217, 21218, 21223, 21224, 21229, 21230, 21225]\n"
      ],
      "execution_count": null,
      "outputs": []
    },
    {
      "cell_type": "code",
      "metadata": {
        "id": "V66bPZ9Q7r9j",
        "colab_type": "code",
        "colab": {}
      },
      "source": [
        "zip_list=[21212, 21213, 21201]"
      ],
      "execution_count": null,
      "outputs": []
    },
    {
      "cell_type": "code",
      "metadata": {
        "id": "kcBfI_rBrTrY",
        "colab_type": "code",
        "colab": {}
      },
      "source": [
        "# tbl = wd.find_element_by_xpath('//*[@id=\"ContentPlaceHolder1_gvInspHistory\"]').get_attribute('outerHTML')\n",
        "\n",
        "# df  = pd.read_html(tbl)"
      ],
      "execution_count": null,
      "outputs": []
    },
    {
      "cell_type": "code",
      "metadata": {
        "id": "laHz5eiqJ75q",
        "colab_type": "code",
        "colab": {}
      },
      "source": [
        "# df_final = df_final_1.copy() "
      ],
      "execution_count": null,
      "outputs": []
    },
    {
      "cell_type": "code",
      "metadata": {
        "id": "WR8PY5G1KAEs",
        "colab_type": "code",
        "colab": {}
      },
      "source": [
        "# df_final"
      ],
      "execution_count": null,
      "outputs": []
    },
    {
      "cell_type": "code",
      "metadata": {
        "id": "JrIsF4NYqXlS",
        "colab_type": "code",
        "colab": {}
      },
      "source": [
        "for zipcode in zip_list:\n",
        "  df_final = pd.DataFrame()\n",
        "  wd.get(url)\n",
        "  wd.find_element_by_xpath('//*[@id=\"ContentPlaceHolder1_ckZip\"]').click()\n",
        "  wd.find_element_by_xpath('//*[@id=\"ContentPlaceHolder1_txtZip5\"]').send_keys(str(zipcode))\n",
        "  wd.find_element_by_xpath('//*[@id=\"ContentPlaceHolder1_btSearch\"]').click()\n",
        "  time.sleep(10)\n",
        "  count = wd.find_element_by_xpath('//*[@id=\"ContentPlaceHolder1_lbCount\"]').text\n",
        "  count_no=count[13:]\n",
        "\n",
        "  if count_no==\"0\":\n",
        "    continue\n",
        "  else:\n",
        "    page=math.ceil(int(count_no)/20)\n",
        "    page_ten = math.ceil(page/10)\n",
        "\n",
        "    tbl = wd.find_element_by_xpath('//*[@id=\"ContentPlaceHolder1_gvInspHistory\"]').get_attribute('outerHTML')\n",
        "    table_list  = pd.read_html(tbl)\n",
        "    df = table_list[0]\n",
        "\n",
        "    df=df.iloc[2:-2, 1:10]\n",
        "\n",
        "    df.columns = df.iloc[0]\n",
        "    df.drop(2, inplace=True)\n",
        "\n",
        "    df_final = pd.concat([df_final, df], ignore_index=True)\n",
        "\n",
        "    for i in range(page_ten):\n",
        "        if i==0:\n",
        "            for j in range(2,12):\n",
        "                try:\n",
        "                    wd.find_element_by_xpath(f'//*[@id=\"ContentPlaceHolder1_gvInspHistory\"]/tbody/tr[1]/td/table/tbody/tr/td[{j}]/a').click()\n",
        "                    \n",
        "                    time.sleep(2)\n",
        "                    tbl = wd.find_element_by_xpath('//*[@id=\"ContentPlaceHolder1_gvInspHistory\"]').get_attribute('outerHTML')\n",
        "                    table_list  = pd.read_html(tbl)\n",
        "                    \n",
        "                    df = table_list[0]\n",
        "                    df=df.iloc[2:-2, 1:10]\n",
        "                    df.columns = df.iloc[0]\n",
        "                    df.drop(2, inplace=True)\n",
        "                    df_final = pd.concat([df_final, df], ignore_index=True)\n",
        "                except:\n",
        "                  print(\"error\")\n",
        "            continue  \n",
        "        elif page_ten-1>i>0:\n",
        "          for j in range(3,13):\n",
        "            try:\n",
        "                wd.find_element_by_xpath(f'//*[@id=\"ContentPlaceHolder1_gvInspHistory\"]/tbody/tr[1]/td/table/tbody/tr/td[{j}]/a').click()\n",
        "\n",
        "                time.sleep(2)\n",
        "\n",
        "                tbl = wd.find_element_by_xpath('//*[@id=\"ContentPlaceHolder1_gvInspHistory\"]').get_attribute('outerHTML')\n",
        "                table_list  = pd.read_html(tbl)\n",
        "                    \n",
        "                df = table_list[0]\n",
        "                df=df.iloc[2:-2, 1:10]\n",
        "                df.columns = df.iloc[0]\n",
        "                df.drop(2, inplace=True)\n",
        "\n",
        "                df_final = pd.concat([df_final, df], ignore_index=True)\n",
        "            except:\n",
        "              print(\"error\")\n",
        "          \n",
        "        elif i==page_ten-1:\n",
        "          x = 10-(page%10)+3\n",
        "\n",
        "          for j in range(x,12):\n",
        "            try:\n",
        "                wd.find_element_by_xpath(f'//*[@id=\"ContentPlaceHolder1_gvInspHistory\"]/tbody/tr[1]/td/table/tbody/tr/td[{j}]/a').click()\n",
        "\n",
        "                time.sleep(2)\n",
        "\n",
        "                tbl = wd.find_element_by_xpath('//*[@id=\"ContentPlaceHolder1_gvInspHistory\"]').get_attribute('outerHTML')\n",
        "                table_list  = pd.read_html(tbl)\n",
        "                    \n",
        "                df = table_list[0]\n",
        "                df=df.iloc[2:-2, 1:10]\n",
        "                df.columns = df.iloc[0]\n",
        "                df.drop(2, inplace=True)\n",
        "\n",
        "                df_final = pd.concat([df_final, df], ignore_index=True)\n",
        "            except:\n",
        "              print(\"error\")\n",
        "              \n",
        "  path = \"/content/drive/My Drive/Output/house_final_\" + str(zipcode) +\".csv\"\n",
        "  df_final.to_csv(path, index=False)"
      ],
      "execution_count": null,
      "outputs": []
    },
    {
      "cell_type": "code",
      "metadata": {
        "id": "CK0Fcb_hDwpe",
        "colab_type": "code",
        "colab": {
          "base_uri": "https://localhost:8080/",
          "height": 402
        },
        "outputId": "b45e8c90-b2c4-40c8-c756-115c1b2b6b19"
      },
      "source": [
        "df_final"
      ],
      "execution_count": null,
      "outputs": [
        {
          "output_type": "execute_result",
          "data": {
            "text/html": [
              "<div>\n",
              "<style scoped>\n",
              "    .dataframe tbody tr th:only-of-type {\n",
              "        vertical-align: middle;\n",
              "    }\n",
              "\n",
              "    .dataframe tbody tr th {\n",
              "        vertical-align: top;\n",
              "    }\n",
              "\n",
              "    .dataframe thead th {\n",
              "        text-align: right;\n",
              "    }\n",
              "</style>\n",
              "<table border=\"1\" class=\"dataframe\">\n",
              "  <thead>\n",
              "    <tr style=\"text-align: right;\">\n",
              "      <th>2</th>\n",
              "      <th>Reg#</th>\n",
              "      <th>Date Insp</th>\n",
              "      <th>License Print</th>\n",
              "      <th>Licensed</th>\n",
              "      <th>License Expiration Date</th>\n",
              "      <th>Valid Reg Year</th>\n",
              "      <th>Address</th>\n",
              "      <th>Zip</th>\n",
              "      <th>Block Lot</th>\n",
              "    </tr>\n",
              "  </thead>\n",
              "  <tbody>\n",
              "    <tr>\n",
              "      <th>0</th>\n",
              "      <td>101745</td>\n",
              "      <td>NaN</td>\n",
              "      <td>NaN</td>\n",
              "      <td>NaN</td>\n",
              "      <td>NaN</td>\n",
              "      <td>2003</td>\n",
              "      <td>335 N CHARLES ST</td>\n",
              "      <td>21201</td>\n",
              "      <td>2454 -059</td>\n",
              "    </tr>\n",
              "    <tr>\n",
              "      <th>1</th>\n",
              "      <td>204700</td>\n",
              "      <td>NaN</td>\n",
              "      <td>NaN</td>\n",
              "      <td>NaN</td>\n",
              "      <td>NaN</td>\n",
              "      <td>2006</td>\n",
              "      <td>100 S.CHARLES ST.</td>\n",
              "      <td>21201</td>\n",
              "      <td>5198 -079A</td>\n",
              "    </tr>\n",
              "    <tr>\n",
              "      <th>2</th>\n",
              "      <td>099442</td>\n",
              "      <td>08/29/2018</td>\n",
              "      <td>NaN</td>\n",
              "      <td>NaN</td>\n",
              "      <td>NaN</td>\n",
              "      <td>2020</td>\n",
              "      <td>2 ANDREW PL</td>\n",
              "      <td>21201</td>\n",
              "      <td>0868-080</td>\n",
              "    </tr>\n",
              "    <tr>\n",
              "      <th>3</th>\n",
              "      <td>066212</td>\n",
              "      <td>NaN</td>\n",
              "      <td>NaN</td>\n",
              "      <td>NaN</td>\n",
              "      <td>NaN</td>\n",
              "      <td>2017</td>\n",
              "      <td>27 ANDREW PL</td>\n",
              "      <td>21201</td>\n",
              "      <td>0868-074</td>\n",
              "    </tr>\n",
              "    <tr>\n",
              "      <th>4</th>\n",
              "      <td>078628</td>\n",
              "      <td>02/18/2019</td>\n",
              "      <td>03/12/2019</td>\n",
              "      <td>Y</td>\n",
              "      <td>02/18/2021</td>\n",
              "      <td>2019</td>\n",
              "      <td>6 ANDREW PL</td>\n",
              "      <td>21201</td>\n",
              "      <td>0868-079</td>\n",
              "    </tr>\n",
              "    <tr>\n",
              "      <th>...</th>\n",
              "      <td>...</td>\n",
              "      <td>...</td>\n",
              "      <td>...</td>\n",
              "      <td>...</td>\n",
              "      <td>...</td>\n",
              "      <td>...</td>\n",
              "      <td>...</td>\n",
              "      <td>...</td>\n",
              "      <td>...</td>\n",
              "    </tr>\n",
              "    <tr>\n",
              "      <th>1484</th>\n",
              "      <td>034218</td>\n",
              "      <td>NaN</td>\n",
              "      <td>NaN</td>\n",
              "      <td>NaN</td>\n",
              "      <td>NaN</td>\n",
              "      <td>2017</td>\n",
              "      <td>703 WEST CHERRY BLOSSOM WAY</td>\n",
              "      <td>21201</td>\n",
              "      <td>0571-026</td>\n",
              "    </tr>\n",
              "    <tr>\n",
              "      <th>1485</th>\n",
              "      <td>029741</td>\n",
              "      <td>11/11/2019</td>\n",
              "      <td>11/20/2019</td>\n",
              "      <td>Y</td>\n",
              "      <td>11/11/2021</td>\n",
              "      <td>2020</td>\n",
              "      <td>722 WEST CHERRY BLOSSOM WAY</td>\n",
              "      <td>21201</td>\n",
              "      <td>0571-013</td>\n",
              "    </tr>\n",
              "    <tr>\n",
              "      <th>1486</th>\n",
              "      <td>021993</td>\n",
              "      <td>08/23/2018</td>\n",
              "      <td>01/07/2020</td>\n",
              "      <td>Y</td>\n",
              "      <td>01/06/2022</td>\n",
              "      <td>2020</td>\n",
              "      <td>723 WEST CHERRY BLOSSOM WAY</td>\n",
              "      <td>21201</td>\n",
              "      <td>0571-036</td>\n",
              "    </tr>\n",
              "    <tr>\n",
              "      <th>1487</th>\n",
              "      <td>061525</td>\n",
              "      <td>NaN</td>\n",
              "      <td>NaN</td>\n",
              "      <td>NaN</td>\n",
              "      <td>NaN</td>\n",
              "      <td>2019</td>\n",
              "      <td>726-736 WEST CHERRY BLOSSOM WAY</td>\n",
              "      <td>21201</td>\n",
              "      <td>0571-039</td>\n",
              "    </tr>\n",
              "    <tr>\n",
              "      <th>1488</th>\n",
              "      <td>082029</td>\n",
              "      <td>11/22/2019</td>\n",
              "      <td>NaN</td>\n",
              "      <td>NaN</td>\n",
              "      <td>NaN</td>\n",
              "      <td>2017</td>\n",
              "      <td>715 WEST CHERRY BLOSSOM WAY</td>\n",
              "      <td>21201</td>\n",
              "      <td>0571-032</td>\n",
              "    </tr>\n",
              "  </tbody>\n",
              "</table>\n",
              "<p>1489 rows × 9 columns</p>\n",
              "</div>"
            ],
            "text/plain": [
              "2       Reg#   Date Insp  ...    Zip   Block Lot\n",
              "0     101745         NaN  ...  21201   2454 -059\n",
              "1     204700         NaN  ...  21201  5198 -079A\n",
              "2     099442  08/29/2018  ...  21201    0868-080\n",
              "3     066212         NaN  ...  21201    0868-074\n",
              "4     078628  02/18/2019  ...  21201    0868-079\n",
              "...      ...         ...  ...    ...         ...\n",
              "1484  034218         NaN  ...  21201    0571-026\n",
              "1485  029741  11/11/2019  ...  21201    0571-013\n",
              "1486  021993  08/23/2018  ...  21201    0571-036\n",
              "1487  061525         NaN  ...  21201    0571-039\n",
              "1488  082029  11/22/2019  ...  21201    0571-032\n",
              "\n",
              "[1489 rows x 9 columns]"
            ]
          },
          "metadata": {
            "tags": []
          },
          "execution_count": 22
        }
      ]
    },
    {
      "cell_type": "code",
      "metadata": {
        "id": "8UJBZXMXbFUp",
        "colab_type": "code",
        "colab": {}
      },
      "source": [
        "df_final.to_csv(\"/content/drive/My Drive/Output/house_final.csv\", index=False)"
      ],
      "execution_count": null,
      "outputs": []
    },
    {
      "cell_type": "markdown",
      "metadata": {
        "id": "MIyUHMIMU-ed",
        "colab_type": "text"
      },
      "source": [
        "\n",
        "\n",
        "```\n",
        "function ClickConnect(){\n",
        "console.log(\"Working\"); \n",
        "document\n",
        "  .querySelector('#top-toolbar > colab-connect-button')\n",
        "  .shadowRoot.querySelector('#connect')\n",
        "  .click() \n",
        "}\n",
        "setInterval(ClickConnect,60000)\n",
        "```\n",
        "\n"
      ]
    },
    {
      "cell_type": "code",
      "metadata": {
        "id": "ftWuJ4ehwnYt",
        "colab_type": "code",
        "colab": {}
      },
      "source": [
        "import os\n",
        "import pandas as pd"
      ],
      "execution_count": null,
      "outputs": []
    },
    {
      "cell_type": "code",
      "metadata": {
        "id": "Euu9-WoH1tz7",
        "colab_type": "code",
        "colab": {}
      },
      "source": [
        "folder_path=\"/content/drive/My Drive/Output/\"\n",
        "folder = os.listdir(folder_path)"
      ],
      "execution_count": null,
      "outputs": []
    },
    {
      "cell_type": "code",
      "metadata": {
        "id": "DzrNWskJ1t53",
        "colab_type": "code",
        "colab": {}
      },
      "source": [
        "df = pd.DataFrame()\n",
        "for file in folder:\n",
        "  df_temp= pd.read_csv(os.path.join(folder_path, file))\n",
        "  df = pd.concat([df, df_temp], ignore_index=True)"
      ],
      "execution_count": null,
      "outputs": []
    },
    {
      "cell_type": "code",
      "metadata": {
        "id": "4CK3ks5q1t2t",
        "colab_type": "code",
        "colab": {
          "base_uri": "https://localhost:8080/",
          "height": 402
        },
        "outputId": "813584ba-98de-4eb8-b489-c9fbaa2721a1"
      },
      "source": [
        "df"
      ],
      "execution_count": null,
      "outputs": [
        {
          "output_type": "execute_result",
          "data": {
            "text/html": [
              "<div>\n",
              "<style scoped>\n",
              "    .dataframe tbody tr th:only-of-type {\n",
              "        vertical-align: middle;\n",
              "    }\n",
              "\n",
              "    .dataframe tbody tr th {\n",
              "        vertical-align: top;\n",
              "    }\n",
              "\n",
              "    .dataframe thead th {\n",
              "        text-align: right;\n",
              "    }\n",
              "</style>\n",
              "<table border=\"1\" class=\"dataframe\">\n",
              "  <thead>\n",
              "    <tr style=\"text-align: right;\">\n",
              "      <th></th>\n",
              "      <th>Reg#</th>\n",
              "      <th>Date Insp</th>\n",
              "      <th>License Print</th>\n",
              "      <th>Licensed</th>\n",
              "      <th>License Expiration Date</th>\n",
              "      <th>Valid Reg Year</th>\n",
              "      <th>Address</th>\n",
              "      <th>Zip</th>\n",
              "      <th>Block Lot</th>\n",
              "    </tr>\n",
              "  </thead>\n",
              "  <tbody>\n",
              "    <tr>\n",
              "      <th>0</th>\n",
              "      <td>1341</td>\n",
              "      <td>NaN</td>\n",
              "      <td>NaN</td>\n",
              "      <td>NaN</td>\n",
              "      <td>NaN</td>\n",
              "      <td>2012.0</td>\n",
              "      <td>1209 E 43RD ST</td>\n",
              "      <td>21239</td>\n",
              "      <td>5208-005</td>\n",
              "    </tr>\n",
              "    <tr>\n",
              "      <th>1</th>\n",
              "      <td>80460</td>\n",
              "      <td>NaN</td>\n",
              "      <td>NaN</td>\n",
              "      <td>NaN</td>\n",
              "      <td>NaN</td>\n",
              "      <td>2017.0</td>\n",
              "      <td>1201 E 43RD ST</td>\n",
              "      <td>21239</td>\n",
              "      <td>5208-001</td>\n",
              "    </tr>\n",
              "    <tr>\n",
              "      <th>2</th>\n",
              "      <td>501011</td>\n",
              "      <td>12/28/2018</td>\n",
              "      <td>NaN</td>\n",
              "      <td>NaN</td>\n",
              "      <td>NaN</td>\n",
              "      <td>2017.0</td>\n",
              "      <td>1205 E 43RD ST</td>\n",
              "      <td>21239</td>\n",
              "      <td>5208-003</td>\n",
              "    </tr>\n",
              "    <tr>\n",
              "      <th>3</th>\n",
              "      <td>933880</td>\n",
              "      <td>05/09/2020</td>\n",
              "      <td>05/12/2020</td>\n",
              "      <td>Y</td>\n",
              "      <td>05/09/2022</td>\n",
              "      <td>2020.0</td>\n",
              "      <td>1105 E 43RD ST</td>\n",
              "      <td>21239</td>\n",
              "      <td>5207-001B</td>\n",
              "    </tr>\n",
              "    <tr>\n",
              "      <th>4</th>\n",
              "      <td>934891</td>\n",
              "      <td>05/09/2020</td>\n",
              "      <td>05/12/2020</td>\n",
              "      <td>Y</td>\n",
              "      <td>05/09/2022</td>\n",
              "      <td>2020.0</td>\n",
              "      <td>1103 E 43RD ST</td>\n",
              "      <td>21239</td>\n",
              "      <td>5207-001A</td>\n",
              "    </tr>\n",
              "    <tr>\n",
              "      <th>...</th>\n",
              "      <td>...</td>\n",
              "      <td>...</td>\n",
              "      <td>...</td>\n",
              "      <td>...</td>\n",
              "      <td>...</td>\n",
              "      <td>...</td>\n",
              "      <td>...</td>\n",
              "      <td>...</td>\n",
              "      <td>...</td>\n",
              "    </tr>\n",
              "    <tr>\n",
              "      <th>75653</th>\n",
              "      <td>64202</td>\n",
              "      <td>08/12/2018</td>\n",
              "      <td>NaN</td>\n",
              "      <td>NaN</td>\n",
              "      <td>NaN</td>\n",
              "      <td>2020.0</td>\n",
              "      <td>514 UMBRA ST</td>\n",
              "      <td>21224</td>\n",
              "      <td>6629C-052</td>\n",
              "    </tr>\n",
              "    <tr>\n",
              "      <th>75654</th>\n",
              "      <td>59864</td>\n",
              "      <td>10/22/2018</td>\n",
              "      <td>02/19/2019</td>\n",
              "      <td>Y</td>\n",
              "      <td>10/22/2020</td>\n",
              "      <td>2019.0</td>\n",
              "      <td>724 UMBRA ST</td>\n",
              "      <td>21224</td>\n",
              "      <td>6694E-051</td>\n",
              "    </tr>\n",
              "    <tr>\n",
              "      <th>75655</th>\n",
              "      <td>39188</td>\n",
              "      <td>NaN</td>\n",
              "      <td>NaN</td>\n",
              "      <td>NaN</td>\n",
              "      <td>NaN</td>\n",
              "      <td>2017.0</td>\n",
              "      <td>605 UMBRA ST</td>\n",
              "      <td>21224</td>\n",
              "      <td>6629D-017</td>\n",
              "    </tr>\n",
              "    <tr>\n",
              "      <th>75656</th>\n",
              "      <td>56138</td>\n",
              "      <td>NaN</td>\n",
              "      <td>NaN</td>\n",
              "      <td>NaN</td>\n",
              "      <td>NaN</td>\n",
              "      <td>2019.0</td>\n",
              "      <td>2211 VAN DEMAN ST</td>\n",
              "      <td>21224</td>\n",
              "      <td>6923 -010</td>\n",
              "    </tr>\n",
              "    <tr>\n",
              "      <th>75657</th>\n",
              "      <td>90715</td>\n",
              "      <td>NaN</td>\n",
              "      <td>NaN</td>\n",
              "      <td>NaN</td>\n",
              "      <td>NaN</td>\n",
              "      <td>2016.0</td>\n",
              "      <td>1303 WISE CT</td>\n",
              "      <td>21224</td>\n",
              "      <td>6491-051B</td>\n",
              "    </tr>\n",
              "  </tbody>\n",
              "</table>\n",
              "<p>75658 rows × 9 columns</p>\n",
              "</div>"
            ],
            "text/plain": [
              "         Reg#   Date Insp License Print  ...            Address    Zip  Block Lot\n",
              "0        1341         NaN           NaN  ...     1209 E 43RD ST  21239   5208-005\n",
              "1       80460         NaN           NaN  ...     1201 E 43RD ST  21239   5208-001\n",
              "2      501011  12/28/2018           NaN  ...     1205 E 43RD ST  21239   5208-003\n",
              "3      933880  05/09/2020    05/12/2020  ...     1105 E 43RD ST  21239  5207-001B\n",
              "4      934891  05/09/2020    05/12/2020  ...     1103 E 43RD ST  21239  5207-001A\n",
              "...       ...         ...           ...  ...                ...    ...        ...\n",
              "75653   64202  08/12/2018           NaN  ...       514 UMBRA ST  21224  6629C-052\n",
              "75654   59864  10/22/2018    02/19/2019  ...       724 UMBRA ST  21224  6694E-051\n",
              "75655   39188         NaN           NaN  ...       605 UMBRA ST  21224  6629D-017\n",
              "75656   56138         NaN           NaN  ...  2211 VAN DEMAN ST  21224  6923 -010\n",
              "75657   90715         NaN           NaN  ...       1303 WISE CT  21224  6491-051B\n",
              "\n",
              "[75658 rows x 9 columns]"
            ]
          },
          "metadata": {
            "tags": []
          },
          "execution_count": 39
        }
      ]
    },
    {
      "cell_type": "code",
      "metadata": {
        "id": "x4QATx1e1tVF",
        "colab_type": "code",
        "colab": {}
      },
      "source": [
        "df.to_csv(\"/content/drive/My Drive/Output/house_final.csv\", index=False)"
      ],
      "execution_count": null,
      "outputs": []
    },
    {
      "cell_type": "code",
      "metadata": {
        "id": "cFA9hmA71std",
        "colab_type": "code",
        "colab": {}
      },
      "source": [
        ""
      ],
      "execution_count": null,
      "outputs": []
    },
    {
      "cell_type": "code",
      "metadata": {
        "id": "jgg5cDUN1sqY",
        "colab_type": "code",
        "colab": {}
      },
      "source": [
        ""
      ],
      "execution_count": null,
      "outputs": []
    }
  ]
}