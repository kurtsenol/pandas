{
  "nbformat": 4,
  "nbformat_minor": 0,
  "metadata": {
    "colab": {
      "name": "webscraping_selenium_email_1.ipynb",
      "provenance": [],
      "collapsed_sections": [],
      "mount_file_id": "1EjfHzCH4oIjr918FvzNf3fxh9u2KWg0-",
      "authorship_tag": "ABX9TyNG8Q9BqmnluBCQIQPCZAWV",
      "include_colab_link": true
    },
    "kernelspec": {
      "name": "python3",
      "display_name": "Python 3"
    }
  },
  "cells": [
    {
      "cell_type": "markdown",
      "metadata": {
        "id": "view-in-github",
        "colab_type": "text"
      },
      "source": [
        "<a href=\"https://colab.research.google.com/github/kurtsenol/pandas/blob/master/WebScraping/webscraping_selenium_email_1.ipynb\" target=\"_parent\"><img src=\"https://colab.research.google.com/assets/colab-badge.svg\" alt=\"Open In Colab\"/></a>"
      ]
    },
    {
      "cell_type": "markdown",
      "metadata": {
        "id": "D9r5oauKZd7V",
        "colab_type": "text"
      },
      "source": [
        "# WEB SCRAPING"
      ]
    },
    {
      "cell_type": "code",
      "metadata": {
        "id": "O8uHDU5VbxUv",
        "colab_type": "code",
        "colab": {
          "base_uri": "https://localhost:8080/",
          "height": 1000
        },
        "outputId": "793bf19d-0c04-40f8-ef1d-6ed2d8526271"
      },
      "source": [
        "!pip install selenium\n",
        "!apt-get update # to update ubuntu to correctly run apt install\n",
        "!apt install chromium-chromedriver\n",
        "!cp /usr/lib/chromium-browser/chromedriver /usr/bin\n",
        "import sys\n",
        "sys.path.insert(0,'/usr/lib/chromium-browser/chromedriver')\n",
        "from selenium import webdriver\n",
        "chrome_options = webdriver.ChromeOptions()\n",
        "chrome_options.add_argument('--headless')\n",
        "chrome_options.add_argument('--no-sandbox')\n",
        "chrome_options.add_argument('--disable-dev-shm-usage')\n",
        "\n",
        "\n",
        "user_agent = 'Mozilla/5.0 (X11; Linux x86_64) AppleWebKit/537.36 (KHTML, like Gecko) Chrome/60.0.3112.50 Safari/537.36'\n",
        "chrome_options.add_argument(f'user-agent={user_agent}')\n",
        "\n",
        "\n",
        "wd = webdriver.Chrome('chromedriver',chrome_options=chrome_options)"
      ],
      "execution_count": null,
      "outputs": [
        {
          "output_type": "stream",
          "text": [
            "Collecting selenium\n",
            "\u001b[?25l  Downloading https://files.pythonhosted.org/packages/80/d6/4294f0b4bce4de0abf13e17190289f9d0613b0a44e5dd6a7f5ca98459853/selenium-3.141.0-py2.py3-none-any.whl (904kB)\n",
            "\r\u001b[K     |▍                               | 10kB 15.1MB/s eta 0:00:01\r\u001b[K     |▊                               | 20kB 6.9MB/s eta 0:00:01\r\u001b[K     |█                               | 30kB 6.7MB/s eta 0:00:01\r\u001b[K     |█▌                              | 40kB 5.7MB/s eta 0:00:01\r\u001b[K     |█▉                              | 51kB 4.8MB/s eta 0:00:01\r\u001b[K     |██▏                             | 61kB 4.5MB/s eta 0:00:01\r\u001b[K     |██▌                             | 71kB 4.7MB/s eta 0:00:01\r\u001b[K     |███                             | 81kB 4.5MB/s eta 0:00:01\r\u001b[K     |███▎                            | 92kB 4.5MB/s eta 0:00:01\r\u001b[K     |███▋                            | 102kB 4.6MB/s eta 0:00:01\r\u001b[K     |████                            | 112kB 4.6MB/s eta 0:00:01\r\u001b[K     |████▍                           | 122kB 4.6MB/s eta 0:00:01\r\u001b[K     |████▊                           | 133kB 4.6MB/s eta 0:00:01\r\u001b[K     |█████                           | 143kB 4.6MB/s eta 0:00:01\r\u001b[K     |█████▍                          | 153kB 4.6MB/s eta 0:00:01\r\u001b[K     |█████▉                          | 163kB 4.6MB/s eta 0:00:01\r\u001b[K     |██████▏                         | 174kB 4.6MB/s eta 0:00:01\r\u001b[K     |██████▌                         | 184kB 4.6MB/s eta 0:00:01\r\u001b[K     |██████▉                         | 194kB 4.6MB/s eta 0:00:01\r\u001b[K     |███████▎                        | 204kB 4.6MB/s eta 0:00:01\r\u001b[K     |███████▋                        | 215kB 4.6MB/s eta 0:00:01\r\u001b[K     |████████                        | 225kB 4.6MB/s eta 0:00:01\r\u001b[K     |████████▎                       | 235kB 4.6MB/s eta 0:00:01\r\u001b[K     |████████▊                       | 245kB 4.6MB/s eta 0:00:01\r\u001b[K     |█████████                       | 256kB 4.6MB/s eta 0:00:01\r\u001b[K     |█████████▍                      | 266kB 4.6MB/s eta 0:00:01\r\u001b[K     |█████████▉                      | 276kB 4.6MB/s eta 0:00:01\r\u001b[K     |██████████▏                     | 286kB 4.6MB/s eta 0:00:01\r\u001b[K     |██████████▌                     | 296kB 4.6MB/s eta 0:00:01\r\u001b[K     |██████████▉                     | 307kB 4.6MB/s eta 0:00:01\r\u001b[K     |███████████▎                    | 317kB 4.6MB/s eta 0:00:01\r\u001b[K     |███████████▋                    | 327kB 4.6MB/s eta 0:00:01\r\u001b[K     |████████████                    | 337kB 4.6MB/s eta 0:00:01\r\u001b[K     |████████████▎                   | 348kB 4.6MB/s eta 0:00:01\r\u001b[K     |████████████▊                   | 358kB 4.6MB/s eta 0:00:01\r\u001b[K     |█████████████                   | 368kB 4.6MB/s eta 0:00:01\r\u001b[K     |█████████████▍                  | 378kB 4.6MB/s eta 0:00:01\r\u001b[K     |█████████████▊                  | 389kB 4.6MB/s eta 0:00:01\r\u001b[K     |██████████████▏                 | 399kB 4.6MB/s eta 0:00:01\r\u001b[K     |██████████████▌                 | 409kB 4.6MB/s eta 0:00:01\r\u001b[K     |██████████████▉                 | 419kB 4.6MB/s eta 0:00:01\r\u001b[K     |███████████████▏                | 430kB 4.6MB/s eta 0:00:01\r\u001b[K     |███████████████▋                | 440kB 4.6MB/s eta 0:00:01\r\u001b[K     |████████████████                | 450kB 4.6MB/s eta 0:00:01\r\u001b[K     |████████████████▎               | 460kB 4.6MB/s eta 0:00:01\r\u001b[K     |████████████████▋               | 471kB 4.6MB/s eta 0:00:01\r\u001b[K     |█████████████████               | 481kB 4.6MB/s eta 0:00:01\r\u001b[K     |█████████████████▍              | 491kB 4.6MB/s eta 0:00:01\r\u001b[K     |█████████████████▊              | 501kB 4.6MB/s eta 0:00:01\r\u001b[K     |██████████████████▏             | 512kB 4.6MB/s eta 0:00:01\r\u001b[K     |██████████████████▌             | 522kB 4.6MB/s eta 0:00:01\r\u001b[K     |██████████████████▉             | 532kB 4.6MB/s eta 0:00:01\r\u001b[K     |███████████████████▏            | 542kB 4.6MB/s eta 0:00:01\r\u001b[K     |███████████████████▋            | 552kB 4.6MB/s eta 0:00:01\r\u001b[K     |████████████████████            | 563kB 4.6MB/s eta 0:00:01\r\u001b[K     |████████████████████▎           | 573kB 4.6MB/s eta 0:00:01\r\u001b[K     |████████████████████▋           | 583kB 4.6MB/s eta 0:00:01\r\u001b[K     |█████████████████████           | 593kB 4.6MB/s eta 0:00:01\r\u001b[K     |█████████████████████▍          | 604kB 4.6MB/s eta 0:00:01\r\u001b[K     |█████████████████████▊          | 614kB 4.6MB/s eta 0:00:01\r\u001b[K     |██████████████████████          | 624kB 4.6MB/s eta 0:00:01\r\u001b[K     |██████████████████████▌         | 634kB 4.6MB/s eta 0:00:01\r\u001b[K     |██████████████████████▉         | 645kB 4.6MB/s eta 0:00:01\r\u001b[K     |███████████████████████▏        | 655kB 4.6MB/s eta 0:00:01\r\u001b[K     |███████████████████████▌        | 665kB 4.6MB/s eta 0:00:01\r\u001b[K     |████████████████████████        | 675kB 4.6MB/s eta 0:00:01\r\u001b[K     |████████████████████████▎       | 686kB 4.6MB/s eta 0:00:01\r\u001b[K     |████████████████████████▋       | 696kB 4.6MB/s eta 0:00:01\r\u001b[K     |█████████████████████████       | 706kB 4.6MB/s eta 0:00:01\r\u001b[K     |█████████████████████████▍      | 716kB 4.6MB/s eta 0:00:01\r\u001b[K     |█████████████████████████▊      | 727kB 4.6MB/s eta 0:00:01\r\u001b[K     |██████████████████████████      | 737kB 4.6MB/s eta 0:00:01\r\u001b[K     |██████████████████████████▍     | 747kB 4.6MB/s eta 0:00:01\r\u001b[K     |██████████████████████████▉     | 757kB 4.6MB/s eta 0:00:01\r\u001b[K     |███████████████████████████▏    | 768kB 4.6MB/s eta 0:00:01\r\u001b[K     |███████████████████████████▌    | 778kB 4.6MB/s eta 0:00:01\r\u001b[K     |████████████████████████████    | 788kB 4.6MB/s eta 0:00:01\r\u001b[K     |████████████████████████████▎   | 798kB 4.6MB/s eta 0:00:01\r\u001b[K     |████████████████████████████▋   | 808kB 4.6MB/s eta 0:00:01\r\u001b[K     |█████████████████████████████   | 819kB 4.6MB/s eta 0:00:01\r\u001b[K     |█████████████████████████████▍  | 829kB 4.6MB/s eta 0:00:01\r\u001b[K     |█████████████████████████████▊  | 839kB 4.6MB/s eta 0:00:01\r\u001b[K     |██████████████████████████████  | 849kB 4.6MB/s eta 0:00:01\r\u001b[K     |██████████████████████████████▍ | 860kB 4.6MB/s eta 0:00:01\r\u001b[K     |██████████████████████████████▉ | 870kB 4.6MB/s eta 0:00:01\r\u001b[K     |███████████████████████████████▏| 880kB 4.6MB/s eta 0:00:01\r\u001b[K     |███████████████████████████████▌| 890kB 4.6MB/s eta 0:00:01\r\u001b[K     |███████████████████████████████▉| 901kB 4.6MB/s eta 0:00:01\r\u001b[K     |████████████████████████████████| 911kB 4.6MB/s \n",
            "\u001b[?25hRequirement already satisfied: urllib3 in /usr/local/lib/python3.6/dist-packages (from selenium) (1.24.3)\n",
            "Installing collected packages: selenium\n",
            "Successfully installed selenium-3.141.0\n",
            "Get:1 http://ppa.launchpad.net/graphics-drivers/ppa/ubuntu bionic InRelease [21.3 kB]\n",
            "Hit:2 http://archive.ubuntu.com/ubuntu bionic InRelease\n",
            "Get:3 http://archive.ubuntu.com/ubuntu bionic-updates InRelease [88.7 kB]\n",
            "Get:4 https://cloud.r-project.org/bin/linux/ubuntu bionic-cran35/ InRelease [3,626 B]\n",
            "Get:5 http://ppa.launchpad.net/marutter/c2d4u3.5/ubuntu bionic InRelease [15.4 kB]\n",
            "Get:6 http://archive.ubuntu.com/ubuntu bionic-backports InRelease [74.6 kB]\n",
            "Get:7 http://security.ubuntu.com/ubuntu bionic-security InRelease [88.7 kB]\n",
            "Ign:8 https://developer.download.nvidia.com/compute/cuda/repos/ubuntu1804/x86_64  InRelease\n",
            "Ign:9 https://developer.download.nvidia.com/compute/machine-learning/repos/ubuntu1804/x86_64  InRelease\n",
            "Hit:10 https://developer.download.nvidia.com/compute/cuda/repos/ubuntu1804/x86_64  Release\n",
            "Get:11 https://developer.download.nvidia.com/compute/machine-learning/repos/ubuntu1804/x86_64  Release [564 B]\n",
            "Get:12 https://developer.download.nvidia.com/compute/machine-learning/repos/ubuntu1804/x86_64  Release.gpg [833 B]\n",
            "Get:13 https://cloud.r-project.org/bin/linux/ubuntu bionic-cran35/ Packages [96.1 kB]\n",
            "Get:14 http://ppa.launchpad.net/graphics-drivers/ppa/ubuntu bionic/main amd64 Packages [43.0 kB]\n",
            "Get:15 http://archive.ubuntu.com/ubuntu bionic-updates/main amd64 Packages [1,384 kB]\n",
            "Get:16 http://archive.ubuntu.com/ubuntu bionic-updates/restricted amd64 Packages [132 kB]\n",
            "Get:17 http://archive.ubuntu.com/ubuntu bionic-updates/multiverse amd64 Packages [27.7 kB]\n",
            "Get:18 http://archive.ubuntu.com/ubuntu bionic-updates/universe amd64 Packages [1,425 kB]\n",
            "Get:19 http://ppa.launchpad.net/marutter/c2d4u3.5/ubuntu bionic/main Sources [1,867 kB]\n",
            "Get:20 http://ppa.launchpad.net/marutter/c2d4u3.5/ubuntu bionic/main amd64 Packages [901 kB]\n",
            "Get:22 http://security.ubuntu.com/ubuntu bionic-security/main amd64 Packages [1,089 kB]\n",
            "Get:23 https://developer.download.nvidia.com/compute/machine-learning/repos/ubuntu1804/x86_64  Packages [47.5 kB]\n",
            "Get:24 http://security.ubuntu.com/ubuntu bionic-security/restricted amd64 Packages [116 kB]\n",
            "Get:25 http://security.ubuntu.com/ubuntu bionic-security/multiverse amd64 Packages [10.1 kB]\n",
            "Get:26 http://security.ubuntu.com/ubuntu bionic-security/universe amd64 Packages [897 kB]\n",
            "Fetched 8,331 kB in 2s (3,484 kB/s)\n",
            "Reading package lists... Done\n",
            "Reading package lists... Done\n",
            "Building dependency tree       \n",
            "Reading state information... Done\n",
            "The following package was automatically installed and is no longer required:\n",
            "  libnvidia-common-440\n",
            "Use 'apt autoremove' to remove it.\n",
            "The following additional packages will be installed:\n",
            "  chromium-browser chromium-browser-l10n chromium-codecs-ffmpeg-extra\n",
            "Suggested packages:\n",
            "  webaccounts-chromium-extension unity-chromium-extension adobe-flashplugin\n",
            "The following NEW packages will be installed:\n",
            "  chromium-browser chromium-browser-l10n chromium-chromedriver\n",
            "  chromium-codecs-ffmpeg-extra\n",
            "0 upgraded, 4 newly installed, 0 to remove and 77 not upgraded.\n",
            "Need to get 79.2 MB of archives.\n",
            "After this operation, 268 MB of additional disk space will be used.\n",
            "Get:1 http://archive.ubuntu.com/ubuntu bionic-updates/universe amd64 chromium-codecs-ffmpeg-extra amd64 85.0.4183.83-0ubuntu0.18.04.2 [1,118 kB]\n",
            "Get:2 http://archive.ubuntu.com/ubuntu bionic-updates/universe amd64 chromium-browser amd64 85.0.4183.83-0ubuntu0.18.04.2 [70.3 MB]\n",
            "Get:3 http://archive.ubuntu.com/ubuntu bionic-updates/universe amd64 chromium-browser-l10n all 85.0.4183.83-0ubuntu0.18.04.2 [3,431 kB]\n",
            "Get:4 http://archive.ubuntu.com/ubuntu bionic-updates/universe amd64 chromium-chromedriver amd64 85.0.4183.83-0ubuntu0.18.04.2 [4,412 kB]\n",
            "Fetched 79.2 MB in 1s (66.9 MB/s)\n",
            "Selecting previously unselected package chromium-codecs-ffmpeg-extra.\n",
            "(Reading database ... 144579 files and directories currently installed.)\n",
            "Preparing to unpack .../chromium-codecs-ffmpeg-extra_85.0.4183.83-0ubuntu0.18.04.2_amd64.deb ...\n",
            "Unpacking chromium-codecs-ffmpeg-extra (85.0.4183.83-0ubuntu0.18.04.2) ...\n",
            "Selecting previously unselected package chromium-browser.\n",
            "Preparing to unpack .../chromium-browser_85.0.4183.83-0ubuntu0.18.04.2_amd64.deb ...\n",
            "Unpacking chromium-browser (85.0.4183.83-0ubuntu0.18.04.2) ...\n",
            "Selecting previously unselected package chromium-browser-l10n.\n",
            "Preparing to unpack .../chromium-browser-l10n_85.0.4183.83-0ubuntu0.18.04.2_all.deb ...\n",
            "Unpacking chromium-browser-l10n (85.0.4183.83-0ubuntu0.18.04.2) ...\n",
            "Selecting previously unselected package chromium-chromedriver.\n",
            "Preparing to unpack .../chromium-chromedriver_85.0.4183.83-0ubuntu0.18.04.2_amd64.deb ...\n",
            "Unpacking chromium-chromedriver (85.0.4183.83-0ubuntu0.18.04.2) ...\n",
            "Setting up chromium-codecs-ffmpeg-extra (85.0.4183.83-0ubuntu0.18.04.2) ...\n",
            "Setting up chromium-browser (85.0.4183.83-0ubuntu0.18.04.2) ...\n",
            "update-alternatives: using /usr/bin/chromium-browser to provide /usr/bin/x-www-browser (x-www-browser) in auto mode\n",
            "update-alternatives: using /usr/bin/chromium-browser to provide /usr/bin/gnome-www-browser (gnome-www-browser) in auto mode\n",
            "Setting up chromium-chromedriver (85.0.4183.83-0ubuntu0.18.04.2) ...\n",
            "Setting up chromium-browser-l10n (85.0.4183.83-0ubuntu0.18.04.2) ...\n",
            "Processing triggers for hicolor-icon-theme (0.17-2) ...\n",
            "Processing triggers for mime-support (3.60ubuntu1) ...\n",
            "Processing triggers for man-db (2.8.3-2ubuntu0.1) ...\n",
            "cp: '/usr/lib/chromium-browser/chromedriver' and '/usr/bin/chromedriver' are the same file\n"
          ],
          "name": "stdout"
        },
        {
          "output_type": "stream",
          "text": [
            "/usr/local/lib/python3.6/dist-packages/ipykernel_launcher.py:18: DeprecationWarning: use options instead of chrome_options\n"
          ],
          "name": "stderr"
        }
      ]
    },
    {
      "cell_type": "code",
      "metadata": {
        "id": "tREkyjjnqXX2",
        "colab_type": "code",
        "colab": {}
      },
      "source": [
        "### FIND ELEMENTS\n",
        "\n",
        "# h1 = driver.find_element_by_name('h1')\n",
        "# h1 = driver.find_element_by_class_name('someclass')\n",
        "# h1 = driver.find_element_by_xpath('//h1')\n",
        "# h1 = driver.find_element_by_id('greatID')\n",
        "\n",
        "# all_links = driver.find_elements_by_tag_name('a')"
      ],
      "execution_count": null,
      "outputs": []
    },
    {
      "cell_type": "code",
      "metadata": {
        "id": "yoWa10SmrcXt",
        "colab_type": "code",
        "colab": {}
      },
      "source": [
        "### WebElement\n",
        "\n",
        "# driver.get(\"https://news.ycombinator.com/login\")\n",
        "\n",
        "# login = driver.find_element_by_xpath(\"//input\").send_keys(USERNAME)\n",
        "# password = driver.find_element_by_xpath(\"//input[@type='password']\").send_keys(PASSWORD)\n",
        "# submit = driver.find_element_by_xpath(\"//input[@value='login']\").click()"
      ],
      "execution_count": null,
      "outputs": []
    },
    {
      "cell_type": "code",
      "metadata": {
        "id": "_THBqJo3roU4",
        "colab_type": "code",
        "colab": {}
      },
      "source": [
        "### Taking a screenshot\n",
        "\n",
        "# driver.save_screenshot('screenshot.png')"
      ],
      "execution_count": null,
      "outputs": []
    },
    {
      "cell_type": "code",
      "metadata": {
        "id": "CZoFd6ihruK_",
        "colab_type": "code",
        "colab": {}
      },
      "source": [
        "### Executing Javascript\n",
        "\n",
        "# javaScript = \"window.scrollBy(0,1000);\"\n",
        "# driver.execute_script(javaScript)"
      ],
      "execution_count": null,
      "outputs": []
    },
    {
      "cell_type": "code",
      "metadata": {
        "id": "HX6bRqXqr8Lo",
        "colab_type": "code",
        "colab": {}
      },
      "source": [
        "### Waiting for an element to be present\n",
        "\n",
        "# try:\n",
        "#     element = WebDriverWait(driver, 5).until(\n",
        "#         EC.presence_of_element_located((By.ID, \"mySuperId\"))\n",
        "#     )\n",
        "# finally:\n",
        "#     driver.quit()"
      ],
      "execution_count": null,
      "outputs": []
    },
    {
      "cell_type": "code",
      "metadata": {
        "id": "JrIsF4NYqXlS",
        "colab_type": "code",
        "colab": {}
      },
      "source": [
        "import re\n",
        "import pandas as pd\n",
        "import numpy as np"
      ],
      "execution_count": null,
      "outputs": []
    },
    {
      "cell_type": "code",
      "metadata": {
        "id": "sn2s2U27cE9x",
        "colab_type": "code",
        "colab": {
          "base_uri": "https://localhost:8080/",
          "height": 570
        },
        "outputId": "fcd3cf2a-e46b-4140-d2d2-6f1f93e36ecb"
      },
      "source": [
        "df_merged = pd.read_csv(\"/content/drive/My Drive/pub_merged.csv\")\n",
        "df_merged"
      ],
      "execution_count": null,
      "outputs": [
        {
          "output_type": "execute_result",
          "data": {
            "text/html": [
              "<div>\n",
              "<style scoped>\n",
              "    .dataframe tbody tr th:only-of-type {\n",
              "        vertical-align: middle;\n",
              "    }\n",
              "\n",
              "    .dataframe tbody tr th {\n",
              "        vertical-align: top;\n",
              "    }\n",
              "\n",
              "    .dataframe thead th {\n",
              "        text-align: right;\n",
              "    }\n",
              "</style>\n",
              "<table border=\"1\" class=\"dataframe\">\n",
              "  <thead>\n",
              "    <tr style=\"text-align: right;\">\n",
              "      <th></th>\n",
              "      <th>Name</th>\n",
              "      <th>Url</th>\n",
              "      <th>Address</th>\n",
              "      <th>Telephone</th>\n",
              "      <th>Web</th>\n",
              "    </tr>\n",
              "  </thead>\n",
              "  <tbody>\n",
              "    <tr>\n",
              "      <th>0</th>\n",
              "      <td>Bridge Inn</td>\n",
              "      <td>https://thegoodpubguide.co.uk/pub/hr2+0jw/brid...</td>\n",
              "      <td>Bridge Inn, Michaelchurch Escley, Hereford, He...</td>\n",
              "      <td>(01981) 510646</td>\n",
              "      <td>www.thebridgeinnmichaelchurch.co.uk</td>\n",
              "    </tr>\n",
              "    <tr>\n",
              "      <th>1</th>\n",
              "      <td>Fox Goes Free</td>\n",
              "      <td>https://thegoodpubguide.co.uk/pub/po18+0hu/fox...</td>\n",
              "      <td>Fox Goes Free, Charlton, Chichester, Sussex, P...</td>\n",
              "      <td>(01243) 811461</td>\n",
              "      <td>www.thefoxgoesfree.com</td>\n",
              "    </tr>\n",
              "    <tr>\n",
              "      <th>2</th>\n",
              "      <td>Bull</td>\n",
              "      <td>https://thegoodpubguide.co.uk/pub/sg14+3sb/bull/</td>\n",
              "      <td>Bull, 113 High Street, Watton At Stone, Hertfo...</td>\n",
              "      <td>(01920) 831032</td>\n",
              "      <td>www.thebullwatton.co.uk</td>\n",
              "    </tr>\n",
              "    <tr>\n",
              "      <th>3</th>\n",
              "      <td>Kilchrenan Inn</td>\n",
              "      <td>https://thegoodpubguide.co.uk/pub/pa35+1hd/kil...</td>\n",
              "      <td>Kilchrenan Inn, Kilchrenan, Taynuilt, Scotland...</td>\n",
              "      <td>(01866) 833000</td>\n",
              "      <td>www.kilchrenaninn.co.uk</td>\n",
              "    </tr>\n",
              "    <tr>\n",
              "      <th>4</th>\n",
              "      <td>Refectory</td>\n",
              "      <td>https://thegoodpubguide.co.uk/pub/gu8+5hj/refe...</td>\n",
              "      <td>Refectory, Portsmouth Road, Milford, Godalming...</td>\n",
              "      <td>(01483) 413820</td>\n",
              "      <td>www.brunningandprice.co.uk/refectory</td>\n",
              "    </tr>\n",
              "    <tr>\n",
              "      <th>...</th>\n",
              "      <td>...</td>\n",
              "      <td>...</td>\n",
              "      <td>...</td>\n",
              "      <td>...</td>\n",
              "      <td>...</td>\n",
              "    </tr>\n",
              "    <tr>\n",
              "      <th>1995</th>\n",
              "      <td>Volunteer Riflemans Arms</td>\n",
              "      <td>https://thegoodpubguide.co.uk/pub/ba1+1bh/volu...</td>\n",
              "      <td>Volunteer Riflemans Arms, 3 New Bond Street Pl...</td>\n",
              "      <td>(01225) 425210</td>\n",
              "      <td>NaN</td>\n",
              "    </tr>\n",
              "    <tr>\n",
              "      <th>1996</th>\n",
              "      <td>Duke of Wellington</td>\n",
              "      <td>https://thegoodpubguide.co.uk/pub/yo21+2ly/duk...</td>\n",
              "      <td>Duke of Wellington, 2 West Lane, Danby, Whitby...</td>\n",
              "      <td>(01287) 660351</td>\n",
              "      <td>NaN</td>\n",
              "    </tr>\n",
              "    <tr>\n",
              "      <th>1997</th>\n",
              "      <td>Fox &amp; Hounds</td>\n",
              "      <td>https://thegoodpubguide.co.uk/pub/po18+9ll/fox...</td>\n",
              "      <td>Fox &amp; Hounds, Funtington, Chichester, Sussex, ...</td>\n",
              "      <td>(01243) 575246</td>\n",
              "      <td>www.foxandhoundsfuntington.co.uk</td>\n",
              "    </tr>\n",
              "    <tr>\n",
              "      <th>1998</th>\n",
              "      <td>Rupert Brooke</td>\n",
              "      <td>https://thegoodpubguide.co.uk/pub/cb3+9nq/rupe...</td>\n",
              "      <td>Rupert Brooke, 2 Broadway, Grantchester, Cambr...</td>\n",
              "      <td>(01223) 841875</td>\n",
              "      <td>www.therupertbrooke.com</td>\n",
              "    </tr>\n",
              "    <tr>\n",
              "      <th>1999</th>\n",
              "      <td>Kings Arms</td>\n",
              "      <td>https://thegoodpubguide.co.uk/pub/la11+6qb/kin...</td>\n",
              "      <td>Kings Arms, The Square, Cartmel, Grange-over-S...</td>\n",
              "      <td>(015395) 33246</td>\n",
              "      <td>www.thekingsarmscartmel.com</td>\n",
              "    </tr>\n",
              "  </tbody>\n",
              "</table>\n",
              "<p>2000 rows × 5 columns</p>\n",
              "</div>"
            ],
            "text/plain": [
              "                          Name  ...                                   Web\n",
              "0                   Bridge Inn  ...   www.thebridgeinnmichaelchurch.co.uk\n",
              "1                Fox Goes Free  ...                www.thefoxgoesfree.com\n",
              "2                         Bull  ...               www.thebullwatton.co.uk\n",
              "3               Kilchrenan Inn  ...               www.kilchrenaninn.co.uk\n",
              "4                    Refectory  ...  www.brunningandprice.co.uk/refectory\n",
              "...                        ...  ...                                   ...\n",
              "1995  Volunteer Riflemans Arms  ...                                   NaN\n",
              "1996        Duke of Wellington  ...                                   NaN\n",
              "1997              Fox & Hounds  ...      www.foxandhoundsfuntington.co.uk\n",
              "1998             Rupert Brooke  ...               www.therupertbrooke.com\n",
              "1999                Kings Arms  ...           www.thekingsarmscartmel.com\n",
              "\n",
              "[2000 rows x 5 columns]"
            ]
          },
          "metadata": {
            "tags": []
          },
          "execution_count": 138
        }
      ]
    },
    {
      "cell_type": "code",
      "metadata": {
        "id": "_P9I-OrsujSy",
        "colab_type": "code",
        "colab": {}
      },
      "source": [
        "df_merged[\"Email\"] = np.nan"
      ],
      "execution_count": null,
      "outputs": []
    },
    {
      "cell_type": "code",
      "metadata": {
        "id": "32BHtD9Q1kFM",
        "colab_type": "code",
        "colab": {}
      },
      "source": [
        "df_merged.loc[1, \"Email\"] =\",\".join([])"
      ],
      "execution_count": null,
      "outputs": []
    },
    {
      "cell_type": "code",
      "metadata": {
        "id": "ECvMmeZOt1ei",
        "colab_type": "code",
        "colab": {}
      },
      "source": [
        "urls = df_merged.Web"
      ],
      "execution_count": null,
      "outputs": []
    },
    {
      "cell_type": "code",
      "metadata": {
        "id": "eEzEgiiC2dUy",
        "colab_type": "code",
        "colab": {
          "base_uri": "https://localhost:8080/",
          "height": 34
        },
        "outputId": "f5ab9c65-429b-4e7a-eb43-d1f8965a81cf"
      },
      "source": [
        "len(urls)"
      ],
      "execution_count": null,
      "outputs": [
        {
          "output_type": "execute_result",
          "data": {
            "text/plain": [
              "2000"
            ]
          },
          "metadata": {
            "tags": []
          },
          "execution_count": 116
        }
      ]
    },
    {
      "cell_type": "code",
      "metadata": {
        "id": "X0fre4ut21eC",
        "colab_type": "code",
        "colab": {
          "base_uri": "https://localhost:8080/",
          "height": 218
        },
        "outputId": "18fbfb53-f0f9-4237-cfb8-d0fc5ad3b96f"
      },
      "source": [
        "urls http://www.thebridgeinnmichaelchurch.co.uk/"
      ],
      "execution_count": null,
      "outputs": [
        {
          "output_type": "execute_result",
          "data": {
            "text/plain": [
              "0        www.thebridgeinnmichaelchurch.co.uk\n",
              "1                     www.thefoxgoesfree.com\n",
              "2                    www.thebullwatton.co.uk\n",
              "3                    www.kilchrenaninn.co.uk\n",
              "4       www.brunningandprice.co.uk/refectory\n",
              "                        ...                 \n",
              "1995                                     NaN\n",
              "1996                                     NaN\n",
              "1997        www.foxandhoundsfuntington.co.uk\n",
              "1998                 www.therupertbrooke.com\n",
              "1999             www.thekingsarmscartmel.com\n",
              "Name: Web, Length: 2000, dtype: object"
            ]
          },
          "metadata": {
            "tags": []
          },
          "execution_count": 120
        }
      ]
    },
    {
      "cell_type": "code",
      "metadata": {
        "id": "O-6xSOY6tvWW",
        "colab_type": "code",
        "colab": {}
      },
      "source": [
        "for i in range(len(urls)):\n",
        "  if urls[i]==np.nan:\n",
        "    emails=[]\n",
        "  else:\n",
        "    try:\n",
        "      web = \"http://\"+ urls[i] \n",
        "      wd.get(web)\n",
        "      doc = wd.page_source\n",
        "      regex_email = 'mailto:[\\w\\.-]+@[\\w\\.-]+'\n",
        "      emails =re.findall(regex_email, doc) \n",
        "      emails = list(set(emails))\n",
        "\n",
        "    except:\n",
        "      emails=[]\n",
        "  \n",
        "  df_merged.loc[i, \"Email\"] = \",\".join(emails)"
      ],
      "execution_count": null,
      "outputs": []
    },
    {
      "cell_type": "code",
      "metadata": {
        "id": "dMJg2jEi2uQ3",
        "colab_type": "code",
        "colab": {
          "base_uri": "https://localhost:8080/",
          "height": 1000
        },
        "outputId": "ebf15e1a-bdc9-402d-e169-c5ad4e02cac4"
      },
      "source": [
        "df_merged"
      ],
      "execution_count": null,
      "outputs": [
        {
          "output_type": "execute_result",
          "data": {
            "text/html": [
              "<div>\n",
              "<style scoped>\n",
              "    .dataframe tbody tr th:only-of-type {\n",
              "        vertical-align: middle;\n",
              "    }\n",
              "\n",
              "    .dataframe tbody tr th {\n",
              "        vertical-align: top;\n",
              "    }\n",
              "\n",
              "    .dataframe thead th {\n",
              "        text-align: right;\n",
              "    }\n",
              "</style>\n",
              "<table border=\"1\" class=\"dataframe\">\n",
              "  <thead>\n",
              "    <tr style=\"text-align: right;\">\n",
              "      <th></th>\n",
              "      <th>Name</th>\n",
              "      <th>Url</th>\n",
              "      <th>Address</th>\n",
              "      <th>Telephone</th>\n",
              "      <th>Web</th>\n",
              "      <th>Email</th>\n",
              "    </tr>\n",
              "  </thead>\n",
              "  <tbody>\n",
              "    <tr>\n",
              "      <th>0</th>\n",
              "      <td>Bridge Inn</td>\n",
              "      <td>https://thegoodpubguide.co.uk/pub/hr2+0jw/brid...</td>\n",
              "      <td>Bridge Inn, Michaelchurch Escley, Hereford, He...</td>\n",
              "      <td>(01981) 510646</td>\n",
              "      <td>www.thebridgeinnmichaelchurch.co.uk</td>\n",
              "      <td>mailto:bridgefarmhouse@hotmail.com,mailto:theb...</td>\n",
              "    </tr>\n",
              "    <tr>\n",
              "      <th>1</th>\n",
              "      <td>Fox Goes Free</td>\n",
              "      <td>https://thegoodpubguide.co.uk/pub/po18+0hu/fox...</td>\n",
              "      <td>Fox Goes Free, Charlton, Chichester, Sussex, P...</td>\n",
              "      <td>(01243) 811461</td>\n",
              "      <td>www.thefoxgoesfree.com</td>\n",
              "      <td>mailto:enquiries@thefoxgoesfree.com</td>\n",
              "    </tr>\n",
              "    <tr>\n",
              "      <th>2</th>\n",
              "      <td>Bull</td>\n",
              "      <td>https://thegoodpubguide.co.uk/pub/sg14+3sb/bull/</td>\n",
              "      <td>Bull, 113 High Street, Watton At Stone, Hertfo...</td>\n",
              "      <td>(01920) 831032</td>\n",
              "      <td>www.thebullwatton.co.uk</td>\n",
              "      <td>mailto:thebullwatton@gmail.com</td>\n",
              "    </tr>\n",
              "    <tr>\n",
              "      <th>3</th>\n",
              "      <td>Kilchrenan Inn</td>\n",
              "      <td>https://thegoodpubguide.co.uk/pub/pa35+1hd/kil...</td>\n",
              "      <td>Kilchrenan Inn, Kilchrenan, Taynuilt, Scotland...</td>\n",
              "      <td>(01866) 833000</td>\n",
              "      <td>www.kilchrenaninn.co.uk</td>\n",
              "      <td>mailto:info@kilchrenaninn.co.uk</td>\n",
              "    </tr>\n",
              "    <tr>\n",
              "      <th>4</th>\n",
              "      <td>Refectory</td>\n",
              "      <td>https://thegoodpubguide.co.uk/pub/gu8+5hj/refe...</td>\n",
              "      <td>Refectory, Portsmouth Road, Milford, Godalming...</td>\n",
              "      <td>(01483) 413820</td>\n",
              "      <td>www.brunningandprice.co.uk/refectory</td>\n",
              "      <td>mailto:refectory@brunningandprice.co.uk</td>\n",
              "    </tr>\n",
              "    <tr>\n",
              "      <th>...</th>\n",
              "      <td>...</td>\n",
              "      <td>...</td>\n",
              "      <td>...</td>\n",
              "      <td>...</td>\n",
              "      <td>...</td>\n",
              "      <td>...</td>\n",
              "    </tr>\n",
              "    <tr>\n",
              "      <th>1995</th>\n",
              "      <td>Volunteer Riflemans Arms</td>\n",
              "      <td>https://thegoodpubguide.co.uk/pub/ba1+1bh/volu...</td>\n",
              "      <td>Volunteer Riflemans Arms, 3 New Bond Street Pl...</td>\n",
              "      <td>(01225) 425210</td>\n",
              "      <td>NaN</td>\n",
              "      <td></td>\n",
              "    </tr>\n",
              "    <tr>\n",
              "      <th>1996</th>\n",
              "      <td>Duke of Wellington</td>\n",
              "      <td>https://thegoodpubguide.co.uk/pub/yo21+2ly/duk...</td>\n",
              "      <td>Duke of Wellington, 2 West Lane, Danby, Whitby...</td>\n",
              "      <td>(01287) 660351</td>\n",
              "      <td>NaN</td>\n",
              "      <td></td>\n",
              "    </tr>\n",
              "    <tr>\n",
              "      <th>1997</th>\n",
              "      <td>Fox &amp; Hounds</td>\n",
              "      <td>https://thegoodpubguide.co.uk/pub/po18+9ll/fox...</td>\n",
              "      <td>Fox &amp; Hounds, Funtington, Chichester, Sussex, ...</td>\n",
              "      <td>(01243) 575246</td>\n",
              "      <td>www.foxandhoundsfuntington.co.uk</td>\n",
              "      <td>mailto:enquiries@foxandhoundsfuntington.co.uk,...</td>\n",
              "    </tr>\n",
              "    <tr>\n",
              "      <th>1998</th>\n",
              "      <td>Rupert Brooke</td>\n",
              "      <td>https://thegoodpubguide.co.uk/pub/cb3+9nq/rupe...</td>\n",
              "      <td>Rupert Brooke, 2 Broadway, Grantchester, Cambr...</td>\n",
              "      <td>(01223) 841875</td>\n",
              "      <td>www.therupertbrooke.com</td>\n",
              "      <td>mailto:info@therupertbrooke.com</td>\n",
              "    </tr>\n",
              "    <tr>\n",
              "      <th>1999</th>\n",
              "      <td>Kings Arms</td>\n",
              "      <td>https://thegoodpubguide.co.uk/pub/la11+6qb/kin...</td>\n",
              "      <td>Kings Arms, The Square, Cartmel, Grange-over-S...</td>\n",
              "      <td>(015395) 33246</td>\n",
              "      <td>www.thekingsarmscartmel.com</td>\n",
              "      <td></td>\n",
              "    </tr>\n",
              "  </tbody>\n",
              "</table>\n",
              "<p>2000 rows × 6 columns</p>\n",
              "</div>"
            ],
            "text/plain": [
              "                          Name  ...                                              Email\n",
              "0                   Bridge Inn  ...  mailto:bridgefarmhouse@hotmail.com,mailto:theb...\n",
              "1                Fox Goes Free  ...                mailto:enquiries@thefoxgoesfree.com\n",
              "2                         Bull  ...                     mailto:thebullwatton@gmail.com\n",
              "3               Kilchrenan Inn  ...                    mailto:info@kilchrenaninn.co.uk\n",
              "4                    Refectory  ...            mailto:refectory@brunningandprice.co.uk\n",
              "...                        ...  ...                                                ...\n",
              "1995  Volunteer Riflemans Arms  ...                                                   \n",
              "1996        Duke of Wellington  ...                                                   \n",
              "1997              Fox & Hounds  ...  mailto:enquiries@foxandhoundsfuntington.co.uk,...\n",
              "1998             Rupert Brooke  ...                    mailto:info@therupertbrooke.com\n",
              "1999                Kings Arms  ...                                                   \n",
              "\n",
              "[2000 rows x 6 columns]"
            ]
          },
          "metadata": {
            "tags": []
          },
          "execution_count": 125
        }
      ]
    },
    {
      "cell_type": "code",
      "metadata": {
        "id": "ITEaHW3N2uXB",
        "colab_type": "code",
        "colab": {}
      },
      "source": [
        "emails_df = df_merged[[\"Email\"]].copy()"
      ],
      "execution_count": null,
      "outputs": []
    },
    {
      "cell_type": "code",
      "metadata": {
        "id": "uwbtimYO2uUf",
        "colab_type": "code",
        "colab": {}
      },
      "source": [
        "emails_df.to_csv(\"/content/drive/My Drive/emails_2000\", index=False)"
      ],
      "execution_count": null,
      "outputs": []
    },
    {
      "cell_type": "code",
      "metadata": {
        "id": "cXH8KU2cn7XZ",
        "colab_type": "code",
        "colab": {
          "base_uri": "https://localhost:8080/",
          "height": 402
        },
        "outputId": "0010bec5-1a27-4d93-9426-8d2124e48ba4"
      },
      "source": [
        "emails_df = pd.read_csv(\"/content/drive/My Drive/emails_2000\")\n",
        "emails_df"
      ],
      "execution_count": null,
      "outputs": [
        {
          "output_type": "execute_result",
          "data": {
            "text/html": [
              "<div>\n",
              "<style scoped>\n",
              "    .dataframe tbody tr th:only-of-type {\n",
              "        vertical-align: middle;\n",
              "    }\n",
              "\n",
              "    .dataframe tbody tr th {\n",
              "        vertical-align: top;\n",
              "    }\n",
              "\n",
              "    .dataframe thead th {\n",
              "        text-align: right;\n",
              "    }\n",
              "</style>\n",
              "<table border=\"1\" class=\"dataframe\">\n",
              "  <thead>\n",
              "    <tr style=\"text-align: right;\">\n",
              "      <th></th>\n",
              "      <th>Email</th>\n",
              "    </tr>\n",
              "  </thead>\n",
              "  <tbody>\n",
              "    <tr>\n",
              "      <th>0</th>\n",
              "      <td>mailto:bridgefarmhouse@hotmail.com,mailto:theb...</td>\n",
              "    </tr>\n",
              "    <tr>\n",
              "      <th>1</th>\n",
              "      <td>mailto:enquiries@thefoxgoesfree.com</td>\n",
              "    </tr>\n",
              "    <tr>\n",
              "      <th>2</th>\n",
              "      <td>mailto:thebullwatton@gmail.com</td>\n",
              "    </tr>\n",
              "    <tr>\n",
              "      <th>3</th>\n",
              "      <td>mailto:info@kilchrenaninn.co.uk</td>\n",
              "    </tr>\n",
              "    <tr>\n",
              "      <th>4</th>\n",
              "      <td>mailto:refectory@brunningandprice.co.uk</td>\n",
              "    </tr>\n",
              "    <tr>\n",
              "      <th>...</th>\n",
              "      <td>...</td>\n",
              "    </tr>\n",
              "    <tr>\n",
              "      <th>1995</th>\n",
              "      <td>NaN</td>\n",
              "    </tr>\n",
              "    <tr>\n",
              "      <th>1996</th>\n",
              "      <td>NaN</td>\n",
              "    </tr>\n",
              "    <tr>\n",
              "      <th>1997</th>\n",
              "      <td>mailto:enquiries@foxandhoundsfuntington.co.uk,...</td>\n",
              "    </tr>\n",
              "    <tr>\n",
              "      <th>1998</th>\n",
              "      <td>mailto:info@therupertbrooke.com</td>\n",
              "    </tr>\n",
              "    <tr>\n",
              "      <th>1999</th>\n",
              "      <td>NaN</td>\n",
              "    </tr>\n",
              "  </tbody>\n",
              "</table>\n",
              "<p>2000 rows × 1 columns</p>\n",
              "</div>"
            ],
            "text/plain": [
              "                                                  Email\n",
              "0     mailto:bridgefarmhouse@hotmail.com,mailto:theb...\n",
              "1                   mailto:enquiries@thefoxgoesfree.com\n",
              "2                        mailto:thebullwatton@gmail.com\n",
              "3                       mailto:info@kilchrenaninn.co.uk\n",
              "4               mailto:refectory@brunningandprice.co.uk\n",
              "...                                                 ...\n",
              "1995                                                NaN\n",
              "1996                                                NaN\n",
              "1997  mailto:enquiries@foxandhoundsfuntington.co.uk,...\n",
              "1998                    mailto:info@therupertbrooke.com\n",
              "1999                                                NaN\n",
              "\n",
              "[2000 rows x 1 columns]"
            ]
          },
          "metadata": {
            "tags": []
          },
          "execution_count": 143
        }
      ]
    },
    {
      "cell_type": "code",
      "metadata": {
        "id": "vVna42Jdn7ck",
        "colab_type": "code",
        "colab": {}
      },
      "source": [
        "emails_df[\"Email\"] = emails_df[\"Email\"].str.replace(\"mailto:\", \"\")"
      ],
      "execution_count": null,
      "outputs": []
    },
    {
      "cell_type": "code",
      "metadata": {
        "id": "HPBWXBAzn7fy",
        "colab_type": "code",
        "colab": {}
      },
      "source": [
        "emails_df[\"Email\"].fillna(\"\", inplace=True)"
      ],
      "execution_count": null,
      "outputs": []
    },
    {
      "cell_type": "code",
      "metadata": {
        "id": "LxBjV52pn7Zx",
        "colab_type": "code",
        "colab": {}
      },
      "source": [
        "emails_df = emails_df.Email.str.split(\",\", expand=True)\n",
        "emails_df.columns = [\"Email Address \"+str(i+1) for i in range(len(emails_df.columns))]"
      ],
      "execution_count": null,
      "outputs": []
    },
    {
      "cell_type": "code",
      "metadata": {
        "id": "NDkz-AL9n64r",
        "colab_type": "code",
        "colab": {
          "base_uri": "https://localhost:8080/",
          "height": 418
        },
        "outputId": "1a5e657f-c3e5-425c-88a6-6580c0c4e959"
      },
      "source": [
        "emails_df.fillna(\"\", inplace=True)\n",
        "emails_df"
      ],
      "execution_count": null,
      "outputs": [
        {
          "output_type": "execute_result",
          "data": {
            "text/html": [
              "<div>\n",
              "<style scoped>\n",
              "    .dataframe tbody tr th:only-of-type {\n",
              "        vertical-align: middle;\n",
              "    }\n",
              "\n",
              "    .dataframe tbody tr th {\n",
              "        vertical-align: top;\n",
              "    }\n",
              "\n",
              "    .dataframe thead th {\n",
              "        text-align: right;\n",
              "    }\n",
              "</style>\n",
              "<table border=\"1\" class=\"dataframe\">\n",
              "  <thead>\n",
              "    <tr style=\"text-align: right;\">\n",
              "      <th></th>\n",
              "      <th>Email Address 1</th>\n",
              "      <th>Email Address 2</th>\n",
              "      <th>Email Address 3</th>\n",
              "      <th>Email Address 4</th>\n",
              "      <th>Email Address 5</th>\n",
              "      <th>Email Address 6</th>\n",
              "      <th>Email Address 7</th>\n",
              "    </tr>\n",
              "  </thead>\n",
              "  <tbody>\n",
              "    <tr>\n",
              "      <th>0</th>\n",
              "      <td>bridgefarmhouse@hotmail.com</td>\n",
              "      <td>thebridgeinn@hotmail.com</td>\n",
              "      <td></td>\n",
              "      <td></td>\n",
              "      <td></td>\n",
              "      <td></td>\n",
              "      <td></td>\n",
              "    </tr>\n",
              "    <tr>\n",
              "      <th>1</th>\n",
              "      <td>enquiries@thefoxgoesfree.com</td>\n",
              "      <td></td>\n",
              "      <td></td>\n",
              "      <td></td>\n",
              "      <td></td>\n",
              "      <td></td>\n",
              "      <td></td>\n",
              "    </tr>\n",
              "    <tr>\n",
              "      <th>2</th>\n",
              "      <td>thebullwatton@gmail.com</td>\n",
              "      <td></td>\n",
              "      <td></td>\n",
              "      <td></td>\n",
              "      <td></td>\n",
              "      <td></td>\n",
              "      <td></td>\n",
              "    </tr>\n",
              "    <tr>\n",
              "      <th>3</th>\n",
              "      <td>info@kilchrenaninn.co.uk</td>\n",
              "      <td></td>\n",
              "      <td></td>\n",
              "      <td></td>\n",
              "      <td></td>\n",
              "      <td></td>\n",
              "      <td></td>\n",
              "    </tr>\n",
              "    <tr>\n",
              "      <th>4</th>\n",
              "      <td>refectory@brunningandprice.co.uk</td>\n",
              "      <td></td>\n",
              "      <td></td>\n",
              "      <td></td>\n",
              "      <td></td>\n",
              "      <td></td>\n",
              "      <td></td>\n",
              "    </tr>\n",
              "    <tr>\n",
              "      <th>...</th>\n",
              "      <td>...</td>\n",
              "      <td>...</td>\n",
              "      <td>...</td>\n",
              "      <td>...</td>\n",
              "      <td>...</td>\n",
              "      <td>...</td>\n",
              "      <td>...</td>\n",
              "    </tr>\n",
              "    <tr>\n",
              "      <th>1995</th>\n",
              "      <td></td>\n",
              "      <td></td>\n",
              "      <td></td>\n",
              "      <td></td>\n",
              "      <td></td>\n",
              "      <td></td>\n",
              "      <td></td>\n",
              "    </tr>\n",
              "    <tr>\n",
              "      <th>1996</th>\n",
              "      <td></td>\n",
              "      <td></td>\n",
              "      <td></td>\n",
              "      <td></td>\n",
              "      <td></td>\n",
              "      <td></td>\n",
              "      <td></td>\n",
              "    </tr>\n",
              "    <tr>\n",
              "      <th>1997</th>\n",
              "      <td>enquiries@foxandhoundsfuntington.co.uk</td>\n",
              "      <td>enquiries@foxandhoundsfuntington</td>\n",
              "      <td></td>\n",
              "      <td></td>\n",
              "      <td></td>\n",
              "      <td></td>\n",
              "      <td></td>\n",
              "    </tr>\n",
              "    <tr>\n",
              "      <th>1998</th>\n",
              "      <td>info@therupertbrooke.com</td>\n",
              "      <td></td>\n",
              "      <td></td>\n",
              "      <td></td>\n",
              "      <td></td>\n",
              "      <td></td>\n",
              "      <td></td>\n",
              "    </tr>\n",
              "    <tr>\n",
              "      <th>1999</th>\n",
              "      <td></td>\n",
              "      <td></td>\n",
              "      <td></td>\n",
              "      <td></td>\n",
              "      <td></td>\n",
              "      <td></td>\n",
              "      <td></td>\n",
              "    </tr>\n",
              "  </tbody>\n",
              "</table>\n",
              "<p>2000 rows × 7 columns</p>\n",
              "</div>"
            ],
            "text/plain": [
              "                             Email Address 1  ... Email Address 7\n",
              "0                bridgefarmhouse@hotmail.com  ...                \n",
              "1               enquiries@thefoxgoesfree.com  ...                \n",
              "2                    thebullwatton@gmail.com  ...                \n",
              "3                   info@kilchrenaninn.co.uk  ...                \n",
              "4           refectory@brunningandprice.co.uk  ...                \n",
              "...                                      ...  ...             ...\n",
              "1995                                          ...                \n",
              "1996                                          ...                \n",
              "1997  enquiries@foxandhoundsfuntington.co.uk  ...                \n",
              "1998                info@therupertbrooke.com  ...                \n",
              "1999                                          ...                \n",
              "\n",
              "[2000 rows x 7 columns]"
            ]
          },
          "metadata": {
            "tags": []
          },
          "execution_count": 147
        }
      ]
    },
    {
      "cell_type": "code",
      "metadata": {
        "id": "ior25wznqVTK",
        "colab_type": "code",
        "colab": {
          "base_uri": "https://localhost:8080/",
          "height": 570
        },
        "outputId": "bf20c5cf-8602-48ac-d16b-6651ffc1e262"
      },
      "source": [
        "df_urn = pd.read_excel(\"/content/drive/My Drive/pub_2000_part1.xls\")\n",
        "df_urn"
      ],
      "execution_count": null,
      "outputs": [
        {
          "output_type": "execute_result",
          "data": {
            "text/html": [
              "<div>\n",
              "<style scoped>\n",
              "    .dataframe tbody tr th:only-of-type {\n",
              "        vertical-align: middle;\n",
              "    }\n",
              "\n",
              "    .dataframe tbody tr th {\n",
              "        vertical-align: top;\n",
              "    }\n",
              "\n",
              "    .dataframe thead th {\n",
              "        text-align: right;\n",
              "    }\n",
              "</style>\n",
              "<table border=\"1\" class=\"dataframe\">\n",
              "  <thead>\n",
              "    <tr style=\"text-align: right;\">\n",
              "      <th></th>\n",
              "      <th>URN</th>\n",
              "      <th>Name</th>\n",
              "      <th>Url</th>\n",
              "      <th>Address</th>\n",
              "      <th>Telephone</th>\n",
              "      <th>Web</th>\n",
              "    </tr>\n",
              "  </thead>\n",
              "  <tbody>\n",
              "    <tr>\n",
              "      <th>0</th>\n",
              "      <td>1</td>\n",
              "      <td>Bridge Inn</td>\n",
              "      <td>https://thegoodpubguide.co.uk/pub/hr2+0jw/brid...</td>\n",
              "      <td>Bridge Inn, Michaelchurch Escley, Hereford, He...</td>\n",
              "      <td>(01981) 510646</td>\n",
              "      <td>www.thebridgeinnmichaelchurch.co.uk</td>\n",
              "    </tr>\n",
              "    <tr>\n",
              "      <th>1</th>\n",
              "      <td>2</td>\n",
              "      <td>Fox Goes Free</td>\n",
              "      <td>https://thegoodpubguide.co.uk/pub/po18+0hu/fox...</td>\n",
              "      <td>Fox Goes Free, Charlton, Chichester, Sussex, P...</td>\n",
              "      <td>(01243) 811461</td>\n",
              "      <td>www.thefoxgoesfree.com</td>\n",
              "    </tr>\n",
              "    <tr>\n",
              "      <th>2</th>\n",
              "      <td>3</td>\n",
              "      <td>Bull</td>\n",
              "      <td>https://thegoodpubguide.co.uk/pub/sg14+3sb/bull/</td>\n",
              "      <td>Bull, 113 High Street, Watton At Stone, Hertfo...</td>\n",
              "      <td>(01920) 831032</td>\n",
              "      <td>www.thebullwatton.co.uk</td>\n",
              "    </tr>\n",
              "    <tr>\n",
              "      <th>3</th>\n",
              "      <td>4</td>\n",
              "      <td>Kilchrenan Inn</td>\n",
              "      <td>https://thegoodpubguide.co.uk/pub/pa35+1hd/kil...</td>\n",
              "      <td>Kilchrenan Inn, Kilchrenan, Taynuilt, Scotland...</td>\n",
              "      <td>(01866) 833000</td>\n",
              "      <td>www.kilchrenaninn.co.uk</td>\n",
              "    </tr>\n",
              "    <tr>\n",
              "      <th>4</th>\n",
              "      <td>5</td>\n",
              "      <td>Refectory</td>\n",
              "      <td>https://thegoodpubguide.co.uk/pub/gu8+5hj/refe...</td>\n",
              "      <td>Refectory, Portsmouth Road, Milford, Godalming...</td>\n",
              "      <td>(01483) 413820</td>\n",
              "      <td>www.brunningandprice.co.uk/refectory</td>\n",
              "    </tr>\n",
              "    <tr>\n",
              "      <th>...</th>\n",
              "      <td>...</td>\n",
              "      <td>...</td>\n",
              "      <td>...</td>\n",
              "      <td>...</td>\n",
              "      <td>...</td>\n",
              "      <td>...</td>\n",
              "    </tr>\n",
              "    <tr>\n",
              "      <th>1995</th>\n",
              "      <td>1996</td>\n",
              "      <td>Volunteer Riflemans Arms</td>\n",
              "      <td>https://thegoodpubguide.co.uk/pub/ba1+1bh/volu...</td>\n",
              "      <td>Volunteer Riflemans Arms, 3 New Bond Street Pl...</td>\n",
              "      <td>(01225) 425210</td>\n",
              "      <td>NaN</td>\n",
              "    </tr>\n",
              "    <tr>\n",
              "      <th>1996</th>\n",
              "      <td>1997</td>\n",
              "      <td>Duke of Wellington</td>\n",
              "      <td>https://thegoodpubguide.co.uk/pub/yo21+2ly/duk...</td>\n",
              "      <td>Duke of Wellington, 2 West Lane, Danby, Whitby...</td>\n",
              "      <td>(01287) 660351</td>\n",
              "      <td>NaN</td>\n",
              "    </tr>\n",
              "    <tr>\n",
              "      <th>1997</th>\n",
              "      <td>1998</td>\n",
              "      <td>Fox &amp; Hounds</td>\n",
              "      <td>https://thegoodpubguide.co.uk/pub/po18+9ll/fox...</td>\n",
              "      <td>Fox &amp; Hounds, Funtington, Chichester, Sussex, ...</td>\n",
              "      <td>(01243) 575246</td>\n",
              "      <td>www.foxandhoundsfuntington.co.uk</td>\n",
              "    </tr>\n",
              "    <tr>\n",
              "      <th>1998</th>\n",
              "      <td>1999</td>\n",
              "      <td>Rupert Brooke</td>\n",
              "      <td>https://thegoodpubguide.co.uk/pub/cb3+9nq/rupe...</td>\n",
              "      <td>Rupert Brooke, 2 Broadway, Grantchester, Cambr...</td>\n",
              "      <td>(01223) 841875</td>\n",
              "      <td>www.therupertbrooke.com</td>\n",
              "    </tr>\n",
              "    <tr>\n",
              "      <th>1999</th>\n",
              "      <td>2000</td>\n",
              "      <td>Kings Arms</td>\n",
              "      <td>https://thegoodpubguide.co.uk/pub/la11+6qb/kin...</td>\n",
              "      <td>Kings Arms, The Square, Cartmel, Grange-over-S...</td>\n",
              "      <td>(015395) 33246</td>\n",
              "      <td>www.thekingsarmscartmel.com</td>\n",
              "    </tr>\n",
              "  </tbody>\n",
              "</table>\n",
              "<p>2000 rows × 6 columns</p>\n",
              "</div>"
            ],
            "text/plain": [
              "       URN  ...                                   Web\n",
              "0        1  ...   www.thebridgeinnmichaelchurch.co.uk\n",
              "1        2  ...                www.thefoxgoesfree.com\n",
              "2        3  ...               www.thebullwatton.co.uk\n",
              "3        4  ...               www.kilchrenaninn.co.uk\n",
              "4        5  ...  www.brunningandprice.co.uk/refectory\n",
              "...    ...  ...                                   ...\n",
              "1995  1996  ...                                   NaN\n",
              "1996  1997  ...                                   NaN\n",
              "1997  1998  ...      www.foxandhoundsfuntington.co.uk\n",
              "1998  1999  ...               www.therupertbrooke.com\n",
              "1999  2000  ...           www.thekingsarmscartmel.com\n",
              "\n",
              "[2000 rows x 6 columns]"
            ]
          },
          "metadata": {
            "tags": []
          },
          "execution_count": 148
        }
      ]
    },
    {
      "cell_type": "code",
      "metadata": {
        "id": "BmEIW3iuqVYp",
        "colab_type": "code",
        "colab": {}
      },
      "source": [
        "emails_df[\"URN\"] = df_urn.URN"
      ],
      "execution_count": null,
      "outputs": []
    },
    {
      "cell_type": "code",
      "metadata": {
        "id": "87DqVVWoqVei",
        "colab_type": "code",
        "colab": {
          "base_uri": "https://localhost:8080/",
          "height": 418
        },
        "outputId": "b3bb72a2-9bbe-4b27-a4f3-8d0f182341b0"
      },
      "source": [
        "emails_df = emails_df[[\"URN\", \"Email Address 1\", \"Email Address 2\", \"Email Address 3\", \"Email Address 4\", \"Email Address 5\", \"Email Address 6\", \"Email Address 7\"]]\n",
        "emails_df"
      ],
      "execution_count": null,
      "outputs": [
        {
          "output_type": "execute_result",
          "data": {
            "text/html": [
              "<div>\n",
              "<style scoped>\n",
              "    .dataframe tbody tr th:only-of-type {\n",
              "        vertical-align: middle;\n",
              "    }\n",
              "\n",
              "    .dataframe tbody tr th {\n",
              "        vertical-align: top;\n",
              "    }\n",
              "\n",
              "    .dataframe thead th {\n",
              "        text-align: right;\n",
              "    }\n",
              "</style>\n",
              "<table border=\"1\" class=\"dataframe\">\n",
              "  <thead>\n",
              "    <tr style=\"text-align: right;\">\n",
              "      <th></th>\n",
              "      <th>URN</th>\n",
              "      <th>Email Address 1</th>\n",
              "      <th>Email Address 2</th>\n",
              "      <th>Email Address 3</th>\n",
              "      <th>Email Address 4</th>\n",
              "      <th>Email Address 5</th>\n",
              "      <th>Email Address 6</th>\n",
              "      <th>Email Address 7</th>\n",
              "    </tr>\n",
              "  </thead>\n",
              "  <tbody>\n",
              "    <tr>\n",
              "      <th>0</th>\n",
              "      <td>1</td>\n",
              "      <td>bridgefarmhouse@hotmail.com</td>\n",
              "      <td>thebridgeinn@hotmail.com</td>\n",
              "      <td></td>\n",
              "      <td></td>\n",
              "      <td></td>\n",
              "      <td></td>\n",
              "      <td></td>\n",
              "    </tr>\n",
              "    <tr>\n",
              "      <th>1</th>\n",
              "      <td>2</td>\n",
              "      <td>enquiries@thefoxgoesfree.com</td>\n",
              "      <td></td>\n",
              "      <td></td>\n",
              "      <td></td>\n",
              "      <td></td>\n",
              "      <td></td>\n",
              "      <td></td>\n",
              "    </tr>\n",
              "    <tr>\n",
              "      <th>2</th>\n",
              "      <td>3</td>\n",
              "      <td>thebullwatton@gmail.com</td>\n",
              "      <td></td>\n",
              "      <td></td>\n",
              "      <td></td>\n",
              "      <td></td>\n",
              "      <td></td>\n",
              "      <td></td>\n",
              "    </tr>\n",
              "    <tr>\n",
              "      <th>3</th>\n",
              "      <td>4</td>\n",
              "      <td>info@kilchrenaninn.co.uk</td>\n",
              "      <td></td>\n",
              "      <td></td>\n",
              "      <td></td>\n",
              "      <td></td>\n",
              "      <td></td>\n",
              "      <td></td>\n",
              "    </tr>\n",
              "    <tr>\n",
              "      <th>4</th>\n",
              "      <td>5</td>\n",
              "      <td>refectory@brunningandprice.co.uk</td>\n",
              "      <td></td>\n",
              "      <td></td>\n",
              "      <td></td>\n",
              "      <td></td>\n",
              "      <td></td>\n",
              "      <td></td>\n",
              "    </tr>\n",
              "    <tr>\n",
              "      <th>...</th>\n",
              "      <td>...</td>\n",
              "      <td>...</td>\n",
              "      <td>...</td>\n",
              "      <td>...</td>\n",
              "      <td>...</td>\n",
              "      <td>...</td>\n",
              "      <td>...</td>\n",
              "      <td>...</td>\n",
              "    </tr>\n",
              "    <tr>\n",
              "      <th>1995</th>\n",
              "      <td>1996</td>\n",
              "      <td></td>\n",
              "      <td></td>\n",
              "      <td></td>\n",
              "      <td></td>\n",
              "      <td></td>\n",
              "      <td></td>\n",
              "      <td></td>\n",
              "    </tr>\n",
              "    <tr>\n",
              "      <th>1996</th>\n",
              "      <td>1997</td>\n",
              "      <td></td>\n",
              "      <td></td>\n",
              "      <td></td>\n",
              "      <td></td>\n",
              "      <td></td>\n",
              "      <td></td>\n",
              "      <td></td>\n",
              "    </tr>\n",
              "    <tr>\n",
              "      <th>1997</th>\n",
              "      <td>1998</td>\n",
              "      <td>enquiries@foxandhoundsfuntington.co.uk</td>\n",
              "      <td>enquiries@foxandhoundsfuntington</td>\n",
              "      <td></td>\n",
              "      <td></td>\n",
              "      <td></td>\n",
              "      <td></td>\n",
              "      <td></td>\n",
              "    </tr>\n",
              "    <tr>\n",
              "      <th>1998</th>\n",
              "      <td>1999</td>\n",
              "      <td>info@therupertbrooke.com</td>\n",
              "      <td></td>\n",
              "      <td></td>\n",
              "      <td></td>\n",
              "      <td></td>\n",
              "      <td></td>\n",
              "      <td></td>\n",
              "    </tr>\n",
              "    <tr>\n",
              "      <th>1999</th>\n",
              "      <td>2000</td>\n",
              "      <td></td>\n",
              "      <td></td>\n",
              "      <td></td>\n",
              "      <td></td>\n",
              "      <td></td>\n",
              "      <td></td>\n",
              "      <td></td>\n",
              "    </tr>\n",
              "  </tbody>\n",
              "</table>\n",
              "<p>2000 rows × 8 columns</p>\n",
              "</div>"
            ],
            "text/plain": [
              "       URN  ... Email Address 7\n",
              "0        1  ...                \n",
              "1        2  ...                \n",
              "2        3  ...                \n",
              "3        4  ...                \n",
              "4        5  ...                \n",
              "...    ...  ...             ...\n",
              "1995  1996  ...                \n",
              "1996  1997  ...                \n",
              "1997  1998  ...                \n",
              "1998  1999  ...                \n",
              "1999  2000  ...                \n",
              "\n",
              "[2000 rows x 8 columns]"
            ]
          },
          "metadata": {
            "tags": []
          },
          "execution_count": 151
        }
      ]
    },
    {
      "cell_type": "code",
      "metadata": {
        "id": "MTeYhM2GqVke",
        "colab_type": "code",
        "colab": {}
      },
      "source": [
        "emails_df.to_excel(\"/content/drive/My Drive/pub_2000_part2.xls\")"
      ],
      "execution_count": null,
      "outputs": []
    },
    {
      "cell_type": "code",
      "metadata": {
        "id": "R-sNUJKrqVn9",
        "colab_type": "code",
        "colab": {}
      },
      "source": [
        ""
      ],
      "execution_count": null,
      "outputs": []
    },
    {
      "cell_type": "code",
      "metadata": {
        "id": "WA7vL4r4qVhf",
        "colab_type": "code",
        "colab": {}
      },
      "source": [
        ""
      ],
      "execution_count": null,
      "outputs": []
    },
    {
      "cell_type": "code",
      "metadata": {
        "id": "NMsJj_wQqVb4",
        "colab_type": "code",
        "colab": {}
      },
      "source": [
        ""
      ],
      "execution_count": null,
      "outputs": []
    },
    {
      "cell_type": "code",
      "metadata": {
        "id": "l2_jHVcGqVV9",
        "colab_type": "code",
        "colab": {}
      },
      "source": [
        ""
      ],
      "execution_count": null,
      "outputs": []
    },
    {
      "cell_type": "code",
      "metadata": {
        "id": "LRjo_6AIn62D",
        "colab_type": "code",
        "colab": {}
      },
      "source": [
        ""
      ],
      "execution_count": null,
      "outputs": []
    },
    {
      "cell_type": "code",
      "metadata": {
        "id": "oXxX4iCktvHu",
        "colab_type": "code",
        "colab": {}
      },
      "source": [
        ""
      ],
      "execution_count": null,
      "outputs": []
    },
    {
      "cell_type": "code",
      "metadata": {
        "id": "X3iszJBYizGS",
        "colab_type": "code",
        "colab": {}
      },
      "source": [
        "# regex_email = '^[a-z0-9]+[\\._]?[a-z0-9]+[@]\\w+[.]\\w{2,3}$'\n",
        "# regex_email= r'[\\w\\.-]+@[\\w\\.-]+'\n",
        "# regex_email = '^[\\w-\\.]+@([\\w-]+\\.)+[\\w-]{2,4}$'\n",
        "# regex_email = 'mailto:[\\w\\.-]+@[\\w\\.-]+'"
      ],
      "execution_count": null,
      "outputs": []
    },
    {
      "cell_type": "code",
      "metadata": {
        "id": "Uo8kTp62kYu7",
        "colab_type": "code",
        "colab": {}
      },
      "source": [
        ""
      ],
      "execution_count": null,
      "outputs": []
    },
    {
      "cell_type": "markdown",
      "metadata": {
        "id": "EFQubXu34fdY",
        "colab_type": "text"
      },
      "source": [
        "\n",
        "\n",
        "```\n",
        "function ClickConnect(){\n",
        "console.log(\"Working\"); \n",
        "document\n",
        "  .querySelector('#top-toolbar > colab-connect-button')\n",
        "  .shadowRoot.querySelector('#connect')\n",
        "  .click() \n",
        "}\n",
        "setInterval(ClickConnect,60000)\n",
        "```\n",
        "\n"
      ]
    }
  ]
}