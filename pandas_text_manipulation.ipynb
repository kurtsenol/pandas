{
  "nbformat": 4,
  "nbformat_minor": 0,
  "metadata": {
    "colab": {
      "name": "pandas_text_manipulation.ipynb",
      "provenance": [],
      "collapsed_sections": [],
      "mount_file_id": "1iF1Nj1svu5-1qjycqV5oP6rfywrrFJ5o",
      "authorship_tag": "ABX9TyOWEWgSuVtF0Vao5MnmPMm2",
      "include_colab_link": true
    },
    "kernelspec": {
      "name": "python3",
      "display_name": "Python 3"
    }
  },
  "cells": [
    {
      "cell_type": "markdown",
      "metadata": {
        "id": "view-in-github",
        "colab_type": "text"
      },
      "source": [
        "<a href=\"https://colab.research.google.com/github/kurtsenol/pandas/blob/master/pandas_text_manipulation.ipynb\" target=\"_parent\"><img src=\"https://colab.research.google.com/assets/colab-badge.svg\" alt=\"Open In Colab\"/></a>"
      ]
    },
    {
      "cell_type": "code",
      "metadata": {
        "id": "v0Zh4RSPqUyQ",
        "colab_type": "code",
        "colab": {}
      },
      "source": [
        "import pandas as pd"
      ],
      "execution_count": null,
      "outputs": []
    },
    {
      "cell_type": "code",
      "metadata": {
        "id": "cze0XQD1PX6a",
        "colab_type": "code",
        "colab": {
          "base_uri": "https://localhost:8080/",
          "height": 254
        },
        "outputId": "fbf09983-84fb-42eb-b467-7419805697d7"
      },
      "source": [
        "df= pd.read_csv(\"/content/drive/My Drive/den.csv\")\n",
        "df"
      ],
      "execution_count": null,
      "outputs": [
        {
          "output_type": "execute_result",
          "data": {
            "text/html": [
              "<div>\n",
              "<style scoped>\n",
              "    .dataframe tbody tr th:only-of-type {\n",
              "        vertical-align: middle;\n",
              "    }\n",
              "\n",
              "    .dataframe tbody tr th {\n",
              "        vertical-align: top;\n",
              "    }\n",
              "\n",
              "    .dataframe thead th {\n",
              "        text-align: right;\n",
              "    }\n",
              "</style>\n",
              "<table border=\"1\" class=\"dataframe\">\n",
              "  <thead>\n",
              "    <tr style=\"text-align: right;\">\n",
              "      <th></th>\n",
              "      <th>Brownlow Arms</th>\n",
              "      <th>https://thegoodpubguide.co.uk/pub/ng32+2az/brownlow+arms/</th>\n",
              "    </tr>\n",
              "  </thead>\n",
              "  <tbody>\n",
              "    <tr>\n",
              "      <th>0</th>\n",
              "      <td>Seven Stars</td>\n",
              "      <td>https://thegoodpubguide.co.uk/pub/wc2a+2jb/sev...</td>\n",
              "    </tr>\n",
              "    <tr>\n",
              "      <th>1</th>\n",
              "      <td>Name</td>\n",
              "      <td>Url</td>\n",
              "    </tr>\n",
              "    <tr>\n",
              "      <th>2</th>\n",
              "      <td>Bridge Inn</td>\n",
              "      <td>https://thegoodpubguide.co.uk/pub/hr2+0jw/brid...</td>\n",
              "    </tr>\n",
              "    <tr>\n",
              "      <th>3</th>\n",
              "      <td>Fox Goes Free</td>\n",
              "      <td>https://thegoodpubguide.co.uk/pub/po18+0hu/fox...</td>\n",
              "    </tr>\n",
              "    <tr>\n",
              "      <th>4</th>\n",
              "      <td>Bull</td>\n",
              "      <td>https://thegoodpubguide.co.uk/pub/sg14+3sb/bull/</td>\n",
              "    </tr>\n",
              "    <tr>\n",
              "      <th>5</th>\n",
              "      <td>Kilchrenan Inn</td>\n",
              "      <td>https://thegoodpubguide.co.uk/pub/pa35+1hd/kil...</td>\n",
              "    </tr>\n",
              "    <tr>\n",
              "      <th>6</th>\n",
              "      <td>Refectory</td>\n",
              "      <td>https://thegoodpubguide.co.uk/pub/gu8+5hj/refe...</td>\n",
              "    </tr>\n",
              "  </tbody>\n",
              "</table>\n",
              "</div>"
            ],
            "text/plain": [
              "    Brownlow Arms https://thegoodpubguide.co.uk/pub/ng32+2az/brownlow+arms/\n",
              "0     Seven Stars  https://thegoodpubguide.co.uk/pub/wc2a+2jb/sev...       \n",
              "1            Name                                                Url       \n",
              "2      Bridge Inn  https://thegoodpubguide.co.uk/pub/hr2+0jw/brid...       \n",
              "3   Fox Goes Free  https://thegoodpubguide.co.uk/pub/po18+0hu/fox...       \n",
              "4            Bull   https://thegoodpubguide.co.uk/pub/sg14+3sb/bull/       \n",
              "5  Kilchrenan Inn  https://thegoodpubguide.co.uk/pub/pa35+1hd/kil...       \n",
              "6       Refectory  https://thegoodpubguide.co.uk/pub/gu8+5hj/refe...       "
            ]
          },
          "metadata": {
            "tags": []
          },
          "execution_count": 9
        }
      ]
    },
    {
      "cell_type": "code",
      "metadata": {
        "id": "rxe0CGqLPvFt",
        "colab_type": "code",
        "colab": {
          "base_uri": "https://localhost:8080/",
          "height": 195
        },
        "outputId": "de593016-2616-4e80-f6e8-b4b31dce2a48"
      },
      "source": [
        "df= pd.read_csv(\"/content/drive/My Drive/den.csv\", header=2)\n",
        "df"
      ],
      "execution_count": null,
      "outputs": [
        {
          "output_type": "execute_result",
          "data": {
            "text/html": [
              "<div>\n",
              "<style scoped>\n",
              "    .dataframe tbody tr th:only-of-type {\n",
              "        vertical-align: middle;\n",
              "    }\n",
              "\n",
              "    .dataframe tbody tr th {\n",
              "        vertical-align: top;\n",
              "    }\n",
              "\n",
              "    .dataframe thead th {\n",
              "        text-align: right;\n",
              "    }\n",
              "</style>\n",
              "<table border=\"1\" class=\"dataframe\">\n",
              "  <thead>\n",
              "    <tr style=\"text-align: right;\">\n",
              "      <th></th>\n",
              "      <th>Name</th>\n",
              "      <th>Url</th>\n",
              "    </tr>\n",
              "  </thead>\n",
              "  <tbody>\n",
              "    <tr>\n",
              "      <th>0</th>\n",
              "      <td>Bridge Inn</td>\n",
              "      <td>https://thegoodpubguide.co.uk/pub/hr2+0jw/brid...</td>\n",
              "    </tr>\n",
              "    <tr>\n",
              "      <th>1</th>\n",
              "      <td>Fox Goes Free</td>\n",
              "      <td>https://thegoodpubguide.co.uk/pub/po18+0hu/fox...</td>\n",
              "    </tr>\n",
              "    <tr>\n",
              "      <th>2</th>\n",
              "      <td>Bull</td>\n",
              "      <td>https://thegoodpubguide.co.uk/pub/sg14+3sb/bull/</td>\n",
              "    </tr>\n",
              "    <tr>\n",
              "      <th>3</th>\n",
              "      <td>Kilchrenan Inn</td>\n",
              "      <td>https://thegoodpubguide.co.uk/pub/pa35+1hd/kil...</td>\n",
              "    </tr>\n",
              "    <tr>\n",
              "      <th>4</th>\n",
              "      <td>Refectory</td>\n",
              "      <td>https://thegoodpubguide.co.uk/pub/gu8+5hj/refe...</td>\n",
              "    </tr>\n",
              "  </tbody>\n",
              "</table>\n",
              "</div>"
            ],
            "text/plain": [
              "             Name                                                Url\n",
              "0      Bridge Inn  https://thegoodpubguide.co.uk/pub/hr2+0jw/brid...\n",
              "1   Fox Goes Free  https://thegoodpubguide.co.uk/pub/po18+0hu/fox...\n",
              "2            Bull   https://thegoodpubguide.co.uk/pub/sg14+3sb/bull/\n",
              "3  Kilchrenan Inn  https://thegoodpubguide.co.uk/pub/pa35+1hd/kil...\n",
              "4       Refectory  https://thegoodpubguide.co.uk/pub/gu8+5hj/refe..."
            ]
          },
          "metadata": {
            "tags": []
          },
          "execution_count": 10
        }
      ]
    },
    {
      "cell_type": "code",
      "metadata": {
        "id": "g3HsUeEIHL1d",
        "colab_type": "code",
        "colab": {
          "base_uri": "https://localhost:8080/",
          "height": 343
        },
        "outputId": "f937f408-e2d6-4d11-f475-6bd2c1dad853"
      },
      "source": [
        "df = pd.read_csv(\"https://raw.githubusercontent.com/yunglinchang/DataScience_playground/master/Pandas/data/TheFruit_sales.csv\", index_col=0)\n",
        "df"
      ],
      "execution_count": null,
      "outputs": [
        {
          "output_type": "execute_result",
          "data": {
            "text/html": [
              "<div>\n",
              "<style scoped>\n",
              "    .dataframe tbody tr th:only-of-type {\n",
              "        vertical-align: middle;\n",
              "    }\n",
              "\n",
              "    .dataframe tbody tr th {\n",
              "        vertical-align: top;\n",
              "    }\n",
              "\n",
              "    .dataframe thead th {\n",
              "        text-align: right;\n",
              "    }\n",
              "</style>\n",
              "<table border=\"1\" class=\"dataframe\">\n",
              "  <thead>\n",
              "    <tr style=\"text-align: right;\">\n",
              "      <th></th>\n",
              "      <th>Sales_ID</th>\n",
              "      <th>Sales_Branch</th>\n",
              "      <th>Product_Description</th>\n",
              "      <th>Recent_Sales_Date</th>\n",
              "      <th>Customer_Count</th>\n",
              "    </tr>\n",
              "  </thead>\n",
              "  <tbody>\n",
              "    <tr>\n",
              "      <th>0</th>\n",
              "      <td>AU_1382578        !</td>\n",
              "      <td>NaN</td>\n",
              "      <td>The Fruit, a company that sells fruits from al...</td>\n",
              "      <td>2019/12/31 GMT+8 18:00</td>\n",
              "      <td>10</td>\n",
              "    </tr>\n",
              "    <tr>\n",
              "      <th>1</th>\n",
              "      <td>TW_8312566       !</td>\n",
              "      <td>NaN</td>\n",
              "      <td>The Fruit, a company that sells fruits from al...</td>\n",
              "      <td>2019/12/31 GMT+8 18:00</td>\n",
              "      <td>27</td>\n",
              "    </tr>\n",
              "    <tr>\n",
              "      <th>2</th>\n",
              "      <td>US_2289987       !</td>\n",
              "      <td>NaN</td>\n",
              "      <td>The Fruit, a company that sells fruits from al...</td>\n",
              "      <td>2019/12/29 GMT+8 18:00</td>\n",
              "      <td>12</td>\n",
              "    </tr>\n",
              "    <tr>\n",
              "      <th>3</th>\n",
              "      <td>UK_1382574       !</td>\n",
              "      <td>NaN</td>\n",
              "      <td>The Fruit, a company that sells fruits from al...</td>\n",
              "      <td>2019/12/15 GMT+8 05:00</td>\n",
              "      <td>1</td>\n",
              "    </tr>\n",
              "    <tr>\n",
              "      <th>4</th>\n",
              "      <td>TW_1382578       !</td>\n",
              "      <td>NaN</td>\n",
              "      <td>The Fruit, a company that sells fruits from al...</td>\n",
              "      <td>2019/12/29 GMT+8 05:00</td>\n",
              "      <td>5</td>\n",
              "    </tr>\n",
              "    <tr>\n",
              "      <th>5</th>\n",
              "      <td>AU_1335358       !</td>\n",
              "      <td>NaN</td>\n",
              "      <td>The Fruit, a company that sells fruits from al...</td>\n",
              "      <td>2019/12/31 GMT+8 05:00</td>\n",
              "      <td>10</td>\n",
              "    </tr>\n",
              "    <tr>\n",
              "      <th>6</th>\n",
              "      <td>TW_6662597       !</td>\n",
              "      <td>NaN</td>\n",
              "      <td>The Fruit, a company that sells fruits from al...</td>\n",
              "      <td>2019/12/31 GMT+8 15:00</td>\n",
              "      <td>1</td>\n",
              "    </tr>\n",
              "    <tr>\n",
              "      <th>7</th>\n",
              "      <td>TW_3352571       !</td>\n",
              "      <td>NaN</td>\n",
              "      <td>The Fruit, a company that sells fruits from al...</td>\n",
              "      <td>2019/12/27 GMT+8 18:00</td>\n",
              "      <td>3</td>\n",
              "    </tr>\n",
              "    <tr>\n",
              "      <th>8</th>\n",
              "      <td>US_7683478       !</td>\n",
              "      <td>NaN</td>\n",
              "      <td>The Fruit, a company that sells fruits from al...</td>\n",
              "      <td>2019/12/31 GMT+8 18:00</td>\n",
              "      <td>17</td>\n",
              "    </tr>\n",
              "    <tr>\n",
              "      <th>9</th>\n",
              "      <td>US_4523771       !</td>\n",
              "      <td>NaN</td>\n",
              "      <td>The Fruit, a company that sells fruits from al...</td>\n",
              "      <td>2019/12/30 GMT+8 18:00</td>\n",
              "      <td>51</td>\n",
              "    </tr>\n",
              "  </tbody>\n",
              "</table>\n",
              "</div>"
            ],
            "text/plain": [
              "              Sales_ID  Sales_Branch  ...       Recent_Sales_Date Customer_Count\n",
              "0  AU_1382578        !           NaN  ...  2019/12/31 GMT+8 18:00             10\n",
              "1   TW_8312566       !           NaN  ...  2019/12/31 GMT+8 18:00             27\n",
              "2   US_2289987       !           NaN  ...  2019/12/29 GMT+8 18:00             12\n",
              "3   UK_1382574       !           NaN  ...  2019/12/15 GMT+8 05:00              1\n",
              "4   TW_1382578       !           NaN  ...  2019/12/29 GMT+8 05:00              5\n",
              "5   AU_1335358       !           NaN  ...  2019/12/31 GMT+8 05:00             10\n",
              "6   TW_6662597       !           NaN  ...  2019/12/31 GMT+8 15:00              1\n",
              "7   TW_3352571       !           NaN  ...  2019/12/27 GMT+8 18:00              3\n",
              "8   US_7683478       !           NaN  ...  2019/12/31 GMT+8 18:00             17\n",
              "9   US_4523771       !           NaN  ...  2019/12/30 GMT+8 18:00             51\n",
              "\n",
              "[10 rows x 5 columns]"
            ]
          },
          "metadata": {
            "tags": []
          },
          "execution_count": 42
        }
      ]
    },
    {
      "cell_type": "code",
      "metadata": {
        "id": "t-XoVik2HO_R",
        "colab_type": "code",
        "colab": {
          "base_uri": "https://localhost:8080/",
          "height": 218
        },
        "outputId": "99084e1f-933b-43ea-c827-12f6fc9dc1d9"
      },
      "source": [
        "df.info()"
      ],
      "execution_count": null,
      "outputs": [
        {
          "output_type": "stream",
          "text": [
            "<class 'pandas.core.frame.DataFrame'>\n",
            "Int64Index: 10 entries, 0 to 9\n",
            "Data columns (total 5 columns):\n",
            " #   Column               Non-Null Count  Dtype  \n",
            "---  ------               --------------  -----  \n",
            " 0   Sales_ID             10 non-null     object \n",
            " 1   Sales_Branch         0 non-null      float64\n",
            " 2   Product_Description  10 non-null     object \n",
            " 3   Recent_Sales_Date    10 non-null     object \n",
            " 4   Customer_Count       10 non-null     int64  \n",
            "dtypes: float64(1), int64(1), object(3)\n",
            "memory usage: 480.0+ bytes\n"
          ],
          "name": "stdout"
        }
      ]
    },
    {
      "cell_type": "code",
      "metadata": {
        "id": "2P6HnU-JHqDr",
        "colab_type": "code",
        "colab": {
          "base_uri": "https://localhost:8080/",
          "height": 118
        },
        "outputId": "fe3c85c2-cb9b-45b5-a1f6-5895343b1230"
      },
      "source": [
        "df.Sales_ID[:5]"
      ],
      "execution_count": null,
      "outputs": [
        {
          "output_type": "execute_result",
          "data": {
            "text/plain": [
              "0    AU_1382578        !\n",
              "1     TW_8312566       !\n",
              "2     US_2289987       !\n",
              "3     UK_1382574       !\n",
              "4     TW_1382578       !\n",
              "Name: Sales_ID, dtype: object"
            ]
          },
          "metadata": {
            "tags": []
          },
          "execution_count": 44
        }
      ]
    },
    {
      "cell_type": "markdown",
      "metadata": {
        "id": "2SDa-lOcIGdi",
        "colab_type": "text"
      },
      "source": [
        "unnecessary spaces and an exclamation mark for the ID itself"
      ]
    },
    {
      "cell_type": "code",
      "metadata": {
        "id": "17_MZ9wfH4kG",
        "colab_type": "code",
        "colab": {}
      },
      "source": [
        "df[\"Sales_ID\"] = df.Sales_ID.str.rstrip(\"!\").str.strip()"
      ],
      "execution_count": null,
      "outputs": []
    },
    {
      "cell_type": "code",
      "metadata": {
        "id": "8k8nfqqEH4pq",
        "colab_type": "code",
        "colab": {
          "base_uri": "https://localhost:8080/",
          "height": 118
        },
        "outputId": "d249cc47-d672-4683-e94e-a119a3dba8a6"
      },
      "source": [
        "df.Sales_ID[:5]"
      ],
      "execution_count": null,
      "outputs": [
        {
          "output_type": "execute_result",
          "data": {
            "text/plain": [
              "0    AU_1382578\n",
              "1    TW_8312566\n",
              "2    US_2289987\n",
              "3    UK_1382574\n",
              "4    TW_1382578\n",
              "Name: Sales_ID, dtype: object"
            ]
          },
          "metadata": {
            "tags": []
          },
          "execution_count": 46
        }
      ]
    },
    {
      "cell_type": "markdown",
      "metadata": {
        "id": "cPBK-DAhI8re",
        "colab_type": "text"
      },
      "source": [
        "Fill 'Sales_Branch' from \"Sales_ID\" column "
      ]
    },
    {
      "cell_type": "code",
      "metadata": {
        "id": "el2APjyvH4nI",
        "colab_type": "code",
        "colab": {}
      },
      "source": [
        "df['Sales_Branch'] = df[\"Sales_ID\"].str[:2]"
      ],
      "execution_count": null,
      "outputs": []
    },
    {
      "cell_type": "code",
      "metadata": {
        "id": "1JovCvUaH4ha",
        "colab_type": "code",
        "colab": {
          "base_uri": "https://localhost:8080/",
          "height": 343
        },
        "outputId": "ed13e0a9-f2a2-468d-8133-7e4c0235803d"
      },
      "source": [
        "df"
      ],
      "execution_count": null,
      "outputs": [
        {
          "output_type": "execute_result",
          "data": {
            "text/html": [
              "<div>\n",
              "<style scoped>\n",
              "    .dataframe tbody tr th:only-of-type {\n",
              "        vertical-align: middle;\n",
              "    }\n",
              "\n",
              "    .dataframe tbody tr th {\n",
              "        vertical-align: top;\n",
              "    }\n",
              "\n",
              "    .dataframe thead th {\n",
              "        text-align: right;\n",
              "    }\n",
              "</style>\n",
              "<table border=\"1\" class=\"dataframe\">\n",
              "  <thead>\n",
              "    <tr style=\"text-align: right;\">\n",
              "      <th></th>\n",
              "      <th>Sales_ID</th>\n",
              "      <th>Sales_Branch</th>\n",
              "      <th>Product_Description</th>\n",
              "      <th>Recent_Sales_Date</th>\n",
              "      <th>Customer_Count</th>\n",
              "    </tr>\n",
              "  </thead>\n",
              "  <tbody>\n",
              "    <tr>\n",
              "      <th>0</th>\n",
              "      <td>AU_1382578</td>\n",
              "      <td>AU</td>\n",
              "      <td>The Fruit, a company that sells fruits from al...</td>\n",
              "      <td>2019/12/31 GMT+8 18:00</td>\n",
              "      <td>10</td>\n",
              "    </tr>\n",
              "    <tr>\n",
              "      <th>1</th>\n",
              "      <td>TW_8312566</td>\n",
              "      <td>TW</td>\n",
              "      <td>The Fruit, a company that sells fruits from al...</td>\n",
              "      <td>2019/12/31 GMT+8 18:00</td>\n",
              "      <td>27</td>\n",
              "    </tr>\n",
              "    <tr>\n",
              "      <th>2</th>\n",
              "      <td>US_2289987</td>\n",
              "      <td>US</td>\n",
              "      <td>The Fruit, a company that sells fruits from al...</td>\n",
              "      <td>2019/12/29 GMT+8 18:00</td>\n",
              "      <td>12</td>\n",
              "    </tr>\n",
              "    <tr>\n",
              "      <th>3</th>\n",
              "      <td>UK_1382574</td>\n",
              "      <td>UK</td>\n",
              "      <td>The Fruit, a company that sells fruits from al...</td>\n",
              "      <td>2019/12/15 GMT+8 05:00</td>\n",
              "      <td>1</td>\n",
              "    </tr>\n",
              "    <tr>\n",
              "      <th>4</th>\n",
              "      <td>TW_1382578</td>\n",
              "      <td>TW</td>\n",
              "      <td>The Fruit, a company that sells fruits from al...</td>\n",
              "      <td>2019/12/29 GMT+8 05:00</td>\n",
              "      <td>5</td>\n",
              "    </tr>\n",
              "    <tr>\n",
              "      <th>5</th>\n",
              "      <td>AU_1335358</td>\n",
              "      <td>AU</td>\n",
              "      <td>The Fruit, a company that sells fruits from al...</td>\n",
              "      <td>2019/12/31 GMT+8 05:00</td>\n",
              "      <td>10</td>\n",
              "    </tr>\n",
              "    <tr>\n",
              "      <th>6</th>\n",
              "      <td>TW_6662597</td>\n",
              "      <td>TW</td>\n",
              "      <td>The Fruit, a company that sells fruits from al...</td>\n",
              "      <td>2019/12/31 GMT+8 15:00</td>\n",
              "      <td>1</td>\n",
              "    </tr>\n",
              "    <tr>\n",
              "      <th>7</th>\n",
              "      <td>TW_3352571</td>\n",
              "      <td>TW</td>\n",
              "      <td>The Fruit, a company that sells fruits from al...</td>\n",
              "      <td>2019/12/27 GMT+8 18:00</td>\n",
              "      <td>3</td>\n",
              "    </tr>\n",
              "    <tr>\n",
              "      <th>8</th>\n",
              "      <td>US_7683478</td>\n",
              "      <td>US</td>\n",
              "      <td>The Fruit, a company that sells fruits from al...</td>\n",
              "      <td>2019/12/31 GMT+8 18:00</td>\n",
              "      <td>17</td>\n",
              "    </tr>\n",
              "    <tr>\n",
              "      <th>9</th>\n",
              "      <td>US_4523771</td>\n",
              "      <td>US</td>\n",
              "      <td>The Fruit, a company that sells fruits from al...</td>\n",
              "      <td>2019/12/30 GMT+8 18:00</td>\n",
              "      <td>51</td>\n",
              "    </tr>\n",
              "  </tbody>\n",
              "</table>\n",
              "</div>"
            ],
            "text/plain": [
              "     Sales_ID Sales_Branch  ...       Recent_Sales_Date Customer_Count\n",
              "0  AU_1382578           AU  ...  2019/12/31 GMT+8 18:00             10\n",
              "1  TW_8312566           TW  ...  2019/12/31 GMT+8 18:00             27\n",
              "2  US_2289987           US  ...  2019/12/29 GMT+8 18:00             12\n",
              "3  UK_1382574           UK  ...  2019/12/15 GMT+8 05:00              1\n",
              "4  TW_1382578           TW  ...  2019/12/29 GMT+8 05:00              5\n",
              "5  AU_1335358           AU  ...  2019/12/31 GMT+8 05:00             10\n",
              "6  TW_6662597           TW  ...  2019/12/31 GMT+8 15:00              1\n",
              "7  TW_3352571           TW  ...  2019/12/27 GMT+8 18:00              3\n",
              "8  US_7683478           US  ...  2019/12/31 GMT+8 18:00             17\n",
              "9  US_4523771           US  ...  2019/12/30 GMT+8 18:00             51\n",
              "\n",
              "[10 rows x 5 columns]"
            ]
          },
          "metadata": {
            "tags": []
          },
          "execution_count": 48
        }
      ]
    },
    {
      "cell_type": "code",
      "metadata": {
        "id": "7RUoIF_FJKO3",
        "colab_type": "code",
        "colab": {
          "base_uri": "https://localhost:8080/",
          "height": 52
        },
        "outputId": "feb89ed5-21ef-47f1-bcd1-a7f3dd5958a5"
      },
      "source": [
        "df['Product_Description'][0]"
      ],
      "execution_count": null,
      "outputs": [
        {
          "output_type": "execute_result",
          "data": {
            "application/vnd.google.colaboratory.intrinsic+json": {
              "type": "string"
            },
            "text/plain": [
              "'The Fruit, a company that sells fruits from all over the world, has branches in Australia, the United Kingdom, the United States, and Taiwan. Product: Apple Mango Banana Watermelon Orange Blueberry Banana Watermelon Kiwifruit'"
            ]
          },
          "metadata": {
            "tags": []
          },
          "execution_count": 49
        }
      ]
    },
    {
      "cell_type": "markdown",
      "metadata": {
        "id": "2bto7nKpJZhu",
        "colab_type": "text"
      },
      "source": [
        "We can see that while all of the first sentences were identical, we can split this into 2 columns: Description and Product."
      ]
    },
    {
      "cell_type": "code",
      "metadata": {
        "id": "VnoZdZrbJVix",
        "colab_type": "code",
        "colab": {
          "base_uri": "https://localhost:8080/",
          "height": 679
        },
        "outputId": "2e57c163-174f-4231-82d3-3a37242c375c"
      },
      "source": [
        "df[['Description', 'Product']] = df['Product_Description'].str.split(\"Product: \", expand=True)\n",
        "df"
      ],
      "execution_count": null,
      "outputs": [
        {
          "output_type": "execute_result",
          "data": {
            "text/html": [
              "<div>\n",
              "<style scoped>\n",
              "    .dataframe tbody tr th:only-of-type {\n",
              "        vertical-align: middle;\n",
              "    }\n",
              "\n",
              "    .dataframe tbody tr th {\n",
              "        vertical-align: top;\n",
              "    }\n",
              "\n",
              "    .dataframe thead th {\n",
              "        text-align: right;\n",
              "    }\n",
              "</style>\n",
              "<table border=\"1\" class=\"dataframe\">\n",
              "  <thead>\n",
              "    <tr style=\"text-align: right;\">\n",
              "      <th></th>\n",
              "      <th>Sales_ID</th>\n",
              "      <th>Sales_Branch</th>\n",
              "      <th>Product_Description</th>\n",
              "      <th>Recent_Sales_Date</th>\n",
              "      <th>Customer_Count</th>\n",
              "      <th>Description</th>\n",
              "      <th>Product</th>\n",
              "    </tr>\n",
              "  </thead>\n",
              "  <tbody>\n",
              "    <tr>\n",
              "      <th>0</th>\n",
              "      <td>AU_1382578</td>\n",
              "      <td>AU</td>\n",
              "      <td>The Fruit, a company that sells fruits from al...</td>\n",
              "      <td>2019/12/31 GMT+8 18:00</td>\n",
              "      <td>10</td>\n",
              "      <td>The Fruit, a company that sells fruits from al...</td>\n",
              "      <td>Apple Mango Banana Watermelon Orange Blueberry...</td>\n",
              "    </tr>\n",
              "    <tr>\n",
              "      <th>1</th>\n",
              "      <td>TW_8312566</td>\n",
              "      <td>TW</td>\n",
              "      <td>The Fruit, a company that sells fruits from al...</td>\n",
              "      <td>2019/12/31 GMT+8 18:00</td>\n",
              "      <td>27</td>\n",
              "      <td>The Fruit, a company that sells fruits from al...</td>\n",
              "      <td>Orange Pear Mango Papaya Peach Persimmon Lyche...</td>\n",
              "    </tr>\n",
              "    <tr>\n",
              "      <th>2</th>\n",
              "      <td>US_2289987</td>\n",
              "      <td>US</td>\n",
              "      <td>The Fruit, a company that sells fruits from al...</td>\n",
              "      <td>2019/12/29 GMT+8 18:00</td>\n",
              "      <td>12</td>\n",
              "      <td>The Fruit, a company that sells fruits from al...</td>\n",
              "      <td>Apple Orange Blueberry Lemon Cantaloupe Cherry</td>\n",
              "    </tr>\n",
              "    <tr>\n",
              "      <th>3</th>\n",
              "      <td>UK_1382574</td>\n",
              "      <td>UK</td>\n",
              "      <td>The Fruit, a company that sells fruits from al...</td>\n",
              "      <td>2019/12/15 GMT+8 05:00</td>\n",
              "      <td>1</td>\n",
              "      <td>The Fruit, a company that sells fruits from al...</td>\n",
              "      <td>Strawberry</td>\n",
              "    </tr>\n",
              "    <tr>\n",
              "      <th>4</th>\n",
              "      <td>TW_1382578</td>\n",
              "      <td>TW</td>\n",
              "      <td>The Fruit, a company that sells fruits from al...</td>\n",
              "      <td>2019/12/29 GMT+8 05:00</td>\n",
              "      <td>5</td>\n",
              "      <td>The Fruit, a company that sells fruits from al...</td>\n",
              "      <td>Mango Papaya Watermelon Lychee Guava Grape Longan</td>\n",
              "    </tr>\n",
              "    <tr>\n",
              "      <th>5</th>\n",
              "      <td>AU_1335358</td>\n",
              "      <td>AU</td>\n",
              "      <td>The Fruit, a company that sells fruits from al...</td>\n",
              "      <td>2019/12/31 GMT+8 05:00</td>\n",
              "      <td>10</td>\n",
              "      <td>The Fruit, a company that sells fruits from al...</td>\n",
              "      <td>Apple Orange Blueberry Mango Banana Watermelon...</td>\n",
              "    </tr>\n",
              "    <tr>\n",
              "      <th>6</th>\n",
              "      <td>TW_6662597</td>\n",
              "      <td>TW</td>\n",
              "      <td>The Fruit, a company that sells fruits from al...</td>\n",
              "      <td>2019/12/31 GMT+8 15:00</td>\n",
              "      <td>1</td>\n",
              "      <td>The Fruit, a company that sells fruits from al...</td>\n",
              "      <td>Apple Pomelo Mango Guava</td>\n",
              "    </tr>\n",
              "    <tr>\n",
              "      <th>7</th>\n",
              "      <td>TW_3352571</td>\n",
              "      <td>TW</td>\n",
              "      <td>The Fruit, a company that sells fruits from al...</td>\n",
              "      <td>2019/12/27 GMT+8 18:00</td>\n",
              "      <td>3</td>\n",
              "      <td>The Fruit, a company that sells fruits from al...</td>\n",
              "      <td>Pomelo Persimmon Roselle Tangerine Pineapple</td>\n",
              "    </tr>\n",
              "    <tr>\n",
              "      <th>8</th>\n",
              "      <td>US_7683478</td>\n",
              "      <td>US</td>\n",
              "      <td>The Fruit, a company that sells fruits from al...</td>\n",
              "      <td>2019/12/31 GMT+8 18:00</td>\n",
              "      <td>17</td>\n",
              "      <td>The Fruit, a company that sells fruits from al...</td>\n",
              "      <td>Raspberry Blueberry Pineapple Peach</td>\n",
              "    </tr>\n",
              "    <tr>\n",
              "      <th>9</th>\n",
              "      <td>US_4523771</td>\n",
              "      <td>US</td>\n",
              "      <td>The Fruit, a company that sells fruits from al...</td>\n",
              "      <td>2019/12/30 GMT+8 18:00</td>\n",
              "      <td>51</td>\n",
              "      <td>The Fruit, a company that sells fruits from al...</td>\n",
              "      <td>Blueberry Cherry Pear Blackberry</td>\n",
              "    </tr>\n",
              "  </tbody>\n",
              "</table>\n",
              "</div>"
            ],
            "text/plain": [
              "     Sales_ID  ...                                            Product\n",
              "0  AU_1382578  ...  Apple Mango Banana Watermelon Orange Blueberry...\n",
              "1  TW_8312566  ...  Orange Pear Mango Papaya Peach Persimmon Lyche...\n",
              "2  US_2289987  ...     Apple Orange Blueberry Lemon Cantaloupe Cherry\n",
              "3  UK_1382574  ...                                         Strawberry\n",
              "4  TW_1382578  ...  Mango Papaya Watermelon Lychee Guava Grape Longan\n",
              "5  AU_1335358  ...  Apple Orange Blueberry Mango Banana Watermelon...\n",
              "6  TW_6662597  ...                           Apple Pomelo Mango Guava\n",
              "7  TW_3352571  ...       Pomelo Persimmon Roselle Tangerine Pineapple\n",
              "8  US_7683478  ...                Raspberry Blueberry Pineapple Peach\n",
              "9  US_4523771  ...                   Blueberry Cherry Pear Blackberry\n",
              "\n",
              "[10 rows x 7 columns]"
            ]
          },
          "metadata": {
            "tags": []
          },
          "execution_count": 50
        }
      ]
    },
    {
      "cell_type": "markdown",
      "metadata": {
        "id": "51nHV1_QKdmv",
        "colab_type": "text"
      },
      "source": [
        "sort the list of products in the Product column."
      ]
    },
    {
      "cell_type": "code",
      "metadata": {
        "id": "uSR6d7-ZJV3o",
        "colab_type": "code",
        "colab": {}
      },
      "source": [
        "df[\"Product\"] =df[\"Product\"].str.split().apply(sorted)"
      ],
      "execution_count": null,
      "outputs": []
    },
    {
      "cell_type": "code",
      "metadata": {
        "id": "6QQ22PqKJV0p",
        "colab_type": "code",
        "colab": {
          "base_uri": "https://localhost:8080/",
          "height": 202
        },
        "outputId": "95ed787a-67c7-4650-b950-89ab7a16e00b"
      },
      "source": [
        "df[\"Product\"]"
      ],
      "execution_count": null,
      "outputs": [
        {
          "output_type": "execute_result",
          "data": {
            "text/plain": [
              "0    [Apple, Banana, Banana, Blueberry, Kiwifruit, ...\n",
              "1    [Guava, Lychee, Mango, Orange, Papaya, Peach, ...\n",
              "2    [Apple, Blueberry, Cantaloupe, Cherry, Lemon, ...\n",
              "3                                         [Strawberry]\n",
              "4    [Grape, Guava, Longan, Lychee, Mango, Papaya, ...\n",
              "5    [Apple, Avocado, Banana, Blueberry, Kiwifruit,...\n",
              "6                        [Apple, Guava, Mango, Pomelo]\n",
              "7    [Persimmon, Pineapple, Pomelo, Roselle, Tanger...\n",
              "8             [Blueberry, Peach, Pineapple, Raspberry]\n",
              "9                [Blackberry, Blueberry, Cherry, Pear]\n",
              "Name: Product, dtype: object"
            ]
          },
          "metadata": {
            "tags": []
          },
          "execution_count": 52
        }
      ]
    },
    {
      "cell_type": "code",
      "metadata": {
        "id": "yLDwZPnmJVl7",
        "colab_type": "code",
        "colab": {
          "base_uri": "https://localhost:8080/",
          "height": 202
        },
        "outputId": "b5b53965-2afa-4c47-deea-29af0b75742d"
      },
      "source": [
        "df['Product_Count'] = df[\"Product\"].str.len()\n",
        "df['Product_Count']"
      ],
      "execution_count": null,
      "outputs": [
        {
          "output_type": "execute_result",
          "data": {
            "text/plain": [
              "0    9\n",
              "1    8\n",
              "2    6\n",
              "3    1\n",
              "4    7\n",
              "5    9\n",
              "6    4\n",
              "7    5\n",
              "8    4\n",
              "9    4\n",
              "Name: Product_Count, dtype: int64"
            ]
          },
          "metadata": {
            "tags": []
          },
          "execution_count": 55
        }
      ]
    },
    {
      "cell_type": "markdown",
      "metadata": {
        "id": "skS0IgtpLcLL",
        "colab_type": "text"
      },
      "source": [
        "who sells the most variety of fruits in The Fruit!"
      ]
    },
    {
      "cell_type": "code",
      "metadata": {
        "id": "vSeMNXFKJVgH",
        "colab_type": "code",
        "colab": {
          "base_uri": "https://localhost:8080/",
          "height": 241
        },
        "outputId": "35ce05cb-1997-451f-905f-9fa37aca86d8"
      },
      "source": [
        "df[df['Product_Count']==df['Product_Count'].max()]"
      ],
      "execution_count": null,
      "outputs": [
        {
          "output_type": "execute_result",
          "data": {
            "text/html": [
              "<div>\n",
              "<style scoped>\n",
              "    .dataframe tbody tr th:only-of-type {\n",
              "        vertical-align: middle;\n",
              "    }\n",
              "\n",
              "    .dataframe tbody tr th {\n",
              "        vertical-align: top;\n",
              "    }\n",
              "\n",
              "    .dataframe thead th {\n",
              "        text-align: right;\n",
              "    }\n",
              "</style>\n",
              "<table border=\"1\" class=\"dataframe\">\n",
              "  <thead>\n",
              "    <tr style=\"text-align: right;\">\n",
              "      <th></th>\n",
              "      <th>Sales_ID</th>\n",
              "      <th>Sales_Branch</th>\n",
              "      <th>Product_Description</th>\n",
              "      <th>Recent_Sales_Date</th>\n",
              "      <th>Customer_Count</th>\n",
              "      <th>Description</th>\n",
              "      <th>Product</th>\n",
              "      <th>Product_Count</th>\n",
              "    </tr>\n",
              "  </thead>\n",
              "  <tbody>\n",
              "    <tr>\n",
              "      <th>0</th>\n",
              "      <td>AU_1382578</td>\n",
              "      <td>AU</td>\n",
              "      <td>The Fruit, a company that sells fruits from al...</td>\n",
              "      <td>2019/12/31 GMT+8 18:00</td>\n",
              "      <td>10</td>\n",
              "      <td>The Fruit, a company that sells fruits from al...</td>\n",
              "      <td>[Apple, Banana, Banana, Blueberry, Kiwifruit, ...</td>\n",
              "      <td>9</td>\n",
              "    </tr>\n",
              "    <tr>\n",
              "      <th>5</th>\n",
              "      <td>AU_1335358</td>\n",
              "      <td>AU</td>\n",
              "      <td>The Fruit, a company that sells fruits from al...</td>\n",
              "      <td>2019/12/31 GMT+8 05:00</td>\n",
              "      <td>10</td>\n",
              "      <td>The Fruit, a company that sells fruits from al...</td>\n",
              "      <td>[Apple, Avocado, Banana, Blueberry, Kiwifruit,...</td>\n",
              "      <td>9</td>\n",
              "    </tr>\n",
              "  </tbody>\n",
              "</table>\n",
              "</div>"
            ],
            "text/plain": [
              "     Sales_ID  ... Product_Count\n",
              "0  AU_1382578  ...             9\n",
              "5  AU_1335358  ...             9\n",
              "\n",
              "[2 rows x 8 columns]"
            ]
          },
          "metadata": {
            "tags": []
          },
          "execution_count": 57
        }
      ]
    },
    {
      "cell_type": "markdown",
      "metadata": {
        "id": "TdNB0Z7tL7Dr",
        "colab_type": "text"
      },
      "source": [
        "Split this column into Product_n"
      ]
    },
    {
      "cell_type": "code",
      "metadata": {
        "id": "N13GUjdTLmKE",
        "colab_type": "code",
        "colab": {
          "base_uri": "https://localhost:8080/",
          "height": 343
        },
        "outputId": "8aec21c5-a582-4a5e-c97f-5b8962885fc1"
      },
      "source": [
        "Products = df['Product'].apply(pd.Series)\n",
        "Products"
      ],
      "execution_count": null,
      "outputs": [
        {
          "output_type": "execute_result",
          "data": {
            "text/html": [
              "<div>\n",
              "<style scoped>\n",
              "    .dataframe tbody tr th:only-of-type {\n",
              "        vertical-align: middle;\n",
              "    }\n",
              "\n",
              "    .dataframe tbody tr th {\n",
              "        vertical-align: top;\n",
              "    }\n",
              "\n",
              "    .dataframe thead th {\n",
              "        text-align: right;\n",
              "    }\n",
              "</style>\n",
              "<table border=\"1\" class=\"dataframe\">\n",
              "  <thead>\n",
              "    <tr style=\"text-align: right;\">\n",
              "      <th></th>\n",
              "      <th>0</th>\n",
              "      <th>1</th>\n",
              "      <th>2</th>\n",
              "      <th>3</th>\n",
              "      <th>4</th>\n",
              "      <th>5</th>\n",
              "      <th>6</th>\n",
              "      <th>7</th>\n",
              "      <th>8</th>\n",
              "    </tr>\n",
              "  </thead>\n",
              "  <tbody>\n",
              "    <tr>\n",
              "      <th>0</th>\n",
              "      <td>Apple</td>\n",
              "      <td>Banana</td>\n",
              "      <td>Banana</td>\n",
              "      <td>Blueberry</td>\n",
              "      <td>Kiwifruit</td>\n",
              "      <td>Mango</td>\n",
              "      <td>Orange</td>\n",
              "      <td>Watermelon</td>\n",
              "      <td>Watermelon</td>\n",
              "    </tr>\n",
              "    <tr>\n",
              "      <th>1</th>\n",
              "      <td>Guava</td>\n",
              "      <td>Lychee</td>\n",
              "      <td>Mango</td>\n",
              "      <td>Orange</td>\n",
              "      <td>Papaya</td>\n",
              "      <td>Peach</td>\n",
              "      <td>Pear</td>\n",
              "      <td>Persimmon</td>\n",
              "      <td>NaN</td>\n",
              "    </tr>\n",
              "    <tr>\n",
              "      <th>2</th>\n",
              "      <td>Apple</td>\n",
              "      <td>Blueberry</td>\n",
              "      <td>Cantaloupe</td>\n",
              "      <td>Cherry</td>\n",
              "      <td>Lemon</td>\n",
              "      <td>Orange</td>\n",
              "      <td>NaN</td>\n",
              "      <td>NaN</td>\n",
              "      <td>NaN</td>\n",
              "    </tr>\n",
              "    <tr>\n",
              "      <th>3</th>\n",
              "      <td>Strawberry</td>\n",
              "      <td>NaN</td>\n",
              "      <td>NaN</td>\n",
              "      <td>NaN</td>\n",
              "      <td>NaN</td>\n",
              "      <td>NaN</td>\n",
              "      <td>NaN</td>\n",
              "      <td>NaN</td>\n",
              "      <td>NaN</td>\n",
              "    </tr>\n",
              "    <tr>\n",
              "      <th>4</th>\n",
              "      <td>Grape</td>\n",
              "      <td>Guava</td>\n",
              "      <td>Longan</td>\n",
              "      <td>Lychee</td>\n",
              "      <td>Mango</td>\n",
              "      <td>Papaya</td>\n",
              "      <td>Watermelon</td>\n",
              "      <td>NaN</td>\n",
              "      <td>NaN</td>\n",
              "    </tr>\n",
              "    <tr>\n",
              "      <th>5</th>\n",
              "      <td>Apple</td>\n",
              "      <td>Avocado</td>\n",
              "      <td>Banana</td>\n",
              "      <td>Blueberry</td>\n",
              "      <td>Kiwifruit</td>\n",
              "      <td>Mango</td>\n",
              "      <td>Orange</td>\n",
              "      <td>Stonefruit</td>\n",
              "      <td>Watermelon</td>\n",
              "    </tr>\n",
              "    <tr>\n",
              "      <th>6</th>\n",
              "      <td>Apple</td>\n",
              "      <td>Guava</td>\n",
              "      <td>Mango</td>\n",
              "      <td>Pomelo</td>\n",
              "      <td>NaN</td>\n",
              "      <td>NaN</td>\n",
              "      <td>NaN</td>\n",
              "      <td>NaN</td>\n",
              "      <td>NaN</td>\n",
              "    </tr>\n",
              "    <tr>\n",
              "      <th>7</th>\n",
              "      <td>Persimmon</td>\n",
              "      <td>Pineapple</td>\n",
              "      <td>Pomelo</td>\n",
              "      <td>Roselle</td>\n",
              "      <td>Tangerine</td>\n",
              "      <td>NaN</td>\n",
              "      <td>NaN</td>\n",
              "      <td>NaN</td>\n",
              "      <td>NaN</td>\n",
              "    </tr>\n",
              "    <tr>\n",
              "      <th>8</th>\n",
              "      <td>Blueberry</td>\n",
              "      <td>Peach</td>\n",
              "      <td>Pineapple</td>\n",
              "      <td>Raspberry</td>\n",
              "      <td>NaN</td>\n",
              "      <td>NaN</td>\n",
              "      <td>NaN</td>\n",
              "      <td>NaN</td>\n",
              "      <td>NaN</td>\n",
              "    </tr>\n",
              "    <tr>\n",
              "      <th>9</th>\n",
              "      <td>Blackberry</td>\n",
              "      <td>Blueberry</td>\n",
              "      <td>Cherry</td>\n",
              "      <td>Pear</td>\n",
              "      <td>NaN</td>\n",
              "      <td>NaN</td>\n",
              "      <td>NaN</td>\n",
              "      <td>NaN</td>\n",
              "      <td>NaN</td>\n",
              "    </tr>\n",
              "  </tbody>\n",
              "</table>\n",
              "</div>"
            ],
            "text/plain": [
              "            0          1           2  ...           6           7           8\n",
              "0       Apple     Banana      Banana  ...      Orange  Watermelon  Watermelon\n",
              "1       Guava     Lychee       Mango  ...        Pear   Persimmon         NaN\n",
              "2       Apple  Blueberry  Cantaloupe  ...         NaN         NaN         NaN\n",
              "3  Strawberry        NaN         NaN  ...         NaN         NaN         NaN\n",
              "4       Grape      Guava      Longan  ...  Watermelon         NaN         NaN\n",
              "5       Apple    Avocado      Banana  ...      Orange  Stonefruit  Watermelon\n",
              "6       Apple      Guava       Mango  ...         NaN         NaN         NaN\n",
              "7   Persimmon  Pineapple      Pomelo  ...         NaN         NaN         NaN\n",
              "8   Blueberry      Peach   Pineapple  ...         NaN         NaN         NaN\n",
              "9  Blackberry  Blueberry      Cherry  ...         NaN         NaN         NaN\n",
              "\n",
              "[10 rows x 9 columns]"
            ]
          },
          "metadata": {
            "tags": []
          },
          "execution_count": 58
        }
      ]
    },
    {
      "cell_type": "code",
      "metadata": {
        "id": "WqTkrJL5MnoW",
        "colab_type": "code",
        "colab": {}
      },
      "source": [
        "Products.columns = [\"Product_\"+str(i) for i in range(9)]"
      ],
      "execution_count": null,
      "outputs": []
    },
    {
      "cell_type": "code",
      "metadata": {
        "id": "HNnqdoRUM_61",
        "colab_type": "code",
        "colab": {
          "base_uri": "https://localhost:8080/",
          "height": 343
        },
        "outputId": "6af97a51-6567-45ed-f8c6-66087b4cb6ef"
      },
      "source": [
        "Products"
      ],
      "execution_count": null,
      "outputs": [
        {
          "output_type": "execute_result",
          "data": {
            "text/html": [
              "<div>\n",
              "<style scoped>\n",
              "    .dataframe tbody tr th:only-of-type {\n",
              "        vertical-align: middle;\n",
              "    }\n",
              "\n",
              "    .dataframe tbody tr th {\n",
              "        vertical-align: top;\n",
              "    }\n",
              "\n",
              "    .dataframe thead th {\n",
              "        text-align: right;\n",
              "    }\n",
              "</style>\n",
              "<table border=\"1\" class=\"dataframe\">\n",
              "  <thead>\n",
              "    <tr style=\"text-align: right;\">\n",
              "      <th></th>\n",
              "      <th>Product_0</th>\n",
              "      <th>Product_1</th>\n",
              "      <th>Product_2</th>\n",
              "      <th>Product_3</th>\n",
              "      <th>Product_4</th>\n",
              "      <th>Product_5</th>\n",
              "      <th>Product_6</th>\n",
              "      <th>Product_7</th>\n",
              "      <th>Product_8</th>\n",
              "    </tr>\n",
              "  </thead>\n",
              "  <tbody>\n",
              "    <tr>\n",
              "      <th>0</th>\n",
              "      <td>Apple</td>\n",
              "      <td>Banana</td>\n",
              "      <td>Banana</td>\n",
              "      <td>Blueberry</td>\n",
              "      <td>Kiwifruit</td>\n",
              "      <td>Mango</td>\n",
              "      <td>Orange</td>\n",
              "      <td>Watermelon</td>\n",
              "      <td>Watermelon</td>\n",
              "    </tr>\n",
              "    <tr>\n",
              "      <th>1</th>\n",
              "      <td>Guava</td>\n",
              "      <td>Lychee</td>\n",
              "      <td>Mango</td>\n",
              "      <td>Orange</td>\n",
              "      <td>Papaya</td>\n",
              "      <td>Peach</td>\n",
              "      <td>Pear</td>\n",
              "      <td>Persimmon</td>\n",
              "      <td>NaN</td>\n",
              "    </tr>\n",
              "    <tr>\n",
              "      <th>2</th>\n",
              "      <td>Apple</td>\n",
              "      <td>Blueberry</td>\n",
              "      <td>Cantaloupe</td>\n",
              "      <td>Cherry</td>\n",
              "      <td>Lemon</td>\n",
              "      <td>Orange</td>\n",
              "      <td>NaN</td>\n",
              "      <td>NaN</td>\n",
              "      <td>NaN</td>\n",
              "    </tr>\n",
              "    <tr>\n",
              "      <th>3</th>\n",
              "      <td>Strawberry</td>\n",
              "      <td>NaN</td>\n",
              "      <td>NaN</td>\n",
              "      <td>NaN</td>\n",
              "      <td>NaN</td>\n",
              "      <td>NaN</td>\n",
              "      <td>NaN</td>\n",
              "      <td>NaN</td>\n",
              "      <td>NaN</td>\n",
              "    </tr>\n",
              "    <tr>\n",
              "      <th>4</th>\n",
              "      <td>Grape</td>\n",
              "      <td>Guava</td>\n",
              "      <td>Longan</td>\n",
              "      <td>Lychee</td>\n",
              "      <td>Mango</td>\n",
              "      <td>Papaya</td>\n",
              "      <td>Watermelon</td>\n",
              "      <td>NaN</td>\n",
              "      <td>NaN</td>\n",
              "    </tr>\n",
              "    <tr>\n",
              "      <th>5</th>\n",
              "      <td>Apple</td>\n",
              "      <td>Avocado</td>\n",
              "      <td>Banana</td>\n",
              "      <td>Blueberry</td>\n",
              "      <td>Kiwifruit</td>\n",
              "      <td>Mango</td>\n",
              "      <td>Orange</td>\n",
              "      <td>Stonefruit</td>\n",
              "      <td>Watermelon</td>\n",
              "    </tr>\n",
              "    <tr>\n",
              "      <th>6</th>\n",
              "      <td>Apple</td>\n",
              "      <td>Guava</td>\n",
              "      <td>Mango</td>\n",
              "      <td>Pomelo</td>\n",
              "      <td>NaN</td>\n",
              "      <td>NaN</td>\n",
              "      <td>NaN</td>\n",
              "      <td>NaN</td>\n",
              "      <td>NaN</td>\n",
              "    </tr>\n",
              "    <tr>\n",
              "      <th>7</th>\n",
              "      <td>Persimmon</td>\n",
              "      <td>Pineapple</td>\n",
              "      <td>Pomelo</td>\n",
              "      <td>Roselle</td>\n",
              "      <td>Tangerine</td>\n",
              "      <td>NaN</td>\n",
              "      <td>NaN</td>\n",
              "      <td>NaN</td>\n",
              "      <td>NaN</td>\n",
              "    </tr>\n",
              "    <tr>\n",
              "      <th>8</th>\n",
              "      <td>Blueberry</td>\n",
              "      <td>Peach</td>\n",
              "      <td>Pineapple</td>\n",
              "      <td>Raspberry</td>\n",
              "      <td>NaN</td>\n",
              "      <td>NaN</td>\n",
              "      <td>NaN</td>\n",
              "      <td>NaN</td>\n",
              "      <td>NaN</td>\n",
              "    </tr>\n",
              "    <tr>\n",
              "      <th>9</th>\n",
              "      <td>Blackberry</td>\n",
              "      <td>Blueberry</td>\n",
              "      <td>Cherry</td>\n",
              "      <td>Pear</td>\n",
              "      <td>NaN</td>\n",
              "      <td>NaN</td>\n",
              "      <td>NaN</td>\n",
              "      <td>NaN</td>\n",
              "      <td>NaN</td>\n",
              "    </tr>\n",
              "  </tbody>\n",
              "</table>\n",
              "</div>"
            ],
            "text/plain": [
              "    Product_0  Product_1   Product_2  ...   Product_6   Product_7   Product_8\n",
              "0       Apple     Banana      Banana  ...      Orange  Watermelon  Watermelon\n",
              "1       Guava     Lychee       Mango  ...        Pear   Persimmon         NaN\n",
              "2       Apple  Blueberry  Cantaloupe  ...         NaN         NaN         NaN\n",
              "3  Strawberry        NaN         NaN  ...         NaN         NaN         NaN\n",
              "4       Grape      Guava      Longan  ...  Watermelon         NaN         NaN\n",
              "5       Apple    Avocado      Banana  ...      Orange  Stonefruit  Watermelon\n",
              "6       Apple      Guava       Mango  ...         NaN         NaN         NaN\n",
              "7   Persimmon  Pineapple      Pomelo  ...         NaN         NaN         NaN\n",
              "8   Blueberry      Peach   Pineapple  ...         NaN         NaN         NaN\n",
              "9  Blackberry  Blueberry      Cherry  ...         NaN         NaN         NaN\n",
              "\n",
              "[10 rows x 9 columns]"
            ]
          },
          "metadata": {
            "tags": []
          },
          "execution_count": 60
        }
      ]
    },
    {
      "cell_type": "markdown",
      "metadata": {
        "id": "oonfk50lNcvw",
        "colab_type": "text"
      },
      "source": [
        "Do one-hot encoding on each product"
      ]
    },
    {
      "cell_type": "markdown",
      "metadata": {
        "id": "DATW-CbWOODs",
        "colab_type": "text"
      },
      "source": [
        "We are using the original form from the split because we can use whitespace to separate them. (Fill free to try using the list form with a loop!)"
      ]
    },
    {
      "cell_type": "code",
      "metadata": {
        "id": "3eN6EcBUNAv9",
        "colab_type": "code",
        "colab": {
          "base_uri": "https://localhost:8080/",
          "height": 202
        },
        "outputId": "c4e83090-230c-4263-a730-600b1cc586fe"
      },
      "source": [
        "Products2 = df['Product_Description'].str.split(': ', expand=True)[1]\n",
        "Products2"
      ],
      "execution_count": null,
      "outputs": [
        {
          "output_type": "execute_result",
          "data": {
            "text/plain": [
              "0    Apple Mango Banana Watermelon Orange Blueberry...\n",
              "1    Orange Pear Mango Papaya Peach Persimmon Lyche...\n",
              "2       Apple Orange Blueberry Lemon Cantaloupe Cherry\n",
              "3                                           Strawberry\n",
              "4    Mango Papaya Watermelon Lychee Guava Grape Longan\n",
              "5    Apple Orange Blueberry Mango Banana Watermelon...\n",
              "6                             Apple Pomelo Mango Guava\n",
              "7         Pomelo Persimmon Roselle Tangerine Pineapple\n",
              "8                  Raspberry Blueberry Pineapple Peach\n",
              "9                     Blueberry Cherry Pear Blackberry\n",
              "Name: 1, dtype: object"
            ]
          },
          "metadata": {
            "tags": []
          },
          "execution_count": 64
        }
      ]
    },
    {
      "cell_type": "code",
      "metadata": {
        "id": "akoDq_3oNrU9",
        "colab_type": "code",
        "colab": {
          "base_uri": "https://localhost:8080/",
          "height": 363
        },
        "outputId": "13f3f505-1c21-41e6-899a-d0d4ce243d58"
      },
      "source": [
        "Products2 = df['Product_Description'].str.split(': ', expand=True)[1].str.get_dummies(' ')\n",
        "Products2"
      ],
      "execution_count": null,
      "outputs": [
        {
          "output_type": "execute_result",
          "data": {
            "text/html": [
              "<div>\n",
              "<style scoped>\n",
              "    .dataframe tbody tr th:only-of-type {\n",
              "        vertical-align: middle;\n",
              "    }\n",
              "\n",
              "    .dataframe tbody tr th {\n",
              "        vertical-align: top;\n",
              "    }\n",
              "\n",
              "    .dataframe thead th {\n",
              "        text-align: right;\n",
              "    }\n",
              "</style>\n",
              "<table border=\"1\" class=\"dataframe\">\n",
              "  <thead>\n",
              "    <tr style=\"text-align: right;\">\n",
              "      <th></th>\n",
              "      <th>Apple</th>\n",
              "      <th>Avocado</th>\n",
              "      <th>Banana</th>\n",
              "      <th>Blackberry</th>\n",
              "      <th>Blueberry</th>\n",
              "      <th>Cantaloupe</th>\n",
              "      <th>Cherry</th>\n",
              "      <th>Grape</th>\n",
              "      <th>Guava</th>\n",
              "      <th>Kiwifruit</th>\n",
              "      <th>Lemon</th>\n",
              "      <th>Longan</th>\n",
              "      <th>Lychee</th>\n",
              "      <th>Mango</th>\n",
              "      <th>Orange</th>\n",
              "      <th>Papaya</th>\n",
              "      <th>Peach</th>\n",
              "      <th>Pear</th>\n",
              "      <th>Persimmon</th>\n",
              "      <th>Pineapple</th>\n",
              "      <th>Pomelo</th>\n",
              "      <th>Raspberry</th>\n",
              "      <th>Roselle</th>\n",
              "      <th>Stonefruit</th>\n",
              "      <th>Strawberry</th>\n",
              "      <th>Tangerine</th>\n",
              "      <th>Watermelon</th>\n",
              "    </tr>\n",
              "  </thead>\n",
              "  <tbody>\n",
              "    <tr>\n",
              "      <th>0</th>\n",
              "      <td>1</td>\n",
              "      <td>0</td>\n",
              "      <td>1</td>\n",
              "      <td>0</td>\n",
              "      <td>1</td>\n",
              "      <td>0</td>\n",
              "      <td>0</td>\n",
              "      <td>0</td>\n",
              "      <td>0</td>\n",
              "      <td>1</td>\n",
              "      <td>0</td>\n",
              "      <td>0</td>\n",
              "      <td>0</td>\n",
              "      <td>1</td>\n",
              "      <td>1</td>\n",
              "      <td>0</td>\n",
              "      <td>0</td>\n",
              "      <td>0</td>\n",
              "      <td>0</td>\n",
              "      <td>0</td>\n",
              "      <td>0</td>\n",
              "      <td>0</td>\n",
              "      <td>0</td>\n",
              "      <td>0</td>\n",
              "      <td>0</td>\n",
              "      <td>0</td>\n",
              "      <td>1</td>\n",
              "    </tr>\n",
              "    <tr>\n",
              "      <th>1</th>\n",
              "      <td>0</td>\n",
              "      <td>0</td>\n",
              "      <td>0</td>\n",
              "      <td>0</td>\n",
              "      <td>0</td>\n",
              "      <td>0</td>\n",
              "      <td>0</td>\n",
              "      <td>0</td>\n",
              "      <td>1</td>\n",
              "      <td>0</td>\n",
              "      <td>0</td>\n",
              "      <td>0</td>\n",
              "      <td>1</td>\n",
              "      <td>1</td>\n",
              "      <td>1</td>\n",
              "      <td>1</td>\n",
              "      <td>1</td>\n",
              "      <td>1</td>\n",
              "      <td>1</td>\n",
              "      <td>0</td>\n",
              "      <td>0</td>\n",
              "      <td>0</td>\n",
              "      <td>0</td>\n",
              "      <td>0</td>\n",
              "      <td>0</td>\n",
              "      <td>0</td>\n",
              "      <td>0</td>\n",
              "    </tr>\n",
              "    <tr>\n",
              "      <th>2</th>\n",
              "      <td>1</td>\n",
              "      <td>0</td>\n",
              "      <td>0</td>\n",
              "      <td>0</td>\n",
              "      <td>1</td>\n",
              "      <td>1</td>\n",
              "      <td>1</td>\n",
              "      <td>0</td>\n",
              "      <td>0</td>\n",
              "      <td>0</td>\n",
              "      <td>1</td>\n",
              "      <td>0</td>\n",
              "      <td>0</td>\n",
              "      <td>0</td>\n",
              "      <td>1</td>\n",
              "      <td>0</td>\n",
              "      <td>0</td>\n",
              "      <td>0</td>\n",
              "      <td>0</td>\n",
              "      <td>0</td>\n",
              "      <td>0</td>\n",
              "      <td>0</td>\n",
              "      <td>0</td>\n",
              "      <td>0</td>\n",
              "      <td>0</td>\n",
              "      <td>0</td>\n",
              "      <td>0</td>\n",
              "    </tr>\n",
              "    <tr>\n",
              "      <th>3</th>\n",
              "      <td>0</td>\n",
              "      <td>0</td>\n",
              "      <td>0</td>\n",
              "      <td>0</td>\n",
              "      <td>0</td>\n",
              "      <td>0</td>\n",
              "      <td>0</td>\n",
              "      <td>0</td>\n",
              "      <td>0</td>\n",
              "      <td>0</td>\n",
              "      <td>0</td>\n",
              "      <td>0</td>\n",
              "      <td>0</td>\n",
              "      <td>0</td>\n",
              "      <td>0</td>\n",
              "      <td>0</td>\n",
              "      <td>0</td>\n",
              "      <td>0</td>\n",
              "      <td>0</td>\n",
              "      <td>0</td>\n",
              "      <td>0</td>\n",
              "      <td>0</td>\n",
              "      <td>0</td>\n",
              "      <td>0</td>\n",
              "      <td>1</td>\n",
              "      <td>0</td>\n",
              "      <td>0</td>\n",
              "    </tr>\n",
              "    <tr>\n",
              "      <th>4</th>\n",
              "      <td>0</td>\n",
              "      <td>0</td>\n",
              "      <td>0</td>\n",
              "      <td>0</td>\n",
              "      <td>0</td>\n",
              "      <td>0</td>\n",
              "      <td>0</td>\n",
              "      <td>1</td>\n",
              "      <td>1</td>\n",
              "      <td>0</td>\n",
              "      <td>0</td>\n",
              "      <td>1</td>\n",
              "      <td>1</td>\n",
              "      <td>1</td>\n",
              "      <td>0</td>\n",
              "      <td>1</td>\n",
              "      <td>0</td>\n",
              "      <td>0</td>\n",
              "      <td>0</td>\n",
              "      <td>0</td>\n",
              "      <td>0</td>\n",
              "      <td>0</td>\n",
              "      <td>0</td>\n",
              "      <td>0</td>\n",
              "      <td>0</td>\n",
              "      <td>0</td>\n",
              "      <td>1</td>\n",
              "    </tr>\n",
              "    <tr>\n",
              "      <th>5</th>\n",
              "      <td>1</td>\n",
              "      <td>1</td>\n",
              "      <td>1</td>\n",
              "      <td>0</td>\n",
              "      <td>1</td>\n",
              "      <td>0</td>\n",
              "      <td>0</td>\n",
              "      <td>0</td>\n",
              "      <td>0</td>\n",
              "      <td>1</td>\n",
              "      <td>0</td>\n",
              "      <td>0</td>\n",
              "      <td>0</td>\n",
              "      <td>1</td>\n",
              "      <td>1</td>\n",
              "      <td>0</td>\n",
              "      <td>0</td>\n",
              "      <td>0</td>\n",
              "      <td>0</td>\n",
              "      <td>0</td>\n",
              "      <td>0</td>\n",
              "      <td>0</td>\n",
              "      <td>0</td>\n",
              "      <td>1</td>\n",
              "      <td>0</td>\n",
              "      <td>0</td>\n",
              "      <td>1</td>\n",
              "    </tr>\n",
              "    <tr>\n",
              "      <th>6</th>\n",
              "      <td>1</td>\n",
              "      <td>0</td>\n",
              "      <td>0</td>\n",
              "      <td>0</td>\n",
              "      <td>0</td>\n",
              "      <td>0</td>\n",
              "      <td>0</td>\n",
              "      <td>0</td>\n",
              "      <td>1</td>\n",
              "      <td>0</td>\n",
              "      <td>0</td>\n",
              "      <td>0</td>\n",
              "      <td>0</td>\n",
              "      <td>1</td>\n",
              "      <td>0</td>\n",
              "      <td>0</td>\n",
              "      <td>0</td>\n",
              "      <td>0</td>\n",
              "      <td>0</td>\n",
              "      <td>0</td>\n",
              "      <td>1</td>\n",
              "      <td>0</td>\n",
              "      <td>0</td>\n",
              "      <td>0</td>\n",
              "      <td>0</td>\n",
              "      <td>0</td>\n",
              "      <td>0</td>\n",
              "    </tr>\n",
              "    <tr>\n",
              "      <th>7</th>\n",
              "      <td>0</td>\n",
              "      <td>0</td>\n",
              "      <td>0</td>\n",
              "      <td>0</td>\n",
              "      <td>0</td>\n",
              "      <td>0</td>\n",
              "      <td>0</td>\n",
              "      <td>0</td>\n",
              "      <td>0</td>\n",
              "      <td>0</td>\n",
              "      <td>0</td>\n",
              "      <td>0</td>\n",
              "      <td>0</td>\n",
              "      <td>0</td>\n",
              "      <td>0</td>\n",
              "      <td>0</td>\n",
              "      <td>0</td>\n",
              "      <td>0</td>\n",
              "      <td>1</td>\n",
              "      <td>1</td>\n",
              "      <td>1</td>\n",
              "      <td>0</td>\n",
              "      <td>1</td>\n",
              "      <td>0</td>\n",
              "      <td>0</td>\n",
              "      <td>1</td>\n",
              "      <td>0</td>\n",
              "    </tr>\n",
              "    <tr>\n",
              "      <th>8</th>\n",
              "      <td>0</td>\n",
              "      <td>0</td>\n",
              "      <td>0</td>\n",
              "      <td>0</td>\n",
              "      <td>1</td>\n",
              "      <td>0</td>\n",
              "      <td>0</td>\n",
              "      <td>0</td>\n",
              "      <td>0</td>\n",
              "      <td>0</td>\n",
              "      <td>0</td>\n",
              "      <td>0</td>\n",
              "      <td>0</td>\n",
              "      <td>0</td>\n",
              "      <td>0</td>\n",
              "      <td>0</td>\n",
              "      <td>1</td>\n",
              "      <td>0</td>\n",
              "      <td>0</td>\n",
              "      <td>1</td>\n",
              "      <td>0</td>\n",
              "      <td>1</td>\n",
              "      <td>0</td>\n",
              "      <td>0</td>\n",
              "      <td>0</td>\n",
              "      <td>0</td>\n",
              "      <td>0</td>\n",
              "    </tr>\n",
              "    <tr>\n",
              "      <th>9</th>\n",
              "      <td>0</td>\n",
              "      <td>0</td>\n",
              "      <td>0</td>\n",
              "      <td>1</td>\n",
              "      <td>1</td>\n",
              "      <td>0</td>\n",
              "      <td>1</td>\n",
              "      <td>0</td>\n",
              "      <td>0</td>\n",
              "      <td>0</td>\n",
              "      <td>0</td>\n",
              "      <td>0</td>\n",
              "      <td>0</td>\n",
              "      <td>0</td>\n",
              "      <td>0</td>\n",
              "      <td>0</td>\n",
              "      <td>0</td>\n",
              "      <td>1</td>\n",
              "      <td>0</td>\n",
              "      <td>0</td>\n",
              "      <td>0</td>\n",
              "      <td>0</td>\n",
              "      <td>0</td>\n",
              "      <td>0</td>\n",
              "      <td>0</td>\n",
              "      <td>0</td>\n",
              "      <td>0</td>\n",
              "    </tr>\n",
              "  </tbody>\n",
              "</table>\n",
              "</div>"
            ],
            "text/plain": [
              "   Apple  Avocado  Banana  ...  Strawberry  Tangerine  Watermelon\n",
              "0      1        0       1  ...           0          0           1\n",
              "1      0        0       0  ...           0          0           0\n",
              "2      1        0       0  ...           0          0           0\n",
              "3      0        0       0  ...           1          0           0\n",
              "4      0        0       0  ...           0          0           1\n",
              "5      1        1       1  ...           0          0           1\n",
              "6      1        0       0  ...           0          0           0\n",
              "7      0        0       0  ...           0          1           0\n",
              "8      0        0       0  ...           0          0           0\n",
              "9      0        0       0  ...           0          0           0\n",
              "\n",
              "[10 rows x 27 columns]"
            ]
          },
          "metadata": {
            "tags": []
          },
          "execution_count": 65
        }
      ]
    },
    {
      "cell_type": "markdown",
      "metadata": {
        "id": "8SleIMH2On1S",
        "colab_type": "text"
      },
      "source": [
        "turn the Recent_Sales_Date column into a “year-month-day” format. "
      ]
    },
    {
      "cell_type": "code",
      "metadata": {
        "id": "G5vkqxMtNram",
        "colab_type": "code",
        "colab": {
          "base_uri": "https://localhost:8080/",
          "height": 269
        },
        "outputId": "19b62590-b189-4abb-df4b-e272f19049d2"
      },
      "source": [
        "df.info()"
      ],
      "execution_count": null,
      "outputs": [
        {
          "output_type": "stream",
          "text": [
            "<class 'pandas.core.frame.DataFrame'>\n",
            "Int64Index: 10 entries, 0 to 9\n",
            "Data columns (total 8 columns):\n",
            " #   Column               Non-Null Count  Dtype \n",
            "---  ------               --------------  ----- \n",
            " 0   Sales_ID             10 non-null     object\n",
            " 1   Sales_Branch         10 non-null     object\n",
            " 2   Product_Description  10 non-null     object\n",
            " 3   Recent_Sales_Date    10 non-null     object\n",
            " 4   Customer_Count       10 non-null     int64 \n",
            " 5   Description          10 non-null     object\n",
            " 6   Product              10 non-null     object\n",
            " 7   Product_Count        10 non-null     int64 \n",
            "dtypes: int64(2), object(6)\n",
            "memory usage: 1.0+ KB\n"
          ],
          "name": "stdout"
        }
      ]
    },
    {
      "cell_type": "code",
      "metadata": {
        "id": "PTE2jmmqNrXy",
        "colab_type": "code",
        "colab": {}
      },
      "source": [
        "df[\"Recent_Sales_Date\"] = pd.to_datetime(df[\"Recent_Sales_Date\"].str.split(expand=True)[0])"
      ],
      "execution_count": null,
      "outputs": []
    },
    {
      "cell_type": "code",
      "metadata": {
        "id": "H2P0jHlyNrSM",
        "colab_type": "code",
        "colab": {
          "base_uri": "https://localhost:8080/",
          "height": 202
        },
        "outputId": "7113a38d-0fd2-423b-afb6-459b9412e6a4"
      },
      "source": [
        "df[\"Recent_Sales_Date\"]"
      ],
      "execution_count": null,
      "outputs": [
        {
          "output_type": "execute_result",
          "data": {
            "text/plain": [
              "0   2019-12-31\n",
              "1   2019-12-31\n",
              "2   2019-12-29\n",
              "3   2019-12-15\n",
              "4   2019-12-29\n",
              "5   2019-12-31\n",
              "6   2019-12-31\n",
              "7   2019-12-27\n",
              "8   2019-12-31\n",
              "9   2019-12-30\n",
              "Name: Recent_Sales_Date, dtype: datetime64[ns]"
            ]
          },
          "metadata": {
            "tags": []
          },
          "execution_count": 70
        }
      ]
    },
    {
      "cell_type": "code",
      "metadata": {
        "id": "wDIaBE34PTZM",
        "colab_type": "code",
        "colab": {}
      },
      "source": [
        ""
      ],
      "execution_count": null,
      "outputs": []
    }
  ]
}