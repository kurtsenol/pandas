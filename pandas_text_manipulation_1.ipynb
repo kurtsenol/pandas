{
  "nbformat": 4,
  "nbformat_minor": 0,
  "metadata": {
    "colab": {
      "name": "pandas_text_manipulation_1.ipynb",
      "provenance": [],
      "collapsed_sections": [],
      "mount_file_id": "1KkRKTu0T8GA9vtByNNbWE7F6uOdtst40",
      "authorship_tag": "ABX9TyMuwabyWauop2PNVnkn4Nne",
      "include_colab_link": true
    },
    "kernelspec": {
      "name": "python3",
      "display_name": "Python 3"
    }
  },
  "cells": [
    {
      "cell_type": "markdown",
      "metadata": {
        "id": "view-in-github",
        "colab_type": "text"
      },
      "source": [
        "<a href=\"https://colab.research.google.com/github/kurtsenol/pandas/blob/master/pandas_text_manipulation_1.ipynb\" target=\"_parent\"><img src=\"https://colab.research.google.com/assets/colab-badge.svg\" alt=\"Open In Colab\"/></a>"
      ]
    },
    {
      "cell_type": "code",
      "metadata": {
        "id": "v0Zh4RSPqUyQ"
      },
      "source": [
        "import pandas as pd"
      ],
      "execution_count": null,
      "outputs": []
    },
    {
      "cell_type": "code",
      "metadata": {
        "id": "g3HsUeEIHL1d",
        "outputId": "680529f8-514a-4de3-9e04-4037cdadeea7",
        "colab": {
          "base_uri": "https://localhost:8080/",
          "height": 343
        }
      },
      "source": [
        "df = pd.read_csv(\"https://raw.githubusercontent.com/yunglinchang/DataScience_playground/master/Pandas/data/TheFruit_sales.csv\", index_col=0)\n",
        "df"
      ],
      "execution_count": null,
      "outputs": [
        {
          "output_type": "execute_result",
          "data": {
            "text/html": [
              "<div>\n",
              "<style scoped>\n",
              "    .dataframe tbody tr th:only-of-type {\n",
              "        vertical-align: middle;\n",
              "    }\n",
              "\n",
              "    .dataframe tbody tr th {\n",
              "        vertical-align: top;\n",
              "    }\n",
              "\n",
              "    .dataframe thead th {\n",
              "        text-align: right;\n",
              "    }\n",
              "</style>\n",
              "<table border=\"1\" class=\"dataframe\">\n",
              "  <thead>\n",
              "    <tr style=\"text-align: right;\">\n",
              "      <th></th>\n",
              "      <th>Sales_ID</th>\n",
              "      <th>Sales_Branch</th>\n",
              "      <th>Product_Description</th>\n",
              "      <th>Recent_Sales_Date</th>\n",
              "      <th>Customer_Count</th>\n",
              "    </tr>\n",
              "  </thead>\n",
              "  <tbody>\n",
              "    <tr>\n",
              "      <th>0</th>\n",
              "      <td>AU_1382578        !</td>\n",
              "      <td>NaN</td>\n",
              "      <td>The Fruit, a company that sells fruits from al...</td>\n",
              "      <td>2019/12/31 GMT+8 18:00</td>\n",
              "      <td>10</td>\n",
              "    </tr>\n",
              "    <tr>\n",
              "      <th>1</th>\n",
              "      <td>TW_8312566       !</td>\n",
              "      <td>NaN</td>\n",
              "      <td>The Fruit, a company that sells fruits from al...</td>\n",
              "      <td>2019/12/31 GMT+8 18:00</td>\n",
              "      <td>27</td>\n",
              "    </tr>\n",
              "    <tr>\n",
              "      <th>2</th>\n",
              "      <td>US_2289987       !</td>\n",
              "      <td>NaN</td>\n",
              "      <td>The Fruit, a company that sells fruits from al...</td>\n",
              "      <td>2019/12/29 GMT+8 18:00</td>\n",
              "      <td>12</td>\n",
              "    </tr>\n",
              "    <tr>\n",
              "      <th>3</th>\n",
              "      <td>UK_1382574       !</td>\n",
              "      <td>NaN</td>\n",
              "      <td>The Fruit, a company that sells fruits from al...</td>\n",
              "      <td>2019/12/15 GMT+8 05:00</td>\n",
              "      <td>1</td>\n",
              "    </tr>\n",
              "    <tr>\n",
              "      <th>4</th>\n",
              "      <td>TW_1382578       !</td>\n",
              "      <td>NaN</td>\n",
              "      <td>The Fruit, a company that sells fruits from al...</td>\n",
              "      <td>2019/12/29 GMT+8 05:00</td>\n",
              "      <td>5</td>\n",
              "    </tr>\n",
              "    <tr>\n",
              "      <th>5</th>\n",
              "      <td>AU_1335358       !</td>\n",
              "      <td>NaN</td>\n",
              "      <td>The Fruit, a company that sells fruits from al...</td>\n",
              "      <td>2019/12/31 GMT+8 05:00</td>\n",
              "      <td>10</td>\n",
              "    </tr>\n",
              "    <tr>\n",
              "      <th>6</th>\n",
              "      <td>TW_6662597       !</td>\n",
              "      <td>NaN</td>\n",
              "      <td>The Fruit, a company that sells fruits from al...</td>\n",
              "      <td>2019/12/31 GMT+8 15:00</td>\n",
              "      <td>1</td>\n",
              "    </tr>\n",
              "    <tr>\n",
              "      <th>7</th>\n",
              "      <td>TW_3352571       !</td>\n",
              "      <td>NaN</td>\n",
              "      <td>The Fruit, a company that sells fruits from al...</td>\n",
              "      <td>2019/12/27 GMT+8 18:00</td>\n",
              "      <td>3</td>\n",
              "    </tr>\n",
              "    <tr>\n",
              "      <th>8</th>\n",
              "      <td>US_7683478       !</td>\n",
              "      <td>NaN</td>\n",
              "      <td>The Fruit, a company that sells fruits from al...</td>\n",
              "      <td>2019/12/31 GMT+8 18:00</td>\n",
              "      <td>17</td>\n",
              "    </tr>\n",
              "    <tr>\n",
              "      <th>9</th>\n",
              "      <td>US_4523771       !</td>\n",
              "      <td>NaN</td>\n",
              "      <td>The Fruit, a company that sells fruits from al...</td>\n",
              "      <td>2019/12/30 GMT+8 18:00</td>\n",
              "      <td>51</td>\n",
              "    </tr>\n",
              "  </tbody>\n",
              "</table>\n",
              "</div>"
            ],
            "text/plain": [
              "              Sales_ID  Sales_Branch  ...       Recent_Sales_Date Customer_Count\n",
              "0  AU_1382578        !           NaN  ...  2019/12/31 GMT+8 18:00             10\n",
              "1   TW_8312566       !           NaN  ...  2019/12/31 GMT+8 18:00             27\n",
              "2   US_2289987       !           NaN  ...  2019/12/29 GMT+8 18:00             12\n",
              "3   UK_1382574       !           NaN  ...  2019/12/15 GMT+8 05:00              1\n",
              "4   TW_1382578       !           NaN  ...  2019/12/29 GMT+8 05:00              5\n",
              "5   AU_1335358       !           NaN  ...  2019/12/31 GMT+8 05:00             10\n",
              "6   TW_6662597       !           NaN  ...  2019/12/31 GMT+8 15:00              1\n",
              "7   TW_3352571       !           NaN  ...  2019/12/27 GMT+8 18:00              3\n",
              "8   US_7683478       !           NaN  ...  2019/12/31 GMT+8 18:00             17\n",
              "9   US_4523771       !           NaN  ...  2019/12/30 GMT+8 18:00             51\n",
              "\n",
              "[10 rows x 5 columns]"
            ]
          },
          "metadata": {
            "tags": []
          },
          "execution_count": 2
        }
      ]
    },
    {
      "cell_type": "code",
      "metadata": {
        "id": "t-XoVik2HO_R",
        "outputId": "4c1dc98d-9a77-429d-d5e2-7d54223edfe7",
        "colab": {
          "base_uri": "https://localhost:8080/",
          "height": 218
        }
      },
      "source": [
        "df.info()"
      ],
      "execution_count": null,
      "outputs": [
        {
          "output_type": "stream",
          "text": [
            "<class 'pandas.core.frame.DataFrame'>\n",
            "Int64Index: 10 entries, 0 to 9\n",
            "Data columns (total 5 columns):\n",
            " #   Column               Non-Null Count  Dtype  \n",
            "---  ------               --------------  -----  \n",
            " 0   Sales_ID             10 non-null     object \n",
            " 1   Sales_Branch         0 non-null      float64\n",
            " 2   Product_Description  10 non-null     object \n",
            " 3   Recent_Sales_Date    10 non-null     object \n",
            " 4   Customer_Count       10 non-null     int64  \n",
            "dtypes: float64(1), int64(1), object(3)\n",
            "memory usage: 480.0+ bytes\n"
          ],
          "name": "stdout"
        }
      ]
    },
    {
      "cell_type": "code",
      "metadata": {
        "id": "2P6HnU-JHqDr",
        "outputId": "169322fa-9567-4107-d9c0-d8fb5064b97b",
        "colab": {
          "base_uri": "https://localhost:8080/",
          "height": 118
        }
      },
      "source": [
        "df.Sales_ID[:5]"
      ],
      "execution_count": null,
      "outputs": [
        {
          "output_type": "execute_result",
          "data": {
            "text/plain": [
              "0    AU_1382578        !\n",
              "1     TW_8312566       !\n",
              "2     US_2289987       !\n",
              "3     UK_1382574       !\n",
              "4     TW_1382578       !\n",
              "Name: Sales_ID, dtype: object"
            ]
          },
          "metadata": {
            "tags": []
          },
          "execution_count": 4
        }
      ]
    },
    {
      "cell_type": "markdown",
      "metadata": {
        "id": "2SDa-lOcIGdi"
      },
      "source": [
        "unnecessary spaces and an exclamation mark for the ID itself"
      ]
    },
    {
      "cell_type": "code",
      "metadata": {
        "id": "sDSqL8aDM4Vz",
        "outputId": "9fcad0c5-2406-4220-bee7-4a24148c559a",
        "colab": {
          "base_uri": "https://localhost:8080/",
          "height": 118
        }
      },
      "source": [
        "df.Sales_ID = df.Sales_ID.str.rstrip(\"!\").str.strip()\n",
        "df.Sales_ID[:5]"
      ],
      "execution_count": null,
      "outputs": [
        {
          "output_type": "execute_result",
          "data": {
            "text/plain": [
              "0    AU_1382578\n",
              "1    TW_8312566\n",
              "2    US_2289987\n",
              "3    UK_1382574\n",
              "4    TW_1382578\n",
              "Name: Sales_ID, dtype: object"
            ]
          },
          "metadata": {
            "tags": []
          },
          "execution_count": 5
        }
      ]
    },
    {
      "cell_type": "code",
      "metadata": {
        "id": "17_MZ9wfH4kG"
      },
      "source": [
        "# df[\"Sales_ID\"] = df.Sales_ID.str.rstrip(\"!\").str.strip()"
      ],
      "execution_count": null,
      "outputs": []
    },
    {
      "cell_type": "code",
      "metadata": {
        "id": "8k8nfqqEH4pq",
        "outputId": "4c6299e1-e832-49f6-8e86-90ec65878a6c",
        "colab": {
          "base_uri": "https://localhost:8080/",
          "height": 118
        }
      },
      "source": [
        "df.Sales_ID[:5]"
      ],
      "execution_count": null,
      "outputs": [
        {
          "output_type": "execute_result",
          "data": {
            "text/plain": [
              "0    AU_1382578\n",
              "1    TW_8312566\n",
              "2    US_2289987\n",
              "3    UK_1382574\n",
              "4    TW_1382578\n",
              "Name: Sales_ID, dtype: object"
            ]
          },
          "metadata": {
            "tags": []
          },
          "execution_count": 7
        }
      ]
    },
    {
      "cell_type": "markdown",
      "metadata": {
        "id": "cPBK-DAhI8re"
      },
      "source": [
        "Fill 'Sales_Branch' from \"Sales_ID\" column "
      ]
    },
    {
      "cell_type": "code",
      "metadata": {
        "id": "NGCHP5sMNLF9",
        "outputId": "dfd883d6-1406-4f32-a509-01748f9394e5",
        "colab": {
          "base_uri": "https://localhost:8080/",
          "height": 202
        }
      },
      "source": [
        "df[\"Sales_Branch\"] = df[\"Sales_ID\"].str[:2]\n",
        "df[\"Sales_Branch\"]"
      ],
      "execution_count": null,
      "outputs": [
        {
          "output_type": "execute_result",
          "data": {
            "text/plain": [
              "0    AU\n",
              "1    TW\n",
              "2    US\n",
              "3    UK\n",
              "4    TW\n",
              "5    AU\n",
              "6    TW\n",
              "7    TW\n",
              "8    US\n",
              "9    US\n",
              "Name: Sales_Branch, dtype: object"
            ]
          },
          "metadata": {
            "tags": []
          },
          "execution_count": 8
        }
      ]
    },
    {
      "cell_type": "code",
      "metadata": {
        "id": "el2APjyvH4nI"
      },
      "source": [
        "# df['Sales_Branch'] = df[\"Sales_ID\"].str[:2]"
      ],
      "execution_count": null,
      "outputs": []
    },
    {
      "cell_type": "code",
      "metadata": {
        "id": "1JovCvUaH4ha",
        "outputId": "39ff73db-dc57-4b0e-faf6-9f08e3e63089",
        "colab": {
          "base_uri": "https://localhost:8080/",
          "height": 343
        }
      },
      "source": [
        "df"
      ],
      "execution_count": null,
      "outputs": [
        {
          "output_type": "execute_result",
          "data": {
            "text/html": [
              "<div>\n",
              "<style scoped>\n",
              "    .dataframe tbody tr th:only-of-type {\n",
              "        vertical-align: middle;\n",
              "    }\n",
              "\n",
              "    .dataframe tbody tr th {\n",
              "        vertical-align: top;\n",
              "    }\n",
              "\n",
              "    .dataframe thead th {\n",
              "        text-align: right;\n",
              "    }\n",
              "</style>\n",
              "<table border=\"1\" class=\"dataframe\">\n",
              "  <thead>\n",
              "    <tr style=\"text-align: right;\">\n",
              "      <th></th>\n",
              "      <th>Sales_ID</th>\n",
              "      <th>Sales_Branch</th>\n",
              "      <th>Product_Description</th>\n",
              "      <th>Recent_Sales_Date</th>\n",
              "      <th>Customer_Count</th>\n",
              "    </tr>\n",
              "  </thead>\n",
              "  <tbody>\n",
              "    <tr>\n",
              "      <th>0</th>\n",
              "      <td>AU_1382578</td>\n",
              "      <td>AU</td>\n",
              "      <td>The Fruit, a company that sells fruits from al...</td>\n",
              "      <td>2019/12/31 GMT+8 18:00</td>\n",
              "      <td>10</td>\n",
              "    </tr>\n",
              "    <tr>\n",
              "      <th>1</th>\n",
              "      <td>TW_8312566</td>\n",
              "      <td>TW</td>\n",
              "      <td>The Fruit, a company that sells fruits from al...</td>\n",
              "      <td>2019/12/31 GMT+8 18:00</td>\n",
              "      <td>27</td>\n",
              "    </tr>\n",
              "    <tr>\n",
              "      <th>2</th>\n",
              "      <td>US_2289987</td>\n",
              "      <td>US</td>\n",
              "      <td>The Fruit, a company that sells fruits from al...</td>\n",
              "      <td>2019/12/29 GMT+8 18:00</td>\n",
              "      <td>12</td>\n",
              "    </tr>\n",
              "    <tr>\n",
              "      <th>3</th>\n",
              "      <td>UK_1382574</td>\n",
              "      <td>UK</td>\n",
              "      <td>The Fruit, a company that sells fruits from al...</td>\n",
              "      <td>2019/12/15 GMT+8 05:00</td>\n",
              "      <td>1</td>\n",
              "    </tr>\n",
              "    <tr>\n",
              "      <th>4</th>\n",
              "      <td>TW_1382578</td>\n",
              "      <td>TW</td>\n",
              "      <td>The Fruit, a company that sells fruits from al...</td>\n",
              "      <td>2019/12/29 GMT+8 05:00</td>\n",
              "      <td>5</td>\n",
              "    </tr>\n",
              "    <tr>\n",
              "      <th>5</th>\n",
              "      <td>AU_1335358</td>\n",
              "      <td>AU</td>\n",
              "      <td>The Fruit, a company that sells fruits from al...</td>\n",
              "      <td>2019/12/31 GMT+8 05:00</td>\n",
              "      <td>10</td>\n",
              "    </tr>\n",
              "    <tr>\n",
              "      <th>6</th>\n",
              "      <td>TW_6662597</td>\n",
              "      <td>TW</td>\n",
              "      <td>The Fruit, a company that sells fruits from al...</td>\n",
              "      <td>2019/12/31 GMT+8 15:00</td>\n",
              "      <td>1</td>\n",
              "    </tr>\n",
              "    <tr>\n",
              "      <th>7</th>\n",
              "      <td>TW_3352571</td>\n",
              "      <td>TW</td>\n",
              "      <td>The Fruit, a company that sells fruits from al...</td>\n",
              "      <td>2019/12/27 GMT+8 18:00</td>\n",
              "      <td>3</td>\n",
              "    </tr>\n",
              "    <tr>\n",
              "      <th>8</th>\n",
              "      <td>US_7683478</td>\n",
              "      <td>US</td>\n",
              "      <td>The Fruit, a company that sells fruits from al...</td>\n",
              "      <td>2019/12/31 GMT+8 18:00</td>\n",
              "      <td>17</td>\n",
              "    </tr>\n",
              "    <tr>\n",
              "      <th>9</th>\n",
              "      <td>US_4523771</td>\n",
              "      <td>US</td>\n",
              "      <td>The Fruit, a company that sells fruits from al...</td>\n",
              "      <td>2019/12/30 GMT+8 18:00</td>\n",
              "      <td>51</td>\n",
              "    </tr>\n",
              "  </tbody>\n",
              "</table>\n",
              "</div>"
            ],
            "text/plain": [
              "     Sales_ID Sales_Branch  ...       Recent_Sales_Date Customer_Count\n",
              "0  AU_1382578           AU  ...  2019/12/31 GMT+8 18:00             10\n",
              "1  TW_8312566           TW  ...  2019/12/31 GMT+8 18:00             27\n",
              "2  US_2289987           US  ...  2019/12/29 GMT+8 18:00             12\n",
              "3  UK_1382574           UK  ...  2019/12/15 GMT+8 05:00              1\n",
              "4  TW_1382578           TW  ...  2019/12/29 GMT+8 05:00              5\n",
              "5  AU_1335358           AU  ...  2019/12/31 GMT+8 05:00             10\n",
              "6  TW_6662597           TW  ...  2019/12/31 GMT+8 15:00              1\n",
              "7  TW_3352571           TW  ...  2019/12/27 GMT+8 18:00              3\n",
              "8  US_7683478           US  ...  2019/12/31 GMT+8 18:00             17\n",
              "9  US_4523771           US  ...  2019/12/30 GMT+8 18:00             51\n",
              "\n",
              "[10 rows x 5 columns]"
            ]
          },
          "metadata": {
            "tags": []
          },
          "execution_count": 10
        }
      ]
    },
    {
      "cell_type": "code",
      "metadata": {
        "id": "7RUoIF_FJKO3",
        "outputId": "424e2c9b-cbe7-4aab-9e81-f98d00aec76f",
        "colab": {
          "base_uri": "https://localhost:8080/",
          "height": 52
        }
      },
      "source": [
        "df['Product_Description'][0]"
      ],
      "execution_count": null,
      "outputs": [
        {
          "output_type": "execute_result",
          "data": {
            "application/vnd.google.colaboratory.intrinsic+json": {
              "type": "string"
            },
            "text/plain": [
              "'The Fruit, a company that sells fruits from all over the world, has branches in Australia, the United Kingdom, the United States, and Taiwan. Product: Apple Mango Banana Watermelon Orange Blueberry Banana Watermelon Kiwifruit'"
            ]
          },
          "metadata": {
            "tags": []
          },
          "execution_count": 11
        }
      ]
    },
    {
      "cell_type": "markdown",
      "metadata": {
        "id": "2bto7nKpJZhu"
      },
      "source": [
        "We can see that while all of the first sentences were identical, we can split this into 2 columns: Description and Product."
      ]
    },
    {
      "cell_type": "code",
      "metadata": {
        "id": "9Y9L7gCqNt48",
        "outputId": "6d7bf1aa-73f1-4cd4-fd62-047222d64b68",
        "colab": {
          "base_uri": "https://localhost:8080/",
          "height": 511
        }
      },
      "source": [
        "df[['Description', \"Product\"]] = df['Product_Description'].str.split(\" Product: \", expand=True)\n",
        "df"
      ],
      "execution_count": null,
      "outputs": [
        {
          "output_type": "execute_result",
          "data": {
            "text/html": [
              "<div>\n",
              "<style scoped>\n",
              "    .dataframe tbody tr th:only-of-type {\n",
              "        vertical-align: middle;\n",
              "    }\n",
              "\n",
              "    .dataframe tbody tr th {\n",
              "        vertical-align: top;\n",
              "    }\n",
              "\n",
              "    .dataframe thead th {\n",
              "        text-align: right;\n",
              "    }\n",
              "</style>\n",
              "<table border=\"1\" class=\"dataframe\">\n",
              "  <thead>\n",
              "    <tr style=\"text-align: right;\">\n",
              "      <th></th>\n",
              "      <th>Sales_ID</th>\n",
              "      <th>Sales_Branch</th>\n",
              "      <th>Product_Description</th>\n",
              "      <th>Recent_Sales_Date</th>\n",
              "      <th>Customer_Count</th>\n",
              "      <th>Description</th>\n",
              "      <th>Product</th>\n",
              "    </tr>\n",
              "  </thead>\n",
              "  <tbody>\n",
              "    <tr>\n",
              "      <th>0</th>\n",
              "      <td>AU_1382578</td>\n",
              "      <td>AU</td>\n",
              "      <td>The Fruit, a company that sells fruits from al...</td>\n",
              "      <td>2019/12/31 GMT+8 18:00</td>\n",
              "      <td>10</td>\n",
              "      <td>The Fruit, a company that sells fruits from al...</td>\n",
              "      <td>Apple Mango Banana Watermelon Orange Blueberry...</td>\n",
              "    </tr>\n",
              "    <tr>\n",
              "      <th>1</th>\n",
              "      <td>TW_8312566</td>\n",
              "      <td>TW</td>\n",
              "      <td>The Fruit, a company that sells fruits from al...</td>\n",
              "      <td>2019/12/31 GMT+8 18:00</td>\n",
              "      <td>27</td>\n",
              "      <td>The Fruit, a company that sells fruits from al...</td>\n",
              "      <td>Orange Pear Mango Papaya Peach Persimmon Lyche...</td>\n",
              "    </tr>\n",
              "    <tr>\n",
              "      <th>2</th>\n",
              "      <td>US_2289987</td>\n",
              "      <td>US</td>\n",
              "      <td>The Fruit, a company that sells fruits from al...</td>\n",
              "      <td>2019/12/29 GMT+8 18:00</td>\n",
              "      <td>12</td>\n",
              "      <td>The Fruit, a company that sells fruits from al...</td>\n",
              "      <td>Apple Orange Blueberry Lemon Cantaloupe Cherry</td>\n",
              "    </tr>\n",
              "    <tr>\n",
              "      <th>3</th>\n",
              "      <td>UK_1382574</td>\n",
              "      <td>UK</td>\n",
              "      <td>The Fruit, a company that sells fruits from al...</td>\n",
              "      <td>2019/12/15 GMT+8 05:00</td>\n",
              "      <td>1</td>\n",
              "      <td>The Fruit, a company that sells fruits from al...</td>\n",
              "      <td>Strawberry</td>\n",
              "    </tr>\n",
              "    <tr>\n",
              "      <th>4</th>\n",
              "      <td>TW_1382578</td>\n",
              "      <td>TW</td>\n",
              "      <td>The Fruit, a company that sells fruits from al...</td>\n",
              "      <td>2019/12/29 GMT+8 05:00</td>\n",
              "      <td>5</td>\n",
              "      <td>The Fruit, a company that sells fruits from al...</td>\n",
              "      <td>Mango Papaya Watermelon Lychee Guava Grape Longan</td>\n",
              "    </tr>\n",
              "    <tr>\n",
              "      <th>5</th>\n",
              "      <td>AU_1335358</td>\n",
              "      <td>AU</td>\n",
              "      <td>The Fruit, a company that sells fruits from al...</td>\n",
              "      <td>2019/12/31 GMT+8 05:00</td>\n",
              "      <td>10</td>\n",
              "      <td>The Fruit, a company that sells fruits from al...</td>\n",
              "      <td>Apple Orange Blueberry Mango Banana Watermelon...</td>\n",
              "    </tr>\n",
              "    <tr>\n",
              "      <th>6</th>\n",
              "      <td>TW_6662597</td>\n",
              "      <td>TW</td>\n",
              "      <td>The Fruit, a company that sells fruits from al...</td>\n",
              "      <td>2019/12/31 GMT+8 15:00</td>\n",
              "      <td>1</td>\n",
              "      <td>The Fruit, a company that sells fruits from al...</td>\n",
              "      <td>Apple Pomelo Mango Guava</td>\n",
              "    </tr>\n",
              "    <tr>\n",
              "      <th>7</th>\n",
              "      <td>TW_3352571</td>\n",
              "      <td>TW</td>\n",
              "      <td>The Fruit, a company that sells fruits from al...</td>\n",
              "      <td>2019/12/27 GMT+8 18:00</td>\n",
              "      <td>3</td>\n",
              "      <td>The Fruit, a company that sells fruits from al...</td>\n",
              "      <td>Pomelo Persimmon Roselle Tangerine Pineapple</td>\n",
              "    </tr>\n",
              "    <tr>\n",
              "      <th>8</th>\n",
              "      <td>US_7683478</td>\n",
              "      <td>US</td>\n",
              "      <td>The Fruit, a company that sells fruits from al...</td>\n",
              "      <td>2019/12/31 GMT+8 18:00</td>\n",
              "      <td>17</td>\n",
              "      <td>The Fruit, a company that sells fruits from al...</td>\n",
              "      <td>Raspberry Blueberry Pineapple Peach</td>\n",
              "    </tr>\n",
              "    <tr>\n",
              "      <th>9</th>\n",
              "      <td>US_4523771</td>\n",
              "      <td>US</td>\n",
              "      <td>The Fruit, a company that sells fruits from al...</td>\n",
              "      <td>2019/12/30 GMT+8 18:00</td>\n",
              "      <td>51</td>\n",
              "      <td>The Fruit, a company that sells fruits from al...</td>\n",
              "      <td>Blueberry Cherry Pear Blackberry</td>\n",
              "    </tr>\n",
              "  </tbody>\n",
              "</table>\n",
              "</div>"
            ],
            "text/plain": [
              "     Sales_ID  ...                                            Product\n",
              "0  AU_1382578  ...  Apple Mango Banana Watermelon Orange Blueberry...\n",
              "1  TW_8312566  ...  Orange Pear Mango Papaya Peach Persimmon Lyche...\n",
              "2  US_2289987  ...     Apple Orange Blueberry Lemon Cantaloupe Cherry\n",
              "3  UK_1382574  ...                                         Strawberry\n",
              "4  TW_1382578  ...  Mango Papaya Watermelon Lychee Guava Grape Longan\n",
              "5  AU_1335358  ...  Apple Orange Blueberry Mango Banana Watermelon...\n",
              "6  TW_6662597  ...                           Apple Pomelo Mango Guava\n",
              "7  TW_3352571  ...       Pomelo Persimmon Roselle Tangerine Pineapple\n",
              "8  US_7683478  ...                Raspberry Blueberry Pineapple Peach\n",
              "9  US_4523771  ...                   Blueberry Cherry Pear Blackberry\n",
              "\n",
              "[10 rows x 7 columns]"
            ]
          },
          "metadata": {
            "tags": []
          },
          "execution_count": 12
        }
      ]
    },
    {
      "cell_type": "code",
      "metadata": {
        "id": "5CiHdSsjNtbN"
      },
      "source": [
        ""
      ],
      "execution_count": null,
      "outputs": []
    },
    {
      "cell_type": "code",
      "metadata": {
        "id": "VnoZdZrbJVix",
        "outputId": "f254c220-48d4-4f7a-bc6d-2ce132c2a23e",
        "colab": {
          "base_uri": "https://localhost:8080/",
          "height": 511
        }
      },
      "source": [
        "# df[['Description', 'Product']] = df['Product_Description'].str.split(\"Product: \", expand=True)\n",
        "df"
      ],
      "execution_count": null,
      "outputs": [
        {
          "output_type": "execute_result",
          "data": {
            "text/html": [
              "<div>\n",
              "<style scoped>\n",
              "    .dataframe tbody tr th:only-of-type {\n",
              "        vertical-align: middle;\n",
              "    }\n",
              "\n",
              "    .dataframe tbody tr th {\n",
              "        vertical-align: top;\n",
              "    }\n",
              "\n",
              "    .dataframe thead th {\n",
              "        text-align: right;\n",
              "    }\n",
              "</style>\n",
              "<table border=\"1\" class=\"dataframe\">\n",
              "  <thead>\n",
              "    <tr style=\"text-align: right;\">\n",
              "      <th></th>\n",
              "      <th>Sales_ID</th>\n",
              "      <th>Sales_Branch</th>\n",
              "      <th>Product_Description</th>\n",
              "      <th>Recent_Sales_Date</th>\n",
              "      <th>Customer_Count</th>\n",
              "      <th>Description</th>\n",
              "      <th>Product</th>\n",
              "    </tr>\n",
              "  </thead>\n",
              "  <tbody>\n",
              "    <tr>\n",
              "      <th>0</th>\n",
              "      <td>AU_1382578</td>\n",
              "      <td>AU</td>\n",
              "      <td>The Fruit, a company that sells fruits from al...</td>\n",
              "      <td>2019/12/31 GMT+8 18:00</td>\n",
              "      <td>10</td>\n",
              "      <td>The Fruit, a company that sells fruits from al...</td>\n",
              "      <td>Apple Mango Banana Watermelon Orange Blueberry...</td>\n",
              "    </tr>\n",
              "    <tr>\n",
              "      <th>1</th>\n",
              "      <td>TW_8312566</td>\n",
              "      <td>TW</td>\n",
              "      <td>The Fruit, a company that sells fruits from al...</td>\n",
              "      <td>2019/12/31 GMT+8 18:00</td>\n",
              "      <td>27</td>\n",
              "      <td>The Fruit, a company that sells fruits from al...</td>\n",
              "      <td>Orange Pear Mango Papaya Peach Persimmon Lyche...</td>\n",
              "    </tr>\n",
              "    <tr>\n",
              "      <th>2</th>\n",
              "      <td>US_2289987</td>\n",
              "      <td>US</td>\n",
              "      <td>The Fruit, a company that sells fruits from al...</td>\n",
              "      <td>2019/12/29 GMT+8 18:00</td>\n",
              "      <td>12</td>\n",
              "      <td>The Fruit, a company that sells fruits from al...</td>\n",
              "      <td>Apple Orange Blueberry Lemon Cantaloupe Cherry</td>\n",
              "    </tr>\n",
              "    <tr>\n",
              "      <th>3</th>\n",
              "      <td>UK_1382574</td>\n",
              "      <td>UK</td>\n",
              "      <td>The Fruit, a company that sells fruits from al...</td>\n",
              "      <td>2019/12/15 GMT+8 05:00</td>\n",
              "      <td>1</td>\n",
              "      <td>The Fruit, a company that sells fruits from al...</td>\n",
              "      <td>Strawberry</td>\n",
              "    </tr>\n",
              "    <tr>\n",
              "      <th>4</th>\n",
              "      <td>TW_1382578</td>\n",
              "      <td>TW</td>\n",
              "      <td>The Fruit, a company that sells fruits from al...</td>\n",
              "      <td>2019/12/29 GMT+8 05:00</td>\n",
              "      <td>5</td>\n",
              "      <td>The Fruit, a company that sells fruits from al...</td>\n",
              "      <td>Mango Papaya Watermelon Lychee Guava Grape Longan</td>\n",
              "    </tr>\n",
              "    <tr>\n",
              "      <th>5</th>\n",
              "      <td>AU_1335358</td>\n",
              "      <td>AU</td>\n",
              "      <td>The Fruit, a company that sells fruits from al...</td>\n",
              "      <td>2019/12/31 GMT+8 05:00</td>\n",
              "      <td>10</td>\n",
              "      <td>The Fruit, a company that sells fruits from al...</td>\n",
              "      <td>Apple Orange Blueberry Mango Banana Watermelon...</td>\n",
              "    </tr>\n",
              "    <tr>\n",
              "      <th>6</th>\n",
              "      <td>TW_6662597</td>\n",
              "      <td>TW</td>\n",
              "      <td>The Fruit, a company that sells fruits from al...</td>\n",
              "      <td>2019/12/31 GMT+8 15:00</td>\n",
              "      <td>1</td>\n",
              "      <td>The Fruit, a company that sells fruits from al...</td>\n",
              "      <td>Apple Pomelo Mango Guava</td>\n",
              "    </tr>\n",
              "    <tr>\n",
              "      <th>7</th>\n",
              "      <td>TW_3352571</td>\n",
              "      <td>TW</td>\n",
              "      <td>The Fruit, a company that sells fruits from al...</td>\n",
              "      <td>2019/12/27 GMT+8 18:00</td>\n",
              "      <td>3</td>\n",
              "      <td>The Fruit, a company that sells fruits from al...</td>\n",
              "      <td>Pomelo Persimmon Roselle Tangerine Pineapple</td>\n",
              "    </tr>\n",
              "    <tr>\n",
              "      <th>8</th>\n",
              "      <td>US_7683478</td>\n",
              "      <td>US</td>\n",
              "      <td>The Fruit, a company that sells fruits from al...</td>\n",
              "      <td>2019/12/31 GMT+8 18:00</td>\n",
              "      <td>17</td>\n",
              "      <td>The Fruit, a company that sells fruits from al...</td>\n",
              "      <td>Raspberry Blueberry Pineapple Peach</td>\n",
              "    </tr>\n",
              "    <tr>\n",
              "      <th>9</th>\n",
              "      <td>US_4523771</td>\n",
              "      <td>US</td>\n",
              "      <td>The Fruit, a company that sells fruits from al...</td>\n",
              "      <td>2019/12/30 GMT+8 18:00</td>\n",
              "      <td>51</td>\n",
              "      <td>The Fruit, a company that sells fruits from al...</td>\n",
              "      <td>Blueberry Cherry Pear Blackberry</td>\n",
              "    </tr>\n",
              "  </tbody>\n",
              "</table>\n",
              "</div>"
            ],
            "text/plain": [
              "     Sales_ID  ...                                            Product\n",
              "0  AU_1382578  ...  Apple Mango Banana Watermelon Orange Blueberry...\n",
              "1  TW_8312566  ...  Orange Pear Mango Papaya Peach Persimmon Lyche...\n",
              "2  US_2289987  ...     Apple Orange Blueberry Lemon Cantaloupe Cherry\n",
              "3  UK_1382574  ...                                         Strawberry\n",
              "4  TW_1382578  ...  Mango Papaya Watermelon Lychee Guava Grape Longan\n",
              "5  AU_1335358  ...  Apple Orange Blueberry Mango Banana Watermelon...\n",
              "6  TW_6662597  ...                           Apple Pomelo Mango Guava\n",
              "7  TW_3352571  ...       Pomelo Persimmon Roselle Tangerine Pineapple\n",
              "8  US_7683478  ...                Raspberry Blueberry Pineapple Peach\n",
              "9  US_4523771  ...                   Blueberry Cherry Pear Blackberry\n",
              "\n",
              "[10 rows x 7 columns]"
            ]
          },
          "metadata": {
            "tags": []
          },
          "execution_count": 13
        }
      ]
    },
    {
      "cell_type": "markdown",
      "metadata": {
        "id": "51nHV1_QKdmv"
      },
      "source": [
        "sort the list of products in the Product column."
      ]
    },
    {
      "cell_type": "code",
      "metadata": {
        "id": "j9pLOIoyOWrV",
        "outputId": "451abbb2-ddd7-45f1-fde6-a29a02a7f049",
        "colab": {
          "base_uri": "https://localhost:8080/",
          "height": 202
        }
      },
      "source": [
        "df[\"Product\"] = df[\"Product\"].str.split().apply(sorted)\n",
        "df[\"Product\"]"
      ],
      "execution_count": null,
      "outputs": [
        {
          "output_type": "execute_result",
          "data": {
            "text/plain": [
              "0    [Apple, Banana, Banana, Blueberry, Kiwifruit, ...\n",
              "1    [Guava, Lychee, Mango, Orange, Papaya, Peach, ...\n",
              "2    [Apple, Blueberry, Cantaloupe, Cherry, Lemon, ...\n",
              "3                                         [Strawberry]\n",
              "4    [Grape, Guava, Longan, Lychee, Mango, Papaya, ...\n",
              "5    [Apple, Avocado, Banana, Blueberry, Kiwifruit,...\n",
              "6                        [Apple, Guava, Mango, Pomelo]\n",
              "7    [Persimmon, Pineapple, Pomelo, Roselle, Tanger...\n",
              "8             [Blueberry, Peach, Pineapple, Raspberry]\n",
              "9                [Blackberry, Blueberry, Cherry, Pear]\n",
              "Name: Product, dtype: object"
            ]
          },
          "metadata": {
            "tags": []
          },
          "execution_count": 14
        }
      ]
    },
    {
      "cell_type": "code",
      "metadata": {
        "id": "5iuOFzDoPZ_n",
        "outputId": "97657d07-efcf-4c91-dc30-fd5a084ae3d3",
        "colab": {
          "base_uri": "https://localhost:8080/",
          "height": 511
        }
      },
      "source": [
        "df[\"Product_Count\"]= df[\"Product\"].apply(len)\n",
        "df"
      ],
      "execution_count": null,
      "outputs": [
        {
          "output_type": "execute_result",
          "data": {
            "text/html": [
              "<div>\n",
              "<style scoped>\n",
              "    .dataframe tbody tr th:only-of-type {\n",
              "        vertical-align: middle;\n",
              "    }\n",
              "\n",
              "    .dataframe tbody tr th {\n",
              "        vertical-align: top;\n",
              "    }\n",
              "\n",
              "    .dataframe thead th {\n",
              "        text-align: right;\n",
              "    }\n",
              "</style>\n",
              "<table border=\"1\" class=\"dataframe\">\n",
              "  <thead>\n",
              "    <tr style=\"text-align: right;\">\n",
              "      <th></th>\n",
              "      <th>Sales_ID</th>\n",
              "      <th>Sales_Branch</th>\n",
              "      <th>Product_Description</th>\n",
              "      <th>Recent_Sales_Date</th>\n",
              "      <th>Customer_Count</th>\n",
              "      <th>Description</th>\n",
              "      <th>Product</th>\n",
              "      <th>Product_Count</th>\n",
              "    </tr>\n",
              "  </thead>\n",
              "  <tbody>\n",
              "    <tr>\n",
              "      <th>0</th>\n",
              "      <td>AU_1382578</td>\n",
              "      <td>AU</td>\n",
              "      <td>The Fruit, a company that sells fruits from al...</td>\n",
              "      <td>2019/12/31 GMT+8 18:00</td>\n",
              "      <td>10</td>\n",
              "      <td>The Fruit, a company that sells fruits from al...</td>\n",
              "      <td>[Apple, Banana, Banana, Blueberry, Kiwifruit, ...</td>\n",
              "      <td>9</td>\n",
              "    </tr>\n",
              "    <tr>\n",
              "      <th>1</th>\n",
              "      <td>TW_8312566</td>\n",
              "      <td>TW</td>\n",
              "      <td>The Fruit, a company that sells fruits from al...</td>\n",
              "      <td>2019/12/31 GMT+8 18:00</td>\n",
              "      <td>27</td>\n",
              "      <td>The Fruit, a company that sells fruits from al...</td>\n",
              "      <td>[Guava, Lychee, Mango, Orange, Papaya, Peach, ...</td>\n",
              "      <td>8</td>\n",
              "    </tr>\n",
              "    <tr>\n",
              "      <th>2</th>\n",
              "      <td>US_2289987</td>\n",
              "      <td>US</td>\n",
              "      <td>The Fruit, a company that sells fruits from al...</td>\n",
              "      <td>2019/12/29 GMT+8 18:00</td>\n",
              "      <td>12</td>\n",
              "      <td>The Fruit, a company that sells fruits from al...</td>\n",
              "      <td>[Apple, Blueberry, Cantaloupe, Cherry, Lemon, ...</td>\n",
              "      <td>6</td>\n",
              "    </tr>\n",
              "    <tr>\n",
              "      <th>3</th>\n",
              "      <td>UK_1382574</td>\n",
              "      <td>UK</td>\n",
              "      <td>The Fruit, a company that sells fruits from al...</td>\n",
              "      <td>2019/12/15 GMT+8 05:00</td>\n",
              "      <td>1</td>\n",
              "      <td>The Fruit, a company that sells fruits from al...</td>\n",
              "      <td>[Strawberry]</td>\n",
              "      <td>1</td>\n",
              "    </tr>\n",
              "    <tr>\n",
              "      <th>4</th>\n",
              "      <td>TW_1382578</td>\n",
              "      <td>TW</td>\n",
              "      <td>The Fruit, a company that sells fruits from al...</td>\n",
              "      <td>2019/12/29 GMT+8 05:00</td>\n",
              "      <td>5</td>\n",
              "      <td>The Fruit, a company that sells fruits from al...</td>\n",
              "      <td>[Grape, Guava, Longan, Lychee, Mango, Papaya, ...</td>\n",
              "      <td>7</td>\n",
              "    </tr>\n",
              "    <tr>\n",
              "      <th>5</th>\n",
              "      <td>AU_1335358</td>\n",
              "      <td>AU</td>\n",
              "      <td>The Fruit, a company that sells fruits from al...</td>\n",
              "      <td>2019/12/31 GMT+8 05:00</td>\n",
              "      <td>10</td>\n",
              "      <td>The Fruit, a company that sells fruits from al...</td>\n",
              "      <td>[Apple, Avocado, Banana, Blueberry, Kiwifruit,...</td>\n",
              "      <td>9</td>\n",
              "    </tr>\n",
              "    <tr>\n",
              "      <th>6</th>\n",
              "      <td>TW_6662597</td>\n",
              "      <td>TW</td>\n",
              "      <td>The Fruit, a company that sells fruits from al...</td>\n",
              "      <td>2019/12/31 GMT+8 15:00</td>\n",
              "      <td>1</td>\n",
              "      <td>The Fruit, a company that sells fruits from al...</td>\n",
              "      <td>[Apple, Guava, Mango, Pomelo]</td>\n",
              "      <td>4</td>\n",
              "    </tr>\n",
              "    <tr>\n",
              "      <th>7</th>\n",
              "      <td>TW_3352571</td>\n",
              "      <td>TW</td>\n",
              "      <td>The Fruit, a company that sells fruits from al...</td>\n",
              "      <td>2019/12/27 GMT+8 18:00</td>\n",
              "      <td>3</td>\n",
              "      <td>The Fruit, a company that sells fruits from al...</td>\n",
              "      <td>[Persimmon, Pineapple, Pomelo, Roselle, Tanger...</td>\n",
              "      <td>5</td>\n",
              "    </tr>\n",
              "    <tr>\n",
              "      <th>8</th>\n",
              "      <td>US_7683478</td>\n",
              "      <td>US</td>\n",
              "      <td>The Fruit, a company that sells fruits from al...</td>\n",
              "      <td>2019/12/31 GMT+8 18:00</td>\n",
              "      <td>17</td>\n",
              "      <td>The Fruit, a company that sells fruits from al...</td>\n",
              "      <td>[Blueberry, Peach, Pineapple, Raspberry]</td>\n",
              "      <td>4</td>\n",
              "    </tr>\n",
              "    <tr>\n",
              "      <th>9</th>\n",
              "      <td>US_4523771</td>\n",
              "      <td>US</td>\n",
              "      <td>The Fruit, a company that sells fruits from al...</td>\n",
              "      <td>2019/12/30 GMT+8 18:00</td>\n",
              "      <td>51</td>\n",
              "      <td>The Fruit, a company that sells fruits from al...</td>\n",
              "      <td>[Blackberry, Blueberry, Cherry, Pear]</td>\n",
              "      <td>4</td>\n",
              "    </tr>\n",
              "  </tbody>\n",
              "</table>\n",
              "</div>"
            ],
            "text/plain": [
              "     Sales_ID  ... Product_Count\n",
              "0  AU_1382578  ...             9\n",
              "1  TW_8312566  ...             8\n",
              "2  US_2289987  ...             6\n",
              "3  UK_1382574  ...             1\n",
              "4  TW_1382578  ...             7\n",
              "5  AU_1335358  ...             9\n",
              "6  TW_6662597  ...             4\n",
              "7  TW_3352571  ...             5\n",
              "8  US_7683478  ...             4\n",
              "9  US_4523771  ...             4\n",
              "\n",
              "[10 rows x 8 columns]"
            ]
          },
          "metadata": {
            "tags": []
          },
          "execution_count": 15
        }
      ]
    },
    {
      "cell_type": "code",
      "metadata": {
        "id": "uSR6d7-ZJV3o"
      },
      "source": [
        "# df[\"Product\"] =df[\"Product\"].str.split().apply(sorted)"
      ],
      "execution_count": null,
      "outputs": []
    },
    {
      "cell_type": "code",
      "metadata": {
        "id": "6QQ22PqKJV0p",
        "outputId": "4126a6bc-cfe3-47ea-cdb6-f307d86a58f7",
        "colab": {
          "base_uri": "https://localhost:8080/",
          "height": 202
        }
      },
      "source": [
        "df[\"Product\"]"
      ],
      "execution_count": null,
      "outputs": [
        {
          "output_type": "execute_result",
          "data": {
            "text/plain": [
              "0    [Apple, Banana, Banana, Blueberry, Kiwifruit, ...\n",
              "1    [Guava, Lychee, Mango, Orange, Papaya, Peach, ...\n",
              "2    [Apple, Blueberry, Cantaloupe, Cherry, Lemon, ...\n",
              "3                                         [Strawberry]\n",
              "4    [Grape, Guava, Longan, Lychee, Mango, Papaya, ...\n",
              "5    [Apple, Avocado, Banana, Blueberry, Kiwifruit,...\n",
              "6                        [Apple, Guava, Mango, Pomelo]\n",
              "7    [Persimmon, Pineapple, Pomelo, Roselle, Tanger...\n",
              "8             [Blueberry, Peach, Pineapple, Raspberry]\n",
              "9                [Blackberry, Blueberry, Cherry, Pear]\n",
              "Name: Product, dtype: object"
            ]
          },
          "metadata": {
            "tags": []
          },
          "execution_count": 17
        }
      ]
    },
    {
      "cell_type": "code",
      "metadata": {
        "id": "yLDwZPnmJVl7",
        "outputId": "fd0df47e-f90d-4803-8a10-b400fe3a8173",
        "colab": {
          "base_uri": "https://localhost:8080/",
          "height": 202
        }
      },
      "source": [
        "# df['Product_Count'] = df[\"Product\"].str.len()\n",
        "df['Product_Count']"
      ],
      "execution_count": null,
      "outputs": [
        {
          "output_type": "execute_result",
          "data": {
            "text/plain": [
              "0    9\n",
              "1    8\n",
              "2    6\n",
              "3    1\n",
              "4    7\n",
              "5    9\n",
              "6    4\n",
              "7    5\n",
              "8    4\n",
              "9    4\n",
              "Name: Product_Count, dtype: int64"
            ]
          },
          "metadata": {
            "tags": []
          },
          "execution_count": 18
        }
      ]
    },
    {
      "cell_type": "markdown",
      "metadata": {
        "id": "skS0IgtpLcLL"
      },
      "source": [
        "who sells the most variety of fruits in The Fruit!"
      ]
    },
    {
      "cell_type": "code",
      "metadata": {
        "id": "Ia4NvaxHP0Vk",
        "outputId": "24cf343d-51ab-4957-e567-1404da4a3140",
        "colab": {
          "base_uri": "https://localhost:8080/",
          "height": 140
        }
      },
      "source": [
        "df[df[\"Product_Count\"]==df[\"Product_Count\"].max()]"
      ],
      "execution_count": null,
      "outputs": [
        {
          "output_type": "execute_result",
          "data": {
            "text/html": [
              "<div>\n",
              "<style scoped>\n",
              "    .dataframe tbody tr th:only-of-type {\n",
              "        vertical-align: middle;\n",
              "    }\n",
              "\n",
              "    .dataframe tbody tr th {\n",
              "        vertical-align: top;\n",
              "    }\n",
              "\n",
              "    .dataframe thead th {\n",
              "        text-align: right;\n",
              "    }\n",
              "</style>\n",
              "<table border=\"1\" class=\"dataframe\">\n",
              "  <thead>\n",
              "    <tr style=\"text-align: right;\">\n",
              "      <th></th>\n",
              "      <th>Sales_ID</th>\n",
              "      <th>Sales_Branch</th>\n",
              "      <th>Product_Description</th>\n",
              "      <th>Recent_Sales_Date</th>\n",
              "      <th>Customer_Count</th>\n",
              "      <th>Description</th>\n",
              "      <th>Product</th>\n",
              "      <th>Product_Count</th>\n",
              "    </tr>\n",
              "  </thead>\n",
              "  <tbody>\n",
              "    <tr>\n",
              "      <th>0</th>\n",
              "      <td>AU_1382578</td>\n",
              "      <td>AU</td>\n",
              "      <td>The Fruit, a company that sells fruits from al...</td>\n",
              "      <td>2019/12/31 GMT+8 18:00</td>\n",
              "      <td>10</td>\n",
              "      <td>The Fruit, a company that sells fruits from al...</td>\n",
              "      <td>[Apple, Banana, Banana, Blueberry, Kiwifruit, ...</td>\n",
              "      <td>9</td>\n",
              "    </tr>\n",
              "    <tr>\n",
              "      <th>5</th>\n",
              "      <td>AU_1335358</td>\n",
              "      <td>AU</td>\n",
              "      <td>The Fruit, a company that sells fruits from al...</td>\n",
              "      <td>2019/12/31 GMT+8 05:00</td>\n",
              "      <td>10</td>\n",
              "      <td>The Fruit, a company that sells fruits from al...</td>\n",
              "      <td>[Apple, Avocado, Banana, Blueberry, Kiwifruit,...</td>\n",
              "      <td>9</td>\n",
              "    </tr>\n",
              "  </tbody>\n",
              "</table>\n",
              "</div>"
            ],
            "text/plain": [
              "     Sales_ID  ... Product_Count\n",
              "0  AU_1382578  ...             9\n",
              "5  AU_1335358  ...             9\n",
              "\n",
              "[2 rows x 8 columns]"
            ]
          },
          "metadata": {
            "tags": []
          },
          "execution_count": 19
        }
      ]
    },
    {
      "cell_type": "code",
      "metadata": {
        "id": "pgASPqNIQIDK",
        "outputId": "d86f7ee6-e9e2-44f9-a995-4de8cb34b5a4",
        "colab": {
          "base_uri": "https://localhost:8080/",
          "height": 168
        }
      },
      "source": [
        "# returns first index \n",
        "df.loc[df[\"Product_Count\"].idxmax()]"
      ],
      "execution_count": null,
      "outputs": [
        {
          "output_type": "execute_result",
          "data": {
            "text/plain": [
              "Sales_ID                                                      AU_1382578\n",
              "Sales_Branch                                                          AU\n",
              "Product_Description    The Fruit, a company that sells fruits from al...\n",
              "Recent_Sales_Date                                 2019/12/31 GMT+8 18:00\n",
              "Customer_Count                                                        10\n",
              "Description            The Fruit, a company that sells fruits from al...\n",
              "Product                [Apple, Banana, Banana, Blueberry, Kiwifruit, ...\n",
              "Product_Count                                                          9\n",
              "Name: 0, dtype: object"
            ]
          },
          "metadata": {
            "tags": []
          },
          "execution_count": 20
        }
      ]
    },
    {
      "cell_type": "code",
      "metadata": {
        "id": "kWgly957QIGO"
      },
      "source": [
        ""
      ],
      "execution_count": null,
      "outputs": []
    },
    {
      "cell_type": "code",
      "metadata": {
        "id": "vSeMNXFKJVgH"
      },
      "source": [
        "# df[df['Product_Count']==df['Product_Count'].max()]"
      ],
      "execution_count": null,
      "outputs": []
    },
    {
      "cell_type": "markdown",
      "metadata": {
        "id": "TdNB0Z7tL7Dr"
      },
      "source": [
        "Split this column into Product_n"
      ]
    },
    {
      "cell_type": "code",
      "metadata": {
        "id": "YqS7CJRjRKbU",
        "outputId": "c2f6ace5-2b6b-4cbf-b192-3e85e91e59ab",
        "colab": {
          "base_uri": "https://localhost:8080/",
          "height": 343
        }
      },
      "source": [
        "Products = df['Product'].apply(pd.Series)\n",
        "Products"
      ],
      "execution_count": null,
      "outputs": [
        {
          "output_type": "execute_result",
          "data": {
            "text/html": [
              "<div>\n",
              "<style scoped>\n",
              "    .dataframe tbody tr th:only-of-type {\n",
              "        vertical-align: middle;\n",
              "    }\n",
              "\n",
              "    .dataframe tbody tr th {\n",
              "        vertical-align: top;\n",
              "    }\n",
              "\n",
              "    .dataframe thead th {\n",
              "        text-align: right;\n",
              "    }\n",
              "</style>\n",
              "<table border=\"1\" class=\"dataframe\">\n",
              "  <thead>\n",
              "    <tr style=\"text-align: right;\">\n",
              "      <th></th>\n",
              "      <th>0</th>\n",
              "      <th>1</th>\n",
              "      <th>2</th>\n",
              "      <th>3</th>\n",
              "      <th>4</th>\n",
              "      <th>5</th>\n",
              "      <th>6</th>\n",
              "      <th>7</th>\n",
              "      <th>8</th>\n",
              "    </tr>\n",
              "  </thead>\n",
              "  <tbody>\n",
              "    <tr>\n",
              "      <th>0</th>\n",
              "      <td>Apple</td>\n",
              "      <td>Banana</td>\n",
              "      <td>Banana</td>\n",
              "      <td>Blueberry</td>\n",
              "      <td>Kiwifruit</td>\n",
              "      <td>Mango</td>\n",
              "      <td>Orange</td>\n",
              "      <td>Watermelon</td>\n",
              "      <td>Watermelon</td>\n",
              "    </tr>\n",
              "    <tr>\n",
              "      <th>1</th>\n",
              "      <td>Guava</td>\n",
              "      <td>Lychee</td>\n",
              "      <td>Mango</td>\n",
              "      <td>Orange</td>\n",
              "      <td>Papaya</td>\n",
              "      <td>Peach</td>\n",
              "      <td>Pear</td>\n",
              "      <td>Persimmon</td>\n",
              "      <td>NaN</td>\n",
              "    </tr>\n",
              "    <tr>\n",
              "      <th>2</th>\n",
              "      <td>Apple</td>\n",
              "      <td>Blueberry</td>\n",
              "      <td>Cantaloupe</td>\n",
              "      <td>Cherry</td>\n",
              "      <td>Lemon</td>\n",
              "      <td>Orange</td>\n",
              "      <td>NaN</td>\n",
              "      <td>NaN</td>\n",
              "      <td>NaN</td>\n",
              "    </tr>\n",
              "    <tr>\n",
              "      <th>3</th>\n",
              "      <td>Strawberry</td>\n",
              "      <td>NaN</td>\n",
              "      <td>NaN</td>\n",
              "      <td>NaN</td>\n",
              "      <td>NaN</td>\n",
              "      <td>NaN</td>\n",
              "      <td>NaN</td>\n",
              "      <td>NaN</td>\n",
              "      <td>NaN</td>\n",
              "    </tr>\n",
              "    <tr>\n",
              "      <th>4</th>\n",
              "      <td>Grape</td>\n",
              "      <td>Guava</td>\n",
              "      <td>Longan</td>\n",
              "      <td>Lychee</td>\n",
              "      <td>Mango</td>\n",
              "      <td>Papaya</td>\n",
              "      <td>Watermelon</td>\n",
              "      <td>NaN</td>\n",
              "      <td>NaN</td>\n",
              "    </tr>\n",
              "    <tr>\n",
              "      <th>5</th>\n",
              "      <td>Apple</td>\n",
              "      <td>Avocado</td>\n",
              "      <td>Banana</td>\n",
              "      <td>Blueberry</td>\n",
              "      <td>Kiwifruit</td>\n",
              "      <td>Mango</td>\n",
              "      <td>Orange</td>\n",
              "      <td>Stonefruit</td>\n",
              "      <td>Watermelon</td>\n",
              "    </tr>\n",
              "    <tr>\n",
              "      <th>6</th>\n",
              "      <td>Apple</td>\n",
              "      <td>Guava</td>\n",
              "      <td>Mango</td>\n",
              "      <td>Pomelo</td>\n",
              "      <td>NaN</td>\n",
              "      <td>NaN</td>\n",
              "      <td>NaN</td>\n",
              "      <td>NaN</td>\n",
              "      <td>NaN</td>\n",
              "    </tr>\n",
              "    <tr>\n",
              "      <th>7</th>\n",
              "      <td>Persimmon</td>\n",
              "      <td>Pineapple</td>\n",
              "      <td>Pomelo</td>\n",
              "      <td>Roselle</td>\n",
              "      <td>Tangerine</td>\n",
              "      <td>NaN</td>\n",
              "      <td>NaN</td>\n",
              "      <td>NaN</td>\n",
              "      <td>NaN</td>\n",
              "    </tr>\n",
              "    <tr>\n",
              "      <th>8</th>\n",
              "      <td>Blueberry</td>\n",
              "      <td>Peach</td>\n",
              "      <td>Pineapple</td>\n",
              "      <td>Raspberry</td>\n",
              "      <td>NaN</td>\n",
              "      <td>NaN</td>\n",
              "      <td>NaN</td>\n",
              "      <td>NaN</td>\n",
              "      <td>NaN</td>\n",
              "    </tr>\n",
              "    <tr>\n",
              "      <th>9</th>\n",
              "      <td>Blackberry</td>\n",
              "      <td>Blueberry</td>\n",
              "      <td>Cherry</td>\n",
              "      <td>Pear</td>\n",
              "      <td>NaN</td>\n",
              "      <td>NaN</td>\n",
              "      <td>NaN</td>\n",
              "      <td>NaN</td>\n",
              "      <td>NaN</td>\n",
              "    </tr>\n",
              "  </tbody>\n",
              "</table>\n",
              "</div>"
            ],
            "text/plain": [
              "            0          1           2  ...           6           7           8\n",
              "0       Apple     Banana      Banana  ...      Orange  Watermelon  Watermelon\n",
              "1       Guava     Lychee       Mango  ...        Pear   Persimmon         NaN\n",
              "2       Apple  Blueberry  Cantaloupe  ...         NaN         NaN         NaN\n",
              "3  Strawberry        NaN         NaN  ...         NaN         NaN         NaN\n",
              "4       Grape      Guava      Longan  ...  Watermelon         NaN         NaN\n",
              "5       Apple    Avocado      Banana  ...      Orange  Stonefruit  Watermelon\n",
              "6       Apple      Guava       Mango  ...         NaN         NaN         NaN\n",
              "7   Persimmon  Pineapple      Pomelo  ...         NaN         NaN         NaN\n",
              "8   Blueberry      Peach   Pineapple  ...         NaN         NaN         NaN\n",
              "9  Blackberry  Blueberry      Cherry  ...         NaN         NaN         NaN\n",
              "\n",
              "[10 rows x 9 columns]"
            ]
          },
          "metadata": {
            "tags": []
          },
          "execution_count": 22
        }
      ]
    },
    {
      "cell_type": "code",
      "metadata": {
        "id": "0rDSwqRzSu1e",
        "outputId": "c5be0884-8b52-4492-a95d-92ef39bc75b4",
        "colab": {
          "base_uri": "https://localhost:8080/",
          "height": 343
        }
      },
      "source": [
        "Products.columns = [\"Product_\"+str(i) for i in range(1,10)]\n",
        "Products"
      ],
      "execution_count": null,
      "outputs": [
        {
          "output_type": "execute_result",
          "data": {
            "text/html": [
              "<div>\n",
              "<style scoped>\n",
              "    .dataframe tbody tr th:only-of-type {\n",
              "        vertical-align: middle;\n",
              "    }\n",
              "\n",
              "    .dataframe tbody tr th {\n",
              "        vertical-align: top;\n",
              "    }\n",
              "\n",
              "    .dataframe thead th {\n",
              "        text-align: right;\n",
              "    }\n",
              "</style>\n",
              "<table border=\"1\" class=\"dataframe\">\n",
              "  <thead>\n",
              "    <tr style=\"text-align: right;\">\n",
              "      <th></th>\n",
              "      <th>Product_1</th>\n",
              "      <th>Product_2</th>\n",
              "      <th>Product_3</th>\n",
              "      <th>Product_4</th>\n",
              "      <th>Product_5</th>\n",
              "      <th>Product_6</th>\n",
              "      <th>Product_7</th>\n",
              "      <th>Product_8</th>\n",
              "      <th>Product_9</th>\n",
              "    </tr>\n",
              "  </thead>\n",
              "  <tbody>\n",
              "    <tr>\n",
              "      <th>0</th>\n",
              "      <td>Apple</td>\n",
              "      <td>Banana</td>\n",
              "      <td>Banana</td>\n",
              "      <td>Blueberry</td>\n",
              "      <td>Kiwifruit</td>\n",
              "      <td>Mango</td>\n",
              "      <td>Orange</td>\n",
              "      <td>Watermelon</td>\n",
              "      <td>Watermelon</td>\n",
              "    </tr>\n",
              "    <tr>\n",
              "      <th>1</th>\n",
              "      <td>Guava</td>\n",
              "      <td>Lychee</td>\n",
              "      <td>Mango</td>\n",
              "      <td>Orange</td>\n",
              "      <td>Papaya</td>\n",
              "      <td>Peach</td>\n",
              "      <td>Pear</td>\n",
              "      <td>Persimmon</td>\n",
              "      <td>NaN</td>\n",
              "    </tr>\n",
              "    <tr>\n",
              "      <th>2</th>\n",
              "      <td>Apple</td>\n",
              "      <td>Blueberry</td>\n",
              "      <td>Cantaloupe</td>\n",
              "      <td>Cherry</td>\n",
              "      <td>Lemon</td>\n",
              "      <td>Orange</td>\n",
              "      <td>NaN</td>\n",
              "      <td>NaN</td>\n",
              "      <td>NaN</td>\n",
              "    </tr>\n",
              "    <tr>\n",
              "      <th>3</th>\n",
              "      <td>Strawberry</td>\n",
              "      <td>NaN</td>\n",
              "      <td>NaN</td>\n",
              "      <td>NaN</td>\n",
              "      <td>NaN</td>\n",
              "      <td>NaN</td>\n",
              "      <td>NaN</td>\n",
              "      <td>NaN</td>\n",
              "      <td>NaN</td>\n",
              "    </tr>\n",
              "    <tr>\n",
              "      <th>4</th>\n",
              "      <td>Grape</td>\n",
              "      <td>Guava</td>\n",
              "      <td>Longan</td>\n",
              "      <td>Lychee</td>\n",
              "      <td>Mango</td>\n",
              "      <td>Papaya</td>\n",
              "      <td>Watermelon</td>\n",
              "      <td>NaN</td>\n",
              "      <td>NaN</td>\n",
              "    </tr>\n",
              "    <tr>\n",
              "      <th>5</th>\n",
              "      <td>Apple</td>\n",
              "      <td>Avocado</td>\n",
              "      <td>Banana</td>\n",
              "      <td>Blueberry</td>\n",
              "      <td>Kiwifruit</td>\n",
              "      <td>Mango</td>\n",
              "      <td>Orange</td>\n",
              "      <td>Stonefruit</td>\n",
              "      <td>Watermelon</td>\n",
              "    </tr>\n",
              "    <tr>\n",
              "      <th>6</th>\n",
              "      <td>Apple</td>\n",
              "      <td>Guava</td>\n",
              "      <td>Mango</td>\n",
              "      <td>Pomelo</td>\n",
              "      <td>NaN</td>\n",
              "      <td>NaN</td>\n",
              "      <td>NaN</td>\n",
              "      <td>NaN</td>\n",
              "      <td>NaN</td>\n",
              "    </tr>\n",
              "    <tr>\n",
              "      <th>7</th>\n",
              "      <td>Persimmon</td>\n",
              "      <td>Pineapple</td>\n",
              "      <td>Pomelo</td>\n",
              "      <td>Roselle</td>\n",
              "      <td>Tangerine</td>\n",
              "      <td>NaN</td>\n",
              "      <td>NaN</td>\n",
              "      <td>NaN</td>\n",
              "      <td>NaN</td>\n",
              "    </tr>\n",
              "    <tr>\n",
              "      <th>8</th>\n",
              "      <td>Blueberry</td>\n",
              "      <td>Peach</td>\n",
              "      <td>Pineapple</td>\n",
              "      <td>Raspberry</td>\n",
              "      <td>NaN</td>\n",
              "      <td>NaN</td>\n",
              "      <td>NaN</td>\n",
              "      <td>NaN</td>\n",
              "      <td>NaN</td>\n",
              "    </tr>\n",
              "    <tr>\n",
              "      <th>9</th>\n",
              "      <td>Blackberry</td>\n",
              "      <td>Blueberry</td>\n",
              "      <td>Cherry</td>\n",
              "      <td>Pear</td>\n",
              "      <td>NaN</td>\n",
              "      <td>NaN</td>\n",
              "      <td>NaN</td>\n",
              "      <td>NaN</td>\n",
              "      <td>NaN</td>\n",
              "    </tr>\n",
              "  </tbody>\n",
              "</table>\n",
              "</div>"
            ],
            "text/plain": [
              "    Product_1  Product_2   Product_3  ...   Product_7   Product_8   Product_9\n",
              "0       Apple     Banana      Banana  ...      Orange  Watermelon  Watermelon\n",
              "1       Guava     Lychee       Mango  ...        Pear   Persimmon         NaN\n",
              "2       Apple  Blueberry  Cantaloupe  ...         NaN         NaN         NaN\n",
              "3  Strawberry        NaN         NaN  ...         NaN         NaN         NaN\n",
              "4       Grape      Guava      Longan  ...  Watermelon         NaN         NaN\n",
              "5       Apple    Avocado      Banana  ...      Orange  Stonefruit  Watermelon\n",
              "6       Apple      Guava       Mango  ...         NaN         NaN         NaN\n",
              "7   Persimmon  Pineapple      Pomelo  ...         NaN         NaN         NaN\n",
              "8   Blueberry      Peach   Pineapple  ...         NaN         NaN         NaN\n",
              "9  Blackberry  Blueberry      Cherry  ...         NaN         NaN         NaN\n",
              "\n",
              "[10 rows x 9 columns]"
            ]
          },
          "metadata": {
            "tags": []
          },
          "execution_count": 23
        }
      ]
    },
    {
      "cell_type": "code",
      "metadata": {
        "id": "b1oCephK9jd2",
        "outputId": "e1719805-9c51-4e18-86f0-18873ad5c584",
        "colab": {
          "base_uri": "https://localhost:8080/",
          "height": 343
        }
      },
      "source": [
        "df[\"Product_Description\"].str.split(\": \", expand=True)[1].str.split(expand=True)"
      ],
      "execution_count": null,
      "outputs": [
        {
          "output_type": "execute_result",
          "data": {
            "text/html": [
              "<div>\n",
              "<style scoped>\n",
              "    .dataframe tbody tr th:only-of-type {\n",
              "        vertical-align: middle;\n",
              "    }\n",
              "\n",
              "    .dataframe tbody tr th {\n",
              "        vertical-align: top;\n",
              "    }\n",
              "\n",
              "    .dataframe thead th {\n",
              "        text-align: right;\n",
              "    }\n",
              "</style>\n",
              "<table border=\"1\" class=\"dataframe\">\n",
              "  <thead>\n",
              "    <tr style=\"text-align: right;\">\n",
              "      <th></th>\n",
              "      <th>0</th>\n",
              "      <th>1</th>\n",
              "      <th>2</th>\n",
              "      <th>3</th>\n",
              "      <th>4</th>\n",
              "      <th>5</th>\n",
              "      <th>6</th>\n",
              "      <th>7</th>\n",
              "      <th>8</th>\n",
              "    </tr>\n",
              "  </thead>\n",
              "  <tbody>\n",
              "    <tr>\n",
              "      <th>0</th>\n",
              "      <td>Apple</td>\n",
              "      <td>Mango</td>\n",
              "      <td>Banana</td>\n",
              "      <td>Watermelon</td>\n",
              "      <td>Orange</td>\n",
              "      <td>Blueberry</td>\n",
              "      <td>Banana</td>\n",
              "      <td>Watermelon</td>\n",
              "      <td>Kiwifruit</td>\n",
              "    </tr>\n",
              "    <tr>\n",
              "      <th>1</th>\n",
              "      <td>Orange</td>\n",
              "      <td>Pear</td>\n",
              "      <td>Mango</td>\n",
              "      <td>Papaya</td>\n",
              "      <td>Peach</td>\n",
              "      <td>Persimmon</td>\n",
              "      <td>Lychee</td>\n",
              "      <td>Guava</td>\n",
              "      <td>None</td>\n",
              "    </tr>\n",
              "    <tr>\n",
              "      <th>2</th>\n",
              "      <td>Apple</td>\n",
              "      <td>Orange</td>\n",
              "      <td>Blueberry</td>\n",
              "      <td>Lemon</td>\n",
              "      <td>Cantaloupe</td>\n",
              "      <td>Cherry</td>\n",
              "      <td>None</td>\n",
              "      <td>None</td>\n",
              "      <td>None</td>\n",
              "    </tr>\n",
              "    <tr>\n",
              "      <th>3</th>\n",
              "      <td>Strawberry</td>\n",
              "      <td>None</td>\n",
              "      <td>None</td>\n",
              "      <td>None</td>\n",
              "      <td>None</td>\n",
              "      <td>None</td>\n",
              "      <td>None</td>\n",
              "      <td>None</td>\n",
              "      <td>None</td>\n",
              "    </tr>\n",
              "    <tr>\n",
              "      <th>4</th>\n",
              "      <td>Mango</td>\n",
              "      <td>Papaya</td>\n",
              "      <td>Watermelon</td>\n",
              "      <td>Lychee</td>\n",
              "      <td>Guava</td>\n",
              "      <td>Grape</td>\n",
              "      <td>Longan</td>\n",
              "      <td>None</td>\n",
              "      <td>None</td>\n",
              "    </tr>\n",
              "    <tr>\n",
              "      <th>5</th>\n",
              "      <td>Apple</td>\n",
              "      <td>Orange</td>\n",
              "      <td>Blueberry</td>\n",
              "      <td>Mango</td>\n",
              "      <td>Banana</td>\n",
              "      <td>Watermelon</td>\n",
              "      <td>Kiwifruit</td>\n",
              "      <td>Stonefruit</td>\n",
              "      <td>Avocado</td>\n",
              "    </tr>\n",
              "    <tr>\n",
              "      <th>6</th>\n",
              "      <td>Apple</td>\n",
              "      <td>Pomelo</td>\n",
              "      <td>Mango</td>\n",
              "      <td>Guava</td>\n",
              "      <td>None</td>\n",
              "      <td>None</td>\n",
              "      <td>None</td>\n",
              "      <td>None</td>\n",
              "      <td>None</td>\n",
              "    </tr>\n",
              "    <tr>\n",
              "      <th>7</th>\n",
              "      <td>Pomelo</td>\n",
              "      <td>Persimmon</td>\n",
              "      <td>Roselle</td>\n",
              "      <td>Tangerine</td>\n",
              "      <td>Pineapple</td>\n",
              "      <td>None</td>\n",
              "      <td>None</td>\n",
              "      <td>None</td>\n",
              "      <td>None</td>\n",
              "    </tr>\n",
              "    <tr>\n",
              "      <th>8</th>\n",
              "      <td>Raspberry</td>\n",
              "      <td>Blueberry</td>\n",
              "      <td>Pineapple</td>\n",
              "      <td>Peach</td>\n",
              "      <td>None</td>\n",
              "      <td>None</td>\n",
              "      <td>None</td>\n",
              "      <td>None</td>\n",
              "      <td>None</td>\n",
              "    </tr>\n",
              "    <tr>\n",
              "      <th>9</th>\n",
              "      <td>Blueberry</td>\n",
              "      <td>Cherry</td>\n",
              "      <td>Pear</td>\n",
              "      <td>Blackberry</td>\n",
              "      <td>None</td>\n",
              "      <td>None</td>\n",
              "      <td>None</td>\n",
              "      <td>None</td>\n",
              "      <td>None</td>\n",
              "    </tr>\n",
              "  </tbody>\n",
              "</table>\n",
              "</div>"
            ],
            "text/plain": [
              "            0          1           2  ...          6           7          8\n",
              "0       Apple      Mango      Banana  ...     Banana  Watermelon  Kiwifruit\n",
              "1      Orange       Pear       Mango  ...     Lychee       Guava       None\n",
              "2       Apple     Orange   Blueberry  ...       None        None       None\n",
              "3  Strawberry       None        None  ...       None        None       None\n",
              "4       Mango     Papaya  Watermelon  ...     Longan        None       None\n",
              "5       Apple     Orange   Blueberry  ...  Kiwifruit  Stonefruit    Avocado\n",
              "6       Apple     Pomelo       Mango  ...       None        None       None\n",
              "7      Pomelo  Persimmon     Roselle  ...       None        None       None\n",
              "8   Raspberry  Blueberry   Pineapple  ...       None        None       None\n",
              "9   Blueberry     Cherry        Pear  ...       None        None       None\n",
              "\n",
              "[10 rows x 9 columns]"
            ]
          },
          "metadata": {
            "tags": []
          },
          "execution_count": 24
        }
      ]
    },
    {
      "cell_type": "code",
      "metadata": {
        "id": "8Qpyp6mfRKea"
      },
      "source": [
        ""
      ],
      "execution_count": null,
      "outputs": []
    },
    {
      "cell_type": "code",
      "metadata": {
        "id": "N13GUjdTLmKE",
        "outputId": "3505bfcd-3c1a-4922-84c3-e8ea89ed8d90",
        "colab": {
          "base_uri": "https://localhost:8080/",
          "height": 343
        }
      },
      "source": [
        "# Products = df['Product'].apply(pd.Series)\n",
        "Products"
      ],
      "execution_count": null,
      "outputs": [
        {
          "output_type": "execute_result",
          "data": {
            "text/html": [
              "<div>\n",
              "<style scoped>\n",
              "    .dataframe tbody tr th:only-of-type {\n",
              "        vertical-align: middle;\n",
              "    }\n",
              "\n",
              "    .dataframe tbody tr th {\n",
              "        vertical-align: top;\n",
              "    }\n",
              "\n",
              "    .dataframe thead th {\n",
              "        text-align: right;\n",
              "    }\n",
              "</style>\n",
              "<table border=\"1\" class=\"dataframe\">\n",
              "  <thead>\n",
              "    <tr style=\"text-align: right;\">\n",
              "      <th></th>\n",
              "      <th>Product_1</th>\n",
              "      <th>Product_2</th>\n",
              "      <th>Product_3</th>\n",
              "      <th>Product_4</th>\n",
              "      <th>Product_5</th>\n",
              "      <th>Product_6</th>\n",
              "      <th>Product_7</th>\n",
              "      <th>Product_8</th>\n",
              "      <th>Product_9</th>\n",
              "    </tr>\n",
              "  </thead>\n",
              "  <tbody>\n",
              "    <tr>\n",
              "      <th>0</th>\n",
              "      <td>Apple</td>\n",
              "      <td>Banana</td>\n",
              "      <td>Banana</td>\n",
              "      <td>Blueberry</td>\n",
              "      <td>Kiwifruit</td>\n",
              "      <td>Mango</td>\n",
              "      <td>Orange</td>\n",
              "      <td>Watermelon</td>\n",
              "      <td>Watermelon</td>\n",
              "    </tr>\n",
              "    <tr>\n",
              "      <th>1</th>\n",
              "      <td>Guava</td>\n",
              "      <td>Lychee</td>\n",
              "      <td>Mango</td>\n",
              "      <td>Orange</td>\n",
              "      <td>Papaya</td>\n",
              "      <td>Peach</td>\n",
              "      <td>Pear</td>\n",
              "      <td>Persimmon</td>\n",
              "      <td>NaN</td>\n",
              "    </tr>\n",
              "    <tr>\n",
              "      <th>2</th>\n",
              "      <td>Apple</td>\n",
              "      <td>Blueberry</td>\n",
              "      <td>Cantaloupe</td>\n",
              "      <td>Cherry</td>\n",
              "      <td>Lemon</td>\n",
              "      <td>Orange</td>\n",
              "      <td>NaN</td>\n",
              "      <td>NaN</td>\n",
              "      <td>NaN</td>\n",
              "    </tr>\n",
              "    <tr>\n",
              "      <th>3</th>\n",
              "      <td>Strawberry</td>\n",
              "      <td>NaN</td>\n",
              "      <td>NaN</td>\n",
              "      <td>NaN</td>\n",
              "      <td>NaN</td>\n",
              "      <td>NaN</td>\n",
              "      <td>NaN</td>\n",
              "      <td>NaN</td>\n",
              "      <td>NaN</td>\n",
              "    </tr>\n",
              "    <tr>\n",
              "      <th>4</th>\n",
              "      <td>Grape</td>\n",
              "      <td>Guava</td>\n",
              "      <td>Longan</td>\n",
              "      <td>Lychee</td>\n",
              "      <td>Mango</td>\n",
              "      <td>Papaya</td>\n",
              "      <td>Watermelon</td>\n",
              "      <td>NaN</td>\n",
              "      <td>NaN</td>\n",
              "    </tr>\n",
              "    <tr>\n",
              "      <th>5</th>\n",
              "      <td>Apple</td>\n",
              "      <td>Avocado</td>\n",
              "      <td>Banana</td>\n",
              "      <td>Blueberry</td>\n",
              "      <td>Kiwifruit</td>\n",
              "      <td>Mango</td>\n",
              "      <td>Orange</td>\n",
              "      <td>Stonefruit</td>\n",
              "      <td>Watermelon</td>\n",
              "    </tr>\n",
              "    <tr>\n",
              "      <th>6</th>\n",
              "      <td>Apple</td>\n",
              "      <td>Guava</td>\n",
              "      <td>Mango</td>\n",
              "      <td>Pomelo</td>\n",
              "      <td>NaN</td>\n",
              "      <td>NaN</td>\n",
              "      <td>NaN</td>\n",
              "      <td>NaN</td>\n",
              "      <td>NaN</td>\n",
              "    </tr>\n",
              "    <tr>\n",
              "      <th>7</th>\n",
              "      <td>Persimmon</td>\n",
              "      <td>Pineapple</td>\n",
              "      <td>Pomelo</td>\n",
              "      <td>Roselle</td>\n",
              "      <td>Tangerine</td>\n",
              "      <td>NaN</td>\n",
              "      <td>NaN</td>\n",
              "      <td>NaN</td>\n",
              "      <td>NaN</td>\n",
              "    </tr>\n",
              "    <tr>\n",
              "      <th>8</th>\n",
              "      <td>Blueberry</td>\n",
              "      <td>Peach</td>\n",
              "      <td>Pineapple</td>\n",
              "      <td>Raspberry</td>\n",
              "      <td>NaN</td>\n",
              "      <td>NaN</td>\n",
              "      <td>NaN</td>\n",
              "      <td>NaN</td>\n",
              "      <td>NaN</td>\n",
              "    </tr>\n",
              "    <tr>\n",
              "      <th>9</th>\n",
              "      <td>Blackberry</td>\n",
              "      <td>Blueberry</td>\n",
              "      <td>Cherry</td>\n",
              "      <td>Pear</td>\n",
              "      <td>NaN</td>\n",
              "      <td>NaN</td>\n",
              "      <td>NaN</td>\n",
              "      <td>NaN</td>\n",
              "      <td>NaN</td>\n",
              "    </tr>\n",
              "  </tbody>\n",
              "</table>\n",
              "</div>"
            ],
            "text/plain": [
              "    Product_1  Product_2   Product_3  ...   Product_7   Product_8   Product_9\n",
              "0       Apple     Banana      Banana  ...      Orange  Watermelon  Watermelon\n",
              "1       Guava     Lychee       Mango  ...        Pear   Persimmon         NaN\n",
              "2       Apple  Blueberry  Cantaloupe  ...         NaN         NaN         NaN\n",
              "3  Strawberry        NaN         NaN  ...         NaN         NaN         NaN\n",
              "4       Grape      Guava      Longan  ...  Watermelon         NaN         NaN\n",
              "5       Apple    Avocado      Banana  ...      Orange  Stonefruit  Watermelon\n",
              "6       Apple      Guava       Mango  ...         NaN         NaN         NaN\n",
              "7   Persimmon  Pineapple      Pomelo  ...         NaN         NaN         NaN\n",
              "8   Blueberry      Peach   Pineapple  ...         NaN         NaN         NaN\n",
              "9  Blackberry  Blueberry      Cherry  ...         NaN         NaN         NaN\n",
              "\n",
              "[10 rows x 9 columns]"
            ]
          },
          "metadata": {
            "tags": []
          },
          "execution_count": 25
        }
      ]
    },
    {
      "cell_type": "code",
      "metadata": {
        "id": "WqTkrJL5MnoW"
      },
      "source": [
        "# Products.columns = [\"Product_\"+str(i) for i in range(9)]"
      ],
      "execution_count": null,
      "outputs": []
    },
    {
      "cell_type": "code",
      "metadata": {
        "id": "HNnqdoRUM_61",
        "outputId": "3fe9730b-bd2a-4a0c-c38b-69b57b5f0f13",
        "colab": {
          "base_uri": "https://localhost:8080/",
          "height": 343
        }
      },
      "source": [
        "Products"
      ],
      "execution_count": null,
      "outputs": [
        {
          "output_type": "execute_result",
          "data": {
            "text/html": [
              "<div>\n",
              "<style scoped>\n",
              "    .dataframe tbody tr th:only-of-type {\n",
              "        vertical-align: middle;\n",
              "    }\n",
              "\n",
              "    .dataframe tbody tr th {\n",
              "        vertical-align: top;\n",
              "    }\n",
              "\n",
              "    .dataframe thead th {\n",
              "        text-align: right;\n",
              "    }\n",
              "</style>\n",
              "<table border=\"1\" class=\"dataframe\">\n",
              "  <thead>\n",
              "    <tr style=\"text-align: right;\">\n",
              "      <th></th>\n",
              "      <th>Product_1</th>\n",
              "      <th>Product_2</th>\n",
              "      <th>Product_3</th>\n",
              "      <th>Product_4</th>\n",
              "      <th>Product_5</th>\n",
              "      <th>Product_6</th>\n",
              "      <th>Product_7</th>\n",
              "      <th>Product_8</th>\n",
              "      <th>Product_9</th>\n",
              "    </tr>\n",
              "  </thead>\n",
              "  <tbody>\n",
              "    <tr>\n",
              "      <th>0</th>\n",
              "      <td>Apple</td>\n",
              "      <td>Banana</td>\n",
              "      <td>Banana</td>\n",
              "      <td>Blueberry</td>\n",
              "      <td>Kiwifruit</td>\n",
              "      <td>Mango</td>\n",
              "      <td>Orange</td>\n",
              "      <td>Watermelon</td>\n",
              "      <td>Watermelon</td>\n",
              "    </tr>\n",
              "    <tr>\n",
              "      <th>1</th>\n",
              "      <td>Guava</td>\n",
              "      <td>Lychee</td>\n",
              "      <td>Mango</td>\n",
              "      <td>Orange</td>\n",
              "      <td>Papaya</td>\n",
              "      <td>Peach</td>\n",
              "      <td>Pear</td>\n",
              "      <td>Persimmon</td>\n",
              "      <td>NaN</td>\n",
              "    </tr>\n",
              "    <tr>\n",
              "      <th>2</th>\n",
              "      <td>Apple</td>\n",
              "      <td>Blueberry</td>\n",
              "      <td>Cantaloupe</td>\n",
              "      <td>Cherry</td>\n",
              "      <td>Lemon</td>\n",
              "      <td>Orange</td>\n",
              "      <td>NaN</td>\n",
              "      <td>NaN</td>\n",
              "      <td>NaN</td>\n",
              "    </tr>\n",
              "    <tr>\n",
              "      <th>3</th>\n",
              "      <td>Strawberry</td>\n",
              "      <td>NaN</td>\n",
              "      <td>NaN</td>\n",
              "      <td>NaN</td>\n",
              "      <td>NaN</td>\n",
              "      <td>NaN</td>\n",
              "      <td>NaN</td>\n",
              "      <td>NaN</td>\n",
              "      <td>NaN</td>\n",
              "    </tr>\n",
              "    <tr>\n",
              "      <th>4</th>\n",
              "      <td>Grape</td>\n",
              "      <td>Guava</td>\n",
              "      <td>Longan</td>\n",
              "      <td>Lychee</td>\n",
              "      <td>Mango</td>\n",
              "      <td>Papaya</td>\n",
              "      <td>Watermelon</td>\n",
              "      <td>NaN</td>\n",
              "      <td>NaN</td>\n",
              "    </tr>\n",
              "    <tr>\n",
              "      <th>5</th>\n",
              "      <td>Apple</td>\n",
              "      <td>Avocado</td>\n",
              "      <td>Banana</td>\n",
              "      <td>Blueberry</td>\n",
              "      <td>Kiwifruit</td>\n",
              "      <td>Mango</td>\n",
              "      <td>Orange</td>\n",
              "      <td>Stonefruit</td>\n",
              "      <td>Watermelon</td>\n",
              "    </tr>\n",
              "    <tr>\n",
              "      <th>6</th>\n",
              "      <td>Apple</td>\n",
              "      <td>Guava</td>\n",
              "      <td>Mango</td>\n",
              "      <td>Pomelo</td>\n",
              "      <td>NaN</td>\n",
              "      <td>NaN</td>\n",
              "      <td>NaN</td>\n",
              "      <td>NaN</td>\n",
              "      <td>NaN</td>\n",
              "    </tr>\n",
              "    <tr>\n",
              "      <th>7</th>\n",
              "      <td>Persimmon</td>\n",
              "      <td>Pineapple</td>\n",
              "      <td>Pomelo</td>\n",
              "      <td>Roselle</td>\n",
              "      <td>Tangerine</td>\n",
              "      <td>NaN</td>\n",
              "      <td>NaN</td>\n",
              "      <td>NaN</td>\n",
              "      <td>NaN</td>\n",
              "    </tr>\n",
              "    <tr>\n",
              "      <th>8</th>\n",
              "      <td>Blueberry</td>\n",
              "      <td>Peach</td>\n",
              "      <td>Pineapple</td>\n",
              "      <td>Raspberry</td>\n",
              "      <td>NaN</td>\n",
              "      <td>NaN</td>\n",
              "      <td>NaN</td>\n",
              "      <td>NaN</td>\n",
              "      <td>NaN</td>\n",
              "    </tr>\n",
              "    <tr>\n",
              "      <th>9</th>\n",
              "      <td>Blackberry</td>\n",
              "      <td>Blueberry</td>\n",
              "      <td>Cherry</td>\n",
              "      <td>Pear</td>\n",
              "      <td>NaN</td>\n",
              "      <td>NaN</td>\n",
              "      <td>NaN</td>\n",
              "      <td>NaN</td>\n",
              "      <td>NaN</td>\n",
              "    </tr>\n",
              "  </tbody>\n",
              "</table>\n",
              "</div>"
            ],
            "text/plain": [
              "    Product_1  Product_2   Product_3  ...   Product_7   Product_8   Product_9\n",
              "0       Apple     Banana      Banana  ...      Orange  Watermelon  Watermelon\n",
              "1       Guava     Lychee       Mango  ...        Pear   Persimmon         NaN\n",
              "2       Apple  Blueberry  Cantaloupe  ...         NaN         NaN         NaN\n",
              "3  Strawberry        NaN         NaN  ...         NaN         NaN         NaN\n",
              "4       Grape      Guava      Longan  ...  Watermelon         NaN         NaN\n",
              "5       Apple    Avocado      Banana  ...      Orange  Stonefruit  Watermelon\n",
              "6       Apple      Guava       Mango  ...         NaN         NaN         NaN\n",
              "7   Persimmon  Pineapple      Pomelo  ...         NaN         NaN         NaN\n",
              "8   Blueberry      Peach   Pineapple  ...         NaN         NaN         NaN\n",
              "9  Blackberry  Blueberry      Cherry  ...         NaN         NaN         NaN\n",
              "\n",
              "[10 rows x 9 columns]"
            ]
          },
          "metadata": {
            "tags": []
          },
          "execution_count": 27
        }
      ]
    },
    {
      "cell_type": "markdown",
      "metadata": {
        "id": "oonfk50lNcvw"
      },
      "source": [
        "Do one-hot encoding on each product"
      ]
    },
    {
      "cell_type": "markdown",
      "metadata": {
        "id": "DATW-CbWOODs"
      },
      "source": [
        "We are using the original form from the split because we can use whitespace to separate them. (Fill free to try using the list form with a loop!)"
      ]
    },
    {
      "cell_type": "code",
      "metadata": {
        "id": "ho08B1rWU7vr"
      },
      "source": [
        "import numpy as np"
      ],
      "execution_count": null,
      "outputs": []
    },
    {
      "cell_type": "code",
      "metadata": {
        "id": "2goAKZobT4CY",
        "outputId": "6c8ec558-f899-4c81-e25d-3e2b8f31c91b",
        "colab": {
          "base_uri": "https://localhost:8080/",
          "height": 487
        }
      },
      "source": [
        "unique_fruits = set([item for row in Products.values.tolist() for item in row])\n",
        "unique_fruits"
      ],
      "execution_count": null,
      "outputs": [
        {
          "output_type": "execute_result",
          "data": {
            "text/plain": [
              "{'Apple',\n",
              " 'Avocado',\n",
              " 'Banana',\n",
              " 'Blackberry',\n",
              " 'Blueberry',\n",
              " 'Cantaloupe',\n",
              " 'Cherry',\n",
              " 'Grape',\n",
              " 'Guava',\n",
              " 'Kiwifruit',\n",
              " 'Lemon',\n",
              " 'Longan',\n",
              " 'Lychee',\n",
              " 'Mango',\n",
              " 'Orange',\n",
              " 'Papaya',\n",
              " 'Peach',\n",
              " 'Pear',\n",
              " 'Persimmon',\n",
              " 'Pineapple',\n",
              " 'Pomelo',\n",
              " 'Raspberry',\n",
              " 'Roselle',\n",
              " 'Stonefruit',\n",
              " 'Strawberry',\n",
              " 'Tangerine',\n",
              " 'Watermelon',\n",
              " nan}"
            ]
          },
          "metadata": {
            "tags": []
          },
          "execution_count": 29
        }
      ]
    },
    {
      "cell_type": "code",
      "metadata": {
        "id": "w_OmteWCVQ6F",
        "outputId": "a1c61f96-58f2-40af-fc17-9876209442e3",
        "colab": {
          "base_uri": "https://localhost:8080/",
          "height": 470
        }
      },
      "source": [
        "unique_fruits.remove(np.nan)\n",
        "unique_fruits"
      ],
      "execution_count": null,
      "outputs": [
        {
          "output_type": "execute_result",
          "data": {
            "text/plain": [
              "{'Apple',\n",
              " 'Avocado',\n",
              " 'Banana',\n",
              " 'Blackberry',\n",
              " 'Blueberry',\n",
              " 'Cantaloupe',\n",
              " 'Cherry',\n",
              " 'Grape',\n",
              " 'Guava',\n",
              " 'Kiwifruit',\n",
              " 'Lemon',\n",
              " 'Longan',\n",
              " 'Lychee',\n",
              " 'Mango',\n",
              " 'Orange',\n",
              " 'Papaya',\n",
              " 'Peach',\n",
              " 'Pear',\n",
              " 'Persimmon',\n",
              " 'Pineapple',\n",
              " 'Pomelo',\n",
              " 'Raspberry',\n",
              " 'Roselle',\n",
              " 'Stonefruit',\n",
              " 'Strawberry',\n",
              " 'Tangerine',\n",
              " 'Watermelon'}"
            ]
          },
          "metadata": {
            "tags": []
          },
          "execution_count": 30
        }
      ]
    },
    {
      "cell_type": "code",
      "metadata": {
        "id": "iydS5akFT4PH",
        "outputId": "ee737986-dc48-484d-8321-a7b02186a721",
        "colab": {
          "base_uri": "https://localhost:8080/",
          "height": 202
        }
      },
      "source": [
        "Products_2 = df[\"Product_Description\"].str.split(\": \", expand=True)[1]\n",
        "Products_2"
      ],
      "execution_count": null,
      "outputs": [
        {
          "output_type": "execute_result",
          "data": {
            "text/plain": [
              "0    Apple Mango Banana Watermelon Orange Blueberry...\n",
              "1    Orange Pear Mango Papaya Peach Persimmon Lyche...\n",
              "2       Apple Orange Blueberry Lemon Cantaloupe Cherry\n",
              "3                                           Strawberry\n",
              "4    Mango Papaya Watermelon Lychee Guava Grape Longan\n",
              "5    Apple Orange Blueberry Mango Banana Watermelon...\n",
              "6                             Apple Pomelo Mango Guava\n",
              "7         Pomelo Persimmon Roselle Tangerine Pineapple\n",
              "8                  Raspberry Blueberry Pineapple Peach\n",
              "9                     Blueberry Cherry Pear Blackberry\n",
              "Name: 1, dtype: object"
            ]
          },
          "metadata": {
            "tags": []
          },
          "execution_count": 31
        }
      ]
    },
    {
      "cell_type": "code",
      "metadata": {
        "id": "FajnBgVlT4Lq",
        "outputId": "a247636c-8f97-41e1-b4e0-03cee1310de0",
        "colab": {
          "base_uri": "https://localhost:8080/",
          "height": 363
        }
      },
      "source": [
        "Products_2.str.get_dummies(\" \")"
      ],
      "execution_count": null,
      "outputs": [
        {
          "output_type": "execute_result",
          "data": {
            "text/html": [
              "<div>\n",
              "<style scoped>\n",
              "    .dataframe tbody tr th:only-of-type {\n",
              "        vertical-align: middle;\n",
              "    }\n",
              "\n",
              "    .dataframe tbody tr th {\n",
              "        vertical-align: top;\n",
              "    }\n",
              "\n",
              "    .dataframe thead th {\n",
              "        text-align: right;\n",
              "    }\n",
              "</style>\n",
              "<table border=\"1\" class=\"dataframe\">\n",
              "  <thead>\n",
              "    <tr style=\"text-align: right;\">\n",
              "      <th></th>\n",
              "      <th>Apple</th>\n",
              "      <th>Avocado</th>\n",
              "      <th>Banana</th>\n",
              "      <th>Blackberry</th>\n",
              "      <th>Blueberry</th>\n",
              "      <th>Cantaloupe</th>\n",
              "      <th>Cherry</th>\n",
              "      <th>Grape</th>\n",
              "      <th>Guava</th>\n",
              "      <th>Kiwifruit</th>\n",
              "      <th>Lemon</th>\n",
              "      <th>Longan</th>\n",
              "      <th>Lychee</th>\n",
              "      <th>Mango</th>\n",
              "      <th>Orange</th>\n",
              "      <th>Papaya</th>\n",
              "      <th>Peach</th>\n",
              "      <th>Pear</th>\n",
              "      <th>Persimmon</th>\n",
              "      <th>Pineapple</th>\n",
              "      <th>Pomelo</th>\n",
              "      <th>Raspberry</th>\n",
              "      <th>Roselle</th>\n",
              "      <th>Stonefruit</th>\n",
              "      <th>Strawberry</th>\n",
              "      <th>Tangerine</th>\n",
              "      <th>Watermelon</th>\n",
              "    </tr>\n",
              "  </thead>\n",
              "  <tbody>\n",
              "    <tr>\n",
              "      <th>0</th>\n",
              "      <td>1</td>\n",
              "      <td>0</td>\n",
              "      <td>1</td>\n",
              "      <td>0</td>\n",
              "      <td>1</td>\n",
              "      <td>0</td>\n",
              "      <td>0</td>\n",
              "      <td>0</td>\n",
              "      <td>0</td>\n",
              "      <td>1</td>\n",
              "      <td>0</td>\n",
              "      <td>0</td>\n",
              "      <td>0</td>\n",
              "      <td>1</td>\n",
              "      <td>1</td>\n",
              "      <td>0</td>\n",
              "      <td>0</td>\n",
              "      <td>0</td>\n",
              "      <td>0</td>\n",
              "      <td>0</td>\n",
              "      <td>0</td>\n",
              "      <td>0</td>\n",
              "      <td>0</td>\n",
              "      <td>0</td>\n",
              "      <td>0</td>\n",
              "      <td>0</td>\n",
              "      <td>1</td>\n",
              "    </tr>\n",
              "    <tr>\n",
              "      <th>1</th>\n",
              "      <td>0</td>\n",
              "      <td>0</td>\n",
              "      <td>0</td>\n",
              "      <td>0</td>\n",
              "      <td>0</td>\n",
              "      <td>0</td>\n",
              "      <td>0</td>\n",
              "      <td>0</td>\n",
              "      <td>1</td>\n",
              "      <td>0</td>\n",
              "      <td>0</td>\n",
              "      <td>0</td>\n",
              "      <td>1</td>\n",
              "      <td>1</td>\n",
              "      <td>1</td>\n",
              "      <td>1</td>\n",
              "      <td>1</td>\n",
              "      <td>1</td>\n",
              "      <td>1</td>\n",
              "      <td>0</td>\n",
              "      <td>0</td>\n",
              "      <td>0</td>\n",
              "      <td>0</td>\n",
              "      <td>0</td>\n",
              "      <td>0</td>\n",
              "      <td>0</td>\n",
              "      <td>0</td>\n",
              "    </tr>\n",
              "    <tr>\n",
              "      <th>2</th>\n",
              "      <td>1</td>\n",
              "      <td>0</td>\n",
              "      <td>0</td>\n",
              "      <td>0</td>\n",
              "      <td>1</td>\n",
              "      <td>1</td>\n",
              "      <td>1</td>\n",
              "      <td>0</td>\n",
              "      <td>0</td>\n",
              "      <td>0</td>\n",
              "      <td>1</td>\n",
              "      <td>0</td>\n",
              "      <td>0</td>\n",
              "      <td>0</td>\n",
              "      <td>1</td>\n",
              "      <td>0</td>\n",
              "      <td>0</td>\n",
              "      <td>0</td>\n",
              "      <td>0</td>\n",
              "      <td>0</td>\n",
              "      <td>0</td>\n",
              "      <td>0</td>\n",
              "      <td>0</td>\n",
              "      <td>0</td>\n",
              "      <td>0</td>\n",
              "      <td>0</td>\n",
              "      <td>0</td>\n",
              "    </tr>\n",
              "    <tr>\n",
              "      <th>3</th>\n",
              "      <td>0</td>\n",
              "      <td>0</td>\n",
              "      <td>0</td>\n",
              "      <td>0</td>\n",
              "      <td>0</td>\n",
              "      <td>0</td>\n",
              "      <td>0</td>\n",
              "      <td>0</td>\n",
              "      <td>0</td>\n",
              "      <td>0</td>\n",
              "      <td>0</td>\n",
              "      <td>0</td>\n",
              "      <td>0</td>\n",
              "      <td>0</td>\n",
              "      <td>0</td>\n",
              "      <td>0</td>\n",
              "      <td>0</td>\n",
              "      <td>0</td>\n",
              "      <td>0</td>\n",
              "      <td>0</td>\n",
              "      <td>0</td>\n",
              "      <td>0</td>\n",
              "      <td>0</td>\n",
              "      <td>0</td>\n",
              "      <td>1</td>\n",
              "      <td>0</td>\n",
              "      <td>0</td>\n",
              "    </tr>\n",
              "    <tr>\n",
              "      <th>4</th>\n",
              "      <td>0</td>\n",
              "      <td>0</td>\n",
              "      <td>0</td>\n",
              "      <td>0</td>\n",
              "      <td>0</td>\n",
              "      <td>0</td>\n",
              "      <td>0</td>\n",
              "      <td>1</td>\n",
              "      <td>1</td>\n",
              "      <td>0</td>\n",
              "      <td>0</td>\n",
              "      <td>1</td>\n",
              "      <td>1</td>\n",
              "      <td>1</td>\n",
              "      <td>0</td>\n",
              "      <td>1</td>\n",
              "      <td>0</td>\n",
              "      <td>0</td>\n",
              "      <td>0</td>\n",
              "      <td>0</td>\n",
              "      <td>0</td>\n",
              "      <td>0</td>\n",
              "      <td>0</td>\n",
              "      <td>0</td>\n",
              "      <td>0</td>\n",
              "      <td>0</td>\n",
              "      <td>1</td>\n",
              "    </tr>\n",
              "    <tr>\n",
              "      <th>5</th>\n",
              "      <td>1</td>\n",
              "      <td>1</td>\n",
              "      <td>1</td>\n",
              "      <td>0</td>\n",
              "      <td>1</td>\n",
              "      <td>0</td>\n",
              "      <td>0</td>\n",
              "      <td>0</td>\n",
              "      <td>0</td>\n",
              "      <td>1</td>\n",
              "      <td>0</td>\n",
              "      <td>0</td>\n",
              "      <td>0</td>\n",
              "      <td>1</td>\n",
              "      <td>1</td>\n",
              "      <td>0</td>\n",
              "      <td>0</td>\n",
              "      <td>0</td>\n",
              "      <td>0</td>\n",
              "      <td>0</td>\n",
              "      <td>0</td>\n",
              "      <td>0</td>\n",
              "      <td>0</td>\n",
              "      <td>1</td>\n",
              "      <td>0</td>\n",
              "      <td>0</td>\n",
              "      <td>1</td>\n",
              "    </tr>\n",
              "    <tr>\n",
              "      <th>6</th>\n",
              "      <td>1</td>\n",
              "      <td>0</td>\n",
              "      <td>0</td>\n",
              "      <td>0</td>\n",
              "      <td>0</td>\n",
              "      <td>0</td>\n",
              "      <td>0</td>\n",
              "      <td>0</td>\n",
              "      <td>1</td>\n",
              "      <td>0</td>\n",
              "      <td>0</td>\n",
              "      <td>0</td>\n",
              "      <td>0</td>\n",
              "      <td>1</td>\n",
              "      <td>0</td>\n",
              "      <td>0</td>\n",
              "      <td>0</td>\n",
              "      <td>0</td>\n",
              "      <td>0</td>\n",
              "      <td>0</td>\n",
              "      <td>1</td>\n",
              "      <td>0</td>\n",
              "      <td>0</td>\n",
              "      <td>0</td>\n",
              "      <td>0</td>\n",
              "      <td>0</td>\n",
              "      <td>0</td>\n",
              "    </tr>\n",
              "    <tr>\n",
              "      <th>7</th>\n",
              "      <td>0</td>\n",
              "      <td>0</td>\n",
              "      <td>0</td>\n",
              "      <td>0</td>\n",
              "      <td>0</td>\n",
              "      <td>0</td>\n",
              "      <td>0</td>\n",
              "      <td>0</td>\n",
              "      <td>0</td>\n",
              "      <td>0</td>\n",
              "      <td>0</td>\n",
              "      <td>0</td>\n",
              "      <td>0</td>\n",
              "      <td>0</td>\n",
              "      <td>0</td>\n",
              "      <td>0</td>\n",
              "      <td>0</td>\n",
              "      <td>0</td>\n",
              "      <td>1</td>\n",
              "      <td>1</td>\n",
              "      <td>1</td>\n",
              "      <td>0</td>\n",
              "      <td>1</td>\n",
              "      <td>0</td>\n",
              "      <td>0</td>\n",
              "      <td>1</td>\n",
              "      <td>0</td>\n",
              "    </tr>\n",
              "    <tr>\n",
              "      <th>8</th>\n",
              "      <td>0</td>\n",
              "      <td>0</td>\n",
              "      <td>0</td>\n",
              "      <td>0</td>\n",
              "      <td>1</td>\n",
              "      <td>0</td>\n",
              "      <td>0</td>\n",
              "      <td>0</td>\n",
              "      <td>0</td>\n",
              "      <td>0</td>\n",
              "      <td>0</td>\n",
              "      <td>0</td>\n",
              "      <td>0</td>\n",
              "      <td>0</td>\n",
              "      <td>0</td>\n",
              "      <td>0</td>\n",
              "      <td>1</td>\n",
              "      <td>0</td>\n",
              "      <td>0</td>\n",
              "      <td>1</td>\n",
              "      <td>0</td>\n",
              "      <td>1</td>\n",
              "      <td>0</td>\n",
              "      <td>0</td>\n",
              "      <td>0</td>\n",
              "      <td>0</td>\n",
              "      <td>0</td>\n",
              "    </tr>\n",
              "    <tr>\n",
              "      <th>9</th>\n",
              "      <td>0</td>\n",
              "      <td>0</td>\n",
              "      <td>0</td>\n",
              "      <td>1</td>\n",
              "      <td>1</td>\n",
              "      <td>0</td>\n",
              "      <td>1</td>\n",
              "      <td>0</td>\n",
              "      <td>0</td>\n",
              "      <td>0</td>\n",
              "      <td>0</td>\n",
              "      <td>0</td>\n",
              "      <td>0</td>\n",
              "      <td>0</td>\n",
              "      <td>0</td>\n",
              "      <td>0</td>\n",
              "      <td>0</td>\n",
              "      <td>1</td>\n",
              "      <td>0</td>\n",
              "      <td>0</td>\n",
              "      <td>0</td>\n",
              "      <td>0</td>\n",
              "      <td>0</td>\n",
              "      <td>0</td>\n",
              "      <td>0</td>\n",
              "      <td>0</td>\n",
              "      <td>0</td>\n",
              "    </tr>\n",
              "  </tbody>\n",
              "</table>\n",
              "</div>"
            ],
            "text/plain": [
              "   Apple  Avocado  Banana  ...  Strawberry  Tangerine  Watermelon\n",
              "0      1        0       1  ...           0          0           1\n",
              "1      0        0       0  ...           0          0           0\n",
              "2      1        0       0  ...           0          0           0\n",
              "3      0        0       0  ...           1          0           0\n",
              "4      0        0       0  ...           0          0           1\n",
              "5      1        1       1  ...           0          0           1\n",
              "6      1        0       0  ...           0          0           0\n",
              "7      0        0       0  ...           0          1           0\n",
              "8      0        0       0  ...           0          0           0\n",
              "9      0        0       0  ...           0          0           0\n",
              "\n",
              "[10 rows x 27 columns]"
            ]
          },
          "metadata": {
            "tags": []
          },
          "execution_count": 32
        }
      ]
    },
    {
      "cell_type": "code",
      "metadata": {
        "id": "qlN7i5MWT4Fc"
      },
      "source": [
        ""
      ],
      "execution_count": null,
      "outputs": []
    },
    {
      "cell_type": "code",
      "metadata": {
        "id": "VG092LGoT34e"
      },
      "source": [
        ""
      ],
      "execution_count": null,
      "outputs": []
    },
    {
      "cell_type": "code",
      "metadata": {
        "id": "3eN6EcBUNAv9"
      },
      "source": [
        "# Products2 = df['Product_Description'].str.split(': ', expand=True)[1]\n",
        "# Products2"
      ],
      "execution_count": null,
      "outputs": []
    },
    {
      "cell_type": "code",
      "metadata": {
        "id": "akoDq_3oNrU9"
      },
      "source": [
        "# Products2 = df['Product_Description'].str.split(': ', expand=True)[1].str.get_dummies(' ')\n",
        "# Products2"
      ],
      "execution_count": null,
      "outputs": []
    },
    {
      "cell_type": "markdown",
      "metadata": {
        "id": "8SleIMH2On1S"
      },
      "source": [
        "turn the Recent_Sales_Date column into a “year-month-day” format. "
      ]
    },
    {
      "cell_type": "code",
      "metadata": {
        "id": "G5vkqxMtNram",
        "outputId": "3fdf751a-7dde-4fce-c156-1a97714a14c1",
        "colab": {
          "base_uri": "https://localhost:8080/",
          "height": 269
        }
      },
      "source": [
        "df.info()"
      ],
      "execution_count": null,
      "outputs": [
        {
          "output_type": "stream",
          "text": [
            "<class 'pandas.core.frame.DataFrame'>\n",
            "Int64Index: 10 entries, 0 to 9\n",
            "Data columns (total 8 columns):\n",
            " #   Column               Non-Null Count  Dtype \n",
            "---  ------               --------------  ----- \n",
            " 0   Sales_ID             10 non-null     object\n",
            " 1   Sales_Branch         10 non-null     object\n",
            " 2   Product_Description  10 non-null     object\n",
            " 3   Recent_Sales_Date    10 non-null     object\n",
            " 4   Customer_Count       10 non-null     int64 \n",
            " 5   Description          10 non-null     object\n",
            " 6   Product              10 non-null     object\n",
            " 7   Product_Count        10 non-null     int64 \n",
            "dtypes: int64(2), object(6)\n",
            "memory usage: 1.0+ KB\n"
          ],
          "name": "stdout"
        }
      ]
    },
    {
      "cell_type": "code",
      "metadata": {
        "id": "WiD5C9LzWqun",
        "outputId": "a984a7b4-f0d0-48a3-b9a1-25707ddd4b0c",
        "colab": {
          "base_uri": "https://localhost:8080/",
          "height": 202
        }
      },
      "source": [
        "df[\"Recent_Sales_Date\"]= pd.to_datetime(df[\"Recent_Sales_Date\"].str.split(expand=True)[0])\n",
        "df[\"Recent_Sales_Date\"]"
      ],
      "execution_count": null,
      "outputs": [
        {
          "output_type": "execute_result",
          "data": {
            "text/plain": [
              "0   2019-12-31\n",
              "1   2019-12-31\n",
              "2   2019-12-29\n",
              "3   2019-12-15\n",
              "4   2019-12-29\n",
              "5   2019-12-31\n",
              "6   2019-12-31\n",
              "7   2019-12-27\n",
              "8   2019-12-31\n",
              "9   2019-12-30\n",
              "Name: Recent_Sales_Date, dtype: datetime64[ns]"
            ]
          },
          "metadata": {
            "tags": []
          },
          "execution_count": 36
        }
      ]
    },
    {
      "cell_type": "code",
      "metadata": {
        "id": "J6iQ3M89Wqri"
      },
      "source": [
        ""
      ],
      "execution_count": null,
      "outputs": []
    },
    {
      "cell_type": "code",
      "metadata": {
        "id": "PTE2jmmqNrXy"
      },
      "source": [
        "# df[\"Recent_Sales_Date\"] = pd.to_datetime(df[\"Recent_Sales_Date\"].str.split(expand=True)[0])"
      ],
      "execution_count": null,
      "outputs": []
    },
    {
      "cell_type": "code",
      "metadata": {
        "id": "H2P0jHlyNrSM",
        "outputId": "0d0cc39c-07d1-4cfe-d2d7-86d6497ccef8",
        "colab": {
          "base_uri": "https://localhost:8080/",
          "height": 202
        }
      },
      "source": [
        "df[\"Recent_Sales_Date\"]"
      ],
      "execution_count": null,
      "outputs": [
        {
          "output_type": "execute_result",
          "data": {
            "text/plain": [
              "0   2019-12-31\n",
              "1   2019-12-31\n",
              "2   2019-12-29\n",
              "3   2019-12-15\n",
              "4   2019-12-29\n",
              "5   2019-12-31\n",
              "6   2019-12-31\n",
              "7   2019-12-27\n",
              "8   2019-12-31\n",
              "9   2019-12-30\n",
              "Name: Recent_Sales_Date, dtype: datetime64[ns]"
            ]
          },
          "metadata": {
            "tags": []
          },
          "execution_count": 38
        }
      ]
    },
    {
      "cell_type": "code",
      "metadata": {
        "id": "VfOOhX1vhCKr"
      },
      "source": [
        ""
      ],
      "execution_count": null,
      "outputs": []
    },
    {
      "cell_type": "code",
      "metadata": {
        "id": "jYgQydujidYN"
      },
      "source": [
        ""
      ],
      "execution_count": null,
      "outputs": []
    },
    {
      "cell_type": "markdown",
      "metadata": {
        "id": "E82P_I0uijNh"
      },
      "source": [
        "### Pandas with text\n"
      ]
    },
    {
      "cell_type": "code",
      "metadata": {
        "id": "TX-cq3kZedK7"
      },
      "source": [
        "text = [\"Developer Wes McKinney started working on pandas in 2008 while at AQR Capital Management out of the need for a high performance, flexible tool to perform quantitative analysis on financial data. Before leaving AQR he was able to convince management to allow him to open source the library.\"]"
      ],
      "execution_count": null,
      "outputs": []
    },
    {
      "cell_type": "code",
      "metadata": {
        "id": "cxXRZW41egaU",
        "outputId": "a0c69811-c7d2-46c3-e93b-102ef205410c",
        "colab": {
          "base_uri": "https://localhost:8080/",
          "height": 50
        }
      },
      "source": [
        "A = pd.Series(text)\n",
        "A"
      ],
      "execution_count": null,
      "outputs": [
        {
          "output_type": "execute_result",
          "data": {
            "text/plain": [
              "0    Developer Wes McKinney started working on pand...\n",
              "dtype: object"
            ]
          },
          "metadata": {
            "tags": []
          },
          "execution_count": 40
        }
      ]
    },
    {
      "cell_type": "code",
      "metadata": {
        "id": "uxeSMSL9eps8",
        "outputId": "1a8e21a2-83fa-41e8-b36b-95bc3730e250",
        "colab": {
          "base_uri": "https://localhost:8080/",
          "height": 840
        }
      },
      "source": [
        "A = A.str.split().explode().reset_index(drop=True)\n",
        "A"
      ],
      "execution_count": null,
      "outputs": [
        {
          "output_type": "execute_result",
          "data": {
            "text/plain": [
              "0        Developer\n",
              "1              Wes\n",
              "2         McKinney\n",
              "3          started\n",
              "4          working\n",
              "5               on\n",
              "6           pandas\n",
              "7               in\n",
              "8             2008\n",
              "9            while\n",
              "10              at\n",
              "11             AQR\n",
              "12         Capital\n",
              "13      Management\n",
              "14             out\n",
              "15              of\n",
              "16             the\n",
              "17            need\n",
              "18             for\n",
              "19               a\n",
              "20            high\n",
              "21    performance,\n",
              "22        flexible\n",
              "23            tool\n",
              "24              to\n",
              "25         perform\n",
              "26    quantitative\n",
              "27        analysis\n",
              "28              on\n",
              "29       financial\n",
              "30           data.\n",
              "31          Before\n",
              "32         leaving\n",
              "33             AQR\n",
              "34              he\n",
              "35             was\n",
              "36            able\n",
              "37              to\n",
              "38        convince\n",
              "39      management\n",
              "40              to\n",
              "41           allow\n",
              "42             him\n",
              "43              to\n",
              "44            open\n",
              "45          source\n",
              "46             the\n",
              "47        library.\n",
              "dtype: object"
            ]
          },
          "metadata": {
            "tags": []
          },
          "execution_count": 41
        }
      ]
    },
    {
      "cell_type": "code",
      "metadata": {
        "id": "NNdWXH71f3bE",
        "outputId": "457b5de0-67d5-4369-d733-9f26214fd459",
        "colab": {
          "base_uri": "https://localhost:8080/",
          "height": 118
        }
      },
      "source": [
        "A = A.str.lower()\n",
        "A[:5]"
      ],
      "execution_count": null,
      "outputs": [
        {
          "output_type": "execute_result",
          "data": {
            "text/plain": [
              "0    developer\n",
              "1          wes\n",
              "2     mckinney\n",
              "3      started\n",
              "4      working\n",
              "dtype: object"
            ]
          },
          "metadata": {
            "tags": []
          },
          "execution_count": 42
        }
      ]
    },
    {
      "cell_type": "markdown",
      "metadata": {
        "id": "npbhincUje-U"
      },
      "source": [
        "combine all the strings in this series back to its original format"
      ]
    },
    {
      "cell_type": "code",
      "metadata": {
        "id": "BWPCuzQOjFyt",
        "outputId": "34e8e975-4216-46cb-857b-2e971e63137b",
        "colab": {
          "base_uri": "https://localhost:8080/",
          "height": 52
        }
      },
      "source": [
        "A.str.cat(sep=\" \")"
      ],
      "execution_count": null,
      "outputs": [
        {
          "output_type": "execute_result",
          "data": {
            "application/vnd.google.colaboratory.intrinsic+json": {
              "type": "string"
            },
            "text/plain": [
              "'developer wes mckinney started working on pandas in 2008 while at aqr capital management out of the need for a high performance, flexible tool to perform quantitative analysis on financial data. before leaving aqr he was able to convince management to allow him to open source the library.'"
            ]
          },
          "metadata": {
            "tags": []
          },
          "execution_count": 43
        }
      ]
    },
    {
      "cell_type": "code",
      "metadata": {
        "id": "_FipENerjNFU",
        "outputId": "28e07f07-eb07-419f-aa61-c1bfee7aad7e",
        "colab": {
          "base_uri": "https://localhost:8080/",
          "height": 118
        }
      },
      "source": [
        "A.str.count(\"er\")[:5]"
      ],
      "execution_count": null,
      "outputs": [
        {
          "output_type": "execute_result",
          "data": {
            "text/plain": [
              "0    1\n",
              "1    0\n",
              "2    0\n",
              "3    0\n",
              "4    0\n",
              "dtype: int64"
            ]
          },
          "metadata": {
            "tags": []
          },
          "execution_count": 44
        }
      ]
    },
    {
      "cell_type": "code",
      "metadata": {
        "id": "Ef4rKjhzkgdL",
        "outputId": "c994c603-d804-46b4-e87d-b1634b0f2ab5",
        "colab": {
          "base_uri": "https://localhost:8080/",
          "height": 118
        }
      },
      "source": [
        "cities = ['New York', 'Rome', 'Madrid', 'Istanbul', 'Rome']\n",
        "B= pd.Series(cities)\n",
        "B"
      ],
      "execution_count": null,
      "outputs": [
        {
          "output_type": "execute_result",
          "data": {
            "text/plain": [
              "0    New York\n",
              "1        Rome\n",
              "2      Madrid\n",
              "3    Istanbul\n",
              "4        Rome\n",
              "dtype: object"
            ]
          },
          "metadata": {
            "tags": []
          },
          "execution_count": 45
        }
      ]
    },
    {
      "cell_type": "code",
      "metadata": {
        "id": "9y-5wWvok7Ok",
        "outputId": "46cb74fa-6d0b-4a81-aa43-1cacd6445e20",
        "colab": {
          "base_uri": "https://localhost:8080/",
          "height": 195
        }
      },
      "source": [
        "B.str.get_dummies()"
      ],
      "execution_count": null,
      "outputs": [
        {
          "output_type": "execute_result",
          "data": {
            "text/html": [
              "<div>\n",
              "<style scoped>\n",
              "    .dataframe tbody tr th:only-of-type {\n",
              "        vertical-align: middle;\n",
              "    }\n",
              "\n",
              "    .dataframe tbody tr th {\n",
              "        vertical-align: top;\n",
              "    }\n",
              "\n",
              "    .dataframe thead th {\n",
              "        text-align: right;\n",
              "    }\n",
              "</style>\n",
              "<table border=\"1\" class=\"dataframe\">\n",
              "  <thead>\n",
              "    <tr style=\"text-align: right;\">\n",
              "      <th></th>\n",
              "      <th>Istanbul</th>\n",
              "      <th>Madrid</th>\n",
              "      <th>New York</th>\n",
              "      <th>Rome</th>\n",
              "    </tr>\n",
              "  </thead>\n",
              "  <tbody>\n",
              "    <tr>\n",
              "      <th>0</th>\n",
              "      <td>0</td>\n",
              "      <td>0</td>\n",
              "      <td>1</td>\n",
              "      <td>0</td>\n",
              "    </tr>\n",
              "    <tr>\n",
              "      <th>1</th>\n",
              "      <td>0</td>\n",
              "      <td>0</td>\n",
              "      <td>0</td>\n",
              "      <td>1</td>\n",
              "    </tr>\n",
              "    <tr>\n",
              "      <th>2</th>\n",
              "      <td>0</td>\n",
              "      <td>1</td>\n",
              "      <td>0</td>\n",
              "      <td>0</td>\n",
              "    </tr>\n",
              "    <tr>\n",
              "      <th>3</th>\n",
              "      <td>1</td>\n",
              "      <td>0</td>\n",
              "      <td>0</td>\n",
              "      <td>0</td>\n",
              "    </tr>\n",
              "    <tr>\n",
              "      <th>4</th>\n",
              "      <td>0</td>\n",
              "      <td>0</td>\n",
              "      <td>0</td>\n",
              "      <td>1</td>\n",
              "    </tr>\n",
              "  </tbody>\n",
              "</table>\n",
              "</div>"
            ],
            "text/plain": [
              "   Istanbul  Madrid  New York  Rome\n",
              "0         0       0         1     0\n",
              "1         0       0         0     1\n",
              "2         0       1         0     0\n",
              "3         1       0         0     0\n",
              "4         0       0         0     1"
            ]
          },
          "metadata": {
            "tags": []
          },
          "execution_count": 46
        }
      ]
    },
    {
      "cell_type": "code",
      "metadata": {
        "id": "eJr-4c36lTtv"
      },
      "source": [
        ""
      ],
      "execution_count": null,
      "outputs": []
    },
    {
      "cell_type": "code",
      "metadata": {
        "id": "lG9j6ciqlZHn",
        "outputId": "e905f6a2-fcaf-453b-b661-fbdf724d8b63",
        "colab": {
          "base_uri": "https://localhost:8080/",
          "height": 84
        }
      },
      "source": [
        "cities = [['New York', 'Rome', 'Madrid', 'Istanbul', 'Rome'], [\"Paris\"], [\"Paris\", \"Rome\"]]\n",
        "C= pd.Series(cities)\n",
        "C"
      ],
      "execution_count": null,
      "outputs": [
        {
          "output_type": "execute_result",
          "data": {
            "text/plain": [
              "0    [New York, Rome, Madrid, Istanbul, Rome]\n",
              "1                                     [Paris]\n",
              "2                               [Paris, Rome]\n",
              "dtype: object"
            ]
          },
          "metadata": {
            "tags": []
          },
          "execution_count": 47
        }
      ]
    },
    {
      "cell_type": "code",
      "metadata": {
        "id": "34LMZguxlkZL",
        "outputId": "c5231079-0031-46cf-956c-ed5649dae75b",
        "colab": {
          "base_uri": "https://localhost:8080/",
          "height": 84
        }
      },
      "source": [
        "C = C.apply(lambda x: \" \".join(x))\n",
        "C"
      ],
      "execution_count": null,
      "outputs": [
        {
          "output_type": "execute_result",
          "data": {
            "text/plain": [
              "0    New York Rome Madrid Istanbul Rome\n",
              "1                                 Paris\n",
              "2                            Paris Rome\n",
              "dtype: object"
            ]
          },
          "metadata": {
            "tags": []
          },
          "execution_count": 48
        }
      ]
    },
    {
      "cell_type": "code",
      "metadata": {
        "id": "pbfLcp5Hxc4D",
        "outputId": "708b0bef-840a-4707-dada-3698ba62cc2b",
        "colab": {
          "base_uri": "https://localhost:8080/",
          "height": 84
        }
      },
      "source": [
        "C = C.str.replace(\"New York\", \"NewYork\")\n",
        "C"
      ],
      "execution_count": null,
      "outputs": [
        {
          "output_type": "execute_result",
          "data": {
            "text/plain": [
              "0    NewYork Rome Madrid Istanbul Rome\n",
              "1                                Paris\n",
              "2                           Paris Rome\n",
              "dtype: object"
            ]
          },
          "metadata": {
            "tags": []
          },
          "execution_count": 49
        }
      ]
    },
    {
      "cell_type": "code",
      "metadata": {
        "id": "q7vHkdhllqh8",
        "outputId": "2570a51d-b302-4cc2-9a5c-51b456048743",
        "colab": {
          "base_uri": "https://localhost:8080/",
          "height": 136
        }
      },
      "source": [
        "C.str.get_dummies(\" \")"
      ],
      "execution_count": null,
      "outputs": [
        {
          "output_type": "execute_result",
          "data": {
            "text/html": [
              "<div>\n",
              "<style scoped>\n",
              "    .dataframe tbody tr th:only-of-type {\n",
              "        vertical-align: middle;\n",
              "    }\n",
              "\n",
              "    .dataframe tbody tr th {\n",
              "        vertical-align: top;\n",
              "    }\n",
              "\n",
              "    .dataframe thead th {\n",
              "        text-align: right;\n",
              "    }\n",
              "</style>\n",
              "<table border=\"1\" class=\"dataframe\">\n",
              "  <thead>\n",
              "    <tr style=\"text-align: right;\">\n",
              "      <th></th>\n",
              "      <th>Istanbul</th>\n",
              "      <th>Madrid</th>\n",
              "      <th>NewYork</th>\n",
              "      <th>Paris</th>\n",
              "      <th>Rome</th>\n",
              "    </tr>\n",
              "  </thead>\n",
              "  <tbody>\n",
              "    <tr>\n",
              "      <th>0</th>\n",
              "      <td>1</td>\n",
              "      <td>1</td>\n",
              "      <td>1</td>\n",
              "      <td>0</td>\n",
              "      <td>1</td>\n",
              "    </tr>\n",
              "    <tr>\n",
              "      <th>1</th>\n",
              "      <td>0</td>\n",
              "      <td>0</td>\n",
              "      <td>0</td>\n",
              "      <td>1</td>\n",
              "      <td>0</td>\n",
              "    </tr>\n",
              "    <tr>\n",
              "      <th>2</th>\n",
              "      <td>0</td>\n",
              "      <td>0</td>\n",
              "      <td>0</td>\n",
              "      <td>1</td>\n",
              "      <td>1</td>\n",
              "    </tr>\n",
              "  </tbody>\n",
              "</table>\n",
              "</div>"
            ],
            "text/plain": [
              "   Istanbul  Madrid  NewYork  Paris  Rome\n",
              "0         1       1        1      0     1\n",
              "1         0       0        0      1     0\n",
              "2         0       0        0      1     1"
            ]
          },
          "metadata": {
            "tags": []
          },
          "execution_count": 50
        }
      ]
    },
    {
      "cell_type": "code",
      "metadata": {
        "id": "mqrXAzi6xYnA"
      },
      "source": [
        ""
      ],
      "execution_count": null,
      "outputs": []
    },
    {
      "cell_type": "code",
      "metadata": {
        "id": "HdF854v6xYtJ",
        "outputId": "00b509d3-5f93-43bc-905d-a0edd9fe1828",
        "colab": {
          "base_uri": "https://localhost:8080/",
          "height": 343
        }
      },
      "source": [
        "D = pd.read_csv(\"https://raw.githubusercontent.com/yunglinchang/DataScience_playground/master/Pandas/data/TheFruit_sales.csv\", index_col=0)\n",
        "D"
      ],
      "execution_count": null,
      "outputs": [
        {
          "output_type": "execute_result",
          "data": {
            "text/html": [
              "<div>\n",
              "<style scoped>\n",
              "    .dataframe tbody tr th:only-of-type {\n",
              "        vertical-align: middle;\n",
              "    }\n",
              "\n",
              "    .dataframe tbody tr th {\n",
              "        vertical-align: top;\n",
              "    }\n",
              "\n",
              "    .dataframe thead th {\n",
              "        text-align: right;\n",
              "    }\n",
              "</style>\n",
              "<table border=\"1\" class=\"dataframe\">\n",
              "  <thead>\n",
              "    <tr style=\"text-align: right;\">\n",
              "      <th></th>\n",
              "      <th>Sales_ID</th>\n",
              "      <th>Sales_Branch</th>\n",
              "      <th>Product_Description</th>\n",
              "      <th>Recent_Sales_Date</th>\n",
              "      <th>Customer_Count</th>\n",
              "    </tr>\n",
              "  </thead>\n",
              "  <tbody>\n",
              "    <tr>\n",
              "      <th>0</th>\n",
              "      <td>AU_1382578        !</td>\n",
              "      <td>NaN</td>\n",
              "      <td>The Fruit, a company that sells fruits from al...</td>\n",
              "      <td>2019/12/31 GMT+8 18:00</td>\n",
              "      <td>10</td>\n",
              "    </tr>\n",
              "    <tr>\n",
              "      <th>1</th>\n",
              "      <td>TW_8312566       !</td>\n",
              "      <td>NaN</td>\n",
              "      <td>The Fruit, a company that sells fruits from al...</td>\n",
              "      <td>2019/12/31 GMT+8 18:00</td>\n",
              "      <td>27</td>\n",
              "    </tr>\n",
              "    <tr>\n",
              "      <th>2</th>\n",
              "      <td>US_2289987       !</td>\n",
              "      <td>NaN</td>\n",
              "      <td>The Fruit, a company that sells fruits from al...</td>\n",
              "      <td>2019/12/29 GMT+8 18:00</td>\n",
              "      <td>12</td>\n",
              "    </tr>\n",
              "    <tr>\n",
              "      <th>3</th>\n",
              "      <td>UK_1382574       !</td>\n",
              "      <td>NaN</td>\n",
              "      <td>The Fruit, a company that sells fruits from al...</td>\n",
              "      <td>2019/12/15 GMT+8 05:00</td>\n",
              "      <td>1</td>\n",
              "    </tr>\n",
              "    <tr>\n",
              "      <th>4</th>\n",
              "      <td>TW_1382578       !</td>\n",
              "      <td>NaN</td>\n",
              "      <td>The Fruit, a company that sells fruits from al...</td>\n",
              "      <td>2019/12/29 GMT+8 05:00</td>\n",
              "      <td>5</td>\n",
              "    </tr>\n",
              "    <tr>\n",
              "      <th>5</th>\n",
              "      <td>AU_1335358       !</td>\n",
              "      <td>NaN</td>\n",
              "      <td>The Fruit, a company that sells fruits from al...</td>\n",
              "      <td>2019/12/31 GMT+8 05:00</td>\n",
              "      <td>10</td>\n",
              "    </tr>\n",
              "    <tr>\n",
              "      <th>6</th>\n",
              "      <td>TW_6662597       !</td>\n",
              "      <td>NaN</td>\n",
              "      <td>The Fruit, a company that sells fruits from al...</td>\n",
              "      <td>2019/12/31 GMT+8 15:00</td>\n",
              "      <td>1</td>\n",
              "    </tr>\n",
              "    <tr>\n",
              "      <th>7</th>\n",
              "      <td>TW_3352571       !</td>\n",
              "      <td>NaN</td>\n",
              "      <td>The Fruit, a company that sells fruits from al...</td>\n",
              "      <td>2019/12/27 GMT+8 18:00</td>\n",
              "      <td>3</td>\n",
              "    </tr>\n",
              "    <tr>\n",
              "      <th>8</th>\n",
              "      <td>US_7683478       !</td>\n",
              "      <td>NaN</td>\n",
              "      <td>The Fruit, a company that sells fruits from al...</td>\n",
              "      <td>2019/12/31 GMT+8 18:00</td>\n",
              "      <td>17</td>\n",
              "    </tr>\n",
              "    <tr>\n",
              "      <th>9</th>\n",
              "      <td>US_4523771       !</td>\n",
              "      <td>NaN</td>\n",
              "      <td>The Fruit, a company that sells fruits from al...</td>\n",
              "      <td>2019/12/30 GMT+8 18:00</td>\n",
              "      <td>51</td>\n",
              "    </tr>\n",
              "  </tbody>\n",
              "</table>\n",
              "</div>"
            ],
            "text/plain": [
              "              Sales_ID  Sales_Branch  ...       Recent_Sales_Date Customer_Count\n",
              "0  AU_1382578        !           NaN  ...  2019/12/31 GMT+8 18:00             10\n",
              "1   TW_8312566       !           NaN  ...  2019/12/31 GMT+8 18:00             27\n",
              "2   US_2289987       !           NaN  ...  2019/12/29 GMT+8 18:00             12\n",
              "3   UK_1382574       !           NaN  ...  2019/12/15 GMT+8 05:00              1\n",
              "4   TW_1382578       !           NaN  ...  2019/12/29 GMT+8 05:00              5\n",
              "5   AU_1335358       !           NaN  ...  2019/12/31 GMT+8 05:00             10\n",
              "6   TW_6662597       !           NaN  ...  2019/12/31 GMT+8 15:00              1\n",
              "7   TW_3352571       !           NaN  ...  2019/12/27 GMT+8 18:00              3\n",
              "8   US_7683478       !           NaN  ...  2019/12/31 GMT+8 18:00             17\n",
              "9   US_4523771       !           NaN  ...  2019/12/30 GMT+8 18:00             51\n",
              "\n",
              "[10 rows x 5 columns]"
            ]
          },
          "metadata": {
            "tags": []
          },
          "execution_count": 51
        }
      ]
    },
    {
      "cell_type": "code",
      "metadata": {
        "id": "UBzn-L9YyOhu",
        "outputId": "d9327292-2150-47d1-fe7b-be59913eec84",
        "colab": {
          "base_uri": "https://localhost:8080/",
          "height": 343
        }
      },
      "source": [
        "D[\"Sales_ID\"].str.extract(r'([A-Z]+)_(\\d+)')"
      ],
      "execution_count": null,
      "outputs": [
        {
          "output_type": "execute_result",
          "data": {
            "text/html": [
              "<div>\n",
              "<style scoped>\n",
              "    .dataframe tbody tr th:only-of-type {\n",
              "        vertical-align: middle;\n",
              "    }\n",
              "\n",
              "    .dataframe tbody tr th {\n",
              "        vertical-align: top;\n",
              "    }\n",
              "\n",
              "    .dataframe thead th {\n",
              "        text-align: right;\n",
              "    }\n",
              "</style>\n",
              "<table border=\"1\" class=\"dataframe\">\n",
              "  <thead>\n",
              "    <tr style=\"text-align: right;\">\n",
              "      <th></th>\n",
              "      <th>0</th>\n",
              "      <th>1</th>\n",
              "    </tr>\n",
              "  </thead>\n",
              "  <tbody>\n",
              "    <tr>\n",
              "      <th>0</th>\n",
              "      <td>AU</td>\n",
              "      <td>1382578</td>\n",
              "    </tr>\n",
              "    <tr>\n",
              "      <th>1</th>\n",
              "      <td>TW</td>\n",
              "      <td>8312566</td>\n",
              "    </tr>\n",
              "    <tr>\n",
              "      <th>2</th>\n",
              "      <td>US</td>\n",
              "      <td>2289987</td>\n",
              "    </tr>\n",
              "    <tr>\n",
              "      <th>3</th>\n",
              "      <td>UK</td>\n",
              "      <td>1382574</td>\n",
              "    </tr>\n",
              "    <tr>\n",
              "      <th>4</th>\n",
              "      <td>TW</td>\n",
              "      <td>1382578</td>\n",
              "    </tr>\n",
              "    <tr>\n",
              "      <th>5</th>\n",
              "      <td>AU</td>\n",
              "      <td>1335358</td>\n",
              "    </tr>\n",
              "    <tr>\n",
              "      <th>6</th>\n",
              "      <td>TW</td>\n",
              "      <td>6662597</td>\n",
              "    </tr>\n",
              "    <tr>\n",
              "      <th>7</th>\n",
              "      <td>TW</td>\n",
              "      <td>3352571</td>\n",
              "    </tr>\n",
              "    <tr>\n",
              "      <th>8</th>\n",
              "      <td>US</td>\n",
              "      <td>7683478</td>\n",
              "    </tr>\n",
              "    <tr>\n",
              "      <th>9</th>\n",
              "      <td>US</td>\n",
              "      <td>4523771</td>\n",
              "    </tr>\n",
              "  </tbody>\n",
              "</table>\n",
              "</div>"
            ],
            "text/plain": [
              "    0        1\n",
              "0  AU  1382578\n",
              "1  TW  8312566\n",
              "2  US  2289987\n",
              "3  UK  1382574\n",
              "4  TW  1382578\n",
              "5  AU  1335358\n",
              "6  TW  6662597\n",
              "7  TW  3352571\n",
              "8  US  7683478\n",
              "9  US  4523771"
            ]
          },
          "metadata": {
            "tags": []
          },
          "execution_count": 52
        }
      ]
    },
    {
      "cell_type": "code",
      "metadata": {
        "id": "SFg2caxIxYwX"
      },
      "source": [
        ""
      ],
      "execution_count": null,
      "outputs": []
    },
    {
      "cell_type": "markdown",
      "metadata": {
        "id": "PgetcxVnnbZs"
      },
      "source": [
        "### Removing HTML tags"
      ]
    },
    {
      "cell_type": "code",
      "metadata": {
        "id": "2aiqT9UtnYvh",
        "outputId": "7c604265-5f93-4a8c-adbc-64daac22b36b",
        "colab": {
          "base_uri": "https://localhost:8080/",
          "height": 35
        }
      },
      "source": [
        "from bs4 import BeautifulSoup\n",
        "\n",
        "def strip_html_tags(text):\n",
        "    soup = BeautifulSoup(text, \"html.parser\")\n",
        "    stripped_text = soup.get_text()\n",
        "    return stripped_text\n",
        "\n",
        "strip_html_tags('<html><h2>Some important text</h2></html>')"
      ],
      "execution_count": null,
      "outputs": [
        {
          "output_type": "execute_result",
          "data": {
            "application/vnd.google.colaboratory.intrinsic+json": {
              "type": "string"
            },
            "text/plain": [
              "'Some important text'"
            ]
          },
          "metadata": {
            "tags": []
          },
          "execution_count": 53
        }
      ]
    },
    {
      "cell_type": "markdown",
      "metadata": {
        "id": "TUr7Hlw8pQOU"
      },
      "source": [
        "### Expanding Contractions"
      ]
    },
    {
      "cell_type": "code",
      "metadata": {
        "id": "WmJazfSqxYkH",
        "outputId": "829e3766-fc72-462a-d6f9-da160afe718d",
        "colab": {
          "base_uri": "https://localhost:8080/",
          "height": 118
        }
      },
      "source": [
        "# !git clone https://github.com/dipanjanS/practical-machine-learning-with-python.git"
      ],
      "execution_count": null,
      "outputs": [
        {
          "output_type": "stream",
          "text": [
            "Cloning into 'practical-machine-learning-with-python'...\n",
            "remote: Enumerating objects: 1446, done.\u001b[K\n",
            "remote: Total 1446 (delta 0), reused 0 (delta 0), pack-reused 1446\u001b[K\n",
            "Receiving objects: 100% (1446/1446), 118.41 MiB | 11.39 MiB/s, done.\n",
            "Resolving deltas: 100% (427/427), done.\n",
            "Checking out files: 100% (491/491), done.\n"
          ],
          "name": "stdout"
        }
      ]
    },
    {
      "cell_type": "code",
      "metadata": {
        "id": "1itS5AVqoOb9"
      },
      "source": [
        "# from contractions import CONTRACTION_MAP\n",
        "# import re"
      ],
      "execution_count": null,
      "outputs": []
    },
    {
      "cell_type": "code",
      "metadata": {
        "id": "2aGMZNBeom5R",
        "outputId": "321e16ce-4214-4580-cefa-3171a21a3643",
        "colab": {
          "base_uri": "https://localhost:8080/",
          "height": 35
        }
      },
      "source": [
        "# def expand_contractions(text, contraction_mapping=CONTRACTION_MAP):\n",
        "    \n",
        "#     contractions_pattern = re.compile('({})'.format('|'.join(contraction_mapping.keys())), \n",
        "#                                       flags=re.IGNORECASE|re.DOTALL)\n",
        "#     def expand_match(contraction):\n",
        "#         match = contraction.group(0)\n",
        "#         first_char = match[0]\n",
        "#         expanded_contraction = contraction_mapping.get(match)\\\n",
        "#                                 if contraction_mapping.get(match)\\\n",
        "#                                 else contraction_mapping.get(match.lower())                       \n",
        "#         expanded_contraction = first_char+expanded_contraction[1:]\n",
        "#         return expanded_contraction\n",
        "        \n",
        "#     expanded_text = contractions_pattern.sub(expand_match, text)\n",
        "#     expanded_text = re.sub(\"'\", \"\", expanded_text)\n",
        "#     return expanded_text\n",
        "\n",
        "# expand_contractions(\"Y'all can't expand contractions I'd think\")"
      ],
      "execution_count": null,
      "outputs": [
        {
          "output_type": "execute_result",
          "data": {
            "application/vnd.google.colaboratory.intrinsic+json": {
              "type": "string"
            },
            "text/plain": [
              "'You all cannot expand contractions I would think'"
            ]
          },
          "metadata": {
            "tags": []
          },
          "execution_count": 57
        }
      ]
    },
    {
      "cell_type": "markdown",
      "metadata": {
        "id": "8dvNYujbqKtr"
      },
      "source": [
        "### Lemmatization"
      ]
    },
    {
      "cell_type": "code",
      "metadata": {
        "id": "_vNYewHkqRJL"
      },
      "source": [
        "import spacy\n",
        "nlp = spacy.load('en_core_web_sm')"
      ],
      "execution_count": null,
      "outputs": []
    },
    {
      "cell_type": "code",
      "metadata": {
        "id": "b4wC2xqnpj6L",
        "outputId": "c73119ad-b4ce-47bb-a355-191febedb437",
        "colab": {
          "base_uri": "https://localhost:8080/",
          "height": 35
        }
      },
      "source": [
        "def lemmatize_text(text):\n",
        "    text = nlp(text)\n",
        "    text = ' '.join([word.lemma_  if word.lemma_ != '-PRON-' else word.text for word in text])\n",
        "    return text\n",
        "\n",
        "lemmatize_text(\"My system keeps crashing! his crashed yesterday, ours crashes daily\")"
      ],
      "execution_count": null,
      "outputs": [
        {
          "output_type": "execute_result",
          "data": {
            "application/vnd.google.colaboratory.intrinsic+json": {
              "type": "string"
            },
            "text/plain": [
              "'My system keep crash ! his crash yesterday , ours crash daily'"
            ]
          },
          "metadata": {
            "tags": []
          },
          "execution_count": 61
        }
      ]
    },
    {
      "cell_type": "code",
      "metadata": {
        "id": "fnbaFQojpj3U",
        "outputId": "fb09d345-cbde-4371-8889-8db1315ae729",
        "colab": {
          "base_uri": "https://localhost:8080/",
          "height": 218
        }
      },
      "source": [
        "text = \"My system keeps crashing! his crashed yesterday, ours crashes daily\"\n",
        "text=nlp(text)\n",
        "[word.lemma_  if word.lemma_ != '-PRON-' else word.text for word in text]"
      ],
      "execution_count": null,
      "outputs": [
        {
          "output_type": "execute_result",
          "data": {
            "text/plain": [
              "['My',\n",
              " 'system',\n",
              " 'keep',\n",
              " 'crash',\n",
              " '!',\n",
              " 'his',\n",
              " 'crash',\n",
              " 'yesterday',\n",
              " ',',\n",
              " 'ours',\n",
              " 'crash',\n",
              " 'daily']"
            ]
          },
          "metadata": {
            "tags": []
          },
          "execution_count": 62
        }
      ]
    },
    {
      "cell_type": "code",
      "metadata": {
        "id": "73XrHIxRTT5M"
      },
      "source": [
        ""
      ],
      "execution_count": null,
      "outputs": []
    },
    {
      "cell_type": "code",
      "metadata": {
        "id": "Mw4sbssGssSh"
      },
      "source": [
        "news = \"US unveils world's most powerful supercomputer, beats China. The US has unveiled the world's most powerful supercomputer called 'Summit', beating the previous record-holder China's Sunway TaihuLight. With a peak performance of 200,000 trillion calculations per second, it is over twice as fast as Sunway TaihuLight, which is capable of 93,000 trillion calculations per second. Summit has 4,608 servers, which reportedly take up the size of two tennis courts.\""
      ],
      "execution_count": null,
      "outputs": []
    },
    {
      "cell_type": "code",
      "metadata": {
        "id": "6a9Mqs8zS0lS"
      },
      "source": [
        "sentence_nlp = nlp(news)"
      ],
      "execution_count": null,
      "outputs": []
    },
    {
      "cell_type": "code",
      "metadata": {
        "id": "KShfXncDS1ET",
        "outputId": "deee9653-3cc4-4024-a659-bb3d5b6d0468",
        "colab": {
          "base_uri": "https://localhost:8080/",
          "height": 54
        }
      },
      "source": [
        "print([(word, word.ent_type_) for word in sentence_nlp if word.ent_type_])"
      ],
      "execution_count": null,
      "outputs": [
        {
          "output_type": "stream",
          "text": [
            "[(US, 'GPE'), (China, 'GPE'), (US, 'GPE'), (China, 'GPE'), (Sunway, 'ORG'), (TaihuLight, 'ORG'), (200,000, 'QUANTITY'), (trillion, 'QUANTITY'), (second, 'ORDINAL'), (Sunway, 'PERSON'), (TaihuLight, 'PERSON'), (93,000, 'QUANTITY'), (trillion, 'QUANTITY'), (4,608, 'CARDINAL'), (two, 'CARDINAL')]\n"
          ],
          "name": "stdout"
        }
      ]
    },
    {
      "cell_type": "code",
      "metadata": {
        "id": "R30jifMAS1Ku",
        "outputId": "540e3aee-c1d5-41ff-8de7-20e4f8967f0d",
        "colab": {
          "base_uri": "https://localhost:8080/",
          "height": 54
        }
      },
      "source": [
        "print([(word.text, word.label_) for word in sentence_nlp.ents])"
      ],
      "execution_count": null,
      "outputs": [
        {
          "output_type": "stream",
          "text": [
            "[('US', 'GPE'), ('China', 'GPE'), ('US', 'GPE'), ('China', 'GPE'), ('Sunway TaihuLight', 'ORG'), ('200,000 trillion', 'QUANTITY'), ('second', 'ORDINAL'), ('Sunway TaihuLight', 'PERSON'), ('93,000 trillion', 'QUANTITY'), ('4,608', 'CARDINAL'), ('two', 'CARDINAL')]\n"
          ],
          "name": "stdout"
        }
      ]
    },
    {
      "cell_type": "code",
      "metadata": {
        "id": "4baaOQaWWCN0",
        "outputId": "39a4fe33-0b43-4b5c-c9b7-1fdb5547e715",
        "colab": {
          "base_uri": "https://localhost:8080/",
          "height": 168
        }
      },
      "source": [
        "Counter([(word.text, word.label_) for word in sentence_nlp.ents])"
      ],
      "execution_count": null,
      "outputs": [
        {
          "output_type": "execute_result",
          "data": {
            "text/plain": [
              "Counter({('200,000 trillion', 'QUANTITY'): 1,\n",
              "         ('4,608', 'CARDINAL'): 1,\n",
              "         ('93,000 trillion', 'QUANTITY'): 1,\n",
              "         ('China', 'GPE'): 2,\n",
              "         ('Sunway TaihuLight', 'ORG'): 1,\n",
              "         ('Sunway TaihuLight', 'PERSON'): 1,\n",
              "         ('US', 'GPE'): 2,\n",
              "         ('second', 'ORDINAL'): 1,\n",
              "         ('two', 'CARDINAL'): 1})"
            ]
          },
          "metadata": {
            "tags": []
          },
          "execution_count": 88
        }
      ]
    },
    {
      "cell_type": "code",
      "metadata": {
        "id": "_2k9Y2NYS1Un",
        "outputId": "c1acbd99-a941-44c1-d0a0-a14b9b293d73",
        "colab": {
          "base_uri": "https://localhost:8080/",
          "height": 314
        }
      },
      "source": [
        "from collections import Counter\n",
        "\n",
        "df_ents = pd.DataFrame(Counter([(word.text, word.label_) for word in sentence_nlp.ents]),  index=[0]).T\n",
        "df_ents"
      ],
      "execution_count": null,
      "outputs": [
        {
          "output_type": "execute_result",
          "data": {
            "text/html": [
              "<div>\n",
              "<style scoped>\n",
              "    .dataframe tbody tr th:only-of-type {\n",
              "        vertical-align: middle;\n",
              "    }\n",
              "\n",
              "    .dataframe tbody tr th {\n",
              "        vertical-align: top;\n",
              "    }\n",
              "\n",
              "    .dataframe thead th {\n",
              "        text-align: right;\n",
              "    }\n",
              "</style>\n",
              "<table border=\"1\" class=\"dataframe\">\n",
              "  <thead>\n",
              "    <tr style=\"text-align: right;\">\n",
              "      <th></th>\n",
              "      <th></th>\n",
              "      <th>0</th>\n",
              "    </tr>\n",
              "  </thead>\n",
              "  <tbody>\n",
              "    <tr>\n",
              "      <th>US</th>\n",
              "      <th>GPE</th>\n",
              "      <td>2</td>\n",
              "    </tr>\n",
              "    <tr>\n",
              "      <th>China</th>\n",
              "      <th>GPE</th>\n",
              "      <td>2</td>\n",
              "    </tr>\n",
              "    <tr>\n",
              "      <th>Sunway TaihuLight</th>\n",
              "      <th>ORG</th>\n",
              "      <td>1</td>\n",
              "    </tr>\n",
              "    <tr>\n",
              "      <th>200,000 trillion</th>\n",
              "      <th>QUANTITY</th>\n",
              "      <td>1</td>\n",
              "    </tr>\n",
              "    <tr>\n",
              "      <th>second</th>\n",
              "      <th>ORDINAL</th>\n",
              "      <td>1</td>\n",
              "    </tr>\n",
              "    <tr>\n",
              "      <th>Sunway TaihuLight</th>\n",
              "      <th>PERSON</th>\n",
              "      <td>1</td>\n",
              "    </tr>\n",
              "    <tr>\n",
              "      <th>93,000 trillion</th>\n",
              "      <th>QUANTITY</th>\n",
              "      <td>1</td>\n",
              "    </tr>\n",
              "    <tr>\n",
              "      <th>4,608</th>\n",
              "      <th>CARDINAL</th>\n",
              "      <td>1</td>\n",
              "    </tr>\n",
              "    <tr>\n",
              "      <th>two</th>\n",
              "      <th>CARDINAL</th>\n",
              "      <td>1</td>\n",
              "    </tr>\n",
              "  </tbody>\n",
              "</table>\n",
              "</div>"
            ],
            "text/plain": [
              "                            0\n",
              "US                GPE       2\n",
              "China             GPE       2\n",
              "Sunway TaihuLight ORG       1\n",
              "200,000 trillion  QUANTITY  1\n",
              "second            ORDINAL   1\n",
              "Sunway TaihuLight PERSON    1\n",
              "93,000 trillion   QUANTITY  1\n",
              "4,608             CARDINAL  1\n",
              "two               CARDINAL  1"
            ]
          },
          "metadata": {
            "tags": []
          },
          "execution_count": 90
        }
      ]
    },
    {
      "cell_type": "code",
      "metadata": {
        "id": "3wLPSMqNS1W6",
        "outputId": "01ba69cc-d11a-49bf-a2e7-1d6e77e0e906",
        "colab": {
          "base_uri": "https://localhost:8080/",
          "height": 67
        }
      },
      "source": [
        "df_ents.index.get_level_values(1)"
      ],
      "execution_count": null,
      "outputs": [
        {
          "output_type": "execute_result",
          "data": {
            "text/plain": [
              "Index(['GPE', 'GPE', 'ORG', 'QUANTITY', 'ORDINAL', 'PERSON', 'QUANTITY',\n",
              "       'CARDINAL', 'CARDINAL'],\n",
              "      dtype='object')"
            ]
          },
          "metadata": {
            "tags": []
          },
          "execution_count": 98
        }
      ]
    },
    {
      "cell_type": "code",
      "metadata": {
        "id": "BTq8-17uS1PJ",
        "outputId": "e282f20c-2176-475a-a795-75d80707ecc4",
        "colab": {
          "base_uri": "https://localhost:8080/",
          "height": 34
        }
      },
      "source": [
        "\"20\" in \"a \" +\"b\" + \"0123456789\""
      ],
      "execution_count": null,
      "outputs": [
        {
          "output_type": "execute_result",
          "data": {
            "text/plain": [
              "False"
            ]
          },
          "metadata": {
            "tags": []
          },
          "execution_count": 112
        }
      ]
    },
    {
      "cell_type": "code",
      "metadata": {
        "id": "wTxlclS7bt6h",
        "outputId": "23a43d54-a66e-4606-9412-521c127c853a",
        "colab": {
          "base_uri": "https://localhost:8080/",
          "height": 101
        }
      },
      "source": [
        "import nltk\n",
        "nltk.download('gutenberg')\n",
        "nltk.download('punkt')"
      ],
      "execution_count": null,
      "outputs": [
        {
          "output_type": "stream",
          "text": [
            "[nltk_data] Downloading package gutenberg to /root/nltk_data...\n",
            "[nltk_data]   Package gutenberg is already up-to-date!\n",
            "[nltk_data] Downloading package punkt to /root/nltk_data...\n",
            "[nltk_data]   Unzipping tokenizers/punkt.zip.\n"
          ],
          "name": "stdout"
        },
        {
          "output_type": "execute_result",
          "data": {
            "text/plain": [
              "True"
            ]
          },
          "metadata": {
            "tags": []
          },
          "execution_count": 117
        }
      ]
    },
    {
      "cell_type": "code",
      "metadata": {
        "id": "f2eCsRSbS1Hj"
      },
      "source": [
        "from string import punctuation\n",
        "\n",
        "remove_terms = punctuation + '0123456789'\n",
        "\n",
        "norm_bible = [[word.lower() for word in sent if word not in remove_terms] for sent in news]\n",
        "\n"
      ],
      "execution_count": null,
      "outputs": []
    },
    {
      "cell_type": "code",
      "metadata": {
        "id": "zkf_GuR6S1Bk",
        "outputId": "32beb688-d5b3-4ff7-c500-5d0c7b32420f",
        "colab": {
          "base_uri": "https://localhost:8080/",
          "height": 1000
        }
      },
      "source": [
        "norm_bible"
      ],
      "execution_count": null,
      "outputs": [
        {
          "output_type": "execute_result",
          "data": {
            "text/plain": [
              "[['u'],\n",
              " ['s'],\n",
              " [' '],\n",
              " ['u'],\n",
              " ['n'],\n",
              " ['v'],\n",
              " ['e'],\n",
              " ['i'],\n",
              " ['l'],\n",
              " ['s'],\n",
              " [' '],\n",
              " ['w'],\n",
              " ['o'],\n",
              " ['r'],\n",
              " ['l'],\n",
              " ['d'],\n",
              " [],\n",
              " ['s'],\n",
              " [' '],\n",
              " ['m'],\n",
              " ['o'],\n",
              " ['s'],\n",
              " ['t'],\n",
              " [' '],\n",
              " ['p'],\n",
              " ['o'],\n",
              " ['w'],\n",
              " ['e'],\n",
              " ['r'],\n",
              " ['f'],\n",
              " ['u'],\n",
              " ['l'],\n",
              " [' '],\n",
              " ['s'],\n",
              " ['u'],\n",
              " ['p'],\n",
              " ['e'],\n",
              " ['r'],\n",
              " ['c'],\n",
              " ['o'],\n",
              " ['m'],\n",
              " ['p'],\n",
              " ['u'],\n",
              " ['t'],\n",
              " ['e'],\n",
              " ['r'],\n",
              " [],\n",
              " [' '],\n",
              " ['b'],\n",
              " ['e'],\n",
              " ['a'],\n",
              " ['t'],\n",
              " ['s'],\n",
              " [' '],\n",
              " ['c'],\n",
              " ['h'],\n",
              " ['i'],\n",
              " ['n'],\n",
              " ['a'],\n",
              " [],\n",
              " [' '],\n",
              " ['t'],\n",
              " ['h'],\n",
              " ['e'],\n",
              " [' '],\n",
              " ['u'],\n",
              " ['s'],\n",
              " [' '],\n",
              " ['h'],\n",
              " ['a'],\n",
              " ['s'],\n",
              " [' '],\n",
              " ['u'],\n",
              " ['n'],\n",
              " ['v'],\n",
              " ['e'],\n",
              " ['i'],\n",
              " ['l'],\n",
              " ['e'],\n",
              " ['d'],\n",
              " [' '],\n",
              " ['t'],\n",
              " ['h'],\n",
              " ['e'],\n",
              " [' '],\n",
              " ['w'],\n",
              " ['o'],\n",
              " ['r'],\n",
              " ['l'],\n",
              " ['d'],\n",
              " [],\n",
              " ['s'],\n",
              " [' '],\n",
              " ['m'],\n",
              " ['o'],\n",
              " ['s'],\n",
              " ['t'],\n",
              " [' '],\n",
              " ['p'],\n",
              " ['o'],\n",
              " ['w'],\n",
              " ['e'],\n",
              " ['r'],\n",
              " ['f'],\n",
              " ['u'],\n",
              " ['l'],\n",
              " [' '],\n",
              " ['s'],\n",
              " ['u'],\n",
              " ['p'],\n",
              " ['e'],\n",
              " ['r'],\n",
              " ['c'],\n",
              " ['o'],\n",
              " ['m'],\n",
              " ['p'],\n",
              " ['u'],\n",
              " ['t'],\n",
              " ['e'],\n",
              " ['r'],\n",
              " [' '],\n",
              " ['c'],\n",
              " ['a'],\n",
              " ['l'],\n",
              " ['l'],\n",
              " ['e'],\n",
              " ['d'],\n",
              " [' '],\n",
              " [],\n",
              " ['s'],\n",
              " ['u'],\n",
              " ['m'],\n",
              " ['m'],\n",
              " ['i'],\n",
              " ['t'],\n",
              " [],\n",
              " [],\n",
              " [' '],\n",
              " ['b'],\n",
              " ['e'],\n",
              " ['a'],\n",
              " ['t'],\n",
              " ['i'],\n",
              " ['n'],\n",
              " ['g'],\n",
              " [' '],\n",
              " ['t'],\n",
              " ['h'],\n",
              " ['e'],\n",
              " [' '],\n",
              " ['p'],\n",
              " ['r'],\n",
              " ['e'],\n",
              " ['v'],\n",
              " ['i'],\n",
              " ['o'],\n",
              " ['u'],\n",
              " ['s'],\n",
              " [' '],\n",
              " ['r'],\n",
              " ['e'],\n",
              " ['c'],\n",
              " ['o'],\n",
              " ['r'],\n",
              " ['d'],\n",
              " [],\n",
              " ['h'],\n",
              " ['o'],\n",
              " ['l'],\n",
              " ['d'],\n",
              " ['e'],\n",
              " ['r'],\n",
              " [' '],\n",
              " ['c'],\n",
              " ['h'],\n",
              " ['i'],\n",
              " ['n'],\n",
              " ['a'],\n",
              " [],\n",
              " ['s'],\n",
              " [' '],\n",
              " ['s'],\n",
              " ['u'],\n",
              " ['n'],\n",
              " ['w'],\n",
              " ['a'],\n",
              " ['y'],\n",
              " [' '],\n",
              " ['t'],\n",
              " ['a'],\n",
              " ['i'],\n",
              " ['h'],\n",
              " ['u'],\n",
              " ['l'],\n",
              " ['i'],\n",
              " ['g'],\n",
              " ['h'],\n",
              " ['t'],\n",
              " [],\n",
              " [' '],\n",
              " ['w'],\n",
              " ['i'],\n",
              " ['t'],\n",
              " ['h'],\n",
              " [' '],\n",
              " ['a'],\n",
              " [' '],\n",
              " ['p'],\n",
              " ['e'],\n",
              " ['a'],\n",
              " ['k'],\n",
              " [' '],\n",
              " ['p'],\n",
              " ['e'],\n",
              " ['r'],\n",
              " ['f'],\n",
              " ['o'],\n",
              " ['r'],\n",
              " ['m'],\n",
              " ['a'],\n",
              " ['n'],\n",
              " ['c'],\n",
              " ['e'],\n",
              " [' '],\n",
              " ['o'],\n",
              " ['f'],\n",
              " [' '],\n",
              " [],\n",
              " [],\n",
              " [],\n",
              " [],\n",
              " [],\n",
              " [],\n",
              " [],\n",
              " [' '],\n",
              " ['t'],\n",
              " ['r'],\n",
              " ['i'],\n",
              " ['l'],\n",
              " ['l'],\n",
              " ['i'],\n",
              " ['o'],\n",
              " ['n'],\n",
              " [' '],\n",
              " ['c'],\n",
              " ['a'],\n",
              " ['l'],\n",
              " ['c'],\n",
              " ['u'],\n",
              " ['l'],\n",
              " ['a'],\n",
              " ['t'],\n",
              " ['i'],\n",
              " ['o'],\n",
              " ['n'],\n",
              " ['s'],\n",
              " [' '],\n",
              " ['p'],\n",
              " ['e'],\n",
              " ['r'],\n",
              " [' '],\n",
              " ['s'],\n",
              " ['e'],\n",
              " ['c'],\n",
              " ['o'],\n",
              " ['n'],\n",
              " ['d'],\n",
              " [],\n",
              " [' '],\n",
              " ['i'],\n",
              " ['t'],\n",
              " [' '],\n",
              " ['i'],\n",
              " ['s'],\n",
              " [' '],\n",
              " ['o'],\n",
              " ['v'],\n",
              " ['e'],\n",
              " ['r'],\n",
              " [' '],\n",
              " ['t'],\n",
              " ['w'],\n",
              " ['i'],\n",
              " ['c'],\n",
              " ['e'],\n",
              " [' '],\n",
              " ['a'],\n",
              " ['s'],\n",
              " [' '],\n",
              " ['f'],\n",
              " ['a'],\n",
              " ['s'],\n",
              " ['t'],\n",
              " [' '],\n",
              " ['a'],\n",
              " ['s'],\n",
              " [' '],\n",
              " ['s'],\n",
              " ['u'],\n",
              " ['n'],\n",
              " ['w'],\n",
              " ['a'],\n",
              " ['y'],\n",
              " [' '],\n",
              " ['t'],\n",
              " ['a'],\n",
              " ['i'],\n",
              " ['h'],\n",
              " ['u'],\n",
              " ['l'],\n",
              " ['i'],\n",
              " ['g'],\n",
              " ['h'],\n",
              " ['t'],\n",
              " [],\n",
              " [' '],\n",
              " ['w'],\n",
              " ['h'],\n",
              " ['i'],\n",
              " ['c'],\n",
              " ['h'],\n",
              " [' '],\n",
              " ['i'],\n",
              " ['s'],\n",
              " [' '],\n",
              " ['c'],\n",
              " ['a'],\n",
              " ['p'],\n",
              " ['a'],\n",
              " ['b'],\n",
              " ['l'],\n",
              " ['e'],\n",
              " [' '],\n",
              " ['o'],\n",
              " ['f'],\n",
              " [' '],\n",
              " [],\n",
              " [],\n",
              " [],\n",
              " [],\n",
              " [],\n",
              " [],\n",
              " [' '],\n",
              " ['t'],\n",
              " ['r'],\n",
              " ['i'],\n",
              " ['l'],\n",
              " ['l'],\n",
              " ['i'],\n",
              " ['o'],\n",
              " ['n'],\n",
              " [' '],\n",
              " ['c'],\n",
              " ['a'],\n",
              " ['l'],\n",
              " ['c'],\n",
              " ['u'],\n",
              " ['l'],\n",
              " ['a'],\n",
              " ['t'],\n",
              " ['i'],\n",
              " ['o'],\n",
              " ['n'],\n",
              " ['s'],\n",
              " [' '],\n",
              " ['p'],\n",
              " ['e'],\n",
              " ['r'],\n",
              " [' '],\n",
              " ['s'],\n",
              " ['e'],\n",
              " ['c'],\n",
              " ['o'],\n",
              " ['n'],\n",
              " ['d'],\n",
              " [],\n",
              " [' '],\n",
              " ['s'],\n",
              " ['u'],\n",
              " ['m'],\n",
              " ['m'],\n",
              " ['i'],\n",
              " ['t'],\n",
              " [' '],\n",
              " ['h'],\n",
              " ['a'],\n",
              " ['s'],\n",
              " [' '],\n",
              " [],\n",
              " [],\n",
              " [],\n",
              " [],\n",
              " [],\n",
              " [' '],\n",
              " ['s'],\n",
              " ['e'],\n",
              " ['r'],\n",
              " ['v'],\n",
              " ['e'],\n",
              " ['r'],\n",
              " ['s'],\n",
              " [],\n",
              " [' '],\n",
              " ['w'],\n",
              " ['h'],\n",
              " ['i'],\n",
              " ['c'],\n",
              " ['h'],\n",
              " [' '],\n",
              " ['r'],\n",
              " ['e'],\n",
              " ['p'],\n",
              " ['o'],\n",
              " ['r'],\n",
              " ['t'],\n",
              " ['e'],\n",
              " ['d'],\n",
              " ['l'],\n",
              " ['y'],\n",
              " [' '],\n",
              " ['t'],\n",
              " ['a'],\n",
              " ['k'],\n",
              " ['e'],\n",
              " [' '],\n",
              " ['u'],\n",
              " ['p'],\n",
              " [' '],\n",
              " ['t'],\n",
              " ['h'],\n",
              " ['e'],\n",
              " [' '],\n",
              " ['s'],\n",
              " ['i'],\n",
              " ['z'],\n",
              " ['e'],\n",
              " [' '],\n",
              " ['o'],\n",
              " ['f'],\n",
              " [' '],\n",
              " ['t'],\n",
              " ['w'],\n",
              " ['o'],\n",
              " [' '],\n",
              " ['t'],\n",
              " ['e'],\n",
              " ['n'],\n",
              " ['n'],\n",
              " ['i'],\n",
              " ['s'],\n",
              " [' '],\n",
              " ['c'],\n",
              " ['o'],\n",
              " ['u'],\n",
              " ['r'],\n",
              " ['t'],\n",
              " ['s'],\n",
              " []]"
            ]
          },
          "metadata": {
            "tags": []
          },
          "execution_count": 125
        }
      ]
    },
    {
      "cell_type": "code",
      "metadata": {
        "id": "BcuvAKwjS0io"
      },
      "source": [
        ""
      ],
      "execution_count": null,
      "outputs": []
    }
  ]
}