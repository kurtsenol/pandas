{
 "cells": [
  {
   "cell_type": "markdown",
   "metadata": {},
   "source": [
    "## Time Series with Python"
   ]
  },
  {
   "cell_type": "markdown",
   "metadata": {},
   "source": [
    "### Merging Time Series With Different Dates\n",
    "Stock and bond markets in the U.S. are closed on different days. For example, although the bond market is closed on Columbus Day (around Oct 12) and Veterans Day (around Nov 11), the stock market is open on those days. One way to see the dates that the stock market is open and the bond market is closed is to convert both indexes of dates into sets and take the difference in sets.\n",
    "The pandas `.join()` method is a convenient tool to merge the stock and bond DataFrames on dates when both markets are open.\n",
    "\n",
    "- Convert the dates in the stocks.index and bonds.index into sets.\n",
    "- Take the difference of the stock set minus the bond set to get those dates where the stock market has data but the bond market does not.\n",
    "- Merge the two DataFrames into a new DataFrame, stocks_and_bonds using the `.join()` method, which has the syntax `df1.join(df2)`.\n",
    "To get the intersection of dates, use the argument how='inner'"
   ]
  },
  {
   "cell_type": "code",
   "execution_count": 12,
   "metadata": {},
   "outputs": [
    {
     "name": "stdout",
     "output_type": "stream",
     "text": [
      "<class 'pandas.core.frame.DataFrame'>\n",
      "DatetimeIndex: 2519 entries, 2007-06-11 to 2017-06-09\n",
      "Data columns (total 1 columns):\n",
      "SP500    2519 non-null float64\n",
      "dtypes: float64(1)\n",
      "memory usage: 39.4 KB\n"
     ]
    }
   ],
   "source": [
    "import pandas as pd\n",
    "\n",
    "stocks = pd.read_csv(\"Data/stocks.csv\", index_col=0, parse_dates=True)\n",
    "stocks.info()"
   ]
  },
  {
   "cell_type": "code",
   "execution_count": 13,
   "metadata": {},
   "outputs": [
    {
     "name": "stdout",
     "output_type": "stream",
     "text": [
      "<class 'pandas.core.frame.DataFrame'>\n",
      "DatetimeIndex: 2503 entries, 2007-06-08 to 2017-06-08\n",
      "Data columns (total 1 columns):\n",
      "US10Y    2503 non-null float64\n",
      "dtypes: float64(1)\n",
      "memory usage: 39.1 KB\n"
     ]
    }
   ],
   "source": [
    "bonds = pd.read_csv(\"Data/bonds.csv\", index_col=0, parse_dates=True)\n",
    "bonds.info()"
   ]
  },
  {
   "cell_type": "code",
   "execution_count": 9,
   "metadata": {},
   "outputs": [
    {
     "name": "stdout",
     "output_type": "stream",
     "text": [
      "{Timestamp('2014-11-11 00:00:00'), Timestamp('2009-11-11 00:00:00'), Timestamp('2009-10-12 00:00:00'), Timestamp('2015-10-12 00:00:00'), Timestamp('2014-10-13 00:00:00'), Timestamp('2016-10-10 00:00:00'), Timestamp('2015-11-11 00:00:00'), Timestamp('2013-10-14 00:00:00'), Timestamp('2013-11-11 00:00:00'), Timestamp('2012-10-08 00:00:00'), Timestamp('2017-06-09 00:00:00'), Timestamp('2010-10-11 00:00:00'), Timestamp('2008-11-11 00:00:00'), Timestamp('2011-11-11 00:00:00'), Timestamp('2008-10-13 00:00:00'), Timestamp('2007-10-08 00:00:00'), Timestamp('2011-10-10 00:00:00'), Timestamp('2012-11-12 00:00:00'), Timestamp('2010-11-11 00:00:00'), Timestamp('2016-11-11 00:00:00'), Timestamp('2007-11-12 00:00:00')}\n"
     ]
    }
   ],
   "source": [
    "# Convert the stock index and bond index into sets\n",
    "set_stock_dates = set(stocks.index)\n",
    "set_bond_dates = set(bonds.index)\n",
    "\n",
    "# Take the difference between the sets and print\n",
    "print(set_stock_dates - set_bond_dates)"
   ]
  },
  {
   "cell_type": "code",
   "execution_count": 14,
   "metadata": {},
   "outputs": [
    {
     "name": "stdout",
     "output_type": "stream",
     "text": [
      "<class 'pandas.core.frame.DataFrame'>\n",
      "DatetimeIndex: 2498 entries, 2007-06-11 to 2017-06-08\n",
      "Data columns (total 2 columns):\n",
      "SP500    2498 non-null float64\n",
      "US10Y    2498 non-null float64\n",
      "dtypes: float64(2)\n",
      "memory usage: 58.5 KB\n",
      "None\n"
     ]
    },
    {
     "data": {
      "text/html": [
       "<div>\n",
       "<style scoped>\n",
       "    .dataframe tbody tr th:only-of-type {\n",
       "        vertical-align: middle;\n",
       "    }\n",
       "\n",
       "    .dataframe tbody tr th {\n",
       "        vertical-align: top;\n",
       "    }\n",
       "\n",
       "    .dataframe thead th {\n",
       "        text-align: right;\n",
       "    }\n",
       "</style>\n",
       "<table border=\"1\" class=\"dataframe\">\n",
       "  <thead>\n",
       "    <tr style=\"text-align: right;\">\n",
       "      <th></th>\n",
       "      <th>SP500</th>\n",
       "      <th>US10Y</th>\n",
       "    </tr>\n",
       "    <tr>\n",
       "      <th>observation_date</th>\n",
       "      <th></th>\n",
       "      <th></th>\n",
       "    </tr>\n",
       "  </thead>\n",
       "  <tbody>\n",
       "    <tr>\n",
       "      <th>2007-06-11</th>\n",
       "      <td>1509.12</td>\n",
       "      <td>5.14</td>\n",
       "    </tr>\n",
       "    <tr>\n",
       "      <th>2007-06-12</th>\n",
       "      <td>1493.00</td>\n",
       "      <td>5.26</td>\n",
       "    </tr>\n",
       "    <tr>\n",
       "      <th>2007-06-13</th>\n",
       "      <td>1515.67</td>\n",
       "      <td>5.20</td>\n",
       "    </tr>\n",
       "    <tr>\n",
       "      <th>2007-06-14</th>\n",
       "      <td>1522.97</td>\n",
       "      <td>5.23</td>\n",
       "    </tr>\n",
       "    <tr>\n",
       "      <th>2007-06-15</th>\n",
       "      <td>1532.91</td>\n",
       "      <td>5.16</td>\n",
       "    </tr>\n",
       "  </tbody>\n",
       "</table>\n",
       "</div>"
      ],
      "text/plain": [
       "                    SP500  US10Y\n",
       "observation_date                \n",
       "2007-06-11        1509.12   5.14\n",
       "2007-06-12        1493.00   5.26\n",
       "2007-06-13        1515.67   5.20\n",
       "2007-06-14        1522.97   5.23\n",
       "2007-06-15        1532.91   5.16"
      ]
     },
     "execution_count": 14,
     "metadata": {},
     "output_type": "execute_result"
    }
   ],
   "source": [
    "# Merge stocks and bonds DataFrames using join()\n",
    "stocks_and_bonds = stocks.join(bonds, how=\"inner\")\n",
    "print(stocks_and_bonds.info())\n",
    "stocks_and_bonds.head()"
   ]
  },
  {
   "cell_type": "markdown",
   "metadata": {},
   "source": [
    "### Correlation of Stocks and Bonds\n",
    "Investors are often interested in the correlation between the returns of two different assets for asset allocation and hedging purposes. In this exercise, you'll try to answer the question of whether stocks are positively or negatively correlated with bonds. Scatter plots are also useful for visualizing the correlation between the two variables.\n",
    "Keep in mind that you should compute the correlations on the percentage changes rather than the levels.\n",
    "\n",
    "- Compute percent changes on the stocks_and_bonds DataFrame using the `.pct_change()` method and call the new DataFrame returns.\n",
    "- Compute the correlation of the columns SP500 and US10Y in the returns DataFrame using the `.corr()` method for Series which has the syntax `series1.corr(series2)`.\n",
    "- Show a scatter plot of the percentage change in stock and bond yields."
   ]
  },
  {
   "cell_type": "code",
   "execution_count": 16,
   "metadata": {},
   "outputs": [
    {
     "name": "stdout",
     "output_type": "stream",
     "text": [
      "Correlation of stocks and interest rates:  0.4119448886249271\n"
     ]
    },
    {
     "data": {
      "image/png": "[encoded data removed]",
      "text/plain": [
       "<Figure size 432x288 with 1 Axes>"
      ]
     },
     "metadata": {
      "needs_background": "light"
     },
     "output_type": "display_data"
    }
   ],
   "source": [
    "import matplotlib.pyplot as plt\n",
    "\n",
    "# Compute percent change using pct_change()\n",
    "returns = stocks_and_bonds.pct_change()\n",
    "\n",
    "# Compute correlation using corr()\n",
    "correlation = returns['SP500'].corr(returns['US10Y'])\n",
    "print(\"Correlation of stocks and interest rates: \", correlation)\n",
    "\n",
    "# Make scatter plot\n",
    "plt.scatter(returns['SP500'], returns['US10Y'])\n",
    "plt.show()"
   ]
  },
  {
   "cell_type": "markdown",
   "metadata": {},
   "source": [
    "### Flying Saucers Aren't Correlated to Flying Markets\n",
    "\n",
    "Two trending series may show a strong correlation even if they are completely unrelated. This is referred to as ***\"spurious correlation\"***. That's why when you look at the correlation of say, two stocks, you should look at the correlation of their returns and not their levels.\n",
    "\n",
    "To illustrate this point, calculate the correlation between the levels of the stock market and the annual sightings of UFOs. Both of those time series have trended up over the last several decades, and the correlation of their levels is very high. Then calculate the correlation of their percent changes. This will be close to zero, since there is no relationship between those two series.\n",
    "\n",
    "- Calculate the correlation of the columns DJI and UFO.\n",
    "- Create a new DataFrame of changes using the `.pct_change()` method.\n",
    "- Re-calculate the correlation of the columns DJI and UFO on the changes."
   ]
  },
  {
   "cell_type": "code",
   "execution_count": 32,
   "metadata": {},
   "outputs": [
    {
     "data": {
      "text/html": [
       "<div>\n",
       "<style scoped>\n",
       "    .dataframe tbody tr th:only-of-type {\n",
       "        vertical-align: middle;\n",
       "    }\n",
       "\n",
       "    .dataframe tbody tr th {\n",
       "        vertical-align: top;\n",
       "    }\n",
       "\n",
       "    .dataframe thead th {\n",
       "        text-align: right;\n",
       "    }\n",
       "</style>\n",
       "<table border=\"1\" class=\"dataframe\">\n",
       "  <thead>\n",
       "    <tr style=\"text-align: right;\">\n",
       "      <th></th>\n",
       "      <th>DJI</th>\n",
       "      <th>UFO</th>\n",
       "    </tr>\n",
       "    <tr>\n",
       "      <th>Date</th>\n",
       "      <th></th>\n",
       "      <th></th>\n",
       "    </tr>\n",
       "  </thead>\n",
       "  <tbody>\n",
       "    <tr>\n",
       "      <th>1941</th>\n",
       "      <td>110.96</td>\n",
       "      <td>1</td>\n",
       "    </tr>\n",
       "    <tr>\n",
       "      <th>1942</th>\n",
       "      <td>119.40</td>\n",
       "      <td>2</td>\n",
       "    </tr>\n",
       "    <tr>\n",
       "      <th>1943</th>\n",
       "      <td>135.89</td>\n",
       "      <td>9</td>\n",
       "    </tr>\n",
       "    <tr>\n",
       "      <th>1944</th>\n",
       "      <td>152.32</td>\n",
       "      <td>9</td>\n",
       "    </tr>\n",
       "    <tr>\n",
       "      <th>1945</th>\n",
       "      <td>192.91</td>\n",
       "      <td>9</td>\n",
       "    </tr>\n",
       "  </tbody>\n",
       "</table>\n",
       "</div>"
      ],
      "text/plain": [
       "         DJI  UFO\n",
       "Date             \n",
       "1941  110.96    1\n",
       "1942  119.40    2\n",
       "1943  135.89    9\n",
       "1944  152.32    9\n",
       "1945  192.91    9"
      ]
     },
     "execution_count": 32,
     "metadata": {},
     "output_type": "execute_result"
    }
   ],
   "source": [
    "levels = pd.read_csv(\"Data/levels.csv\", parse_dates=[\"Date\"])\n",
    "levels[\"Date\"] = levels[\"Date\"].dt.year\n",
    "levels.set_index(\"Date\", inplace=True)\n",
    "levels.head()"
   ]
  },
  {
   "cell_type": "code",
   "execution_count": 34,
   "metadata": {},
   "outputs": [
    {
     "name": "stdout",
     "output_type": "stream",
     "text": [
      "Correlation of levels:  0.9399762210726432\n"
     ]
    }
   ],
   "source": [
    "# Compute correlation of levels\n",
    "correlation1 = levels.DJI.corr(levels.UFO)\n",
    "print(\"Correlation of levels: \", correlation1)"
   ]
  },
  {
   "cell_type": "code",
   "execution_count": 35,
   "metadata": {},
   "outputs": [
    {
     "data": {
      "text/html": [
       "<div>\n",
       "<style scoped>\n",
       "    .dataframe tbody tr th:only-of-type {\n",
       "        vertical-align: middle;\n",
       "    }\n",
       "\n",
       "    .dataframe tbody tr th {\n",
       "        vertical-align: top;\n",
       "    }\n",
       "\n",
       "    .dataframe thead th {\n",
       "        text-align: right;\n",
       "    }\n",
       "</style>\n",
       "<table border=\"1\" class=\"dataframe\">\n",
       "  <thead>\n",
       "    <tr style=\"text-align: right;\">\n",
       "      <th></th>\n",
       "      <th>DJI</th>\n",
       "      <th>UFO</th>\n",
       "    </tr>\n",
       "    <tr>\n",
       "      <th>Date</th>\n",
       "      <th></th>\n",
       "      <th></th>\n",
       "    </tr>\n",
       "  </thead>\n",
       "  <tbody>\n",
       "    <tr>\n",
       "      <th>1941</th>\n",
       "      <td>NaN</td>\n",
       "      <td>NaN</td>\n",
       "    </tr>\n",
       "    <tr>\n",
       "      <th>1942</th>\n",
       "      <td>0.076063</td>\n",
       "      <td>1.0</td>\n",
       "    </tr>\n",
       "    <tr>\n",
       "      <th>1943</th>\n",
       "      <td>0.138107</td>\n",
       "      <td>3.5</td>\n",
       "    </tr>\n",
       "    <tr>\n",
       "      <th>1944</th>\n",
       "      <td>0.120907</td>\n",
       "      <td>0.0</td>\n",
       "    </tr>\n",
       "    <tr>\n",
       "      <th>1945</th>\n",
       "      <td>0.266478</td>\n",
       "      <td>0.0</td>\n",
       "    </tr>\n",
       "  </tbody>\n",
       "</table>\n",
       "</div>"
      ],
      "text/plain": [
       "           DJI  UFO\n",
       "Date               \n",
       "1941       NaN  NaN\n",
       "1942  0.076063  1.0\n",
       "1943  0.138107  3.5\n",
       "1944  0.120907  0.0\n",
       "1945  0.266478  0.0"
      ]
     },
     "execution_count": 35,
     "metadata": {},
     "output_type": "execute_result"
    }
   ],
   "source": [
    "# Compute correlation of percent changes\n",
    "changes = levels.pct_change()\n",
    "changes.head()"
   ]
  },
  {
   "cell_type": "code",
   "execution_count": 36,
   "metadata": {},
   "outputs": [
    {
     "name": "stdout",
     "output_type": "stream",
     "text": [
      "Correlation of changes:  0.06026935462405376\n"
     ]
    }
   ],
   "source": [
    "correlation2 = changes.DJI.corr(changes.UFO)\n",
    "print(\"Correlation of changes: \", correlation2)"
   ]
  },
  {
   "cell_type": "markdown",
   "metadata": {},
   "source": [
    "### Looking at a Regression's R-Squared\n",
    "\n",
    "R-squared measures how closely the data fit the regression line, so the R-squared in a simple regression is related to the correlation between the two variables. In particular, the magnitude of the correlation is the square root of the R-squared and the sign of the correlation is the sign of the regression coefficient.\n",
    "\n",
    "In this exercise, you will start using the statistical package statsmodels, which performs much of the statistical modeling and testing that is found in R and software packages like SAS and MATLAB.\n",
    "\n",
    "You will take two series, x and y, compute their correlation, and then regress y on x using the function `OLS(y,x)` in the statsmodels.api library (note that the dependent, or right-hand side variable y is the first argument). Most linear regressions contain a constant term which is the intercept (the α in the regression `yt=α+βxt+ϵt`). To include a constant using the function OLS(), you need to add a column of 1's to the right hand side of the regression.\n",
    "\n",
    "- Compute the correlation between x and y using the `.corr()` method.\n",
    "- Run a regression:\n",
    "    - First convert the Series x to a DataFrame dfx.\n",
    "    - Add a constant using `sm.add_constant()`, assigning it to dfx1\n",
    "    - Regress y on dfx1 using `sm.OLS().fit()`.\n",
    "- Print out the results of the regression and compare the R-squared with the correlation."
   ]
  },
  {
   "cell_type": "code",
   "execution_count": 39,
   "metadata": {},
   "outputs": [],
   "source": [
    "x = pd.Series([1.2811550440412238, -0.6126310598985145, 0.9332222021268057, 2.2693265731638363, -1.427691082555, 0.6405188010777155, -1.596489626936219, 0.33561618750787203, -1.661094450815615, -0.892276781318839, -0.3853601714404014, 1.1750613930276552, 1.0795261289242912, -1.2035994956420473, -0.056172151726598965, -0.3766366045789261, 1.5701795772212934, -0.9428046774925836, 0.15111742087150695, 0.9206869830404033, 0.39865553922740776, 0.509308881338481, -0.33266116373611765, -2.23945925855725, -0.4534897919461296, 1.0290382457244724, -1.8780126981110872, 0.21017468558027702, -0.4757487221856649, -1.2186501112582493, 0.9308799884171601, -0.6028764223428251, -1.2009086565864688, -0.0964592154016757, 1.212574421217251, -0.6424298804905836, -1.37811844503333, 2.3018322938539786, 0.3649715099125608, 0.45720613554168227, -1.3774898420827786, -1.4383766335317467, 0.063973133855837, 0.44278722045348, -1.9974962921111783, -1.4044702210471958, 0.08692671859178444, 0.5570923022590792, 0.7522245332145279, -0.4545804023390465, -1.0680666881208938, -0.11323127134326061, 0.031636849769069254, -0.5913536163273568, -0.7743368977153091, 0.6947645888461771, 0.8286835284249676, -0.924767578153199, 1.2618915478818902, -2.3626119374754966, 0.14534783815545224, 0.049616126607182204, -1.6283838027917457, -0.6800270946068546, -0.5884337805404406, 0.7260916073821183, 0.8092150965860476, -0.6693518909217461, 0.9388824358296493, -1.5595639187088612, 0.8316986060383421, -1.1608014157128452, -0.5898791339712739, -0.09934721933319744, 0.2656448155523166, -0.18394678158088928, 0.9564584613417034, 1.0313898667732246, -0.6584946536221273, -1.3743996656695014, -0.0631732256437111, 0.026892033235163947, -0.8496921931994855, -1.729939107593855, -0.13857788040834806, 1.005633140702026, 0.7383585048100306, -0.06374618401822056, -0.43627521742932374, 0.41300383170708127, 0.23527973389250745, -1.4402823175412254, -0.037024592454535196, 0.3163210863597245, 0.4334010006371085, -0.1794067693088721, -0.22272937057979608, -0.9145161654283759, 0.23768785153671315, 0.2838865108117988, -0.8192423257468685, -1.9910712050577701, -0.04006354807978106, -0.12033738970715552, 0.15510748588618137, -0.4352447189222036, -0.0487281261986246, 1.0126578930049703, -0.7907201580971653, 0.7428329253873476, 1.100457607102351, 0.15812950730365105, -1.2496169877073868, 0.5361294618762135, 1.233762471342156, 1.7284866572391626, 0.25594780064858513, -0.41149149785151656, -1.0497931002530645, -0.6235509427190559, -0.22097480931607114, -0.46150241750214294, -0.4961601004936394, -1.0958358832877453, 1.5092875490667619, -1.6290323928216552, 0.28681646837921426, -0.7418999422719599, -0.5499656749845604, 0.6326764122049733, -0.029633564332853045, -0.012109250331289711, -1.0441640436490787, -0.5562011045733684, -1.0941654365809972, 0.8860495062314049, -1.5088203163123568, 1.1374329048126899, -1.5501735403499899, 0.6954523634231947, 0.9546853946527298, 1.3765439821968224, 0.19330216840911907, 1.892079712068668, 1.3575960296100273, 1.1969930896344374, -1.1278705031605591, 2.03058893387105, -1.7353520911623042, 0.026824698899590858, -0.9310507631310321, 0.7791126068047515, 0.4347688092705445, 0.8543492855148576, -0.36223449264905516, -0.9940674283863438, 1.1226780657187447, -1.3693434103086404, 0.09262208932661621, 0.16669856561892382, 0.4959097730434428, 0.05771982648856984, -0.6053809875603205, 1.6330030670912459, 0.288167641685169, 0.5595427949202992, 0.49161723704835875, 0.03710723132111678, -0.017796291447584375, -1.6570629840076838, 0.3972959690857464, -0.9938556824225638, 1.8668058033948733, 0.07302987315908709, 1.398213208859564, 0.27355501335685684, 0.6690414670643127, 1.1038295883597358, 1.3931754019172784, 1.5883723046544935, 0.5418476161290624, 0.5544303328617051, 0.9750753573422007, -1.916275205762016, -0.3626735851149104, 2.0628270289912463, -1.0723062135838064, 1.3360361211494085, 0.5475010717195191, -0.617524225013694, -0.9951149589811019, 1.0753160668536368, 0.3617901279608233, 0.9195681367049232, -0.4004585726579531, -0.6068603367567185, 0.048114274223299905, 1.6377358736628664, 0.33899410124172297, 0.21872786133555278, -1.6137386502993685, 0.18580232306052935, 0.22686320183666522, 1.5578421135323661, 0.1550583148874443, -0.3003998683723746, 0.32638341890705735, -1.370763314129386, -0.7321718364215666, -0.029719106687211696, 1.7250975811712936, 0.4285524229951472, 0.2782490086843458, 0.21799582474990986, 0.6062628073626953, 1.4581079982282943, -0.42615886544821197, -0.613083279799305, -0.5239485031323156, -1.670621825863721, -1.2640011981364627, 0.4132286076001853, -1.0532361755894544, 1.2835926349746098, -1.5735587350796931, -0.4084227724876398, 1.224872313494202, 0.3415187228815285, 0.19644259010643528, 0.18081070948849623, 0.3623181904942318, 1.689157463781665, -0.9965124679839346, -0.8218393586151007, -0.7848407321055315, -0.3228685919425816, -0.7392740033123055, -0.1500074064532319, 0.8107759705086444, 2.084423434792031, 0.8834937342698636, 2.8462671773195503, -0.14121234494487378, -0.8049187751604127, -2.321357750576519, 1.4134332889826897, 0.7466704197993697, 1.1506086948952838, -0.5060139080093885, -0.3354555917233457, -0.7174196055120188, 0.46658579812084167, -0.9298327945813356, 0.8456943454100372, 1.6050684916244604, -0.4352825695391445, -1.9727099686582816, 1.1880683084519628, -0.02323359841623244, -0.24158816746740822, 1.9061970426288974, 0.49757036585345893, 0.5293471899531691, -0.8387104275950436, -0.5384323931023147, -0.7710273505799191, -0.4109576100166529, -0.5375557392726514, -1.5226691060085205, 0.14313515560202128, 0.7624238993783363, 0.7334933564387248, 0.6587312472188919, 2.3626061416920234, 0.3191632013596961, 0.04647159859516381, -0.2755369854000762, -1.2814167482484604, -1.0777145898391958, -0.9643591443282876, 0.15456707448551382, 1.437029181593196, -1.3800682370220185, 1.0731570224196485, -0.05897203935250225, -0.1439819613811889, -1.2485507089306842, -1.0057958766239532, 0.2789286444875427, -1.8381512357957208, 0.4710816881100636, -0.913624085432763, 0.9228774883219917, -0.5269972810731411, -0.27566919969978776, -2.4872289245654806, 0.1324871295970721, -0.10288181143216761, 0.3028590233167439, -1.1743571235057015, -1.2880133585328295, -0.3417605743186503, -1.077587395061371, -2.151807645950538, -0.3927978678746878, 0.08400358092594723, -0.8270919285328677, -0.6129373404939361, 0.6952301625622106, 0.5021781114624926, 0.1799869140519854, -0.6192803879513986, 0.00587192506491817, 0.594271575339764, 0.5897645313049396, 0.5922167751763496, 2.134722295912065, 1.3347873183650223, -1.486619153082548, 0.08560166020524435, -1.6925581993269394, 1.011708416153619, -0.14020801309204117, 0.48184848501024724, 0.6718729525263696, -1.127862151776186, -0.2990782844837448, -0.7975916684903256, -0.3975826691867548, 2.142217744330889, 1.4066085892138767, 0.5273293230858743, 0.1378760563116852, 0.532649039316254, -1.223478422259192, -0.10299034282643785, -1.2822830722842427, 0.1032967267630437, 1.928093739383223, -0.7740374677171789, -0.7438198607084211, -0.18269039221875313, 0.7846498395908826, -0.10984657843530585, -0.3863608426004779, 1.5077979737496812, 0.00482917034885061, 1.732017154629424, -1.2295623137610412, -0.5725147309505427, -0.24956431539792898, -1.487353180389997, 0.4174945289618317, -1.6923016399179027, -0.23941151210717423, 0.965475945065727, 0.5473140277406429, 0.2719169871221121, 0.6603713592024104, -0.25902229365406354, -0.7604130478169479, -1.0078748877980297, 0.7870183151313934, -0.21502826189311067, -0.17072095044503943, 1.0236868222160658, 0.37755614563511675, 2.6108068431657854, 0.5246756173219759, 0.4836598162210405, 0.26742536748967183, 0.0169831633554079, 0.4562201011537283, -0.6606608098771884, 0.9949365427832687, -1.226735600080754, -1.6380411876107703, 2.041699248954565, 0.33493880002694376, 0.4529649856245742, -1.5153549153241226, 1.0909300176620387, 2.4913638757172443, 2.10651569366746, 1.9351030231528283, -2.1958407413708603, -0.4138797661100451, 0.250136395904108, 1.592751568266953, -1.2389426603316052, -0.26438440815028813, 1.6003122903891118, 0.4369099686809913, 0.66219670316823, 1.1573741156588628, 1.4986431755506244, 1.3255114982392833, -0.17931322235265917, -1.1957287571528918, 0.533196745245951, -0.3310345732826881, 0.9349535940920656, 1.5696533587044477, -0.5976302756882733, 0.630972928035347, -0.8272691085540191, 1.7440692032035177, -1.0589381321382874, 0.49376280519717664, 1.0662321134033914, -1.1480332637032122, 0.3315584422919956, -0.3645639530891268, 1.3957648949802663, 1.4190645340791712, 0.7116013566560508, 0.14958564285001907, -0.8387551985432976, -1.2123958029963737, 0.12306868449402704, 0.019751710655750914, 1.047685567212333, 0.29271014402798606, 0.5786548342762493, 0.7047096725632085, -2.708538556470341, 0.05010884493866954, -0.2969818564128184, 0.3999492635439395, 1.7223695598737703, -0.586845060734203, -0.026973741469146, -1.4616921654481712, 0.138495855842951, -1.123850873579895, 0.017135589417939627, 0.09308131402918762, 1.1230826990102114, -0.20143798281762954, -0.7258410981859367, 0.24627241367922775, 1.1296361715909322, 0.058552159550198345, -1.7983273468722822, 2.210210728664325, 2.249115280136353e-05, -0.5984532062176234, -0.45670278983757234, 1.1603754016024759, -1.0449496803465854, -0.4435199490079035, -1.8261954122445656, 0.2584637202654191, -0.4083742936784235, 0.693394936295836, -0.17069021353895084, 0.5684291527085978, 0.6665539259234277, 0.7259434644264395, -0.7818996934482328, -0.5742831908261057, -1.0057955675400962, 0.2767666945183962, -0.02657171937867959, 1.4859056991110522, 1.1814689108569423, -0.3200975323792521, 0.2979647582167218, -0.3232515902839842, 0.5459492822819827, 2.9272109032239864, 0.8037546198436225, -0.7499979255776861, 1.0195486390030897, -0.19318912479046815, 0.5013507507734484, -0.3154248752490127, -0.6909048361483536, -0.162428172141605, 0.6619320564839841, 1.541660251566514, 0.24676306444895935, -0.6081792360254962, 0.2230484458049995, -0.19688612727743685, -2.0280595004339546, -0.2019706712044319, 0.15767319852175163, -0.09038685208329725, -1.2842696550826431, 0.27116452125930596, -0.7124928794583623, 0.017356569438715625, 1.1873032421525376, 1.7072145367579399, 0.6655242675765024, 0.8527135331212987, 0.5509525519030603, -1.2461593572236154, -0.7068798069098832, 0.8567847697718416, -0.9234348937646064, -0.8806828886735357, -0.05609809998169541, 0.5019083657396824, -0.4157581652339636, 0.7576816160052998, -0.2833796697872356, -2.2915502845187197, -0.09944721684838555, 0.3980119421690809, 0.09454416205183548, 0.14329540595075083, -0.8734928742311916, 0.7584630765437268, -0.7908212321453724, -0.4320523265745874, 0.37025365268475396, -1.062001122245369, -0.4828920876000209, 0.6936722586624583, 0.5858808880619747, 1.4508861702159925, 0.7500862350496543, 0.5420294884948335, 1.0398706462749154, -0.1948557651599005, -2.385752240649883, -0.47077742637789227, 2.064509427221515, -1.386038447705097, -0.21990377100261563, -0.22630975846881524, -0.2588868206001651, -1.2646588934123528, -1.0834969364983877, -1.401409873741469, -0.0792912256992738, -0.2639577678483505, 0.032443527882877736, -0.1958118189742201, -0.2696672440142078, 2.356910173616174, -0.6625621350495404, -0.9823303116647341, -0.23929616612266164, -0.34032350329971356, -0.057851705966839494, -0.30298116057390284, -0.6066365014043973, 0.9809215742936962, -0.6705935056817571, -0.17471250370687091, -0.5779101748507249, -1.452565538806313, -0.6818093230131186, -0.875640737584392, 1.0829587238449638, 1.8344569102333776, 1.7031903105405986, -1.5062289827032123, 0.17890924580770518, -0.8351542433791986, 0.2710173607705894, 0.31965118866128406, 0.07953331906928739, -0.8475414408512983, 0.24929629756979074, 0.2938749017440937, 0.8625826904665663, -0.11273579413889787, 2.8006286023584983, -0.1117548423137034, 0.39703141240929996, -1.521600652092554, -1.0163254285070924, -0.28332438531049664, 1.2965563661393242, -0.9501724981207302, 0.2289047380394984, -0.5596777441867471, 0.020094441466944817, 1.0979926410447785, -1.3706395935376305, 1.5666130505215872, -0.7501925731978024, 0.6444428853456805, 0.5117080499010401, 0.017447261865881667, 1.2959498184802178, -1.2468030429927888, -0.8573379299224981, 0.8039631360433173, 0.9543085510513728, -1.545932002127972, 0.9610860616851591, -1.958830433328374, -0.4483478967243869, -0.3776644755498551, 0.5354507909342476, -1.0430895803398843, -1.0779232456335477, 0.33595254329514174, -0.5436533946867769, -0.5306417023748377, 0.8078920393134098, -0.8419042600738254, -1.424370805760945, 1.0103737412666025, -1.9600896409016224, 1.0225799813611687, -0.3422881659706962, -0.6327289414396146, 0.5735534796741496, 1.4513051087363864, 0.6070670062511726, 0.8195271507826488, -0.8639349441826176, 0.969726864583193, -0.38714731089393417, -1.423694462749488, -0.24029038589401666, -0.4859663413673385, 0.7421587411711145, 0.8955230500216699, -1.1931899850241667, -0.5250812576299323, 0.21044349786095048, -1.0435990843554972, -0.3553472314138764, -0.5745147739830379, 0.7270555706490947, -0.69252072507968, 0.0824295389407393, 0.5676522158489848, 0.4926951570286256, 0.12162848455760715, -0.3325245708296114, -1.040665362591346, -0.15104187318030327, 0.8482850141165379, 0.7282104379946829, 1.623223724188598, 1.065346721644724, -0.4631233870124684, -0.561463658403215, 0.08141045468279497, -0.6033751809042917, -1.2494181168901144, -1.0226185527491465, 1.6672766121243676, 0.5161077828412061, 0.7303143773731128, -1.2042140822667036, 0.42095035407325243, -0.5998653289544662, 0.4730008839090102, -1.9236000119268668, -1.1632113128844814, -0.34857698511954055, 0.6361644542059346, -0.28998923755127615, 0.5156222422474026, -2.0302343228889934, -1.408920553545117, -0.7164483539762333, 0.53851393409135, 1.632852293911881, -0.7059173661787806, -1.292958091755332, 0.22475214833323107, -0.7183152270319154, -0.0016646080338889222, -0.8232330902111494, 0.651173508629377, -0.23430488957409498, 0.9596102360167784, 0.28027084053186496, -0.3071623437513136, -0.150701948491389, 0.26539723370731777, 0.6575421788781195, -2.356978810174661, -0.4189421126781944, 0.33527442916251604, -0.6961444008576461, 0.23852841584644008, -0.9148663907490183, -0.6938629955169826, -0.6512048216975727, -0.44042201807582315, 0.4538387099487502, -0.9022531905831274, -0.43919529829075504, -0.48533301832222464, 1.400748938049492, -0.3041538855755456, 0.8022650307410149, 0.14423517799219773, -0.6162872691345818, -0.9003867648716256, -0.6426862410461465, -0.6385018025685305, -0.27749862681611087, -0.8898549936931711, -0.4845848557476576, -0.7462569079316493, -0.6660847909048132, -1.061698323614797, -0.4595916991858538, -0.4964001994536581, -1.1517433065966902, -0.7147352986264145, -0.979615491705565, -2.0022433379234714, -0.7920934071778448, 0.28918556795146877, -0.14459509154605615, 0.6300675586142113, 0.09113513829642259, 1.6182337171766665, 0.697616497978575, 0.40845000090522027, 0.0392003485912506, 1.2886297909140367, -0.9013774801911525, -0.7218805040877588, -2.3364088265360605, -0.15122718168423352, 1.5917319487562862, 0.10945483690096314, -0.5218476396593968, 0.014770133898636802, 0.5219232582969562, -1.6651425334274597, -0.9810023979643574, -0.49861418819806225, -0.37784158380837596, -1.9509977835799683, -0.7596789412979185, 0.5756436940108495, -0.1263915844750892, -0.2881655458555227, -0.21126222635427996, 0.8763471869337076, -0.16128480613787813, -0.595613530727245, 0.8223961660652714, 1.3938876633750859, -0.08179642293560137, -1.1508612743295161, 0.45892509993606106, 1.4622506372355752, 1.4968046003337594, 0.4330563169849272, 0.08146859954689607, -0.23758794588910806, 0.14433456436630293, 1.4297074738636055, -0.11910530737610853, 0.24994708657435719, -1.5397817734025403, 0.4710670256217842, -0.7528800491508506, 1.4973821201153297, -0.7370596961142618, -0.36600088826730276, 1.0788087412974006, 1.1097788135373696, 0.5606108417697564, 1.5254143138934957, -0.9083822366856663, 1.4745649737166788, 1.0676285887446368, 0.2614622875043119, -0.761594329523209, 0.16746351806632892, 0.29831306786322237, -0.3868078445771079, -0.3281181510361313, -0.20920587718194528, -0.6971623037562072, 0.8201147170205032, 0.8068979989605962, -0.14410762019304135, -0.03255522222679558, -1.0687328094882182, -0.27438958461986906, -1.5786072326056277, 0.0031124932782617726, 3.0875196913749394, -0.36685895820665904, 0.29001956648771726, 1.3781054114403108, -0.9691407832538603, -0.2555576493873456, 0.8684177508230642, -0.5193399002961957, -1.3421682606120884, 0.3147406832043353, 0.772758949221254, 0.632743021432991, 0.6282855528469061, -0.294330104752678, -1.1039735835170281, 0.4838728779399808, 1.091109943724447, -0.11402960847367027, 0.7216136659581276, -0.7952585606905005, 1.2900928276303572, 0.668708214494058, 1.6316989496194068, 0.4674668654867797, -1.4593356445396, 0.39301110318936955, -1.0780779185918286, 0.7399814906750249, -0.13169334753431958, 3.4530817839133077, 0.9851471428823663, 1.1702458168488377, -0.1374401186829724, -0.7140970042251803, -1.9273051033500685, 0.7415692564142079, 0.9767403767921218, -0.5386368829957875, 0.7941641292747003, -0.4426336706151123, 0.3611363176429492, 1.4393665592850737, 2.6426340756142896, -0.5173806148613016, -0.44752540165620003, 1.5207648982104383, -1.5542109065186518, -0.047589885387081685, 0.8049529740098417, 0.8584215654325545, 0.017913031835165235, 1.6261315194960824, 0.3903778618028171, -0.2824949808393406, -1.2822231331821135, 2.130088826538941, 0.01525282560618788, 3.753551482974148, 0.8933018228811488, 1.7967146397256244, -0.49568160024234537, 0.6706407731678474, 0.05766387793080424, -1.2120724687166047, -1.397301133108583, 0.1364103906471751, 0.22922870887051736, 0.09482754488813724, 0.4136402992332198, 0.9468518836081644, 2.3604601352516617, 0.7087840009586248, 0.6514681982249536, -1.5323044536529693, -0.6848120551306541, -0.5713992805749842, 0.13574232809169298, 0.08506206933983652, 1.0479594242103552, -0.03500546590392013, -1.4870046523111058, 1.4954443709311964, 0.5678162494115871, -1.2341719498736567, 0.7054584945121818, 0.12042410075608224, -0.029205904548573313, 0.8326703835870282, -0.2694083369965819, -0.2668229884277391, 0.45620238647435685, -0.34032229625850546, -0.6571342553469359, -0.52289564080822, 1.6514728722994687, 1.7022788554271675, 0.29758492780508267, 0.983691367511512, -0.33069743391009315, 0.14838735834684125, 0.4159273914669916, -1.7371164885762094, -0.9483051236350288, 0.2962478462192728, 1.130862479425501, -0.7521448321882552, 0.44055994741992077, -1.290473114630968, 0.38701573131336925, -1.2742461550579223, 0.15125253505998273, 0.24692691390378116, -1.4827692967810617, -0.7407891807851247, -0.3008623268715242, -0.9350653262601603, -1.0243160100912239, 0.40587665586893784, 0.813381859712616, 0.316200062837867, -0.45605550217223334, -0.10950542409640848, 1.8219947355667738, -0.11927902452886274, -0.18333975346505604, 0.8557516820631766, 0.14484051586829436, 0.7622419333896986, -1.8925454922311127, -0.818023396988202, -0.20544826880253692, -1.3199128745826836, 1.729563516423699, -0.09626352514342396, 1.1631185076895898, -0.5852350001243455, 0.7039075333859474, 0.617544368248742, -0.511282797504639, 1.3172490445252845, -1.0704715956704887, -0.5025752028483513, 0.04221309666716833, 1.4173558637443744, -0.06031795298007711, 0.18892275187271276, -0.04927489195075641, 0.8608987480623188, -0.5286370591510503, -0.7362899547896913, 1.6056121506761227, 1.1748273187350537, 0.5067017023831254, -2.085925519310575, 0.3396871039965605, -0.6564751973305406, -0.3331057193479064, -0.14696606994721095, -0.42788188240430064, -0.7232036028128643, -0.129793812318884, 0.4848980562907761, -1.1247681212903056, 0.5718077336743665, -0.4230129805204403, -0.5503507083933211, -0.7077830026673683, -1.4722981939474487, 0.7169901009692797, 2.6282023232584417, -0.11992815403676732, 0.4353676973975298, -1.1420916946045905, 1.3386924595354746, 0.9180706850375504, -0.6787382291510811, 0.4793461018723987, 1.397851133836866, -1.1313343392628266, -0.683984118806693, -0.8310011879258917, -0.14420594489065325, 0.9182054158071498, 1.216339774257903, 0.7748184342131297, 2.7340141733751624, 0.0005404319387118655, -1.6109057403686418, -1.0636523116621077, 0.04669677587569681, 0.23914254343351313, -0.09076924413605764, 1.2235224703671055, 0.8581408680020675, -0.1437251143017076, 1.740802785806922, -0.32070034322663066, -0.12664089914099344, -1.3801308078906984, 1.035784268964063, -0.05602888306554742, 0.16418240278246704, 0.7863503496394391, 0.25154225043142625, 0.4682238397718219, 1.0890322480832832, 0.7436922974132252, -1.6115703065738287, 1.011224254361624, 1.5719710523592254])\n",
    "y = pd.Series([-0.8351286009190672, -0.06100441499537612, -0.194677330631589, -2.4611421320699467, 1.040072990892944, -0.6828739396020767, 1.3107639678267742, -0.5298639831872226, 2.639054920254874, 1.0649845894270087, 1.052035801676665, -0.6492146582173699, -1.3647372713719814, 0.5646740628725941, -0.3292163536905029, -0.8749304916011758, -1.883174191714396, 0.8651524394848811, 0.15666513226527481, -0.793844987778514, -1.1712928255286783, -0.2526950984933609, 0.3273704057637023, 2.424119190394595, 1.454417921600079, -1.493598456173196, 1.5211081928494008, 0.26803795383150913, 1.2605576813226307, 1.6968970520786513, -0.5754065968246665, 0.009752477415448239, 1.561915809634276, -0.0077827232736593565, -1.123344542892297, 0.27072607156943584, 0.8874343256221449, -1.8368522031971426, -0.42133365389976307, -1.175414516001151, 1.0694182669881944, 1.7994158301635967, -0.5496034510258208, -0.985044049537418, 2.071036645930695, 0.8376931544450931, 0.43982915406535145, -0.09596389771269319, -1.3619875450452867, 0.285007545705001, 0.18352831476965914, 1.2752281128590326, -0.016368025541275942, -0.24134723602942829, 0.056375833843262335, -0.13893642883047652, -0.6045181655598098, 1.0494242786206278, -1.410579011186635, 1.4569839407534417, -0.3922580739101969, 0.28499606976433933, 1.5075322031407763, 0.9035176816076788, 0.3362393315340148, -1.2180458429821857, -0.6653524863688425, 0.8140115574040573, -0.13122804960129275, 1.4012502554784658, -0.7734647082014946, 1.309618437647121, 0.4950340199543207, 0.7900884968784077, -0.2015556492345248, 0.3108326180697597, -1.7958196412162415, -0.9562837890101289, 0.4211697757054076, 1.3103694234018777, -0.023570054303233504, 0.2881583503543797, 0.4479052396498257, 1.2402283884003817, 0.015864002170548185, -1.0392280889458745, -0.7057533944065573, 0.7220130094387418, 0.16292693533091762, -0.35040371958031274, 0.4174684307050774, 1.2797612914123162, -1.1065249909203736, -0.7537217897041183, -0.2582792036745885, 0.16600466912717265, 0.16632778775671594, -0.5304555619213652, -0.28726180106259136, -0.3813550423126317, 0.5517614900302444, 2.2988869499939746, -0.05235864358750514, -0.28900037602902284, -0.030476428364102706, 0.6944898693279178, -0.5845631094753875, -0.2916632456888246, 0.9560190622554623, -0.74120276252537, -1.347291281771406, -0.31985980150945287, 0.615143470662628, -1.1509086120876026, -1.17828298784928, -1.3913462901200206, -0.22518472313119609, 0.21732632728409726, 0.9628803906739333, 0.5345051781176213, 0.34604375756453193, 0.025778700949339116, 0.3535181985885683, 0.1332115507220299, -1.3467497524558527, 2.002482017436798, -1.0435253128347786, 0.7058620298051606, 0.6015288311009992, 0.6904611111905807, -0.041583058263442725, -0.24885630285378202, 0.8859602961150294, 0.6834794488264708, 1.2820754649058856, -1.4792728779721538, 1.2365965693647982, -1.4368954464740926, 0.9150349787144477, -0.9936577469384562, -1.4843326819574272, -1.582793263425021, -0.4985425104162844, -1.3315708369058545, -1.2332555735860795, -0.8981127007256928, 0.7353897756251918, -1.7194233851753498, 1.9212563409773007, 0.33978339077341935, 0.5603156861554537, -0.5058098466895491, 0.15403511311095938, -0.5186663257741796, 0.30568989517621464, 1.2982046637971552, -0.8363635677419465, 1.311006771933953, -0.3920973979405682, 0.14017971042533597, -1.0980191786092972, -0.6747515949956524, 0.41455952135834273, -1.78890508717576, -0.08730808916749108, 0.2761770828489287, -0.519522716313831, -0.16350248730212608, 0.259842285864462, 0.9552703090152659, -0.5975454381796642, 0.8343511124979328, -1.8275715472142229, 0.007357470866249986, -0.6294375283426397, -0.35776392846515653, -1.0853982206347939, -1.2797235485339382, -0.4734952482197081, -2.0929770660193125, -0.2406531601128485, -0.25213031345049236, -0.9485595561718797, 1.4834867550363189, 0.45521438502146405, -2.3262226647219744, 1.1327147851674544, -1.0271111332391483, -0.3864814910521105, 0.11722834295539541, 0.5445433254828663, -1.4701291926643976, -0.31286354900968205, -0.5864748140108972, 0.08973536473366796, 1.1261058916010336, -0.1442576147331307, -1.8199810453177645, -0.22925709425946764, -0.10959569693089637, 1.376753860943283, -0.7712788503736197, 0.20998084418460666, -1.8556224018418037, 0.22511925219840134, 0.44595162773616676, -0.11088269984684684, 0.606478957058956, 0.6880051085490362, -1.0628575995947624, -0.9657025138773654, -0.9136757654733096, -0.6114889769485324, 0.4604154281775538, -0.5372621991055229, -0.778268897850732, -0.05764535435919853, 1.149734070677476, -0.2092121091733229, 1.8093128333586201, 1.0176342671395302, -0.36383247546020187, 1.117183260206731, -1.166427504298986, 1.602988199266382, -0.15620395419868643, -1.5100569077149304, -0.2949813474272129, 0.5199522901637373, 0.29521358812747733, 0.2856512031937996, -1.956918449897968, 0.9197724014996493, 0.9940461549432806, 1.0590129550423013, 0.9903149317539083, 1.1837178740427534, -0.11020391792137656, -0.4749433371781799, -2.6690112923427125, -0.9942333813580929, -2.283349897856185, 1.0287445749254598, 1.2657184205737533, 2.0660175316732308, -1.5173466757092178, -0.8615351571905977, -0.8966450081164234, 0.4939737594811782, 0.27192857530052045, 0.7485638954826769, -0.050862984996839285, 1.5279603287615164, -1.0847064029232791, -1.7117580111758084, 0.3758920787990269, 1.7912112936648938, -0.9338254981311711, 0.269041239924053, 0.35060352969420205, -2.2309251076178858, -0.6531847485271, -0.3447290272489765, 0.33262521992775607, 0.8003958685249337, 0.13692565854859848, 0.44789540455929583, 1.3355443573541301, 1.5730451112880557, 0.13948070865982107, -1.4111891230665945, -0.187638343980973, 0.013243362197729269, -3.072426434616361, 0.07804947297679296, -0.08924880637945112, -0.5128548489001585, 0.9760750830094682, 1.0461755585253074, 1.1178687801853213, -0.05337978977617685, -1.4343327845105922, 1.9651101843833167, -0.8470074346493587, 0.42442974830423524, 0.0395558010498794, 1.345326196281462, 1.4415546340271979, -0.35361343763228753, 1.9237847350303976, -1.0077573572133016, 0.9853096167802949, -0.6211939804749285, -0.21558974556080812, 0.8718902074054266, 2.502837825731818, 0.5860048041907306, 0.22601843601179708, -0.9264425309488689, 0.6047991987791652, 0.9355350050934457, 0.17527559483491692, 1.212129996285403, 1.6671722546010892, 0.4139698006528976, 0.6297140643644672, 0.3139029645907753, 0.42706670492387344, -0.22750854651242883, -0.671998676579982, 0.2431602828428717, 0.5144468523538015, -0.524697682245477, -0.8869196935567136, 0.298742909953898, -0.7245155562878318, -1.8661387374721192, -1.7402264782147339, 0.5452665418204603, 0.27258496682237804, 1.2810800520845667, -0.20473996011401668, -0.18905922818964352, -0.9167888952990743, -0.1852059605567809, 0.6027125075608392, 0.11922698339665362, 0.7276654726847182, 0.3266522643178294, -2.1211976117402878, -1.072482605927704, -0.7978992083312557, 0.12052125541513824, 0.20175742263808755, 1.990659299330785, -0.5597616267088866, 1.096087800275874, 0.17769656555972038, -1.1995285876412514, 0.9315781085278209, 0.9928966083438362, 0.045049531009922, -0.6562037083491528, 0.5942678096267451, 0.004797525042239186, -1.564845506871891, -0.04869705977825815, -1.2515017358911724, 0.8613779951720202, 0.9986336465646574, -0.17461716554909484, 1.6577064243902737, -0.07186756079736258, 1.4699648631778892, 1.1084191586892835, -1.2111096173220595, -0.6181200759656393, -0.13739717717278396, -0.938834936851383, 0.32830098343116143, 0.9434821803499186, 0.49673119671066546, 0.03960232855322794, 0.5492725554776009, 0.36093692831721746, 0.5735719614904095, -0.3946939152059685, -2.1160693536411297, -0.5518635680566477, -0.5456807148119283, -0.28667423479323867, -0.08594587515020048, 0.12896714068903015, 1.0575370799085069, -0.4328691796731137, 0.9792456604321654, 1.3324932571029853, -1.5490818521503682, 0.1019538053880786, -1.0172456892719937, 0.8860052812538409, -1.95207865452835, -2.9560654830566793, -2.1224389504593404, -2.424476973402556, 2.350184993909178, -0.31094255442247554, -0.22862159240944485, -1.5363218522876991, 1.0831968948433943, -0.6488688721809964, -1.1272966611367068, -0.8526896514981273, -0.6878963364437285, -1.100794214133822, -1.1524998517053378, -0.7350695563049733, -0.19887046298447833, 0.581035065845718, -0.5332305217730403, -0.5672321558963068, -0.8597169089303115, -1.0032889586016045, 0.3676549816070723, 0.20154385703720945, 0.9973082794075395, -1.0152848661244311, 0.9925692251760728, -0.5777960012661414, -1.2767738153751444, 0.33964045300533535, -0.2806852246508079, -0.1626726809919302, -0.9086753281969658, -0.9679821133040046, -0.2287017484302373, -0.6712474761904214, 0.8309776075195926, 1.6113998109762353, -0.3241661494135685, 0.06531279533116849, -0.6711587435663129, -0.48189390293423895, -0.4753407715250453, -0.6443492043894243, 2.6845636770790255, -0.7959221408352424, -0.1990813019576479, -0.3321482864839041, -1.6519500762163362, 0.006764297216013477, -0.7917251445212186, 1.609524556893827, -0.21158658130421582, 1.081738758533241, 0.662016196505634, -0.5817226860721069, -0.4841648088498559, -0.023211398741577356, 1.1721412087903582, -0.6809357811910692, -1.931887685845895, -0.4580015305105127, 1.8245062266219392, -1.5757357083224197, 0.31525391701854727, 0.731077334942962, 0.5634798083057991, -0.9963677766855772, 0.9510095967894265, 0.6311659192646828, 1.7131620415049307, -0.31075718420451387, -0.6079712440343344, -0.5592822574491567, -0.1867851236334443, -0.7274641784212689, -0.8959971340932692, -0.32552144880940265, 1.1994116402176425, 0.25751174579805997, 0.8652584328547716, 0.3217037211381487, 0.13716049965096547, -1.2681085218036827, -0.7289157387036611, -0.6799475756041976, -0.3999449039817398, 0.6231138473325765, -0.09298085509382946, -3.2465164901782626, -1.3646425370290651, 1.120814201007724, -0.49270553055824784, 0.004606261917645445, -0.849404447840968, 0.6061829861423851, -0.2259803829117142, 0.41528120242872174, -0.6425898256870864, -2.0917191379940356, -0.3852879872746276, 0.07737006632550128, -0.44208462240686014, 0.8323957730786525, 1.326631787764381, -0.29556756172921794, 0.031462053121549025, 0.06846815404386546, 1.6067059132638761, -0.26033687150137474, 0.9851994841659273, -0.8112693032942038, -1.1220193480659464, -1.775367428150278, -0.21864482871235116, -1.7166268838508927, -0.2670778495323081, 0.8394959526625937, 0.2098330002179524, -0.6029486915581515, 0.4764982356085541, 0.04506436899875718, -0.4511530380389726, -1.0725875065282233, 0.6634583586114344, -0.5897161023344912, 0.22593429888349945, 1.9154979347685708, -0.07156146139542914, -0.3267207266534765, -0.4793387070970653, 0.38545938086748527, 0.9642971299389009, -0.6750892246414598, 1.323537265071567, 0.26910683304195515, -0.02498421762860199, 0.2759339588922596, 0.8009899035818229, -1.0357822141384223, -0.8901036618630953, -1.310867202679047, -0.7815628434531199, -0.42791063166025234, -0.9301846361158219, 0.5649673152228756, 1.450135885822667, 0.15363016218797498, -1.6881207700896754, 1.2108972111953078, 0.1912477816463337, 0.6200973167111856, 0.41351983396980974, 1.1910197089897347, 0.7158871721876354, 1.7313754203157241, -0.8663634540184704, -0.2645634670436962, 0.6165388990391645, 0.1162021576778026, 0.39741389527177323, -2.2491599323467155, 0.5465810303146639, 0.9252325061115448, 1.2558596740012449, -0.5282244055567069, -0.7139897685127677, 0.8885407174426136, 0.7498826888948223, -0.27626958615143227, 0.7978121589570587, 0.22463377612490337, 0.3036219218847386, 1.5206939474266443, 0.48791214187544585, -0.14478996902488192, -1.0970071130274728, -0.7435177758190721, -1.5484987928781087, 1.7214670990104932, -0.42583558677259536, 0.47726231473696157, 0.038096052897151116, -0.2805155223625518, -0.5132399922408362, 1.4705396030720284, -0.36806556637150684, -0.05291475247876026, -0.9021724106554729, 0.39986577222888964, -2.620221202571141, 0.5624246103349794, -0.6288460130766073, 0.822535721205695, 2.15935617933679, 0.6474002907697215, -1.60717294563803, 1.1119812403517202, -0.12476249608497518, 0.4286013618780339, -0.03633159309394091, -0.9532767239907178, 2.1451966050479645, -1.311419010975985, 0.56660671312809, -1.2351290037741947, -0.35517920546109255, -0.2906648448779417, -1.1391047395660956, 0.8322709351313324, 0.016811048440167207, -0.47767425446309264, -1.224620872006959, 1.2181942107787327, -0.7035588452833823, 1.8516467744656862, 1.0501941704766498, 0.256953520471082, -1.1728245091137073, 1.1240160761185238, 1.5201840920392329, -0.8667444118086592, 0.2607877167620652, 0.2036606154765182, -0.8709450461805627, 0.9789930688211912, 0.8727052412665653, -1.050248959756164, 2.261639558143545, -1.0566310270913808, 0.0879641689887834, 0.5627641014888486, -0.009949510620575518, -1.8814375338069855, -0.9861615054025421, -0.601074061339009, 1.2736010499868522, -1.0177656092236762, 0.49447989411611204, 1.121675811107636, 0.06443226401984596, 0.0034689738695751183, -1.0686742438906895, -0.20327072084000522, 1.0980901612023022, -0.18797220682385504, -0.1390616280261179, 1.1897505980676946, 0.4885108439456383, -0.050134919134401, -0.08535468633790749, 0.9135491124267225, 0.2124816186721891, -1.2742763336812466, -0.25212865228164333, 0.3318276218970302, 0.3525786106287421, 1.5470792059323741, -0.3422570211804259, -0.9204881581661553, 0.01316341403563022, -1.6519606801021933, -1.013111337887004, 0.2820479552777713, 0.47263499017623906, -0.26829597409628075, 0.6653149184703697, 1.817390508429139, 0.05688688992439631, -1.2262119474031368, -0.4110824615891767, -0.4987084352785847, 0.6632521116301329, -1.164992319734768, -0.14487071556052242, -0.24062371480622027, 2.088361703429373, 1.279110670671242, 0.2542493976331204, -0.11096657857793092, 0.44038553510059264, -0.6699295955570451, 2.0000465866003365, 1.1762569151543973, 0.8460488856960432, -0.24846778832539768, -1.3758737786327224, 0.8280394084692945, 1.2625026425566397, -0.06597364397623037, 0.9731556523617573, -0.4434148149501292, 0.4701260817399749, -0.9439388371569425, -0.12180971530516568, -1.2542533108639282, -0.07710865015291997, -0.17603499466635414, 0.2950426056823578, -0.6214892965784424, -0.8953758772257824, 1.9593735415796323, 0.09958572299840592, -0.6510682451385197, 0.8656865759426796, -0.013609070052617028, 0.5344150561018873, 0.37292834968210176, 0.9822316450476345, 0.3465401042268712, -0.5717370481593201, 0.5971054703288382, -0.34236822612223855, 0.02223063152501999, -1.1687725906574817, 0.10586944426631484, 0.21337214590510878, -0.23422172147043996, 0.6552898120563176, 1.0244656411284943, 0.8409496290315752, 0.6194268145648701, 0.1562878693937707, 0.287888193886669, 0.9309153610206364, 0.6997029925032779, 0.31878825262511706, 0.5701143012807507, 0.6978033278005473, 0.29645831542061674, 0.33009348152386797, 0.800348934463625, 1.0690801175262108, 1.5810489275007527, 0.3958601539534113, 0.04281354616881958, 1.0745930617700512, -0.054950273680818396, -0.4045871868644608, -1.5454852016847376, -0.3185952077687233, -0.6215926970923221, 0.7305507571259972, -0.8335395096830446, 0.802567438371458, 0.5947482213539691, 2.2862782880716557, 0.00552874477217613, -1.709417717939578, 0.5617781652973668, 0.43715335055980953, 0.13162092831509203, -0.21681758902938303, 1.502737480383597, 1.372907435310837, 0.5486688465014347, 0.28062040088401696, 1.6297181252760515, 1.4527355642894983, -0.05426108354313248, 0.15427972976539, -0.4335169417881578, 0.8568382011803327, -0.4974058190480708, -0.32738069328901365, 1.3496321241965947, -0.725886713891028, -1.4126739073506405, 0.8657214303512696, 1.8854088632627228, -0.5685662517104995, -1.7820779034972276, -1.3333315305007223, -0.9256273304326064, -0.6113616832331479, 0.36479673242228206, -0.47110257310565057, -1.1813444496459788, 0.3267534955325383, -0.34740544104937127, 1.2711920562999022, -0.13838837257970832, -0.16239722670141785, -1.7929148468748217, 1.0374410281852575, 0.6467365826435185, -0.8100123096600219, -0.6861337314986262, -0.4346638307931161, -2.128655774250894, 1.2177395000370108, -0.8996308771909305, -1.0587017116974322, -0.6744261177245441, 1.5151409625322352, 0.5149839442728665, -0.24987599015708883, -0.13048809645106724, 0.6455025719498002, -0.5473682454010533, 0.019627662862032696, -0.7613413282985465, -0.6934503519759025, -0.5850725868256018, 0.2948816300949554, 0.9047985827761954, -0.3942433390587412, 2.251667356221582, -0.05894343129140028, -2.6245361983282276, 0.7303594772766099, -0.49995451917562633, -1.0301688826703248, 1.4717564854918987, 0.10947456718482437, -1.1822501238511427, 0.3920837621715219, 1.8575175444530967, -0.8584012859084936, -0.2963052111610501, -0.3885697714869025, -0.47481787633773975, 0.7352081350739362, 1.6899257763805653, -0.549621655536818, -1.1965116085691776, -0.06662676646404964, -0.2600533788212141, 0.97375136675372, -1.2002337976178175, -0.08029700605296085, -1.8816125018560808, -0.6761251158864803, 0.4073289815726317, -0.012557251751150106, 0.8325228343702813, -0.5851500736714067, 0.16273136414455638, -3.9571685184156546, -0.6975843905737343, -1.638311891490591, -0.4383899498731495, 0.5390559572860592, 1.6456863317405426, -0.381813516712245, -0.30074647336334515, 0.40273764267681067, 0.48071112756120604, 0.5099290379543837, 0.10269664410803683, -1.5203963064975958, -2.8811812178653438, 1.1355330381166666, 0.733728056466949, -1.8241428894973772, 1.3199335876913987, -0.3126683869300254, -1.0152637656368146, -0.43021374462763834, 0.43774566758539546, -1.0780922109710034, 0.4322037424391844, -0.3853746142222261, 1.2211837374674344, -2.065155791036126, 0.4659994235011272, -3.239761434249477, -0.03185757015558928, -1.552831668631661, 0.3069061540090139, -0.8377846308107615, -0.618218395526103, 0.7236256247824069, 0.5972652740685637, -0.20899607885924681, 0.19843980984266132, -0.299619802946286, 0.025079303856235437, -1.403308713220161, -1.4538469569917025, -1.5519746708504625, -0.9253665117890424, 1.324395199438293, -0.1160490200892289, -0.16596481627273799, -0.47556696161315065, 0.19865412914889677, -1.5561811954881166, 0.342368979767648, 1.2759682548933864, -1.4119828118737403, -0.9812295297180748, 1.5108705191089844, -0.7138265475096489, -0.04659109590334553, -0.8205278901107289, -1.070586489272524, -0.21460841610333678, 0.09631320741008491, -1.0242871391502386, 0.5300497061994761, 0.9027834176968405, 0.6937663940700887, -1.776298629948592, -1.0899486001439687, 0.27026714926143897, -1.0247765298666414, 0.1827134956160951, 0.5144562902463607, -1.59564219165742, 1.3830743733075401, 1.2398496146033884, -0.12615248531274562, -1.092448104166287, 0.4058527095300118, -0.30076387552194483, 1.2890622273482375, -0.4524948562808326, 0.9873531167931605, -0.43400815098799417, -0.15135933523977815, 0.5326303447803972, 0.3420580637655695, 0.8552439475444681, 1.005706640275822, 0.6024218879610441, 0.27365147653603067, -0.7251604071340673, -0.4034552233141353, 0.33552298351653376, -0.1161510741361051, -1.7356404162116643, 0.7374057890601887, -0.440392863540994, -0.6140808783233639, -0.019937835373290917, 0.07396203397441399, 1.475923263020116, 0.954004231593583, -0.1790158879202037, 1.8410322470217249, -1.1108473941141084, -0.17107654683025816, -0.7405820189209587, 0.19430488124406078, -0.877213133892288, -0.3815138372168757, 0.22701151896720698, -1.913831653047473, 0.6255788269572155, -0.28593281727612363, 0.816225208825358, -1.1715237715870714, 0.4708081327913606, -0.06691172858963793, 0.30545798867900137, -0.7748330455340461, 1.0509783310521734, 0.23006360328719602, -1.4228692443994069, -0.7972294037423477, -0.05429329907326862, 2.0580539716569923, 0.11356072183027066, 1.4174575043243387, 0.05007901143451323, -0.13192938376661625, 0.03959328983755052, 1.035130682671959, 0.14123199175408116, 0.10196031148966289, 1.1899346797509782, -1.0981103018572353, 0.13766300733678496, 0.3774152067624021, 0.8005419199122669, 0.4732653940626776, 0.27438769057062173, -2.2513567954103326, 0.694911145290376, 0.09697499121064398, 1.2300944273844185, -0.930384419140953, -0.9795073550971156, 1.1671257547001797, -0.19895080857955924, -1.60910629513907, 1.7321157382917554, 0.620553808442369, 0.8206132246477095, 0.1837319831396932, -0.5935619708743829, -0.8693714074655606, -1.0977405113428507, -2.8038168150266114, 0.3693376381270472, 0.9444620352467245, 0.8561298846744425, -0.0937742156636077, -0.6371228668572977, 0.4535243360287085, -1.2322246907687768, -0.3680297493571115, 0.8184385530730466, -1.2782960057055743, -0.003607082617419526, 0.8269922697547579, 1.7478379673018143, -0.8972091198449379, 0.6114756025487191, -0.15721848971159086, -0.4875726168694107, -0.1683700970680314, -0.4470976422645183, -1.0170804253102823, -0.4309430601515828, 1.9897793997817539, -1.1719066305299213, -1.5659023361893578])"
   ]
  },
  {
   "cell_type": "code",
   "execution_count": 41,
   "metadata": {},
   "outputs": [
    {
     "name": "stdout",
     "output_type": "stream",
     "text": [
      "The correlation between x and y is -0.90\n"
     ]
    }
   ],
   "source": [
    "# Import the statsmodels module\n",
    "import statsmodels.api as sm\n",
    "\n",
    "# Compute correlation of x and y\n",
    "correlation = x.corr(y)\n",
    "print(\"The correlation between x and y is %4.2f\" %(correlation))"
   ]
  },
  {
   "cell_type": "code",
   "execution_count": 42,
   "metadata": {},
   "outputs": [
    {
     "data": {
      "text/html": [
       "<div>\n",
       "<style scoped>\n",
       "    .dataframe tbody tr th:only-of-type {\n",
       "        vertical-align: middle;\n",
       "    }\n",
       "\n",
       "    .dataframe tbody tr th {\n",
       "        vertical-align: top;\n",
       "    }\n",
       "\n",
       "    .dataframe thead th {\n",
       "        text-align: right;\n",
       "    }\n",
       "</style>\n",
       "<table border=\"1\" class=\"dataframe\">\n",
       "  <thead>\n",
       "    <tr style=\"text-align: right;\">\n",
       "      <th></th>\n",
       "      <th>x</th>\n",
       "    </tr>\n",
       "  </thead>\n",
       "  <tbody>\n",
       "    <tr>\n",
       "      <th>0</th>\n",
       "      <td>1.281155</td>\n",
       "    </tr>\n",
       "    <tr>\n",
       "      <th>1</th>\n",
       "      <td>-0.612631</td>\n",
       "    </tr>\n",
       "    <tr>\n",
       "      <th>2</th>\n",
       "      <td>0.933222</td>\n",
       "    </tr>\n",
       "    <tr>\n",
       "      <th>3</th>\n",
       "      <td>2.269327</td>\n",
       "    </tr>\n",
       "    <tr>\n",
       "      <th>4</th>\n",
       "      <td>-1.427691</td>\n",
       "    </tr>\n",
       "  </tbody>\n",
       "</table>\n",
       "</div>"
      ],
      "text/plain": [
       "          x\n",
       "0  1.281155\n",
       "1 -0.612631\n",
       "2  0.933222\n",
       "3  2.269327\n",
       "4 -1.427691"
      ]
     },
     "execution_count": 42,
     "metadata": {},
     "output_type": "execute_result"
    }
   ],
   "source": [
    "# Convert the Series x to a DataFrame and name the column x\n",
    "dfx = pd.DataFrame(x, columns=['x'])\n",
    "dfx.head()"
   ]
  },
  {
   "cell_type": "code",
   "execution_count": 43,
   "metadata": {},
   "outputs": [
    {
     "name": "stderr",
     "output_type": "stream",
     "text": [
      "C:\\Anaconda3\\envs\\myenv\\lib\\site-packages\\numpy\\core\\fromnumeric.py:2542: FutureWarning: Method .ptp is deprecated and will be removed in a future version. Use numpy.ptp instead.\n",
      "  return ptp(axis=axis, out=out, **kwargs)\n"
     ]
    },
    {
     "data": {
      "text/html": [
       "<div>\n",
       "<style scoped>\n",
       "    .dataframe tbody tr th:only-of-type {\n",
       "        vertical-align: middle;\n",
       "    }\n",
       "\n",
       "    .dataframe tbody tr th {\n",
       "        vertical-align: top;\n",
       "    }\n",
       "\n",
       "    .dataframe thead th {\n",
       "        text-align: right;\n",
       "    }\n",
       "</style>\n",
       "<table border=\"1\" class=\"dataframe\">\n",
       "  <thead>\n",
       "    <tr style=\"text-align: right;\">\n",
       "      <th></th>\n",
       "      <th>const</th>\n",
       "      <th>x</th>\n",
       "    </tr>\n",
       "  </thead>\n",
       "  <tbody>\n",
       "    <tr>\n",
       "      <th>0</th>\n",
       "      <td>1.0</td>\n",
       "      <td>1.281155</td>\n",
       "    </tr>\n",
       "    <tr>\n",
       "      <th>1</th>\n",
       "      <td>1.0</td>\n",
       "      <td>-0.612631</td>\n",
       "    </tr>\n",
       "    <tr>\n",
       "      <th>2</th>\n",
       "      <td>1.0</td>\n",
       "      <td>0.933222</td>\n",
       "    </tr>\n",
       "    <tr>\n",
       "      <th>3</th>\n",
       "      <td>1.0</td>\n",
       "      <td>2.269327</td>\n",
       "    </tr>\n",
       "    <tr>\n",
       "      <th>4</th>\n",
       "      <td>1.0</td>\n",
       "      <td>-1.427691</td>\n",
       "    </tr>\n",
       "  </tbody>\n",
       "</table>\n",
       "</div>"
      ],
      "text/plain": [
       "   const         x\n",
       "0    1.0  1.281155\n",
       "1    1.0 -0.612631\n",
       "2    1.0  0.933222\n",
       "3    1.0  2.269327\n",
       "4    1.0 -1.427691"
      ]
     },
     "execution_count": 43,
     "metadata": {},
     "output_type": "execute_result"
    }
   ],
   "source": [
    "# Add a constant to the DataFrame dfx\n",
    "dfx1 = sm.add_constant(dfx)\n",
    "dfx1.head()"
   ]
  },
  {
   "cell_type": "code",
   "execution_count": 44,
   "metadata": {},
   "outputs": [
    {
     "name": "stdout",
     "output_type": "stream",
     "text": [
      "                            OLS Regression Results                            \n",
      "==============================================================================\n",
      "Dep. Variable:                      y   R-squared:                       0.818\n",
      "Model:                            OLS   Adj. R-squared:                  0.817\n",
      "Method:                 Least Squares   F-statistic:                     4471.\n",
      "Date:                Wed, 04 Mar 2020   Prob (F-statistic):               0.00\n",
      "Time:                        10:11:29   Log-Likelihood:                -560.10\n",
      "No. Observations:                1000   AIC:                             1124.\n",
      "Df Residuals:                     998   BIC:                             1134.\n",
      "Df Model:                           1                                         \n",
      "Covariance Type:            nonrobust                                         \n",
      "==============================================================================\n",
      "                 coef    std err          t      P>|t|      [0.025      0.975]\n",
      "------------------------------------------------------------------------------\n",
      "const         -0.0052      0.013     -0.391      0.696      -0.032       0.021\n",
      "x             -0.9080      0.014    -66.869      0.000      -0.935      -0.881\n",
      "==============================================================================\n",
      "Omnibus:                        0.048   Durbin-Watson:                   2.066\n",
      "Prob(Omnibus):                  0.976   Jarque-Bera (JB):                0.103\n",
      "Skew:                          -0.003   Prob(JB):                        0.950\n",
      "Kurtosis:                       2.951   Cond. No.                         1.03\n",
      "==============================================================================\n",
      "\n",
      "Warnings:\n",
      "[1] Standard Errors assume that the covariance matrix of the errors is correctly specified.\n"
     ]
    }
   ],
   "source": [
    "# Regress y on dfx1\n",
    "result = sm.OLS(y, dfx1).fit()\n",
    "\n",
    "# Print out the results and look at the relationship between R-squared and the correlation above\n",
    "print(result.summary())"
   ]
  },
  {
   "cell_type": "markdown",
   "metadata": {},
   "source": [
    "### A Popular Strategy Using Autocorrelation\n",
    "One puzzling anomaly with stocks is that investors tend to overreact to news. Following large jumps, either up or down, stock prices tend to reverse. This is described as mean reversion in stock prices: prices tend to bounce back, or revert, towards previous levels after large moves, which are observed over time horizons of about a week. A more mathematical way to describe mean reversion is to say that stock returns are negatively autocorrelated.\n",
    "\n",
    "This simple idea is actually the basis for a popular hedge fund strategy. If you're curious to learn more about this hedge fund strategy (although it's not necessary reading for anything else later in the course), see [here](https://www.quantopian.com/posts/enhancing-short-term-mean-reversion-strategies-1).\n",
    "\n",
    "You'll look at the autocorrelation of weekly returns of MSFT stock from 2012 to 2017. You'll start with a DataFrame MSFT of daily prices. You should use the `.resample()` method to get weekly prices and then compute returns from prices. Use the pandas method `.autocorr()` to get the autocorrelation and show that the autocorrelation is negative. Note that the `.autocorr()` method only works on Series, not DataFrames (even DataFrames with one column), so you will have to select the column in the DataFrame.\n",
    "\n",
    "- Use the `.resample()` method with rule='W' and how='last'to convert daily data to weekly data.\n",
    "    - The argument how in `.resample()` has been deprecated.\n",
    "    - The new syntax `.resample().last()` also works.\n",
    "- Create a new DataFrame, returns, of percent changes in weekly prices using the `.pct_change()` method.\n",
    "- Compute the autocorrelation using the `.autocorr()` method on the series of closing stock prices, which is the column 'Adj Close' in the DataFrame returns."
   ]
  },
  {
   "cell_type": "code",
   "execution_count": 50,
   "metadata": {},
   "outputs": [
    {
     "data": {
      "text/html": [
       "<div>\n",
       "<style scoped>\n",
       "    .dataframe tbody tr th:only-of-type {\n",
       "        vertical-align: middle;\n",
       "    }\n",
       "\n",
       "    .dataframe tbody tr th {\n",
       "        vertical-align: top;\n",
       "    }\n",
       "\n",
       "    .dataframe thead th {\n",
       "        text-align: right;\n",
       "    }\n",
       "</style>\n",
       "<table border=\"1\" class=\"dataframe\">\n",
       "  <thead>\n",
       "    <tr style=\"text-align: right;\">\n",
       "      <th></th>\n",
       "      <th>Adj Close</th>\n",
       "    </tr>\n",
       "    <tr>\n",
       "      <th>Date</th>\n",
       "      <th></th>\n",
       "    </tr>\n",
       "  </thead>\n",
       "  <tbody>\n",
       "    <tr>\n",
       "      <th>2012-08-06</th>\n",
       "      <td>26.107651</td>\n",
       "    </tr>\n",
       "    <tr>\n",
       "      <th>2012-08-07</th>\n",
       "      <td>26.377876</td>\n",
       "    </tr>\n",
       "    <tr>\n",
       "      <th>2012-08-08</th>\n",
       "      <td>26.438896</td>\n",
       "    </tr>\n",
       "    <tr>\n",
       "      <th>2012-08-09</th>\n",
       "      <td>26.587088</td>\n",
       "    </tr>\n",
       "    <tr>\n",
       "      <th>2012-08-10</th>\n",
       "      <td>26.517351</td>\n",
       "    </tr>\n",
       "  </tbody>\n",
       "</table>\n",
       "</div>"
      ],
      "text/plain": [
       "            Adj Close\n",
       "Date                 \n",
       "2012-08-06  26.107651\n",
       "2012-08-07  26.377876\n",
       "2012-08-08  26.438896\n",
       "2012-08-09  26.587088\n",
       "2012-08-10  26.517351"
      ]
     },
     "execution_count": 50,
     "metadata": {},
     "output_type": "execute_result"
    }
   ],
   "source": [
    "MSFT = pd.read_csv(\"Data/MSFT.csv\", index_col='Date', parse_dates=True)\n",
    "MSFT.head()"
   ]
  },
  {
   "cell_type": "code",
   "execution_count": 51,
   "metadata": {},
   "outputs": [
    {
     "name": "stderr",
     "output_type": "stream",
     "text": [
      "C:\\Anaconda3\\envs\\myenv\\lib\\site-packages\\ipykernel_launcher.py:2: FutureWarning: how in .resample() is deprecated\n",
      "the new syntax is .resample(...).last()\n",
      "  \n"
     ]
    },
    {
     "data": {
      "text/html": [
       "<div>\n",
       "<style scoped>\n",
       "    .dataframe tbody tr th:only-of-type {\n",
       "        vertical-align: middle;\n",
       "    }\n",
       "\n",
       "    .dataframe tbody tr th {\n",
       "        vertical-align: top;\n",
       "    }\n",
       "\n",
       "    .dataframe thead th {\n",
       "        text-align: right;\n",
       "    }\n",
       "</style>\n",
       "<table border=\"1\" class=\"dataframe\">\n",
       "  <thead>\n",
       "    <tr style=\"text-align: right;\">\n",
       "      <th></th>\n",
       "      <th>Adj Close</th>\n",
       "    </tr>\n",
       "    <tr>\n",
       "      <th>Date</th>\n",
       "      <th></th>\n",
       "    </tr>\n",
       "  </thead>\n",
       "  <tbody>\n",
       "    <tr>\n",
       "      <th>2012-08-12</th>\n",
       "      <td>26.517351</td>\n",
       "    </tr>\n",
       "    <tr>\n",
       "      <th>2012-08-19</th>\n",
       "      <td>27.114212</td>\n",
       "    </tr>\n",
       "    <tr>\n",
       "      <th>2012-08-26</th>\n",
       "      <td>26.815865</td>\n",
       "    </tr>\n",
       "    <tr>\n",
       "      <th>2012-09-02</th>\n",
       "      <td>27.044012</td>\n",
       "    </tr>\n",
       "    <tr>\n",
       "      <th>2012-09-09</th>\n",
       "      <td>27.158091</td>\n",
       "    </tr>\n",
       "  </tbody>\n",
       "</table>\n",
       "</div>"
      ],
      "text/plain": [
       "            Adj Close\n",
       "Date                 \n",
       "2012-08-12  26.517351\n",
       "2012-08-19  27.114212\n",
       "2012-08-26  26.815865\n",
       "2012-09-02  27.044012\n",
       "2012-09-09  27.158091"
      ]
     },
     "execution_count": 51,
     "metadata": {},
     "output_type": "execute_result"
    }
   ],
   "source": [
    "# Convert the daily data to weekly data\n",
    "MSFT = MSFT.resample(rule='W', how='last')\n",
    "MSFT.head()"
   ]
  },
  {
   "cell_type": "code",
   "execution_count": 52,
   "metadata": {},
   "outputs": [
    {
     "data": {
      "text/html": [
       "<div>\n",
       "<style scoped>\n",
       "    .dataframe tbody tr th:only-of-type {\n",
       "        vertical-align: middle;\n",
       "    }\n",
       "\n",
       "    .dataframe tbody tr th {\n",
       "        vertical-align: top;\n",
       "    }\n",
       "\n",
       "    .dataframe thead th {\n",
       "        text-align: right;\n",
       "    }\n",
       "</style>\n",
       "<table border=\"1\" class=\"dataframe\">\n",
       "  <thead>\n",
       "    <tr style=\"text-align: right;\">\n",
       "      <th></th>\n",
       "      <th>Adj Close</th>\n",
       "    </tr>\n",
       "    <tr>\n",
       "      <th>Date</th>\n",
       "      <th></th>\n",
       "    </tr>\n",
       "  </thead>\n",
       "  <tbody>\n",
       "    <tr>\n",
       "      <th>2012-08-12</th>\n",
       "      <td>NaN</td>\n",
       "    </tr>\n",
       "    <tr>\n",
       "      <th>2012-08-19</th>\n",
       "      <td>0.022508</td>\n",
       "    </tr>\n",
       "    <tr>\n",
       "      <th>2012-08-26</th>\n",
       "      <td>-0.011003</td>\n",
       "    </tr>\n",
       "    <tr>\n",
       "      <th>2012-09-02</th>\n",
       "      <td>0.008508</td>\n",
       "    </tr>\n",
       "    <tr>\n",
       "      <th>2012-09-09</th>\n",
       "      <td>0.004218</td>\n",
       "    </tr>\n",
       "  </tbody>\n",
       "</table>\n",
       "</div>"
      ],
      "text/plain": [
       "            Adj Close\n",
       "Date                 \n",
       "2012-08-12        NaN\n",
       "2012-08-19   0.022508\n",
       "2012-08-26  -0.011003\n",
       "2012-09-02   0.008508\n",
       "2012-09-09   0.004218"
      ]
     },
     "execution_count": 52,
     "metadata": {},
     "output_type": "execute_result"
    }
   ],
   "source": [
    "# Compute the percentage change of prices\n",
    "returns = MSFT.pct_change()\n",
    "returns.head()"
   ]
  },
  {
   "cell_type": "code",
   "execution_count": 61,
   "metadata": {},
   "outputs": [
    {
     "name": "stdout",
     "output_type": "stream",
     "text": [
      "The autocorrelation of weekly returns is -0.16\n"
     ]
    }
   ],
   "source": [
    "# Compute and print the autocorrelation of returns\n",
    "autocorrelation = returns[\"Adj Close\"].autocorr()\n",
    "print(\"The autocorrelation of weekly returns is %4.2f\" %(autocorrelation))"
   ]
  },
  {
   "cell_type": "markdown",
   "metadata": {},
   "source": [
    "* Since the autocorrelation of returns for MSFT is negative, we can conclude that the stock is 'mean reverting'."
   ]
  },
  {
   "cell_type": "markdown",
   "metadata": {},
   "source": [
    "### Are Interest Rates Autocorrelated?\n",
    "\n",
    "When you look at daily changes in interest rates, the autocorrelation is close to zero. However, if you resample the data and look at annual changes, the autocorrelation is negative. This implies that while short term changes in interest rates may be uncorrelated, long term changes in interest rates are negatively autocorrelated. A daily move up or down in interest rates is unlikely to tell you anything about interest rates tomorrow, but a move in interest rates over a year can tell you something about where interest rates are going over the next year. And this makes some economic sense: over long horizons, when interest rates go up, the economy tends to slow down, which consequently causes interest rates to fall, and vice versa.\n",
    "\n",
    "The DataFrame daily_rates contains daily data of 10-year interest rates from 1962 to 2017.\n",
    "\n",
    "- Create a new DataFrame, daily_diff, of changes in daily rates using the `.diff()` method.\n",
    "- Compute the autocorrelation of the column 'US10Y' in daily_diff using the `.autocorr()` method.\n",
    "- Use the `.resample()` method with arguments rule='A' to convert to annual frequency and how='last'.\n",
    "    - The argument how in `.resample()` has been deprecated.\n",
    "    - The new syntax `.resample().last()` also works.\n",
    "- Create a new DataFrame, yearly_diff of changes in annual rates and compute the autocorrelation, as above."
   ]
  },
  {
   "cell_type": "code",
   "execution_count": 66,
   "metadata": {},
   "outputs": [
    {
     "data": {
      "text/html": [
       "<div>\n",
       "<style scoped>\n",
       "    .dataframe tbody tr th:only-of-type {\n",
       "        vertical-align: middle;\n",
       "    }\n",
       "\n",
       "    .dataframe tbody tr th {\n",
       "        vertical-align: top;\n",
       "    }\n",
       "\n",
       "    .dataframe thead th {\n",
       "        text-align: right;\n",
       "    }\n",
       "</style>\n",
       "<table border=\"1\" class=\"dataframe\">\n",
       "  <thead>\n",
       "    <tr style=\"text-align: right;\">\n",
       "      <th></th>\n",
       "      <th>US10Y</th>\n",
       "    </tr>\n",
       "    <tr>\n",
       "      <th>DATE</th>\n",
       "      <th></th>\n",
       "    </tr>\n",
       "  </thead>\n",
       "  <tbody>\n",
       "    <tr>\n",
       "      <th>1962-01-02</th>\n",
       "      <td>4.06</td>\n",
       "    </tr>\n",
       "    <tr>\n",
       "      <th>1962-01-03</th>\n",
       "      <td>4.03</td>\n",
       "    </tr>\n",
       "    <tr>\n",
       "      <th>1962-01-04</th>\n",
       "      <td>3.99</td>\n",
       "    </tr>\n",
       "    <tr>\n",
       "      <th>1962-01-05</th>\n",
       "      <td>4.02</td>\n",
       "    </tr>\n",
       "    <tr>\n",
       "      <th>1962-01-08</th>\n",
       "      <td>4.03</td>\n",
       "    </tr>\n",
       "  </tbody>\n",
       "</table>\n",
       "</div>"
      ],
      "text/plain": [
       "            US10Y\n",
       "DATE             \n",
       "1962-01-02   4.06\n",
       "1962-01-03   4.03\n",
       "1962-01-04   3.99\n",
       "1962-01-05   4.02\n",
       "1962-01-08   4.03"
      ]
     },
     "execution_count": 66,
     "metadata": {},
     "output_type": "execute_result"
    }
   ],
   "source": [
    "daily_rates = pd.read_csv(\"Data/daily_rates.csv\", index_col=0, parse_dates=True)\n",
    "daily_rates.head()"
   ]
  },
  {
   "cell_type": "code",
   "execution_count": 68,
   "metadata": {},
   "outputs": [
    {
     "data": {
      "text/html": [
       "<div>\n",
       "<style scoped>\n",
       "    .dataframe tbody tr th:only-of-type {\n",
       "        vertical-align: middle;\n",
       "    }\n",
       "\n",
       "    .dataframe tbody tr th {\n",
       "        vertical-align: top;\n",
       "    }\n",
       "\n",
       "    .dataframe thead th {\n",
       "        text-align: right;\n",
       "    }\n",
       "</style>\n",
       "<table border=\"1\" class=\"dataframe\">\n",
       "  <thead>\n",
       "    <tr style=\"text-align: right;\">\n",
       "      <th></th>\n",
       "      <th>US10Y</th>\n",
       "    </tr>\n",
       "    <tr>\n",
       "      <th>DATE</th>\n",
       "      <th></th>\n",
       "    </tr>\n",
       "  </thead>\n",
       "  <tbody>\n",
       "    <tr>\n",
       "      <th>1962-01-02</th>\n",
       "      <td>NaN</td>\n",
       "    </tr>\n",
       "    <tr>\n",
       "      <th>1962-01-03</th>\n",
       "      <td>-0.03</td>\n",
       "    </tr>\n",
       "    <tr>\n",
       "      <th>1962-01-04</th>\n",
       "      <td>-0.04</td>\n",
       "    </tr>\n",
       "    <tr>\n",
       "      <th>1962-01-05</th>\n",
       "      <td>0.03</td>\n",
       "    </tr>\n",
       "    <tr>\n",
       "      <th>1962-01-08</th>\n",
       "      <td>0.01</td>\n",
       "    </tr>\n",
       "  </tbody>\n",
       "</table>\n",
       "</div>"
      ],
      "text/plain": [
       "            US10Y\n",
       "DATE             \n",
       "1962-01-02    NaN\n",
       "1962-01-03  -0.03\n",
       "1962-01-04  -0.04\n",
       "1962-01-05   0.03\n",
       "1962-01-08   0.01"
      ]
     },
     "execution_count": 68,
     "metadata": {},
     "output_type": "execute_result"
    }
   ],
   "source": [
    "# Compute the daily change in interest rates \n",
    "daily_diff = daily_rates.diff()\n",
    "daily_diff.head()"
   ]
  },
  {
   "cell_type": "code",
   "execution_count": 70,
   "metadata": {},
   "outputs": [
    {
     "name": "stdout",
     "output_type": "stream",
     "text": [
      "The autocorrelation of daily interest rate changes is 0.07\n"
     ]
    }
   ],
   "source": [
    "# Compute and print the autocorrelation of daily changes\n",
    "autocorrelation_daily = daily_diff[\"US10Y\"].autocorr()\n",
    "print(\"The autocorrelation of daily interest rate changes is %4.2f\" %(autocorrelation_daily))"
   ]
  },
  {
   "cell_type": "code",
   "execution_count": 72,
   "metadata": {},
   "outputs": [
    {
     "data": {
      "text/html": [
       "<div>\n",
       "<style scoped>\n",
       "    .dataframe tbody tr th:only-of-type {\n",
       "        vertical-align: middle;\n",
       "    }\n",
       "\n",
       "    .dataframe tbody tr th {\n",
       "        vertical-align: top;\n",
       "    }\n",
       "\n",
       "    .dataframe thead th {\n",
       "        text-align: right;\n",
       "    }\n",
       "</style>\n",
       "<table border=\"1\" class=\"dataframe\">\n",
       "  <thead>\n",
       "    <tr style=\"text-align: right;\">\n",
       "      <th></th>\n",
       "      <th>US10Y</th>\n",
       "    </tr>\n",
       "    <tr>\n",
       "      <th>DATE</th>\n",
       "      <th></th>\n",
       "    </tr>\n",
       "  </thead>\n",
       "  <tbody>\n",
       "    <tr>\n",
       "      <th>1962-12-31</th>\n",
       "      <td>3.85</td>\n",
       "    </tr>\n",
       "    <tr>\n",
       "      <th>1963-12-31</th>\n",
       "      <td>4.14</td>\n",
       "    </tr>\n",
       "    <tr>\n",
       "      <th>1964-12-31</th>\n",
       "      <td>4.21</td>\n",
       "    </tr>\n",
       "    <tr>\n",
       "      <th>1965-12-31</th>\n",
       "      <td>4.65</td>\n",
       "    </tr>\n",
       "    <tr>\n",
       "      <th>1966-12-31</th>\n",
       "      <td>4.64</td>\n",
       "    </tr>\n",
       "  </tbody>\n",
       "</table>\n",
       "</div>"
      ],
      "text/plain": [
       "            US10Y\n",
       "DATE             \n",
       "1962-12-31   3.85\n",
       "1963-12-31   4.14\n",
       "1964-12-31   4.21\n",
       "1965-12-31   4.65\n",
       "1966-12-31   4.64"
      ]
     },
     "execution_count": 72,
     "metadata": {},
     "output_type": "execute_result"
    }
   ],
   "source": [
    "# Convert the daily data to annual data\n",
    "yearly_rates = daily_rates.resample(rule='A').last()\n",
    "yearly_rates.head()"
   ]
  },
  {
   "cell_type": "code",
   "execution_count": 73,
   "metadata": {},
   "outputs": [
    {
     "data": {
      "text/html": [
       "<div>\n",
       "<style scoped>\n",
       "    .dataframe tbody tr th:only-of-type {\n",
       "        vertical-align: middle;\n",
       "    }\n",
       "\n",
       "    .dataframe tbody tr th {\n",
       "        vertical-align: top;\n",
       "    }\n",
       "\n",
       "    .dataframe thead th {\n",
       "        text-align: right;\n",
       "    }\n",
       "</style>\n",
       "<table border=\"1\" class=\"dataframe\">\n",
       "  <thead>\n",
       "    <tr style=\"text-align: right;\">\n",
       "      <th></th>\n",
       "      <th>US10Y</th>\n",
       "    </tr>\n",
       "    <tr>\n",
       "      <th>DATE</th>\n",
       "      <th></th>\n",
       "    </tr>\n",
       "  </thead>\n",
       "  <tbody>\n",
       "    <tr>\n",
       "      <th>1962-12-31</th>\n",
       "      <td>NaN</td>\n",
       "    </tr>\n",
       "    <tr>\n",
       "      <th>1963-12-31</th>\n",
       "      <td>0.29</td>\n",
       "    </tr>\n",
       "    <tr>\n",
       "      <th>1964-12-31</th>\n",
       "      <td>0.07</td>\n",
       "    </tr>\n",
       "    <tr>\n",
       "      <th>1965-12-31</th>\n",
       "      <td>0.44</td>\n",
       "    </tr>\n",
       "    <tr>\n",
       "      <th>1966-12-31</th>\n",
       "      <td>-0.01</td>\n",
       "    </tr>\n",
       "  </tbody>\n",
       "</table>\n",
       "</div>"
      ],
      "text/plain": [
       "            US10Y\n",
       "DATE             \n",
       "1962-12-31    NaN\n",
       "1963-12-31   0.29\n",
       "1964-12-31   0.07\n",
       "1965-12-31   0.44\n",
       "1966-12-31  -0.01"
      ]
     },
     "execution_count": 73,
     "metadata": {},
     "output_type": "execute_result"
    }
   ],
   "source": [
    "# Repeat above for annual data\n",
    "yearly_diff = yearly_rates.diff()\n",
    "yearly_diff.head()"
   ]
  },
  {
   "cell_type": "code",
   "execution_count": 74,
   "metadata": {},
   "outputs": [
    {
     "name": "stdout",
     "output_type": "stream",
     "text": [
      "The autocorrelation of annual interest rate changes is -0.22\n"
     ]
    }
   ],
   "source": [
    "autocorrelation_yearly = yearly_diff[\"US10Y\"].autocorr()\n",
    "print(\"The autocorrelation of annual interest rate changes is %4.2f\" %(autocorrelation_yearly))"
   ]
  },
  {
   "cell_type": "markdown",
   "metadata": {},
   "source": [
    "* Notice that the difference between daily autocorrelation and annual autocorrelation."
   ]
  },
  {
   "cell_type": "markdown",
   "metadata": {},
   "source": [
    "### Taxing Exercise: Compute the ACF\n",
    "\n",
    "Above, you computed autocorrelations with one lag. Often we are interested in seeing the autocorrelation over many lags. \n",
    "You will compute the array of autocorrelations for the H&R Block quarterly earnings from the DataFrame HRB. Then, plot the autocorrelation function using the plot_acf module. This plot shows what the autocorrelation function looks like for cyclical earnings data. The ACF at lag=0 is always one, of course. In the next exercise, you will learn about the confidence interval for the ACF, but for now, supress the confidence interval by setting alpha=1.\n",
    "\n",
    "- Import the acf module and plot_acf module from statsmodels.\n",
    "- Compute the array of autocorrelations of the quarterly earnings data in DataFrame HRB.\n",
    "- Plot the autocorrelation function of the quarterly earnings data in HRB, and pass the argument alpha=1 to supress the confidence interval."
   ]
  },
  {
   "cell_type": "code",
   "execution_count": 34,
   "metadata": {},
   "outputs": [
    {
     "data": {
      "text/html": [
       "<div>\n",
       "<style scoped>\n",
       "    .dataframe tbody tr th:only-of-type {\n",
       "        vertical-align: middle;\n",
       "    }\n",
       "\n",
       "    .dataframe tbody tr th {\n",
       "        vertical-align: top;\n",
       "    }\n",
       "\n",
       "    .dataframe thead th {\n",
       "        text-align: right;\n",
       "    }\n",
       "</style>\n",
       "<table border=\"1\" class=\"dataframe\">\n",
       "  <thead>\n",
       "    <tr style=\"text-align: right;\">\n",
       "      <th></th>\n",
       "      <th>Earnings</th>\n",
       "    </tr>\n",
       "    <tr>\n",
       "      <th>Quarter</th>\n",
       "      <th></th>\n",
       "    </tr>\n",
       "  </thead>\n",
       "  <tbody>\n",
       "    <tr>\n",
       "      <th>2007-01-01</th>\n",
       "      <td>-0.36</td>\n",
       "    </tr>\n",
       "    <tr>\n",
       "      <th>2007-04-01</th>\n",
       "      <td>-0.38</td>\n",
       "    </tr>\n",
       "    <tr>\n",
       "      <th>2007-07-01</th>\n",
       "      <td>0.07</td>\n",
       "    </tr>\n",
       "    <tr>\n",
       "      <th>2007-10-01</th>\n",
       "      <td>1.85</td>\n",
       "    </tr>\n",
       "    <tr>\n",
       "      <th>2008-01-01</th>\n",
       "      <td>-0.34</td>\n",
       "    </tr>\n",
       "  </tbody>\n",
       "</table>\n",
       "</div>"
      ],
      "text/plain": [
       "            Earnings\n",
       "Quarter             \n",
       "2007-01-01     -0.36\n",
       "2007-04-01     -0.38\n",
       "2007-07-01      0.07\n",
       "2007-10-01      1.85\n",
       "2008-01-01     -0.34"
      ]
     },
     "execution_count": 34,
     "metadata": {},
     "output_type": "execute_result"
    }
   ],
   "source": [
    "HRB = pd.read_csv(\"Data/HRB.csv\", index_col=0, parse_dates=True)\n",
    "HRB.head()"
   ]
  },
  {
   "cell_type": "code",
   "execution_count": 81,
   "metadata": {},
   "outputs": [],
   "source": [
    "# Import the acf module and the plot_acf module from statsmodels\n",
    "from statsmodels.tsa.stattools import acf\n",
    "from statsmodels.graphics.tsaplots import plot_acf"
   ]
  },
  {
   "cell_type": "code",
   "execution_count": 82,
   "metadata": {},
   "outputs": [
    {
     "name": "stdout",
     "output_type": "stream",
     "text": [
      "[ 1.         -0.22122696 -0.39856504 -0.26615093  0.83479804 -0.1901038\n",
      " -0.3475634  -0.23140368  0.71995993 -0.15661007 -0.29766783 -0.22097189\n",
      "  0.61656933 -0.15022869 -0.27922022 -0.22465946  0.5725259  -0.08758288\n",
      " -0.24075584 -0.20363054  0.4797058  -0.06091139 -0.20935484 -0.18303202\n",
      "  0.42481275 -0.03352559 -0.17471087 -0.16384328  0.34341079 -0.01734364\n",
      " -0.13820811 -0.12232172  0.28407164 -0.01927656 -0.11757974 -0.10386933\n",
      "  0.20156485 -0.0120634  -0.07509539 -0.0707104   0.10222029]\n"
     ]
    },
    {
     "name": "stderr",
     "output_type": "stream",
     "text": [
      "C:\\Anaconda3\\envs\\myenv\\lib\\site-packages\\statsmodels\\tsa\\stattools.py:572: FutureWarning: fft=True will become the default in a future version of statsmodels. To suppress this warning, explicitly set fft=False.\n",
      "  FutureWarning\n"
     ]
    }
   ],
   "source": [
    "# Compute the acf array of HRB\n",
    "acf_array = acf(HRB)\n",
    "print(acf_array)"
   ]
  },
  {
   "cell_type": "code",
   "execution_count": 83,
   "metadata": {},
   "outputs": [
    {
     "data": {
      "image/png": "[encoded data removed]",
      "text/plain": [
       "<Figure size 432x288 with 1 Axes>"
      ]
     },
     "metadata": {
      "needs_background": "light"
     },
     "output_type": "display_data"
    }
   ],
   "source": [
    "# Plot the acf function\n",
    "plot_acf(HRB, alpha=1)\n",
    "plt.show()"
   ]
  },
  {
   "cell_type": "markdown",
   "metadata": {},
   "source": [
    "### Are We Confident This Stock is Mean Reverting?\n",
    "\n",
    "Above, You saw that the autocorrelation of MSFT's weekly stock returns was -0.16. That autocorrelation seems large, but is it statistically significant? In other words, can you say that there is less than a 5% chance that we would observe such a large negative autocorrelation if the true autocorrelation were really zero? And are there any autocorrelations at other lags that are significantly different from zero?\n",
    "\n",
    "Even if the true autocorrelations were zero at all lags, in a finite sample of returns you won't see the estimate of the autocorrelations exactly zero. In fact, the standard deviation of the sample autocorrelation is 1/N‾‾√ where N is the number of observations, so if N=100, for example, the standard deviation of the ACF is 0.1, and since 95% of a normal curve is between +1.96 and -1.96 standard deviations from the mean, the 95% confidence interval is ±1.96/N‾‾√. This approximation only holds when the true autocorrelations are all zero.\n",
    "\n",
    "You will compute the actual and approximate confidence interval for the ACF, and compare it to the lag-one autocorrelation of -0.16 from the last chapter. \n",
    "\n",
    "- Recompute the autocorrelation of weekly returns in the Series 'Adj Close' in the returns DataFrame.\n",
    "- Find the number of observations in the returns DataFrame using the `len()` function.\n",
    "- Approximate the 95% confidence interval of the estimated autocorrelation. \n",
    "- Plot the autocorrelation function of returns using plot_acf that was imported from statsmodels. Set alpha=0.05 for the confidence intervals (that's the default) and lags=20."
   ]
  },
  {
   "cell_type": "code",
   "execution_count": 89,
   "metadata": {},
   "outputs": [
    {
     "data": {
      "text/html": [
       "<div>\n",
       "<style scoped>\n",
       "    .dataframe tbody tr th:only-of-type {\n",
       "        vertical-align: middle;\n",
       "    }\n",
       "\n",
       "    .dataframe tbody tr th {\n",
       "        vertical-align: top;\n",
       "    }\n",
       "\n",
       "    .dataframe thead th {\n",
       "        text-align: right;\n",
       "    }\n",
       "</style>\n",
       "<table border=\"1\" class=\"dataframe\">\n",
       "  <thead>\n",
       "    <tr style=\"text-align: right;\">\n",
       "      <th></th>\n",
       "      <th>Adj Close</th>\n",
       "    </tr>\n",
       "    <tr>\n",
       "      <th>Date</th>\n",
       "      <th></th>\n",
       "    </tr>\n",
       "  </thead>\n",
       "  <tbody>\n",
       "    <tr>\n",
       "      <th>2012-08-19</th>\n",
       "      <td>0.022508</td>\n",
       "    </tr>\n",
       "    <tr>\n",
       "      <th>2012-08-26</th>\n",
       "      <td>-0.011003</td>\n",
       "    </tr>\n",
       "    <tr>\n",
       "      <th>2012-09-02</th>\n",
       "      <td>0.008508</td>\n",
       "    </tr>\n",
       "    <tr>\n",
       "      <th>2012-09-09</th>\n",
       "      <td>0.004218</td>\n",
       "    </tr>\n",
       "    <tr>\n",
       "      <th>2012-09-16</th>\n",
       "      <td>0.008400</td>\n",
       "    </tr>\n",
       "  </tbody>\n",
       "</table>\n",
       "</div>"
      ],
      "text/plain": [
       "            Adj Close\n",
       "Date                 \n",
       "2012-08-19   0.022508\n",
       "2012-08-26  -0.011003\n",
       "2012-09-02   0.008508\n",
       "2012-09-09   0.004218\n",
       "2012-09-16   0.008400"
      ]
     },
     "execution_count": 89,
     "metadata": {},
     "output_type": "execute_result"
    }
   ],
   "source": [
    "returns = pd.read_csv(\"Data/returns.csv\", index_col=0, parse_dates=True)\n",
    "returns.head()"
   ]
  },
  {
   "cell_type": "code",
   "execution_count": 91,
   "metadata": {},
   "outputs": [
    {
     "name": "stdout",
     "output_type": "stream",
     "text": [
      "The autocorrelation of weekly MSFT returns is -0.16\n"
     ]
    }
   ],
   "source": [
    "# Import sqrt from math\n",
    "from math import sqrt\n",
    "\n",
    "# Compute and print the autocorrelation of MSFT weekly returns\n",
    "autocorrelation = returns['Adj Close'].autocorr()\n",
    "print(\"The autocorrelation of weekly MSFT returns is %4.2f\" %(autocorrelation))"
   ]
  },
  {
   "cell_type": "code",
   "execution_count": 93,
   "metadata": {},
   "outputs": [
    {
     "data": {
      "text/plain": [
       "260"
      ]
     },
     "execution_count": 93,
     "metadata": {},
     "output_type": "execute_result"
    }
   ],
   "source": [
    "# Find the number of observations by taking the length of the returns DataFrame\n",
    "nobs = len(returns)\n",
    "nobs"
   ]
  },
  {
   "cell_type": "code",
   "execution_count": 94,
   "metadata": {},
   "outputs": [
    {
     "name": "stdout",
     "output_type": "stream",
     "text": [
      "The approximate confidence interval is +/- 0.12\n"
     ]
    }
   ],
   "source": [
    "# Compute the approximate confidence interval\n",
    "conf = 1.96/sqrt(nobs)\n",
    "print(\"The approximate confidence interval is +/- %4.2f\" %(conf))"
   ]
  },
  {
   "cell_type": "code",
   "execution_count": 97,
   "metadata": {},
   "outputs": [
    {
     "data": {
      "image/png": "[encoded data removed]",
      "text/plain": [
       "<Figure size 432x288 with 1 Axes>"
      ]
     },
     "metadata": {
      "needs_background": "light"
     },
     "output_type": "display_data"
    }
   ],
   "source": [
    "# Plot the autocorrelation function with 95% confidence intervals and 20 lags using plot_acf\n",
    "plot_acf(returns, alpha=0.05, lags=20)\n",
    "plt.show()"
   ]
  },
  {
   "cell_type": "markdown",
   "metadata": {},
   "source": [
    "* Notice that the autocorrelation with lag 1 is significantly negative, but none of the other lags are significantly different from zero."
   ]
  },
  {
   "cell_type": "markdown",
   "metadata": {},
   "source": [
    "## White Noise\n",
    "### Can't Forecast White Noise\n",
    "A white noise time series is simply a sequence of uncorrelated random variables that are identically distributed. Stock returns are often modelled as white noise. Unfortunately, for white noise, we cannot forecast future observations based on the past - autocorrelations at all lags are zero.\n",
    "You will generate a white noise series and plot the autocorrelation function to show that it is zero for all lags. You can use `np.random.normal()` to generate random returns. For a Gaussian white noise process, the mean and standard deviation describe the entire process.\n",
    "Plot this white noise series to see what it looks like, and then plot the autocorrelation function.\n",
    "\n",
    "- Generate 1000 random normal returns using `np.random.normal()` with mean 2% (0.02) and standard deviation 5% (0.05), where the argument for the mean is loc and the argument for the standard deviation is scale.\n",
    "- Plot the time series.\n",
    "- Verify the mean and standard deviation of returns using `np.mean()` and `np.std()`.\n",
    "- Plot the autocorrelation function using `plot_acf` with lags=20.\n"
   ]
  },
  {
   "cell_type": "code",
   "execution_count": 101,
   "metadata": {},
   "outputs": [
    {
     "name": "stdout",
     "output_type": "stream",
     "text": [
      "The mean is 0.021 and the standard deviation is 0.049\n"
     ]
    }
   ],
   "source": [
    "import numpy as np\n",
    "\n",
    "# Simulate wite noise returns\n",
    "returns = np.random.normal(loc=0.02, scale=0.05, size=1000)\n",
    "\n",
    "# Print out the mean and standard deviation of returns\n",
    "mean = np.mean(returns)\n",
    "std = np.std(returns)\n",
    "print(\"The mean is %5.3f and the standard deviation is %5.3f\" %(mean,std))"
   ]
  },
  {
   "cell_type": "code",
   "execution_count": 102,
   "metadata": {},
   "outputs": [
    {
     "data": {
      "image/png": "[encoded data removed]",
      "text/plain": [
       "<Figure size 432x288 with 1 Axes>"
      ]
     },
     "metadata": {
      "needs_background": "light"
     },
     "output_type": "display_data"
    }
   ],
   "source": [
    "# Plot returns series\n",
    "plt.plot(returns)\n",
    "plt.show()"
   ]
  },
  {
   "cell_type": "code",
   "execution_count": 103,
   "metadata": {},
   "outputs": [
    {
     "data": {
      "image/png": "[encoded data removed]",
      "text/plain": [
       "<Figure size 432x288 with 1 Axes>"
      ]
     },
     "metadata": {
      "needs_background": "light"
     },
     "output_type": "display_data"
    }
   ],
   "source": [
    "# Plot autocorrelation function of white noise returns\n",
    "plot_acf(returns, lags=20)\n",
    "plt.show()"
   ]
  },
  {
   "cell_type": "markdown",
   "metadata": {},
   "source": [
    "* Notice that for a white noise time series, all the autocorrelations are close to zero, so the past will not help you forecast the future."
   ]
  },
  {
   "cell_type": "markdown",
   "metadata": {},
   "source": [
    "### Generate a Random Walk\n",
    "\n",
    "Whereas stock returns are often modelled as white noise, stock prices closely follow a random walk. In other words, today's price is yesterday's price plus some random noise.\n",
    "You will simulate the price of a stock over time that has a starting price of 100 and every day goes up or down by a random amount. Then, plot the simulated stock price. \n",
    "\n",
    "- Generate 500 random normal \"steps\" with mean=0 and standard deviation=1 using `np.random.normal()`, where the argument for the mean is loc and the argument for the standard deviation is scale.\n",
    "- Simulate stock prices P:\n",
    "    - Cumulate the random steps using the numpy `.cumsum()` method\n",
    "    - Add 100 to P to get a starting stock price of 100.\n",
    "- Plot the simulated random walk"
   ]
  },
  {
   "cell_type": "code",
   "execution_count": 12,
   "metadata": {},
   "outputs": [
    {
     "data": {
      "text/plain": [
       "array([ 2.19744474e+00,  1.33464628e+00,  1.19306107e-01,  4.25167192e-01,\n",
       "        1.20444772e+00, -3.58459433e-01, -3.26822962e-02,  7.25882969e-01,\n",
       "        8.49573025e-01, -3.41696134e-01, -4.51145039e-01,  8.31874532e-01,\n",
       "       -9.45797417e-01, -5.22405059e-01, -3.22308617e-01, -2.29262428e-01,\n",
       "       -6.48720000e-01, -5.07783484e-01, -1.55122864e-02, -1.18312938e-01,\n",
       "       -8.94615607e-01,  3.63182347e-02,  2.10478403e-01,  1.48682986e+00,\n",
       "        1.65972329e+00,  5.66350993e-01,  1.80401493e+00,  1.65553628e+00,\n",
       "       -1.06488475e+00, -1.78228617e+00, -1.34102716e+00,  2.18953552e-01,\n",
       "       -1.92435115e+00, -2.26334653e-01, -3.20433014e-01, -5.46284350e-01,\n",
       "       -1.32656697e+00, -1.03782151e+00, -9.07270973e-01, -7.08313449e-01,\n",
       "        4.51641355e-01, -8.56740872e-01, -3.46959966e-01, -4.05126057e-01,\n",
       "        1.87432748e+00, -1.00507365e+00, -9.97309367e-02,  4.82057997e-01,\n",
       "       -7.94335944e-01,  1.30570256e+00, -6.24204731e-02, -1.45154020e+00,\n",
       "        1.34538022e-01,  5.29664093e-01,  5.54588065e-01,  6.73462823e-01,\n",
       "       -1.07456077e+00,  3.73450561e-01, -4.49435066e-01,  1.34901440e+00,\n",
       "       -2.09435010e-02, -8.02913359e-01,  2.80866864e+00, -2.74530558e+00,\n",
       "       -4.79286125e-01, -4.62589871e-01,  1.32236220e+00, -1.42069142e+00,\n",
       "        8.02156686e-01, -7.84987615e-01,  3.08133723e-01, -1.40513379e+00,\n",
       "        1.17860840e+00, -1.58925616e-01,  3.41873403e-02, -2.84284287e-01,\n",
       "        9.50066013e-02, -1.99126126e-01, -1.83905014e+00, -2.65866409e-01,\n",
       "       -7.86675030e-01, -7.91356992e-01, -1.66430695e+00,  2.17541013e+00,\n",
       "       -3.79837281e-01,  8.40654785e-01, -6.31744312e-01,  2.74924888e-02,\n",
       "       -3.39754157e-02, -7.61167726e-01, -9.51308514e-02,  6.36547715e-01,\n",
       "        8.04948600e-02,  6.95071521e-01,  3.67186073e-01, -7.45293646e-01,\n",
       "       -4.25705165e-01, -1.23333826e+00, -1.55272331e+00, -7.82300788e-01,\n",
       "       -1.30182849e+00, -1.81927974e+00, -2.38706821e+00, -4.76102206e-02,\n",
       "       -1.75866897e+00,  1.65019560e+00, -1.46116044e+00,  2.73742902e-01,\n",
       "       -9.92905086e-01,  2.51999587e-01,  3.62442432e-01, -1.58653692e+00,\n",
       "        1.46389605e+00,  1.54248561e+00, -6.04788931e-01, -1.60375224e-01,\n",
       "       -1.07186801e+00,  9.26158484e-01,  1.51907998e-01,  1.22266282e+00,\n",
       "       -6.72411652e-01,  4.58833840e-01, -2.46846317e+00, -3.57057056e-01,\n",
       "        3.70878058e-03, -9.89514774e-01, -3.22691886e-01, -4.87859613e-01,\n",
       "        1.88493715e-01, -1.03010182e+00,  3.60257875e-01,  3.60272447e-01,\n",
       "        1.34281754e+00,  1.22795853e+00, -3.65458571e-01, -2.31273616e-01,\n",
       "        8.43674938e-01, -3.07090630e-01,  6.86475061e-01, -7.22917986e-01,\n",
       "       -2.17613348e-01,  5.45254052e-01,  5.85329841e-01, -8.52025021e-01,\n",
       "        6.06433451e-01,  1.18128873e+00, -2.22542623e+00,  1.48113738e+00,\n",
       "       -3.05681796e-01, -4.88472514e-01, -7.88451785e-01, -1.81629843e+00,\n",
       "        1.71800548e-01,  1.03251603e-01, -1.06967367e+00, -6.44596071e-01,\n",
       "       -5.51003509e-01,  3.24737609e-01, -9.36462206e-01, -7.14925836e-01,\n",
       "        8.16494594e-01,  8.87429469e-01, -7.42332923e-01, -1.26556616e-01,\n",
       "        5.56155198e-02,  2.24052186e-01,  1.71136033e+00,  6.47953510e-01,\n",
       "       -8.57563701e-01,  1.28628476e+00,  1.15293018e+00, -1.88905163e-01,\n",
       "        9.68578076e-01, -1.76838169e+00, -5.74061314e-01,  1.51475332e+00,\n",
       "        1.81385486e+00, -7.01405555e-01, -8.10676493e-01,  6.86239541e-01,\n",
       "       -1.72418197e+00, -5.69907206e-01,  9.01801183e-01, -1.03193384e+00,\n",
       "       -6.97765442e-01,  2.93034871e-01, -9.78447021e-01, -8.83684736e-02,\n",
       "       -2.22061294e+00, -1.76415217e-01,  6.31016024e-01,  1.64918374e+00,\n",
       "       -1.80910177e-01,  3.31534350e-01,  1.02613204e+00, -9.11800200e-01,\n",
       "       -2.11900588e+00,  1.18953205e+00, -4.07129235e-01,  2.24689738e-01,\n",
       "        1.09951873e-01, -1.12716285e+00, -1.73835061e+00,  1.17523085e-02,\n",
       "        6.80783752e-01, -2.14756585e+00,  1.97511635e+00,  6.37530560e-01,\n",
       "       -1.66055106e+00, -7.56073601e-01,  8.89130754e-01,  1.08952254e-01,\n",
       "       -7.31491251e-02,  1.00974911e+00,  3.48167473e-01, -1.13394022e+00,\n",
       "       -4.74250319e-01,  1.55841895e+00,  1.35700623e+00, -2.19349678e-01,\n",
       "       -6.03829307e-01, -3.91926784e-01,  4.14547194e-01, -2.19736051e-01,\n",
       "        6.40443502e-01,  6.19222708e-02, -2.53947817e+00, -1.04964823e+00,\n",
       "       -1.02080841e-01, -1.66404630e-01,  5.78633972e-01,  9.24628265e-01,\n",
       "        8.11637069e-01, -5.21221526e-01,  1.77294764e+00, -1.45733157e+00,\n",
       "       -8.23831906e-01,  6.65007950e-01,  1.74857061e+00,  5.27659749e-01,\n",
       "        1.26470772e-01, -8.97772744e-01,  1.77985266e-01, -8.17942641e-01,\n",
       "        8.56340069e-01, -2.19958109e-01, -2.14891766e-01,  8.43241251e-01,\n",
       "        6.97481619e-01,  1.00610950e+00,  1.08924933e+00,  4.68202597e-01,\n",
       "        5.10508867e-01,  1.19928756e+00,  6.29156827e-01,  1.15145920e-01,\n",
       "        1.08048398e+00,  6.38763180e-01, -9.95136256e-04,  6.55384863e-01,\n",
       "        3.83247607e-01, -5.39545920e-01,  1.63066027e-01, -2.82352953e-01,\n",
       "       -3.54488179e-01,  8.12342485e-01, -1.31007203e+00, -1.26708340e+00,\n",
       "       -1.16612224e-01, -3.78802487e-01,  8.87982884e-01, -1.36172204e+00,\n",
       "        2.34498716e+00, -3.99186986e-01,  2.18026580e+00, -1.10825896e+00,\n",
       "        1.35538948e+00,  2.63251272e-01, -1.42377213e+00, -1.68364163e+00,\n",
       "        4.48953075e-01,  1.32349486e+00, -1.27710075e+00,  1.16941884e+00,\n",
       "       -1.24723662e+00, -6.65452509e-01, -5.33569735e-01, -1.04872357e-01,\n",
       "       -7.26411731e-01,  1.00863531e+00,  5.13998876e-01, -8.71116905e-01,\n",
       "        6.41814352e-02,  1.13454373e+00,  4.28266369e-02, -2.32365317e-01,\n",
       "       -2.02236781e+00, -4.72215609e-01, -7.05264990e-01, -9.74384788e-01,\n",
       "       -4.18901484e-01,  1.40343634e+00, -1.79041536e-01, -1.87510926e+00,\n",
       "       -6.37754529e-01,  1.30410179e+00, -8.92068473e-01,  1.06323889e+00,\n",
       "        3.78766104e-01,  1.50012379e+00,  1.21409270e-01, -4.09587961e-01,\n",
       "        4.36828415e-01,  1.05426202e-01, -1.27043221e+00, -1.14545536e+00,\n",
       "       -7.20922681e-01, -4.44977249e-01,  2.19468153e+00,  8.82287272e-01,\n",
       "       -1.71483018e+00, -1.92591665e-01,  8.40879205e-01, -1.81633042e-01,\n",
       "       -3.03307908e-02, -4.48552758e-01, -2.86358966e-01,  1.26765299e+00,\n",
       "       -3.82145984e-01, -3.48874878e-01,  6.44627609e-01, -3.68190641e-01,\n",
       "       -1.38440815e+00,  3.27315556e-01,  7.52037519e-01,  6.30461860e-01,\n",
       "        3.46071490e-01, -3.09771914e-01, -1.48574230e+00, -1.26534920e+00,\n",
       "        1.20987500e+00, -2.12253462e-01, -8.87538624e-01,  4.94305925e-01,\n",
       "       -2.78467331e-01, -5.54847115e-01,  1.99942542e-01, -5.17015127e-01,\n",
       "        1.28170743e-01, -9.40962907e-01, -2.68758180e-01, -9.07823610e-01,\n",
       "        1.73332513e-01, -5.18360885e-01, -2.08018089e+00,  4.82525617e-01,\n",
       "        4.71841304e-02,  6.61046327e-01,  4.83603915e-02, -4.78600283e-01,\n",
       "        3.29322512e-01,  4.74451221e-01,  9.34932795e-01,  6.51749151e-01,\n",
       "        3.55392667e-02,  1.68670057e+00,  1.95446931e+00,  4.91684895e-01,\n",
       "       -9.59755114e-01,  4.35585637e-01,  3.45564453e-01,  3.68428367e-02,\n",
       "       -3.25320994e-01,  7.39799152e-01,  1.96220088e-01,  6.47326153e-01,\n",
       "        4.41392477e-01, -1.85066731e-01,  6.63226209e-01,  1.45117969e+00,\n",
       "        9.60766550e-01, -2.55459101e+00, -9.90757279e-01,  4.05885848e-01,\n",
       "       -6.09790997e-02,  1.56326871e+00, -3.26420042e-01,  4.57911341e-01,\n",
       "        1.29787011e+00,  1.44888662e+00,  1.73481338e+00, -1.53632867e-01,\n",
       "        2.84792430e-01, -1.00498173e+00, -2.05270739e-02,  1.48992561e+00,\n",
       "       -7.79399977e-01,  1.21428725e+00,  2.63122312e-01, -7.00452774e-01,\n",
       "        1.42573215e+00,  8.87764754e-01, -1.48287305e-01,  1.31628200e+00,\n",
       "        1.29306882e+00, -1.80723944e-01, -9.73651432e-01, -1.52585524e-01,\n",
       "       -3.23834149e-01, -1.03502295e+00,  1.26400702e+00, -5.31125880e-01,\n",
       "       -3.97834698e-01,  1.01968767e+00,  1.77248478e+00,  1.05014775e+00,\n",
       "        1.09950713e-01, -1.47271330e+00, -5.36747115e-01, -1.34387208e+00,\n",
       "       -1.87189635e-01, -1.15143637e+00,  3.22952209e-01,  2.52068456e-01,\n",
       "        1.95564148e-01,  1.46024705e-01,  6.13723714e-01,  5.24575813e-01,\n",
       "        4.67521547e-01,  1.13099621e+00,  5.12724058e-01,  1.19664422e+00,\n",
       "       -4.23833579e-01, -1.03776989e+00,  6.82081881e-01, -2.16330153e+00,\n",
       "        8.51889740e-02, -1.94515957e+00, -1.72001068e+00, -6.94188447e-02,\n",
       "        1.18555758e+00,  5.62485333e-01,  1.56384508e+00,  6.99678719e-03,\n",
       "       -1.29345576e+00,  1.81281588e+00,  7.99145528e-01,  2.48901836e-01,\n",
       "       -1.47710433e+00,  1.31552391e-01,  5.13865181e-01,  9.73448699e-01,\n",
       "       -1.67943093e+00, -1.21507474e+00,  1.80761676e-01,  6.08128210e-02,\n",
       "        5.98348339e-02, -3.70976118e-01,  5.75138117e-01, -2.33074882e-01,\n",
       "        1.21784086e+00,  4.12679298e-01,  7.62854437e-01, -1.68712343e+00,\n",
       "       -9.81749513e-02,  7.55927471e-02, -5.77541598e-03,  3.58004808e-01,\n",
       "       -7.14171675e-01, -2.12542705e-01,  2.59391889e-01, -8.81051447e-01,\n",
       "        2.77144110e+00,  9.58723179e-01, -1.01337068e+00,  9.19241773e-02,\n",
       "        1.71309723e+00,  4.17725550e-01,  2.60095456e-01,  2.30175672e-02,\n",
       "       -1.65461019e+00, -6.85008572e-01,  4.84713261e-01, -6.24678392e-01,\n",
       "       -7.35600319e-01,  5.53487047e-01,  1.94850244e+00,  1.77888072e+00,\n",
       "        2.00019025e+00,  8.62409152e-01, -1.53245306e+00,  1.23463079e-01,\n",
       "        2.85694279e+00,  7.29771986e-02, -4.41286592e-01,  9.55050700e-02,\n",
       "        6.60452055e-01, -1.72656252e-01, -1.32198382e+00, -2.06167846e-01])"
      ]
     },
     "execution_count": 12,
     "metadata": {},
     "output_type": "execute_result"
    }
   ],
   "source": [
    "import numpy as np\n",
    "# Generate 500 random steps with mean=0 and standard deviation=1\n",
    "steps = np.random.normal(loc=0, scale=1, size=500)\n",
    "steps"
   ]
  },
  {
   "cell_type": "code",
   "execution_count": 13,
   "metadata": {},
   "outputs": [
    {
     "data": {
      "text/plain": [
       "array([100.        , 101.33464628, 101.45395238, 101.87911958,\n",
       "       103.08356729, 102.72510786, 102.69242556, 103.41830853,\n",
       "       104.26788156, 103.92618542, 103.47504039, 104.30691492,\n",
       "       103.3611175 , 102.83871244, 102.51640382, 102.2871414 ,\n",
       "       101.6384214 , 101.13063791, 101.11512563, 100.99681269,\n",
       "       100.10219708, 100.13851532, 100.34899372, 101.83582358,\n",
       "       103.49554686, 104.06189786, 105.86591278, 107.52144906,\n",
       "       106.4565643 , 104.67427813, 103.33325097, 103.55220452,\n",
       "       101.62785337, 101.40151872, 101.08108571, 100.53480136,\n",
       "        99.20823439,  98.17041287,  97.2631419 ,  96.55482845,\n",
       "        97.00646981,  96.14972893,  95.80276897,  95.39764291,\n",
       "        97.27197039,  96.26689674,  96.16716581,  96.6492238 ,\n",
       "        95.85488786,  97.16059042,  97.09816995,  95.64662975,\n",
       "        95.78116777,  96.31083186,  96.86541993,  97.53888275,\n",
       "        96.46432198,  96.83777254,  96.38833747,  97.73735187,\n",
       "        97.71640837,  96.91349501,  99.72216366,  96.97685808,\n",
       "        96.49757195,  96.03498208,  97.35734428,  95.93665287,\n",
       "        96.73880955,  95.95382194,  96.26195566,  94.85682187,\n",
       "        96.03543027,  95.87650465,  95.91069199,  95.62640771,\n",
       "        95.72141431,  95.52228818,  93.68323804,  93.41737163,\n",
       "        92.6306966 ,  91.83933961,  90.17503266,  92.35044279,\n",
       "        91.97060551,  92.81126029,  92.17951598,  92.20700847,\n",
       "        92.17303305,  91.41186533,  91.31673447,  91.95328219,\n",
       "        92.03377705,  92.72884857,  93.09603464,  92.350741  ,\n",
       "        91.92503583,  90.69169757,  89.13897426,  88.35667347,\n",
       "        87.05484498,  85.23556523,  82.84849702,  82.8008868 ,\n",
       "        81.04221782,  82.69241342,  81.23125298,  81.50499589,\n",
       "        80.5120908 ,  80.76409039,  81.12653282,  79.5399959 ,\n",
       "        81.00389194,  82.54637756,  81.94158863,  81.7812134 ,\n",
       "        80.70934539,  81.63550387,  81.78741187,  83.01007469,\n",
       "        82.33766304,  82.79649688,  80.3280337 ,  79.97097665,\n",
       "        79.97468543,  78.98517065,  78.66247877,  78.17461916,\n",
       "        78.36311287,  77.33301105,  77.69326892,  78.05354137,\n",
       "        79.39635891,  80.62431744,  80.25885887,  80.02758526,\n",
       "        80.87126019,  80.56416956,  81.25064463,  80.52772664,\n",
       "        80.31011329,  80.85536734,  81.44069719,  80.58867216,\n",
       "        81.19510562,  82.37639435,  80.15096812,  81.6321055 ,\n",
       "        81.3264237 ,  80.83795119,  80.0494994 ,  78.23320097,\n",
       "        78.40500152,  78.50825312,  77.43857945,  76.79398338,\n",
       "        76.24297987,  76.56771748,  75.63125527,  74.91632944,\n",
       "        75.73282403,  76.6202535 ,  75.87792058,  75.75136396,\n",
       "        75.80697948,  76.03103167,  77.742392  ,  78.39034551,\n",
       "        77.53278181,  78.81906657,  79.97199675,  79.78309158,\n",
       "        80.75166966,  78.98328797,  78.40922666,  79.92397998,\n",
       "        81.73783484,  81.03642928,  80.22575279,  80.91199233,\n",
       "        79.18781036,  78.61790316,  79.51970434,  78.4877705 ,\n",
       "        77.79000505,  78.08303993,  77.10459291,  77.01622443,\n",
       "        74.79561149,  74.61919628,  75.2502123 ,  76.89939604,\n",
       "        76.71848586,  77.05002021,  78.07615225,  77.16435205,\n",
       "        75.04534617,  76.23487822,  75.82774899,  76.05243872,\n",
       "        76.1623906 ,  75.03522774,  73.29687713,  73.30862944,\n",
       "        73.98941319,  71.84184734,  73.81696369,  74.45449425,\n",
       "        72.7939432 ,  72.03786959,  72.92700035,  73.0359526 ,\n",
       "        72.96280348,  73.97255259,  74.32072006,  73.18677984,\n",
       "        72.71252952,  74.27094847,  75.6279547 ,  75.40860502,\n",
       "        74.80477571,  74.41284893,  74.82739612,  74.60766007,\n",
       "        75.24810357,  75.31002584,  72.77054767,  71.72089944,\n",
       "        71.6188186 ,  71.45241397,  72.03104794,  72.95567621,\n",
       "        73.76731327,  73.24609175,  75.01903939,  73.56170783,\n",
       "        72.73787592,  73.40288387,  75.15145448,  75.67911422,\n",
       "        75.805585  ,  74.90781225,  75.08579752,  74.26785488,\n",
       "        75.12419495,  74.90423684,  74.68934507,  75.53258632,\n",
       "        76.23006794,  77.23617744,  78.32542677,  78.79362937,\n",
       "        79.30413824,  80.5034258 ,  81.13258263,  81.24772855,\n",
       "        82.32821253,  82.96697571,  82.96598057,  83.62136543,\n",
       "        84.00461304,  83.46506712,  83.62813315,  83.34578019,\n",
       "        82.99129201,  83.8036345 ,  82.49356247,  81.22647907,\n",
       "        81.10986685,  80.73106436,  81.61904724,  80.25732521,\n",
       "        82.60231236,  82.20312538,  84.38339118,  83.27513222,\n",
       "        84.6305217 ,  84.89377297,  83.47000084,  81.78635921,\n",
       "        82.23531228,  83.55880714,  82.2817064 ,  83.45112523,\n",
       "        82.20388861,  81.5384361 ,  81.00486637,  80.89999401,\n",
       "        80.17358228,  81.18221759,  81.69621646,  80.82509956,\n",
       "        80.88928099,  82.02382473,  82.06665136,  81.83428605,\n",
       "        79.81191824,  79.33970263,  78.63443764,  77.66005285,\n",
       "        77.24115137,  78.64458771,  78.46554618,  76.59043691,\n",
       "        75.95268238,  77.25678417,  76.3647157 ,  77.42795459,\n",
       "        77.80672069,  79.30684448,  79.42825375,  79.01866579,\n",
       "        79.45549421,  79.56092041,  78.2904882 ,  77.14503284,\n",
       "        76.42411016,  75.97913291,  78.17381444,  79.05610171,\n",
       "        77.34127154,  77.14867987,  77.98955908,  77.80792604,\n",
       "        77.77759524,  77.32904249,  77.04268352,  78.31033651,\n",
       "        77.92819053,  77.57931565,  78.22394326,  77.85575262,\n",
       "        76.47134446,  76.79866002,  77.55069754,  78.1811594 ,\n",
       "        78.52723089,  78.21745897,  76.73171668,  75.46636748,\n",
       "        76.67624248,  76.46398902,  75.5764504 ,  76.07075632,\n",
       "        75.79228899,  75.23744187,  75.43738442,  74.92036929,\n",
       "        75.04854003,  74.10757713,  73.83881895,  72.93099534,\n",
       "        73.10432785,  72.58596696,  70.50578607,  70.98831169,\n",
       "        71.03549582,  71.69654215,  71.74490254,  71.26630226,\n",
       "        71.59562477,  72.07007599,  73.00500878,  73.65675794,\n",
       "        73.6922972 ,  75.37899778,  77.33346708,  77.82515198,\n",
       "        76.86539686,  77.3009825 ,  77.64654695,  77.68338979,\n",
       "        77.3580688 ,  78.09786795,  78.29408804,  78.94141419,\n",
       "        79.38280667,  79.19773993,  79.86096614,  81.31214583,\n",
       "        82.27291238,  79.71832137,  78.72756409,  79.13344994,\n",
       "        79.07247084,  80.63573955,  80.3093195 ,  80.76723084,\n",
       "        82.06510096,  83.51398758,  85.24880096,  85.09516809,\n",
       "        85.37996052,  84.37497879,  84.35445172,  85.84437733,\n",
       "        85.06497736,  86.2792646 ,  86.54238691,  85.84193414,\n",
       "        87.26766629,  88.15543104,  88.00714374,  89.32342574,\n",
       "        90.61649455,  90.43577061,  89.46211918,  89.30953365,\n",
       "        88.9856995 ,  87.95067655,  89.21468357,  88.68355769,\n",
       "        88.28572299,  89.30541066,  91.07789544,  92.12804319,\n",
       "        92.2379939 ,  90.7652806 ,  90.22853349,  88.88466141,\n",
       "        88.69747178,  87.5460354 ,  87.86898761,  88.12105607,\n",
       "        88.31662022,  88.46264492,  89.07636864,  89.60094445,\n",
       "        90.068466  ,  91.1994622 ,  91.71218626,  92.90883048,\n",
       "        92.4849969 ,  91.44722701,  92.12930889,  89.96600736,\n",
       "        90.05119633,  88.10603676,  86.38602608,  86.31660723,\n",
       "        87.50216481,  88.06465014,  89.62849523,  89.63549201,\n",
       "        88.34203625,  90.15485213,  90.95399765,  91.20289949,\n",
       "        89.72579516,  89.85734755,  90.37121273,  91.34466143,\n",
       "        89.6652305 ,  88.45015576,  88.63091744,  88.69173026,\n",
       "        88.75156509,  88.38058897,  88.95572709,  88.72265221,\n",
       "        89.94049307,  90.35317236,  91.1160268 ,  89.42890337,\n",
       "        89.33072842,  89.40632116,  89.40054575,  89.75855056,\n",
       "        89.04437888,  88.83183618,  89.09122807,  88.21017662,\n",
       "        90.98161772,  91.9403409 ,  90.92697022,  91.0188944 ,\n",
       "        92.73199163,  93.14971718,  93.40981263,  93.4328302 ,\n",
       "        91.77822001,  91.09321144,  91.5779247 ,  90.9532463 ,\n",
       "        90.21764599,  90.77113303,  92.71963547,  94.49851619,\n",
       "        96.49870644,  97.36111559,  95.82866253,  95.95212561,\n",
       "        98.8090684 ,  98.8820456 ,  98.44075901,  98.53626408,\n",
       "        99.19671613,  99.02405988,  97.70207606,  97.49590821])"
      ]
     },
     "execution_count": 13,
     "metadata": {},
     "output_type": "execute_result"
    }
   ],
   "source": [
    "# Set first element to 0 so that the first price will be the starting stock price\n",
    "steps[0]=0\n",
    "\n",
    "# Simulate stock prices, P with a starting price of 100\n",
    "P = 100 + np.cumsum(steps)\n",
    "P"
   ]
  },
  {
   "cell_type": "code",
   "execution_count": 14,
   "metadata": {},
   "outputs": [
    {
     "data": {
      "image/png": "[encoded data removed]",
      "text/plain": [
       "<Figure size 432x288 with 1 Axes>"
      ]
     },
     "metadata": {
      "needs_background": "light"
     },
     "output_type": "display_data"
    }
   ],
   "source": [
    "# Plot the simulated stock prices\n",
    "plt.plot(P)\n",
    "plt.title(\"Simulated Random Walk\")\n",
    "plt.show()"
   ]
  },
  {
   "cell_type": "markdown",
   "metadata": {},
   "source": [
    "### Get the Drift\n",
    "\n",
    "In the last exercise, you simulated stock prices that follow a random walk. You will extend this in two ways in this exercise.\n",
    "You will look at a random walk with a drift. Many time series, like stock prices, are random walks but tend to drift up over time.\n",
    "In the last exercise, the noise in the random walk was additive: random, normal changes in price were added to the last price. However, when adding noise, you could theoretically get negative prices. Now you will make the noise multiplicative: you will add one to the random, normal changes to get a total return, and multiply that by the last price.\n",
    "\n",
    "\n",
    "- Generate 500 random normal multiplicative \"steps\" with mean 0.1% and standard deviation 1% using `np.random.normal()`, which are now returns, and add one for total return.\n",
    "- Simulate stock prices P:\n",
    "    - Cumulate the product of the steps using the `numpy .cumprod()` method.\n",
    "    - Multiply the cumulative product of total returns by 100 to get a starting value of 100.\n",
    "- Plot the simulated random walk with drift."
   ]
  },
  {
   "cell_type": "code",
   "execution_count": 16,
   "metadata": {},
   "outputs": [
    {
     "data": {
      "text/plain": [
       "array([0.98124345, 0.98899898, 0.99569644, 0.99494872, 0.9883835 ,\n",
       "       0.99850044, 0.99275678, 0.99360366, 1.00993288, 1.00624667,\n",
       "       1.00376053, 0.99380896, 0.99458346, 1.00070292, 0.99583136,\n",
       "       1.00043715, 0.99610527, 1.01481456, 1.00240388, 1.0066158 ,\n",
       "       0.99489013, 0.98416609, 0.99693353, 0.99374267, 0.98618914,\n",
       "       0.99313158, 1.00054232, 0.99994876, 1.0155029 , 0.98684101,\n",
       "       1.01605068, 1.01048743, 0.99902194, 0.98656836, 0.99680468,\n",
       "       1.01267776, 1.00148038, 1.01981544, 0.99581585, 0.99839041,\n",
       "       1.0149825 , 1.00473822, 0.98589673, 1.00214341, 0.99746279,\n",
       "       1.00637258, 0.99451499, 0.98954061, 0.99917367, 1.00524146,\n",
       "       1.00352822, 0.99920919, 1.00523768, 1.00301766, 0.9995876 ,\n",
       "       1.00203612, 0.98593794, 1.00746847, 1.01429083, 1.00769628,\n",
       "       0.99177822, 0.9999588 , 0.98514164, 1.01334234, 1.0066942 ,\n",
       "       1.00886117, 1.01741837, 0.99648376, 0.97884092, 0.99307568,\n",
       "       0.97527894, 1.01378878, 0.9979706 , 1.00275078, 0.9922335 ,\n",
       "       1.00442574, 0.99334451, 0.9942285 , 0.99686227, 1.00437161,\n",
       "       1.01828447, 1.00845197, 0.98390797, 1.00224753, 0.99772954,\n",
       "       1.00064813, 0.99326515, 1.01031678, 0.99808112, 0.99967137,\n",
       "       0.9905699 , 1.00402612, 1.00858093, 1.00894487, 1.01212414,\n",
       "       0.99882953, 0.99926714, 1.01251698, 1.01398191, 1.01319516,\n",
       "       0.99572485, 0.99868882, 1.02276323, 1.00112374, 1.01072734,\n",
       "       1.00431347, 1.00677454, 1.00170544, 0.9819066 , 0.99925005,\n",
       "       1.00243977, 1.0082265 , 1.0087754 , 0.98909374, 1.00459271,\n",
       "       0.98367254, 0.99299844, 1.00368723, 1.00946886, 1.01037621,\n",
       "       1.01100863, 1.01874204, 0.99945277, 0.98775191, 0.98804691,\n",
       "       0.99149915, 0.99536547, 1.00182361, 1.00243407, 1.01010094,\n",
       "       1.00077028, 1.00635472, 0.99797772, 0.99220966, 1.01235047,\n",
       "       0.9934106 , 1.01076127, 0.99006622, 1.00599276, 1.00478157,\n",
       "       0.99790806, 0.98745157, 0.99216952, 0.99404284, 0.99428384,\n",
       "       1.01685949, 1.01177658, 0.9987019 , 1.01233336, 1.02144228,\n",
       "       1.01134103, 0.99186484, 1.0168159 , 0.99767666, 1.01602552,\n",
       "       0.99924016, 1.00804086, 0.98843237, 1.00680207, 1.00090517,\n",
       "       0.99664089, 1.03225146, 1.01046288, 1.00012045, 1.00257073,\n",
       "       0.98722588, 1.00527688, 0.99343013, 1.01024686, 0.99898453,\n",
       "       1.017484  , 0.9905797 , 1.00406233, 0.99339761, 1.00194327,\n",
       "       1.01643589, 1.00171231, 1.00901605, 0.9912994 , 1.00526371,\n",
       "       0.99962288, 1.00214155, 0.99497974, 0.99897424, 0.99406149,\n",
       "       0.98872815, 1.01242027, 0.9963779 , 0.99789272, 0.99657679,\n",
       "       0.99840563, 1.00642064, 1.01480358, 1.00099237, 0.99674835,\n",
       "       0.99606605, 0.99694685, 1.01394787, 0.99262804, 0.99735748,\n",
       "       1.0182183 , 1.00470941, 0.99873737, 0.98006201, 0.99208176,\n",
       "       0.99699111, 1.0133292 , 0.98305629, 0.99586225, 1.0006557 ,\n",
       "       1.00389529, 1.01250532, 0.99170454, 0.98940743, 1.00287605,\n",
       "       1.01902422, 1.00035263, 1.01070519, 0.99211464, 1.0104064 ,\n",
       "       0.98997265, 1.00638118, 0.99776221, 1.00533343, 0.99173108,\n",
       "       0.99459932, 1.00255193, 1.00528627, 1.00772643, 1.00525669,\n",
       "       0.98761353, 0.99307151, 0.99391256, 0.98400499, 1.01380773,\n",
       "       1.01795623, 1.00761391, 0.99924177, 0.99711331, 1.0001862 ,\n",
       "       1.00341121, 0.99885927, 1.01788113, 0.99624918, 1.00506652,\n",
       "       1.00521044, 1.00514538, 1.00654263, 1.01272083, 0.98786469,\n",
       "       1.00507259, 1.01775827, 0.98624411, 0.99055392, 0.99074915,\n",
       "       0.99038648, 0.9930961 , 0.99770681, 1.00457701, 1.01565119,\n",
       "       0.98563612, 0.99378573, 1.00404195, 0.97893171, 0.99779835,\n",
       "       1.01593052, 0.99743884, 1.00774881, 1.01585198, 1.0169294 ,\n",
       "       0.99053031, 1.01430412, 0.98745711, 1.00825998, 1.00340952,\n",
       "       1.0032183 , 1.00520406, 0.98811763, 1.01547155, 0.99054483,\n",
       "       0.99933833, 0.99256275, 0.999057  , 0.99026962, 0.99066657,\n",
       "       0.98389432, 1.01964629, 1.00323706, 0.9868412 , 1.00809575,\n",
       "       0.98736499, 0.98560941, 1.00231256, 0.99596517, 1.01665518,\n",
       "       1.0112371 , 1.00517032, 0.99644228, 1.01528405, 0.99620299,\n",
       "       0.99119841, 0.99393238, 1.002731  , 1.00396217, 1.02311627,\n",
       "       0.98502749, 0.99398651, 0.99520045, 0.9821673 , 1.00018957,\n",
       "       0.99094055, 1.00912161, 1.01205909, 0.98975507, 1.01956473,\n",
       "       0.9971799 , 1.02160829, 0.99219992, 1.00918205, 1.01468464,\n",
       "       0.99952866, 0.9959912 , 1.00192993, 1.01969803, 0.98832862,\n",
       "       0.98364826, 1.00103085, 0.9963373 , 1.02191433, 1.01268917,\n",
       "       0.98209827, 1.00752294, 0.98643762, 0.99622877, 1.0060422 ,\n",
       "       1.00221376, 0.99586351, 1.02203001, 1.02206027, 0.99511653,\n",
       "       1.00975397, 1.00125929, 1.0044477 , 1.01926469, 1.00339315,\n",
       "       0.99673179, 0.98935443, 0.99941531, 1.00494629, 1.00284158,\n",
       "       0.99974038, 0.99911713, 1.00527315, 1.00469928, 1.00784381,\n",
       "       0.99157139, 0.99975961, 1.01003781, 0.99633031, 1.00086671,\n",
       "       0.99234163, 1.01993105, 1.00742929, 1.01216743, 1.01398187,\n",
       "       1.00636181, 1.01621192, 1.00246   , 0.99178953, 1.0014771 ,\n",
       "       1.00179542, 1.02734274, 1.00121344, 0.99537291, 0.98221477,\n",
       "       0.99568887, 0.99303961, 1.02403647, 1.00485944, 1.02480525,\n",
       "       1.01440329, 0.99263214, 0.98063996, 0.9917665 , 1.00333721,\n",
       "       0.99345557, 0.99038791, 0.99189189, 1.00875157, 1.00074461,\n",
       "       1.00305475, 1.00234022, 1.01521552, 1.00939814, 1.00498838,\n",
       "       0.99161282, 1.00273525, 1.00153884, 1.01494743, 0.99636735,\n",
       "       1.016334  , 1.01091573, 0.98597389, 1.01635426, 1.00149551,\n",
       "       1.01332386, 1.01781268, 1.01488563, 0.99927581, 1.00666451,\n",
       "       1.00421613, 0.98759756, 1.02981114, 1.01525816, 1.00398194,\n",
       "       1.00736664, 1.00179822, 1.00856899, 0.97767468, 0.9969384 ,\n",
       "       0.9841868 , 0.99321054, 1.00489299, 0.99828397, 1.00885751,\n",
       "       1.02623737, 0.99689389, 1.00133113, 0.98777013, 1.00216058,\n",
       "       0.99072739, 0.98962018, 1.00582346, 1.00097126, 0.99685799,\n",
       "       0.98671933, 1.00512451, 0.99093916, 1.00332439, 1.00406196,\n",
       "       1.01117718, 1.00272459, 1.00664317, 0.99977888, 0.9954772 ,\n",
       "       0.99583677, 0.99652753, 1.0026486 , 0.99129393, 0.99428765,\n",
       "       0.99273261, 0.99656363, 1.00305057, 0.98851361, 1.00822887,\n",
       "       0.98938157, 0.99868075, 0.99367384, 1.00854047, 1.03911196,\n",
       "       1.00448145, 0.99918083, 0.98878473, 1.01630686, 1.00718009,\n",
       "       1.00709115, 1.00071482, 1.00801907, 0.98848846, 1.0028609 ,\n",
       "       0.98549772, 0.9858397 , 1.00468054, 0.99224081, 0.99106859,\n",
       "       1.01242943, 0.99593079, 0.99855647, 1.00401747, 0.99808045,\n",
       "       1.00625203, 1.01502064, 1.00913351, 1.0042185 , 1.01204053,\n",
       "       0.99461093, 1.0131526 , 0.99175495, 0.98835096, 0.99397664,\n",
       "       1.02068834, 0.99715408, 1.0044482 , 0.98973437, 1.00184241,\n",
       "       1.01321202, 0.99952008, 1.0110087 , 1.00366145, 1.00706679])"
      ]
     },
     "execution_count": 16,
     "metadata": {},
     "output_type": "execute_result"
    }
   ],
   "source": [
    "# Generate 500 random steps\n",
    "steps = np.random.normal(loc=0.001, scale=0.01, size=500) + 1\n",
    "steps"
   ]
  },
  {
   "cell_type": "code",
   "execution_count": 17,
   "metadata": {},
   "outputs": [
    {
     "data": {
      "text/plain": [
       "array([100.        ,  98.89989769,  98.47427644,  97.97685487,\n",
       "        96.83870629,  96.69349126,  95.9931195 ,  95.37911457,\n",
       "        96.32650378,  96.92822336,  97.2927251 ,  96.69038232,\n",
       "        96.16665532,  96.2342527 ,  95.83308709,  95.87498086,\n",
       "        95.50157408,  96.91638816,  97.14936391,  97.79208479,\n",
       "        97.29238016,  95.75186163,  95.45824179,  94.86092759,\n",
       "        93.550817  ,  92.90827095,  92.95865703,  92.95389427,\n",
       "        94.39494951,  93.15280746,  94.6479732 ,  95.64058752,\n",
       "        95.54704537,  94.26369146,  93.96248852,  95.15372279,\n",
       "        95.29458631,  97.1828903 ,  96.77626235,  96.62049234,\n",
       "        98.06810846,  98.53277706,  97.14314265,  97.35136009,\n",
       "        97.10435917,  97.7231649 ,  97.18715211,  96.17063343,\n",
       "        96.09116437,  96.59482196,  96.93562937,  96.85897126,\n",
       "        97.36628771,  97.66010651,  97.6198313 ,  97.81859745,\n",
       "        96.44306651,  97.1633489 ,  98.55189419,  99.31037747,\n",
       "        98.49386909,  98.48981104,  97.02641378,  98.32097356,\n",
       "        98.97915411,  99.85622479, 101.5955571 , 101.23832225,\n",
       "        99.0962124 ,  98.41003879,  95.97723793,  97.30064705,\n",
       "        97.10318496,  97.37029408,  96.61406722,  97.04165555,\n",
       "        96.39579544,  95.83944751,  95.53872912,  95.95638675,\n",
       "        97.71089868,  98.53674793,  96.95109126,  97.16899164,\n",
       "        96.94837328,  97.01120815,  96.35785209,  97.35195448,\n",
       "        97.16514815,  97.13321648,  96.21724031,  96.60462285,\n",
       "        97.43358041,  98.30511075,  99.4969758 ,  99.38051747,\n",
       "        99.30768565, 100.55071839, 101.95660993, 103.30194331,\n",
       "       102.86031213, 102.72544325, 105.06380645, 105.18187114,\n",
       "       106.31019251, 106.76875869, 107.49206791, 107.67538924,\n",
       "       105.72717565, 105.64788566, 105.90564244, 106.77687491,\n",
       "       107.71388422, 106.53912908, 107.02843289, 105.28093012,\n",
       "       104.5437992 , 104.92927645, 105.92283759, 107.02191537,\n",
       "       108.20007969, 110.22797017, 110.16765015, 108.81830663,\n",
       "       107.5175914 , 106.60360057, 106.1095425 , 106.30304513,\n",
       "       106.56179393, 107.63816799, 107.72107977, 108.40561673,\n",
       "       108.18639027, 107.34358203, 108.66932536, 107.95325999,\n",
       "       109.1149745 , 108.0310502 , 108.67845445, 109.19810761,\n",
       "       108.96967199, 107.60227387, 106.75969681, 106.12371234,\n",
       "       105.51709173, 107.29605563, 108.55963641, 108.41871496,\n",
       "       109.75588151, 112.10929753, 113.38073208, 112.45836134,\n",
       "       114.34945041, 114.08377809, 115.91202943, 115.82395459,\n",
       "       116.75527899, 115.4046968 , 116.18968707, 116.29485793,\n",
       "       115.90421071, 119.6422905 , 120.89409286, 120.90865478,\n",
       "       121.21947784, 119.67100624, 120.30249551, 119.51212435,\n",
       "       120.73674804, 120.61414348, 122.72296136, 121.56687457,\n",
       "       122.06071985, 121.25482743, 121.49045862, 123.48726185,\n",
       "       123.69870994, 124.81398356, 123.72802656, 124.37929531,\n",
       "       124.33238955, 124.59865389, 123.97313659, 123.84596993,\n",
       "       123.11050986, 121.72282708, 123.23465695, 122.78828822,\n",
       "       122.52953832, 122.11009444, 121.91540612, 122.69818129,\n",
       "       124.51455329, 124.63811761, 124.23283801, 123.74411205,\n",
       "       123.36630225, 125.0869994 , 124.16486326, 123.83675517,\n",
       "       126.09285019, 126.6866725 , 126.52671451, 124.00402658,\n",
       "       123.02213251, 122.65197193, 124.28682508, 122.18094501,\n",
       "       121.67539048, 121.75517313, 122.22944475, 123.75796284,\n",
       "       122.73133358, 121.43129284, 121.78053545, 124.09731549,\n",
       "       124.14107612, 125.47003016, 124.48065327, 125.77604851,\n",
       "       124.51484754, 125.30939868, 125.02898316, 125.69581597,\n",
       "       124.65644734, 123.98321819, 124.29961509, 124.95669601,\n",
       "       125.92216499, 126.58409868, 125.01616907, 124.14999608,\n",
       "       123.39424069, 121.42054843, 123.09709007, 125.30744947,\n",
       "       126.26152901, 126.16579386, 125.80159222, 125.82501628,\n",
       "       126.25423194, 126.1102094 , 128.36520237, 127.88372804,\n",
       "       128.53165383, 129.2013608 , 129.86615089, 130.71581751,\n",
       "       132.37863169, 130.77217585, 131.43553008, 133.76959745,\n",
       "       131.92947724, 130.68326117, 129.47432978, 128.22962618,\n",
       "       127.34434164, 127.05231635, 127.63383571, 129.63145755,\n",
       "       127.76944642, 126.97545237, 127.48868142, 124.80271266,\n",
       "       124.52794041, 126.51173508, 126.18771768, 127.16552238,\n",
       "       129.18134831, 131.36831105, 130.12429333, 131.98560632,\n",
       "       130.33012597, 131.40665003, 131.85468418, 132.2790324 ,\n",
       "       132.96742026, 131.38745235, 133.42022014, 132.15870934,\n",
       "       132.0712644 , 131.08901675, 130.96540038, 129.69105692,\n",
       "       128.480595  , 126.41132767, 128.8948418 , 129.31208226,\n",
       "       127.61049003, 128.64359312, 127.01817947, 125.19031273,\n",
       "       125.47982263, 124.97353337, 127.05498964, 128.4827187 ,\n",
       "       129.1470156 , 128.68754615, 130.65441265, 130.15831655,\n",
       "       129.01271684, 128.2299168 , 128.58011319, 129.08956928,\n",
       "       132.07363855, 130.09616407, 129.31383245, 128.69318376,\n",
       "       126.39823707, 126.42219781, 125.2768828 , 126.41960974,\n",
       "       127.94411564, 126.63333693, 129.11088409, 128.74677825,\n",
       "       131.52877573, 130.5028405 , 131.70112395, 133.63510753,\n",
       "       133.57212039, 133.03665665, 133.29340769, 135.91902584,\n",
       "       134.33266268, 132.13608948, 132.27230158, 131.78782717,\n",
       "       134.6758693 , 136.38479487, 133.94327105, 134.95091776,\n",
       "       133.12066278, 132.61863435, 133.41994242, 133.71530162,\n",
       "       133.16218964, 136.09575451, 139.09806371, 138.41878236,\n",
       "       139.76891511, 139.94492401, 140.567357  , 143.27534359,\n",
       "       143.76149857, 143.29165552, 141.76623456, 141.68334585,\n",
       "       142.38415263, 142.78874905, 142.75167855, 142.62564751,\n",
       "       143.37773454, 144.05150604, 145.1814185 , 143.95774159,\n",
       "       143.92313568, 145.36780944, 144.83435474, 144.9598846 ,\n",
       "       143.84972816, 146.71680471, 147.80680645, 149.60523576,\n",
       "       151.69699654, 152.66206451, 155.13700977, 155.51864659,\n",
       "       154.24176479, 154.46959473, 154.74693238, 158.97813724,\n",
       "       159.17104764, 158.43454816, 155.61675358, 154.94586954,\n",
       "       153.86738588, 157.56581512, 158.33149618, 162.25894881,\n",
       "       164.5960121 , 163.38329131, 160.22018444, 158.90101143,\n",
       "       159.43129748, 158.38791111, 156.8654723 , 155.59359036,\n",
       "       156.95527876, 157.07214935, 157.55196527, 157.9206722 ,\n",
       "       160.32351794, 161.83026047, 162.63753128, 161.2734609 ,\n",
       "       161.714584  , 161.96343744, 164.38437508, 163.78722414,\n",
       "       166.46252463, 168.27958506, 165.91927689, 168.63276412,\n",
       "       168.88495667, 171.13515551, 174.18353116, 176.77636304,\n",
       "       176.64834294, 177.82561701, 178.57535315, 176.36058377,\n",
       "       181.61809355, 184.38925188, 185.1234789 , 186.4872168 ,\n",
       "       186.82256113, 188.42344247, 184.21682831, 183.65282993,\n",
       "       180.74869032, 179.52150346, 180.39990024, 180.09032917,\n",
       "       181.68548049, 186.45242893, 185.87328781, 186.12070971,\n",
       "       183.84447725, 184.24168826, 182.53328685, 180.63862478,\n",
       "       181.69056713, 181.86703544, 181.29560672, 178.88787979,\n",
       "       179.80459299, 178.17541159, 178.76773681, 179.49388371,\n",
       "       181.500119  , 181.99463238, 183.20365367, 183.16314385,\n",
       "       182.33473338, 181.57563184, 180.9451163 , 181.42436705,\n",
       "       179.84487441, 178.81753844, 177.51800083, 176.90798412,\n",
       "       177.44765431, 175.40942137, 176.85284204, 174.97494212,\n",
       "       174.7441064 , 173.63864787, 175.12160285, 181.97095206,\n",
       "       182.78644662, 182.63671264, 180.58839224, 183.53322237,\n",
       "       184.85100783, 186.16181337, 186.29488476, 187.78879604,\n",
       "       185.62705859, 186.1581199 , 183.45840306, 180.86057676,\n",
       "       181.70710139, 180.29720178, 178.68689345, 180.90786958,\n",
       "       180.17171828, 179.91163426, 180.63442323, 180.28768592,\n",
       "       181.41485003, 184.13981791, 185.82166084, 186.60554995,\n",
       "       188.85237999, 187.83464187, 190.30515486, 188.73607885,\n",
       "       186.53748525, 185.41390326, 189.24980957, 188.71122013,\n",
       "       189.55064505, 187.6047876 , 187.95043277, 190.43363748,\n",
       "       190.34224467, 192.43766451, 193.14226532, 194.50716168])"
      ]
     },
     "execution_count": 17,
     "metadata": {},
     "output_type": "execute_result"
    }
   ],
   "source": [
    "# Set first element to 1\n",
    "steps[0]=1\n",
    "\n",
    "# Simulate the stock price, P, by taking the cumulative product\n",
    "P = 100 * np.cumprod(steps)\n",
    "P"
   ]
  },
  {
   "cell_type": "code",
   "execution_count": 18,
   "metadata": {},
   "outputs": [
    {
     "data": {
      "image/png": "[encoded data removed]",
      "text/plain": [
       "<Figure size 432x288 with 1 Axes>"
      ]
     },
     "metadata": {
      "needs_background": "light"
     },
     "output_type": "display_data"
    }
   ],
   "source": [
    "# Plot the simulated stock prices\n",
    "plt.plot(P)\n",
    "plt.title(\"Simulated Random Walk with Drift\")\n",
    "plt.show()"
   ]
  },
  {
   "cell_type": "markdown",
   "metadata": {},
   "source": [
    "* This simulated price series you plotted should closely resemble a random walk for a high flying stock."
   ]
  },
  {
   "cell_type": "markdown",
   "metadata": {},
   "source": [
    "### Are Stock Prices a Random Walk?\n",
    "Most stock prices follow a random walk (perhaps with a drift). You will look at a time series of Amazon stock prices, AMZN, and run the 'Augmented Dickey-Fuller Test' from the statsmodels library to show that it does indeed follow a random walk.\n",
    "With the ADF test, the \"null hypothesis\" (the hypothesis that we either reject or fail to reject) is that the series follows a random walk. Therefore, a low p-value (say less than 5%) means we can reject the null hypothesis that the series is a random walk.\n",
    "\n",
    "- Import the adfuller module from statsmodels.\n",
    "- Run the Augmented Dickey-Fuller test on the series of closing stock prices, which is the column Adj Close in the AMZN DataFrame.\n",
    "- Print out the entire output, which includes the test statistic, the p-values, and the critical values for tests with 1%, 10%, and 5% levels.\n",
    "- Print out just the p-value of the test (results[0] is the test statistic, and results[1] is the p-value)."
   ]
  },
  {
   "cell_type": "code",
   "execution_count": 23,
   "metadata": {},
   "outputs": [
    {
     "data": {
      "text/html": [
       "<div>\n",
       "<style scoped>\n",
       "    .dataframe tbody tr th:only-of-type {\n",
       "        vertical-align: middle;\n",
       "    }\n",
       "\n",
       "    .dataframe tbody tr th {\n",
       "        vertical-align: top;\n",
       "    }\n",
       "\n",
       "    .dataframe thead th {\n",
       "        text-align: right;\n",
       "    }\n",
       "</style>\n",
       "<table border=\"1\" class=\"dataframe\">\n",
       "  <thead>\n",
       "    <tr style=\"text-align: right;\">\n",
       "      <th></th>\n",
       "      <th>Adj Close</th>\n",
       "    </tr>\n",
       "    <tr>\n",
       "      <th>Date</th>\n",
       "      <th></th>\n",
       "    </tr>\n",
       "  </thead>\n",
       "  <tbody>\n",
       "    <tr>\n",
       "      <th>1997-05-15</th>\n",
       "      <td>1.958333</td>\n",
       "    </tr>\n",
       "    <tr>\n",
       "      <th>1997-05-16</th>\n",
       "      <td>1.729167</td>\n",
       "    </tr>\n",
       "    <tr>\n",
       "      <th>1997-05-19</th>\n",
       "      <td>1.708333</td>\n",
       "    </tr>\n",
       "    <tr>\n",
       "      <th>1997-05-20</th>\n",
       "      <td>1.635417</td>\n",
       "    </tr>\n",
       "    <tr>\n",
       "      <th>1997-05-21</th>\n",
       "      <td>1.427083</td>\n",
       "    </tr>\n",
       "  </tbody>\n",
       "</table>\n",
       "</div>"
      ],
      "text/plain": [
       "            Adj Close\n",
       "Date                 \n",
       "1997-05-15   1.958333\n",
       "1997-05-16   1.729167\n",
       "1997-05-19   1.708333\n",
       "1997-05-20   1.635417\n",
       "1997-05-21   1.427083"
      ]
     },
     "execution_count": 23,
     "metadata": {},
     "output_type": "execute_result"
    }
   ],
   "source": [
    "AMZN = pd.read_csv(\"Data/AMZN.csv\", parse_dates=True, index_col='Date')\n",
    "AMZN.head()"
   ]
  },
  {
   "cell_type": "code",
   "execution_count": 24,
   "metadata": {},
   "outputs": [
    {
     "name": "stdout",
     "output_type": "stream",
     "text": [
      "(4.02516852577074, 1.0, 33, 5054, {'1%': -3.4316445438146865, '5%': -2.862112049726916, '10%': -2.5670745025321304}, 30308.64216426981)\n"
     ]
    }
   ],
   "source": [
    "# Import the adfuller module from statsmodels\n",
    "from statsmodels.tsa.stattools import adfuller\n",
    "\n",
    "# Run the ADF test on the price series and print out the results\n",
    "results = adfuller(AMZN['Adj Close'])\n",
    "print(results)"
   ]
  },
  {
   "cell_type": "code",
   "execution_count": 25,
   "metadata": {},
   "outputs": [
    {
     "name": "stdout",
     "output_type": "stream",
     "text": [
      "The p-value of the test on prices is: 1.0\n"
     ]
    }
   ],
   "source": [
    "# Just print out the p-value\n",
    "print('The p-value of the test on prices is: ' + str(results[1]))"
   ]
  },
  {
   "cell_type": "markdown",
   "metadata": {},
   "source": [
    "* Since p-value is high, we can't reject the null hypothesis that the series is a random walk."
   ]
  },
  {
   "cell_type": "markdown",
   "metadata": {},
   "source": [
    "### How About Stock Returns?\n",
    "In the last exercise, you showed that Amazon stock prices, contained in the DataFrame AMZN follow a random walk. In this exercise. you will do the same thing for Amazon returns (percent change in prices) and show that the returns do not follow a random walk.\n",
    "\n",
    "- Import the adfuller module from statsmodels.\n",
    "- Create a new DataFrame of AMZN returns by taking the percent change of prices using the method `.pct_change()`.\n",
    "- Eliminate the NaN in the first row of returns using the `.dropna()` method on the DataFrame.\n",
    "- Run the Augmented Dickey-Fuller test on the Adj Close column of the returns DataFrame, and print out the p-value in `results[1]."
   ]
  },
  {
   "cell_type": "code",
   "execution_count": 29,
   "metadata": {},
   "outputs": [
    {
     "data": {
      "text/html": [
       "<div>\n",
       "<style scoped>\n",
       "    .dataframe tbody tr th:only-of-type {\n",
       "        vertical-align: middle;\n",
       "    }\n",
       "\n",
       "    .dataframe tbody tr th {\n",
       "        vertical-align: top;\n",
       "    }\n",
       "\n",
       "    .dataframe thead th {\n",
       "        text-align: right;\n",
       "    }\n",
       "</style>\n",
       "<table border=\"1\" class=\"dataframe\">\n",
       "  <thead>\n",
       "    <tr style=\"text-align: right;\">\n",
       "      <th></th>\n",
       "      <th>Adj Close</th>\n",
       "    </tr>\n",
       "    <tr>\n",
       "      <th>Date</th>\n",
       "      <th></th>\n",
       "    </tr>\n",
       "  </thead>\n",
       "  <tbody>\n",
       "    <tr>\n",
       "      <th>1997-05-15</th>\n",
       "      <td>NaN</td>\n",
       "    </tr>\n",
       "    <tr>\n",
       "      <th>1997-05-16</th>\n",
       "      <td>-0.117021</td>\n",
       "    </tr>\n",
       "    <tr>\n",
       "      <th>1997-05-19</th>\n",
       "      <td>-0.012049</td>\n",
       "    </tr>\n",
       "    <tr>\n",
       "      <th>1997-05-20</th>\n",
       "      <td>-0.042683</td>\n",
       "    </tr>\n",
       "    <tr>\n",
       "      <th>1997-05-21</th>\n",
       "      <td>-0.127389</td>\n",
       "    </tr>\n",
       "  </tbody>\n",
       "</table>\n",
       "</div>"
      ],
      "text/plain": [
       "            Adj Close\n",
       "Date                 \n",
       "1997-05-15        NaN\n",
       "1997-05-16  -0.117021\n",
       "1997-05-19  -0.012049\n",
       "1997-05-20  -0.042683\n",
       "1997-05-21  -0.127389"
      ]
     },
     "execution_count": 29,
     "metadata": {},
     "output_type": "execute_result"
    }
   ],
   "source": [
    "# Import the adfuller module from statsmodels\n",
    "from statsmodels.tsa.stattools import adfuller\n",
    "\n",
    "# Create a DataFrame of AMZN returns\n",
    "AMZN_ret = AMZN.pct_change()\n",
    "AMZN_ret.head()"
   ]
  },
  {
   "cell_type": "code",
   "execution_count": 30,
   "metadata": {},
   "outputs": [
    {
     "name": "stdout",
     "output_type": "stream",
     "text": [
      "The p-value of the test on returns is: 2.5655898083467396e-22\n"
     ]
    }
   ],
   "source": [
    "# Eliminate the NaN in the first row of returns\n",
    "AMZN_ret = AMZN_ret.dropna()\n",
    "\n",
    "# Run the ADF test on the return series and print out the p-value\n",
    "results = adfuller(AMZN_ret['Adj Close'])\n",
    "print('The p-value of the test on returns is: ' + str(results[1]))"
   ]
  },
  {
   "cell_type": "markdown",
   "metadata": {},
   "source": [
    "* The p-value is extremely small, so we can easily reject the hypothesis that returns are random walk at all levels of significance."
   ]
  },
  {
   "cell_type": "markdown",
   "metadata": {},
   "source": [
    "### Seasonal Adjustment During Tax Season\n",
    "Many time series exhibit strong seasonal behavior. The procedure for removing the seasonal component of a time series is called seasonal adjustment. For example, most economic data published by the government is seasonally adjusted.\n",
    "You saw earlier that by taking first differences of a random walk, you get a stationary white noise process. For seasonal adjustments, instead of taking first differences, you will take differences with a lag corresponding to the periodicity.\n",
    "Look again at the ACF of H&R Block's quarterly earnings, HRB, and there is a clear seasonal component. The autocorrelation is high for lags 4,8,12,16,..., because of the spike in earnings every four quarters during tax season. Apply a seasonal adjustment by taking the fourth difference (four represents the periodicity of the series). Then compute the autocorrelation of the transformed series.\n",
    "\n",
    "\n",
    "- Create a new DataFrame of seasonally adjusted earnings by taking the lag-4 difference of quarterly earnings using the `.diff()` method.\n",
    "- Examine the first 10 rows of the seasonally adjusted DataFrame and notice that the first four rows are NaN.\n",
    "- Drop the NaN rows using the `.dropna()` method.\n",
    "- Plot the autocorrelation function of the seasonally adjusted DataFrame."
   ]
  },
  {
   "cell_type": "code",
   "execution_count": 36,
   "metadata": {},
   "outputs": [
    {
     "data": {
      "text/html": [
       "<div>\n",
       "<style scoped>\n",
       "    .dataframe tbody tr th:only-of-type {\n",
       "        vertical-align: middle;\n",
       "    }\n",
       "\n",
       "    .dataframe tbody tr th {\n",
       "        vertical-align: top;\n",
       "    }\n",
       "\n",
       "    .dataframe thead th {\n",
       "        text-align: right;\n",
       "    }\n",
       "</style>\n",
       "<table border=\"1\" class=\"dataframe\">\n",
       "  <thead>\n",
       "    <tr style=\"text-align: right;\">\n",
       "      <th></th>\n",
       "      <th>Earnings</th>\n",
       "    </tr>\n",
       "    <tr>\n",
       "      <th>Quarter</th>\n",
       "      <th></th>\n",
       "    </tr>\n",
       "  </thead>\n",
       "  <tbody>\n",
       "    <tr>\n",
       "      <th>2007-01-01</th>\n",
       "      <td>-0.36</td>\n",
       "    </tr>\n",
       "    <tr>\n",
       "      <th>2007-04-01</th>\n",
       "      <td>-0.38</td>\n",
       "    </tr>\n",
       "    <tr>\n",
       "      <th>2007-07-01</th>\n",
       "      <td>0.07</td>\n",
       "    </tr>\n",
       "    <tr>\n",
       "      <th>2007-10-01</th>\n",
       "      <td>1.85</td>\n",
       "    </tr>\n",
       "    <tr>\n",
       "      <th>2008-01-01</th>\n",
       "      <td>-0.34</td>\n",
       "    </tr>\n",
       "  </tbody>\n",
       "</table>\n",
       "</div>"
      ],
      "text/plain": [
       "            Earnings\n",
       "Quarter             \n",
       "2007-01-01     -0.36\n",
       "2007-04-01     -0.38\n",
       "2007-07-01      0.07\n",
       "2007-10-01      1.85\n",
       "2008-01-01     -0.34"
      ]
     },
     "execution_count": 36,
     "metadata": {},
     "output_type": "execute_result"
    }
   ],
   "source": [
    "# Import the plot_acf module from statsmodels\n",
    "from statsmodels.graphics.tsaplots import plot_acf\n",
    "HRB.head()"
   ]
  },
  {
   "cell_type": "code",
   "execution_count": 37,
   "metadata": {},
   "outputs": [
    {
     "name": "stdout",
     "output_type": "stream",
     "text": [
      "            Earnings\n",
      "Quarter             \n",
      "2007-01-01       NaN\n",
      "2007-04-01       NaN\n",
      "2007-07-01       NaN\n",
      "2007-10-01       NaN\n",
      "2008-01-01      0.02\n",
      "2008-04-01     -0.04\n",
      "2008-07-01     -0.05\n",
      "2008-10-01      0.26\n",
      "2009-01-01     -0.05\n",
      "2009-04-01      0.02\n"
     ]
    }
   ],
   "source": [
    "# Seasonally adjust quarterly earnings\n",
    "HRBsa = HRB.diff(4)\n",
    "\n",
    "# Print the first 10 rows of the seasonally adjusted series\n",
    "print(HRBsa.head(10))"
   ]
  },
  {
   "cell_type": "code",
   "execution_count": 38,
   "metadata": {},
   "outputs": [
    {
     "data": {
      "image/png": "[encoded data removed]",
      "text/plain": [
       "<Figure size 432x288 with 1 Axes>"
      ]
     },
     "metadata": {
      "needs_background": "light"
     },
     "output_type": "display_data"
    }
   ],
   "source": [
    "# Drop the NaN data in the first three three rows\n",
    "HRBsa = HRBsa.dropna()\n",
    "\n",
    "# Plot the autocorrelation function of the seasonally adjusted series\n",
    "plot_acf(HRBsa)\n",
    "plt.show()"
   ]
  },
  {
   "cell_type": "code",
   "execution_count": null,
   "metadata": {},
   "outputs": [],
   "source": []
  }
 ],
 "metadata": {
  "kernelspec": {
   "display_name": "Python 3",
   "language": "python",
   "name": "python3"
  },
  "language_info": {
   "codemirror_mode": {
    "name": "ipython",
    "version": 3
   },
   "file_extension": ".py",
   "mimetype": "text/x-python",
   "name": "python",
   "nbconvert_exporter": "python",
   "pygments_lexer": "ipython3",
   "version": "3.7.6"
  }
 },
 "nbformat": 4,
 "nbformat_minor": 4
}
