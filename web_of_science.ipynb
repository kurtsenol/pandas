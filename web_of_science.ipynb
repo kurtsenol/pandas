{
 "cells": [
  {
   "cell_type": "code",
   "execution_count": 4,
   "metadata": {},
   "outputs": [
    {
     "data": {
      "text/html": [
       "<div>\n",
       "<style scoped>\n",
       "    .dataframe tbody tr th:only-of-type {\n",
       "        vertical-align: middle;\n",
       "    }\n",
       "\n",
       "    .dataframe tbody tr th {\n",
       "        vertical-align: top;\n",
       "    }\n",
       "\n",
       "    .dataframe thead th {\n",
       "        text-align: right;\n",
       "    }\n",
       "</style>\n",
       "<table border=\"1\" class=\"dataframe\">\n",
       "  <thead>\n",
       "    <tr style=\"text-align: right;\">\n",
       "      <th></th>\n",
       "      <th>FN Clarivate Analytics Web of Science</th>\n",
       "    </tr>\n",
       "  </thead>\n",
       "  <tbody>\n",
       "    <tr>\n",
       "      <th>0</th>\n",
       "      <td>VR 1.0</td>\n",
       "    </tr>\n",
       "    <tr>\n",
       "      <th>1</th>\n",
       "      <td>PT J</td>\n",
       "    </tr>\n",
       "    <tr>\n",
       "      <th>2</th>\n",
       "      <td>AU Abdulsalam, AA</td>\n",
       "    </tr>\n",
       "    <tr>\n",
       "      <th>3</th>\n",
       "      <td>Bashour, HN</td>\n",
       "    </tr>\n",
       "    <tr>\n",
       "      <th>4</th>\n",
       "      <td>Monem, FS</td>\n",
       "    </tr>\n",
       "    <tr>\n",
       "      <th>...</th>\n",
       "      <td>...</td>\n",
       "    </tr>\n",
       "    <tr>\n",
       "      <th>32806</th>\n",
       "      <td>GA ML977</td>\n",
       "    </tr>\n",
       "    <tr>\n",
       "      <th>32807</th>\n",
       "      <td>UT WOS:A1981ML97700009</td>\n",
       "    </tr>\n",
       "    <tr>\n",
       "      <th>32808</th>\n",
       "      <td>DA 2020-02-10</td>\n",
       "    </tr>\n",
       "    <tr>\n",
       "      <th>32809</th>\n",
       "      <td>ER</td>\n",
       "    </tr>\n",
       "    <tr>\n",
       "      <th>32810</th>\n",
       "      <td>EF</td>\n",
       "    </tr>\n",
       "  </tbody>\n",
       "</table>\n",
       "<p>32811 rows × 1 columns</p>\n",
       "</div>"
      ],
      "text/plain": [
       "      FN Clarivate Analytics Web of Science\n",
       "0                                    VR 1.0\n",
       "1                                      PT J\n",
       "2                         AU Abdulsalam, AA\n",
       "3                               Bashour, HN\n",
       "4                                 Monem, FS\n",
       "...                                     ...\n",
       "32806                              GA ML977\n",
       "32807                UT WOS:A1981ML97700009\n",
       "32808                         DA 2020-02-10\n",
       "32809                                    ER\n",
       "32810                                    EF\n",
       "\n",
       "[32811 rows x 1 columns]"
      ]
     },
     "execution_count": 4,
     "metadata": {},
     "output_type": "execute_result"
    }
   ],
   "source": [
    "# read the file as a table\n",
    "# it doesn't work with pandas read_table method\n",
    "\n",
    "import pandas as pd\n",
    "\n",
    "df = pd.read_table(\"Data/LAST DATA.txt\")\n",
    "df"
   ]
  },
  {
   "cell_type": "code",
   "execution_count": 106,
   "metadata": {},
   "outputs": [
    {
     "name": "stdout",
     "output_type": "stream",
     "text": [
      "There are 418 articles in the dataset.\n"
     ]
    }
   ],
   "source": [
    "# number of articles in the Dataset\n",
    "\n",
    "with open(\"Data/LAST DATA.txt\", \"r\", encoding='utf-8') as f:\n",
    "    \n",
    "    n_article=0\n",
    "    for line in f:\n",
    "        if line.startswith(\"AF\"):\n",
    "            #print(line)\n",
    "            n_article +=1\n",
    "print(f\"There are {n_article} articles in the dataset.\")                "
   ]
  },
  {
   "cell_type": "code",
   "execution_count": 107,
   "metadata": {},
   "outputs": [],
   "source": [
    "# finding out authors\n",
    "# each author is the value of i'th key of the dictionary \n",
    "\n",
    "with open(\"Data/LAST DATA.txt\", \"r\", encoding='utf-8') as f:\n",
    "    \n",
    "    af_counter=False\n",
    "    index =0\n",
    "    af_dict={}\n",
    "    \n",
    "    for line in f:\n",
    "        \n",
    "        if line.startswith(\"AF\"):\n",
    "            af_dict[index] = line[3:].strip()\n",
    "            index +=1\n",
    "            af_counter= True\n",
    "            continue\n",
    "        \n",
    "        if line.startswith(\"TI\"):\n",
    "            af_counter=False\n",
    "            continue\n",
    "        \n",
    "        if af_counter:\n",
    "            af_dict[index] = line[3:].strip()\n",
    "            index +=1"
   ]
  },
  {
   "cell_type": "code",
   "execution_count": 108,
   "metadata": {},
   "outputs": [
    {
     "name": "stdout",
     "output_type": "stream",
     "text": [
      "0            Abdulsalam, AA\n",
      "1               Bashour, HN\n",
      "2                 Monem, FS\n",
      "3               Hamadeh, FM\n",
      "4             Acicbe, Oznur\n",
      "               ...         \n",
      "1259         Magarati, Maya\n",
      "1260      Jackson, J. Carey\n",
      "1261    Taylor, Victoria M.\n",
      "1262            [Anonymous]\n",
      "1263            [Anonymous]\n",
      "Length: 1264, dtype: object\n"
     ]
    }
   ],
   "source": [
    "# turning the dictionary to a pandas Series object\n",
    "\n",
    "af = pd.Series(af_dict)\n",
    "print(af)"
   ]
  },
  {
   "cell_type": "code",
   "execution_count": 109,
   "metadata": {},
   "outputs": [
    {
     "name": "stdout",
     "output_type": "stream",
     "text": [
      "There are 418 articles written by 1264 authors in the dataset.\n"
     ]
    }
   ],
   "source": [
    "print(f\"There are {n_article} articles written by {len(af)} authors in the dataset.\")"
   ]
  },
  {
   "cell_type": "code",
   "execution_count": 110,
   "metadata": {},
   "outputs": [
    {
     "data": {
      "text/plain": [
       "Saadi, Altaf                 4\n",
       "Ussher, Jane M.              5\n",
       "Liamputtong, Pranee          5\n",
       "Hawkey, Alexandra J.         5\n",
       "Silka, Linda                 5\n",
       "Rogers, Beatrice Lorge       5\n",
       "Wilde, Parke E.              5\n",
       "Bond, Barbara                5\n",
       "Bermudez, Odilia I.          5\n",
       "Peterman, Jerusha Nelson     5\n",
       "Freedman, J                  6\n",
       "Gerard, A                    6\n",
       "Percac-Lima, Sanja           6\n",
       "Wadia, Khursheed             6\n",
       "Perz, Janette                6\n",
       "Allwood, Gill                6\n",
       "Edward, JK                   7\n",
       "Lenette, Caroline            8\n",
       "Allwood, G                  12\n",
       "Wadia, K                    12\n",
       "dtype: int64"
      ]
     },
     "execution_count": 110,
     "metadata": {},
     "output_type": "execute_result"
    }
   ],
   "source": [
    "# finding out frequencies of data and print out top 20 in ascending order\n",
    "\n",
    "af_counts =af.value_counts(ascending=True).tail(20)\n",
    "af_counts"
   ]
  },
  {
   "cell_type": "code",
   "execution_count": 111,
   "metadata": {},
   "outputs": [
    {
     "data": {
      "image/png": "[encoded data removed]",
      "text/plain": [
       "<Figure size 864x576 with 1 Axes>"
      ]
     },
     "metadata": {
      "needs_background": "light"
     },
     "output_type": "display_data"
    }
   ],
   "source": [
    "import matplotlib.pyplot as plt\n",
    "\n",
    "fig, ax = plt.subplots(nrows=1, ncols=1, figsize=(12,8))\n",
    "\n",
    "# use plt.barh method for horizontal bar\n",
    "ax.barh(af_counts.index, af_counts)  \n",
    "\n",
    "# add labels\n",
    "plt.ylabel(\"Authors\")\n",
    "plt.xlabel(\"Number of Publications\")\n",
    "\n",
    "# add Title\n",
    "plt.title(\"20 Most Productive Authors\") \n",
    "\n",
    "# arange padding\n",
    "plt.tight_layout()\n",
    "\n",
    "# display the plot\n",
    "plt.show()"
   ]
  },
  {
   "cell_type": "code",
   "execution_count": 112,
   "metadata": {},
   "outputs": [
    {
     "data": {
      "image/png": "[encoded data removed]",
      "text/plain": [
       "<Figure size 576x576 with 1 Axes>"
      ]
     },
     "metadata": {
      "needs_background": "light"
     },
     "output_type": "display_data"
    }
   ],
   "source": [
    "af_counts_1 =af.value_counts()\n",
    "af_counts_1\n",
    "\n",
    "fig, ax = plt.subplots(nrows=1, ncols=1, figsize=(8,8))\n",
    "\n",
    "# use plt.barh method for horizontal bar\n",
    "ax.hist(af_counts_1) \n",
    "\n",
    "# add labels\n",
    "plt.ylabel(\"Number of Authors\")\n",
    "plt.xlabel(\"Number of Publications\")\n",
    "\n",
    "# add Title\n",
    "plt.title(\"Number of Publications Per Author\") \n",
    "\n",
    "# arange padding\n",
    "plt.tight_layout()\n",
    "\n",
    "plt.show()"
   ]
  },
  {
   "cell_type": "code",
   "execution_count": 2,
   "metadata": {},
   "outputs": [],
   "source": [
    "# finding out citations\n",
    "# each citation is the value of i'th key of the dictionary \n",
    "\n",
    "with open(\"Data/LAST DATA.txt\", \"r\", encoding='utf-8') as f:\n",
    "    \n",
    "    cr_counter=False\n",
    "    index =0\n",
    "    cr_dict={}\n",
    "    \n",
    "    for line in f:\n",
    "        \n",
    "        if line.startswith(\"CR\"):\n",
    "            cr_dict[index] = line[3:].strip()\n",
    "            index +=1\n",
    "            cr_counter= True\n",
    "            continue\n",
    "        \n",
    "        if line.startswith(\"NR\"):\n",
    "            cr_counter=False\n",
    "            continue\n",
    "        \n",
    "        if cr_counter:\n",
    "            cr_dict[index] = line[3:].strip()\n",
    "            index +=1"
   ]
  },
  {
   "cell_type": "code",
   "execution_count": 5,
   "metadata": {},
   "outputs": [
    {
     "name": "stdout",
     "output_type": "stream",
     "text": [
      "0                ALUOCH JR, 1990, TROP GEOGR MED, V42, P28\n",
      "1        BAILL IC, 1990, INT J GYNECOL OBSTET, V33, P19...\n",
      "2        BLATTNER P, 1977, JAMA-J AM MED ASSOC, V238, P...\n",
      "3        Cronin EK, 2000, BRIT J OBSTET GYNAEC, V107, P...\n",
      "4        ELSHAFEI AM, 1992, BRIT J OBSTET GYNAEC, V99, ...\n",
      "                               ...                        \n",
      "13864                Strauss A, 1998, BASICS QUALITATIVE R\n",
      "13865    Taylor VM, 2002, J NATL CANCER I, V94, P670, D...\n",
      "13866    Tsui J, 2007, J WOMENS HEALTH, V16, P1447, DOI...\n",
      "13867    Yun K, 2016, J COMMUN HEALTH, V41, P526, DOI 1...\n",
      "13868    Yun K, 2012, J IMMIGR MINOR HEALT, V14, P933, ...\n",
      "Length: 13869, dtype: object\n"
     ]
    }
   ],
   "source": [
    "# turning the dictionary to a pandas Series object\n",
    "\n",
    "cr = pd.Series(cr_dict)\n",
    "print(cr)"
   ]
  },
  {
   "cell_type": "code",
   "execution_count": 6,
   "metadata": {},
   "outputs": [
    {
     "name": "stdout",
     "output_type": "stream",
     "text": [
      "The dataset contains 13869 citations.\n"
     ]
    }
   ],
   "source": [
    "print(f\"The dataset contains {len(cr)} citations.\")"
   ]
  },
  {
   "cell_type": "code",
   "execution_count": 62,
   "metadata": {},
   "outputs": [
    {
     "data": {
      "text/plain": [
       "0          ALUOCH JR, 1990\n",
       "1           BAILL IC, 1990\n",
       "2         BLATTNER P, 1977\n",
       "3          Cronin EK, 2000\n",
       "4        ELSHAFEI AM, 1992\n",
       "               ...        \n",
       "13686      Strauss A, 1998\n",
       "13687      Taylor VM, 2002\n",
       "13688         Tsui J, 2007\n",
       "13689          Yun K, 2016\n",
       "13690          Yun K, 2012\n",
       "Length: 13691, dtype: object"
      ]
     },
     "execution_count": 62,
     "metadata": {},
     "output_type": "execute_result"
    }
   ],
   "source": [
    "import re\n",
    "import numpy as np\n",
    "\n",
    "cr_citation_dict = {}\n",
    "index=0\n",
    "for line in cr:\n",
    "    pattern = re.match(r\"[\\w\\s*&-/`'()\\[\\],.]*\\s\\d{4}\", line)\n",
    "    if pattern:\n",
    "        cr_citation_dict[index] = pattern.group()\n",
    "        index +=1\n",
    "    \n",
    "cr_citation = pd.Series(cr_citation_dict)\n",
    "cr_citation.dropna(inplace = True)\n",
    "cr_citation"
   ]
  },
  {
   "cell_type": "code",
   "execution_count": 63,
   "metadata": {},
   "outputs": [
    {
     "data": {
      "text/plain": [
       "Morrow M, 2008             8\n",
       "Pottie K, 2011             8\n",
       "Marshall GN, 2005          8\n",
       "Ager A, 2008               8\n",
       "MOLLICA RF, 1992           8\n",
       "Bartolomei L, 2014         8\n",
       "Creswell J. W, 2009        8\n",
       "Khawaja NG, 2008           9\n",
       "Indra Doreen, 1999         9\n",
       "Gagnon AJ, 2013            9\n",
       "Fazel M, 2005              9\n",
       "Pavlish CL, 2010          10\n",
       "Schweitzer R, 2006        10\n",
       "Baird MB, 2012            10\n",
       "UNHCR, 2014               10\n",
       "Collins CH, 2011          10\n",
       "UNHCR, 2011               10\n",
       "Barnes DM, 2004           12\n",
       "Carroll Jennifer, 2007    12\n",
       "Braun V., 2006            14\n",
       "dtype: int64"
      ]
     },
     "execution_count": 63,
     "metadata": {},
     "output_type": "execute_result"
    }
   ],
   "source": [
    "# finding out frequencies of data and print out top 20 in ascending order\n",
    "\n",
    "cr_citation_counts =cr_citation.value_counts(ascending=True).tail(20)\n",
    "cr_citation_counts"
   ]
  },
  {
   "cell_type": "code",
   "execution_count": 67,
   "metadata": {},
   "outputs": [
    {
     "data": {
      "image/png": "[encoded data removed]",
      "text/plain": [
       "<Figure size 864x576 with 1 Axes>"
      ]
     },
     "metadata": {
      "needs_background": "light"
     },
     "output_type": "display_data"
    }
   ],
   "source": [
    "fig, ax = plt.subplots(nrows=1, ncols=1, figsize=(12,8))\n",
    "\n",
    "# use plt.barh method for horizontal bar\n",
    "ax.barh(cr_citation_counts.index, cr_citation_counts)  \n",
    "\n",
    "# add labels\n",
    "plt.ylabel(\"Reference\")\n",
    "plt.xlabel(\"Frequencies\")\n",
    "\n",
    "# add Title\n",
    "plt.title(\"Most Cited Publications\") \n",
    "\n",
    "# arange padding\n",
    "plt.tight_layout()\n",
    "\n",
    "# display the plot\n",
    "plt.show()"
   ]
  },
  {
   "cell_type": "code",
   "execution_count": 121,
   "metadata": {},
   "outputs": [],
   "source": [
    "# finding out Publication Years\n",
    "# each Publication Year is the value of i'th key of the dictionary \n",
    "\n",
    "with open(\"Data/LAST DATA.txt\", \"r\", encoding='utf-8') as f:\n",
    "    \n",
    "    index =0\n",
    "    py_dict={}\n",
    "    \n",
    "    for line in f:\n",
    "        \n",
    "        if line.startswith(\"PY\"):\n",
    "            py_dict[index] = line[3:].strip()\n",
    "            index +=1\n"
   ]
  },
  {
   "cell_type": "code",
   "execution_count": 122,
   "metadata": {},
   "outputs": [],
   "source": [
    "# turning the dictionary into a pandas Series object\n",
    "\n",
    "py = pd.Series(py_dict)\n",
    "\n",
    "# change the type to datetime year\n",
    "py = pd.to_datetime(py, format='%Y').dt.year\n",
    "\n",
    "# find out frequeincies\n",
    "py_counts = py.value_counts()\n",
    "py_counts.sort_index(inplace= True)"
   ]
  },
  {
   "cell_type": "code",
   "execution_count": 123,
   "metadata": {},
   "outputs": [
    {
     "data": {
      "image/png": "[encoded data removed]",
      "text/plain": [
       "<Figure size 576x432 with 1 Axes>"
      ]
     },
     "metadata": {
      "needs_background": "light"
     },
     "output_type": "display_data"
    }
   ],
   "source": [
    "\n",
    "fig, ax = plt.subplots(nrows=1, ncols=1, figsize=(8,6))\n",
    "\n",
    "# use plt.bar method for vertical bars\n",
    "ax.bar(py_counts.index, py_counts)  \n",
    "\n",
    "# add labels\n",
    "plt.ylabel(\"Number of Publications\")\n",
    "plt.xlabel(\"Years\")\n",
    "\n",
    "# add Title\n",
    "plt.title(\"Number of Publications Per Year\") \n",
    "\n",
    "# arange padding\n",
    "plt.tight_layout()\n",
    "\n",
    "# display the plot\n",
    "plt.show()"
   ]
  },
  {
   "cell_type": "code",
   "execution_count": 111,
   "metadata": {},
   "outputs": [],
   "source": [
    "# finding out Source\n",
    "# each Source is the value of i'th key of the dictionary \n",
    "\n",
    "with open(\"Data/LAST DATA.txt\", \"r\", encoding='utf-8') as f:\n",
    "    \n",
    "    so_counter=False\n",
    "    index =0\n",
    "    so_dict={}\n",
    "    \n",
    "    for line in f:\n",
    "        \n",
    "        if line.startswith(\"SO\"):\n",
    "            so_dict[index] = line[3:].strip()\n",
    "            index +=1"
   ]
  },
  {
   "cell_type": "code",
   "execution_count": 113,
   "metadata": {},
   "outputs": [
    {
     "data": {
      "text/plain": [
       "JOURNAL OF REFUGEE STUDIES                   5\n",
       "ADVANCES IN NURSING SCIENCE                  5\n",
       "INTERNATIONAL SOCIAL WORK                    5\n",
       "JOURNAL OF GENERAL INTERNAL MEDICINE         5\n",
       "GENDER PLACE AND CULTURE                     6\n",
       "REFUGEE WOMEN IN BRITAIN AND FRANCE          7\n",
       "INTERNATIONAL MIGRATION                      7\n",
       "EUROPEAN PSYCHIATRY                          7\n",
       "EUROPEAN JOURNAL OF PUBLIC HEALTH           10\n",
       "JOURNAL OF IMMIGRANT AND MINORITY HEALTH    17\n",
       "dtype: int64"
      ]
     },
     "execution_count": 113,
     "metadata": {},
     "output_type": "execute_result"
    }
   ],
   "source": [
    "# turning the dictionary into a pandas Series object\n",
    "\n",
    "so = pd.Series(so_dict)\n",
    "\n",
    "# finding out frequencies of data and print out top 10 in ascending order\n",
    "so_counts = so.value_counts(ascending=True).tail(10)\n",
    "so_counts"
   ]
  },
  {
   "cell_type": "code",
   "execution_count": 120,
   "metadata": {},
   "outputs": [
    {
     "data": {
      "image/png": "[encoded data removed]",
      "text/plain": [
       "<Figure size 864x576 with 1 Axes>"
      ]
     },
     "metadata": {
      "needs_background": "light"
     },
     "output_type": "display_data"
    }
   ],
   "source": [
    "fig, ax = plt.subplots(nrows=1, ncols=1, figsize=(12,8))\n",
    "\n",
    "# use plt.bar method for vertical bars\n",
    "ax.barh(so_counts.index, so_counts)  \n",
    "\n",
    "# add labels\n",
    "plt.xlabel(\"Number of Publications\")\n",
    "plt.ylabel(\"Sources\")\n",
    "\n",
    "# add Title\n",
    "plt.title(\"Top 10 Sources Have Articles on the Subject\") \n",
    "\n",
    "# arange padding\n",
    "plt.tight_layout()\n",
    "\n",
    "# display the plot\n",
    "plt.show()"
   ]
  },
  {
   "cell_type": "code",
   "execution_count": 71,
   "metadata": {},
   "outputs": [],
   "source": [
    "# finding out citations\n",
    "# each citation is the value of i'th key of the dictionary \n",
    "import pandas as pd\n",
    "\n",
    "with open(\"Data/LAST DATA.txt\", \"r\", encoding='utf-8') as f:\n",
    "    \n",
    "    cr_counter=False\n",
    "    n_article=0\n",
    "    index =0\n",
    "    cmb_cr={}\n",
    "    cmb_py={}\n",
    "    \n",
    "    for line in f:\n",
    "\n",
    "        # each new publication starts with PT and count them \n",
    "        if line.startswith(\"PT\"):\n",
    "            n_article += 1\n",
    "            continue\n",
    "        \n",
    "        # citation rows of each publication starts with PT\n",
    "        # add them to the dictionary with new index \n",
    "        if line.startswith(\"CR\"):\n",
    "            cmb_cr[index] = [line[3:].strip(), n_article]\n",
    "            index +=1\n",
    "            cr_counter= True\n",
    "            continue\n",
    "        \n",
    "        # the very next row after citation is NR\n",
    "        # then stop adding items to the dictionary \n",
    "        if line.startswith(\"NR\"):\n",
    "            cr_counter=False\n",
    "            continue\n",
    "        \n",
    "        # if the row is between \"CR\" and \"NR\" add rows to the dictionary\n",
    "        if cr_counter:\n",
    "            cmb_cr[index] = [line[3:].strip(), n_article]\n",
    "            index +=1\n",
    "        \n",
    "        # publication years of each publication starts with PT\n",
    "        # add PY to each citation of the current article it iterates over   \n",
    "        if line.startswith(\"PY\"):\n",
    "            py = line[3:].strip()\n",
    "            \n",
    "            for key,value in cmb_cr.items():\n",
    "                if value:\n",
    "                    if value[1]==n_article:\n",
    "                        value.append(py)\n",
    "                        "
   ]
  },
  {
   "cell_type": "code",
   "execution_count": 72,
   "metadata": {},
   "outputs": [
    {
     "data": {
      "text/plain": [
       "Citation             object\n",
       "Number of Article     int64\n",
       "Publication Year     object\n",
       "dtype: object"
      ]
     },
     "execution_count": 72,
     "metadata": {},
     "output_type": "execute_result"
    }
   ],
   "source": [
    "# simplify the citation column with regex\n",
    "# replace the ex,isting citation with the simplified value\n",
    "\n",
    "import re \n",
    "\n",
    "for key, value in cmb_cr.items():\n",
    "    pattern = re.match(r\"[\\w\\s*&-/`'()\\[\\],.]*\\s(19|20)\\d{2}\", value[0])\n",
    "    \n",
    "    if pattern:\n",
    "        value[0] =pattern.group()\n",
    "        \n",
    "\n",
    "# turn dictionary into a dataframe\n",
    "cmb = pd.DataFrame.from_dict(cmb_cr, columns=[\"Citation\", \"Number of Article\", \"Publication Year\"], orient='index')\n",
    "cmb.dtypes"
   ]
  },
  {
   "cell_type": "code",
   "execution_count": 73,
   "metadata": {},
   "outputs": [
    {
     "name": "stdout",
     "output_type": "stream",
     "text": [
      "Citation               0\n",
      "Number of Article      0\n",
      "Publication Year     274\n",
      "dtype: int64\n",
      "      Publication Year\n",
      "5257              None\n",
      "5258              None\n",
      "5259              None\n",
      "5260              None\n",
      "5261              None\n",
      "...                ...\n",
      "11484             None\n",
      "11485             None\n",
      "11486             None\n",
      "11487             None\n",
      "11488             None\n",
      "\n",
      "[274 rows x 1 columns]\n"
     ]
    }
   ],
   "source": [
    "# print None values\n",
    "\n",
    "print(cmb.isnull().sum())\n",
    "\n",
    "null_columns=cmb.columns[cmb.isnull().any()]\n",
    "print(cmb[cmb[\"Publication Year\"].isnull()][null_columns])"
   ]
  },
  {
   "cell_type": "code",
   "execution_count": 74,
   "metadata": {},
   "outputs": [
    {
     "data": {
      "text/html": [
       "<div>\n",
       "<style scoped>\n",
       "    .dataframe tbody tr th:only-of-type {\n",
       "        vertical-align: middle;\n",
       "    }\n",
       "\n",
       "    .dataframe tbody tr th {\n",
       "        vertical-align: top;\n",
       "    }\n",
       "\n",
       "    .dataframe thead th {\n",
       "        text-align: right;\n",
       "    }\n",
       "</style>\n",
       "<table border=\"1\" class=\"dataframe\">\n",
       "  <thead>\n",
       "    <tr style=\"text-align: right;\">\n",
       "      <th></th>\n",
       "      <th>Citation</th>\n",
       "      <th>Number of Article</th>\n",
       "      <th>Publication Year</th>\n",
       "    </tr>\n",
       "  </thead>\n",
       "  <tbody>\n",
       "    <tr>\n",
       "      <th>0</th>\n",
       "      <td>ALUOCH JR, 1990</td>\n",
       "      <td>1</td>\n",
       "      <td>2003</td>\n",
       "    </tr>\n",
       "    <tr>\n",
       "      <th>1</th>\n",
       "      <td>BAILL IC, 1990</td>\n",
       "      <td>1</td>\n",
       "      <td>2003</td>\n",
       "    </tr>\n",
       "    <tr>\n",
       "      <th>2</th>\n",
       "      <td>BLATTNER P, 1977</td>\n",
       "      <td>1</td>\n",
       "      <td>2003</td>\n",
       "    </tr>\n",
       "    <tr>\n",
       "      <th>3</th>\n",
       "      <td>Cronin EK, 2000</td>\n",
       "      <td>1</td>\n",
       "      <td>2003</td>\n",
       "    </tr>\n",
       "    <tr>\n",
       "      <th>4</th>\n",
       "      <td>ELSHAFEI AM, 1992</td>\n",
       "      <td>1</td>\n",
       "      <td>2003</td>\n",
       "    </tr>\n",
       "    <tr>\n",
       "      <th>...</th>\n",
       "      <td>...</td>\n",
       "      <td>...</td>\n",
       "      <td>...</td>\n",
       "    </tr>\n",
       "    <tr>\n",
       "      <th>13864</th>\n",
       "      <td>Strauss A, 1998</td>\n",
       "      <td>416</td>\n",
       "      <td>2017</td>\n",
       "    </tr>\n",
       "    <tr>\n",
       "      <th>13865</th>\n",
       "      <td>Taylor VM, 2002</td>\n",
       "      <td>416</td>\n",
       "      <td>2017</td>\n",
       "    </tr>\n",
       "    <tr>\n",
       "      <th>13866</th>\n",
       "      <td>Tsui J, 2007</td>\n",
       "      <td>416</td>\n",
       "      <td>2017</td>\n",
       "    </tr>\n",
       "    <tr>\n",
       "      <th>13867</th>\n",
       "      <td>Yun K, 2016</td>\n",
       "      <td>416</td>\n",
       "      <td>2017</td>\n",
       "    </tr>\n",
       "    <tr>\n",
       "      <th>13868</th>\n",
       "      <td>Yun K, 2012</td>\n",
       "      <td>416</td>\n",
       "      <td>2017</td>\n",
       "    </tr>\n",
       "  </tbody>\n",
       "</table>\n",
       "<p>13595 rows × 3 columns</p>\n",
       "</div>"
      ],
      "text/plain": [
       "                Citation  Number of Article Publication Year\n",
       "0        ALUOCH JR, 1990                  1             2003\n",
       "1         BAILL IC, 1990                  1             2003\n",
       "2       BLATTNER P, 1977                  1             2003\n",
       "3        Cronin EK, 2000                  1             2003\n",
       "4      ELSHAFEI AM, 1992                  1             2003\n",
       "...                  ...                ...              ...\n",
       "13864    Strauss A, 1998                416             2017\n",
       "13865    Taylor VM, 2002                416             2017\n",
       "13866       Tsui J, 2007                416             2017\n",
       "13867        Yun K, 2016                416             2017\n",
       "13868        Yun K, 2012                416             2017\n",
       "\n",
       "[13595 rows x 3 columns]"
      ]
     },
     "execution_count": 74,
     "metadata": {},
     "output_type": "execute_result"
    }
   ],
   "source": [
    "# drop rows that have no publication years \n",
    "\n",
    "cmb.dropna(inplace=True)\n",
    "cmb"
   ]
  },
  {
   "cell_type": "code",
   "execution_count": 75,
   "metadata": {},
   "outputs": [
    {
     "data": {
      "text/plain": [
       "Citation             object\n",
       "Number of Article     int64\n",
       "Publication Year      int64\n",
       "dtype: object"
      ]
     },
     "execution_count": 75,
     "metadata": {},
     "output_type": "execute_result"
    }
   ],
   "source": [
    "# change the type to datetime year\n",
    "\n",
    "cmb[\"Publication Year\"] = pd.to_datetime(cmb[\"Publication Year\"]).dt.year\n",
    "cmb.dtypes"
   ]
  },
  {
   "cell_type": "code",
   "execution_count": 76,
   "metadata": {},
   "outputs": [],
   "source": [
    "# add a cloumn shows whether the publication year is less than 2000\n",
    "\n",
    "import numpy as np\n",
    "cmb[\"Period 1\"] = np.where((cmb[\"Publication Year\"] <=2015) & (cmb[\"Publication Year\"] >=2010), 1, 0)\n",
    "cmb[\"Period 2\"] = np.where(cmb[\"Publication Year\"] >=2016, 1, 0)"
   ]
  },
  {
   "cell_type": "code",
   "execution_count": 78,
   "metadata": {},
   "outputs": [
    {
     "data": {
      "text/html": [
       "<div>\n",
       "<style scoped>\n",
       "    .dataframe tbody tr th:only-of-type {\n",
       "        vertical-align: middle;\n",
       "    }\n",
       "\n",
       "    .dataframe tbody tr th {\n",
       "        vertical-align: top;\n",
       "    }\n",
       "\n",
       "    .dataframe thead th {\n",
       "        text-align: right;\n",
       "    }\n",
       "</style>\n",
       "<table border=\"1\" class=\"dataframe\">\n",
       "  <thead>\n",
       "    <tr style=\"text-align: right;\">\n",
       "      <th></th>\n",
       "      <th>Citation</th>\n",
       "      <th>Number of Article</th>\n",
       "      <th>Publication Year</th>\n",
       "      <th>Period 1</th>\n",
       "      <th>Period 2</th>\n",
       "    </tr>\n",
       "  </thead>\n",
       "  <tbody>\n",
       "    <tr>\n",
       "      <th>16</th>\n",
       "      <td>Abdulcadir J, 2016</td>\n",
       "      <td>3</td>\n",
       "      <td>2019</td>\n",
       "      <td>0</td>\n",
       "      <td>1</td>\n",
       "    </tr>\n",
       "    <tr>\n",
       "      <th>17</th>\n",
       "      <td>Agbemenu K, 2018</td>\n",
       "      <td>3</td>\n",
       "      <td>2019</td>\n",
       "      <td>0</td>\n",
       "      <td>1</td>\n",
       "    </tr>\n",
       "    <tr>\n",
       "      <th>18</th>\n",
       "      <td>Akinsulure-Smith AM, 2014</td>\n",
       "      <td>3</td>\n",
       "      <td>2019</td>\n",
       "      <td>0</td>\n",
       "      <td>1</td>\n",
       "    </tr>\n",
       "    <tr>\n",
       "      <th>19</th>\n",
       "      <td>Banke-Thomas A., 2017</td>\n",
       "      <td>3</td>\n",
       "      <td>2019</td>\n",
       "      <td>0</td>\n",
       "      <td>1</td>\n",
       "    </tr>\n",
       "    <tr>\n",
       "      <th>20</th>\n",
       "      <td>Banke-Thomas A, 2019</td>\n",
       "      <td>3</td>\n",
       "      <td>2019</td>\n",
       "      <td>0</td>\n",
       "      <td>1</td>\n",
       "    </tr>\n",
       "    <tr>\n",
       "      <th>...</th>\n",
       "      <td>...</td>\n",
       "      <td>...</td>\n",
       "      <td>...</td>\n",
       "      <td>...</td>\n",
       "      <td>...</td>\n",
       "    </tr>\n",
       "    <tr>\n",
       "      <th>13864</th>\n",
       "      <td>Strauss A, 1998</td>\n",
       "      <td>416</td>\n",
       "      <td>2017</td>\n",
       "      <td>0</td>\n",
       "      <td>1</td>\n",
       "    </tr>\n",
       "    <tr>\n",
       "      <th>13865</th>\n",
       "      <td>Taylor VM, 2002</td>\n",
       "      <td>416</td>\n",
       "      <td>2017</td>\n",
       "      <td>0</td>\n",
       "      <td>1</td>\n",
       "    </tr>\n",
       "    <tr>\n",
       "      <th>13866</th>\n",
       "      <td>Tsui J, 2007</td>\n",
       "      <td>416</td>\n",
       "      <td>2017</td>\n",
       "      <td>0</td>\n",
       "      <td>1</td>\n",
       "    </tr>\n",
       "    <tr>\n",
       "      <th>13867</th>\n",
       "      <td>Yun K, 2016</td>\n",
       "      <td>416</td>\n",
       "      <td>2017</td>\n",
       "      <td>0</td>\n",
       "      <td>1</td>\n",
       "    </tr>\n",
       "    <tr>\n",
       "      <th>13868</th>\n",
       "      <td>Yun K, 2012</td>\n",
       "      <td>416</td>\n",
       "      <td>2017</td>\n",
       "      <td>0</td>\n",
       "      <td>1</td>\n",
       "    </tr>\n",
       "  </tbody>\n",
       "</table>\n",
       "<p>6747 rows × 5 columns</p>\n",
       "</div>"
      ],
      "text/plain": [
       "                        Citation  Number of Article  Publication Year  \\\n",
       "16            Abdulcadir J, 2016                  3              2019   \n",
       "17              Agbemenu K, 2018                  3              2019   \n",
       "18     Akinsulure-Smith AM, 2014                  3              2019   \n",
       "19         Banke-Thomas A., 2017                  3              2019   \n",
       "20          Banke-Thomas A, 2019                  3              2019   \n",
       "...                          ...                ...               ...   \n",
       "13864            Strauss A, 1998                416              2017   \n",
       "13865            Taylor VM, 2002                416              2017   \n",
       "13866               Tsui J, 2007                416              2017   \n",
       "13867                Yun K, 2016                416              2017   \n",
       "13868                Yun K, 2012                416              2017   \n",
       "\n",
       "       Period 1  Period 2  \n",
       "16            0         1  \n",
       "17            0         1  \n",
       "18            0         1  \n",
       "19            0         1  \n",
       "20            0         1  \n",
       "...         ...       ...  \n",
       "13864         0         1  \n",
       "13865         0         1  \n",
       "13866         0         1  \n",
       "13867         0         1  \n",
       "13868         0         1  \n",
       "\n",
       "[6747 rows x 5 columns]"
      ]
     },
     "execution_count": 78,
     "metadata": {},
     "output_type": "execute_result"
    }
   ],
   "source": [
    "# show citations of publications published before 2000   \n",
    "\n",
    "cmb[cmb[\"Period 2\"]==1]"
   ]
  },
  {
   "cell_type": "code",
   "execution_count": 89,
   "metadata": {},
   "outputs": [
    {
     "data": {
      "text/plain": [
       "dtype('int64')"
      ]
     },
     "execution_count": 89,
     "metadata": {},
     "output_type": "execute_result"
    }
   ],
   "source": [
    "# Most cited Publications between 2010 and 2015\n",
    "\n",
    "grp_period_1 = cmb.groupby(\"Period 1\")\n",
    "period_1 = grp_period_1[\"Citation\"].value_counts(ascending=True).tail(5)\n",
    "period_1.dtypes"
   ]
  },
  {
   "cell_type": "code",
   "execution_count": 85,
   "metadata": {},
   "outputs": [
    {
     "data": {
      "text/plain": [
       "Period 2  Citation           \n",
       "1         Creswell J. W, 2009     8\n",
       "          Pavlish CL, 2010        9\n",
       "          [Anonymous], 1933       9\n",
       "          UNHCR, 2014            10\n",
       "          Braun V., 2006         11\n",
       "Name: Citation, dtype: int64"
      ]
     },
     "execution_count": 85,
     "metadata": {},
     "output_type": "execute_result"
    }
   ],
   "source": [
    "# Most cited Publications after 2015\n",
    "\n",
    "grp_period_2 = cmb.groupby(\"Period 2\")\n",
    "period_2 = grp_period_2[\"Citation\"].value_counts(ascending=True).tail(5)\n",
    "period_2"
   ]
  },
  {
   "cell_type": "code",
   "execution_count": 86,
   "metadata": {},
   "outputs": [
    {
     "data": {
      "text/plain": [
       "Schweitzer R, 2006        10\n",
       "UNHCR, 2011               10\n",
       "Barnes DM, 2004           12\n",
       "Carroll Jennifer, 2007    12\n",
       "Braun V., 2006            14\n",
       "Name: Citation, dtype: int64"
      ]
     },
     "execution_count": 86,
     "metadata": {},
     "output_type": "execute_result"
    }
   ],
   "source": [
    "total = cmb[\"Citation\"].value_counts(ascending=True).tail(5)\n",
    "total"
   ]
  },
  {
   "cell_type": "code",
   "execution_count": 107,
   "metadata": {},
   "outputs": [
    {
     "data": {
      "image/png": "[encoded data removed]",
      "text/plain": [
       "<Figure size 864x576 with 3 Axes>"
      ]
     },
     "metadata": {
      "needs_background": "light"
     },
     "output_type": "display_data"
    }
   ],
   "source": [
    "import matplotlib.pyplot as plt\n",
    "\n",
    "fig, (ax_1, ax_2, ax_3) = plt.subplots(nrows=3, ncols=1, figsize=(12,8), sharex=True)\n",
    "\n",
    "# plt.figure(figsize=(12,12))\n",
    "# use plt.barh method for horizontal bar\n",
    "ax_1.barh(period_1.index.get_level_values(1), period_1, color=\"red\", label= \"2010-2015\")  \n",
    "ax_2.barh(period_2.index.get_level_values(1), period_2, color=\"green\", label= \"After 2016\")  \n",
    "ax_3.barh(total.index, total, color=\"blue\", label= \"All\")\n",
    "# add labels\n",
    "ax_2.set_ylabel(\"Reference\")\n",
    "plt.xlabel(\"Frequencies\")\n",
    "\n",
    "# add Title\n",
    "ax_1.set_title(\"Most Cited Publications\") \n",
    "\n",
    "ax_1.legend()\n",
    "ax_2.legend()\n",
    "ax_3.legend()\n",
    "\n",
    "# arange padding\n",
    "plt.tight_layout()\n",
    "\n",
    "# display the plot\n",
    "plt.show()"
   ]
  },
  {
   "cell_type": "code",
   "execution_count": null,
   "metadata": {},
   "outputs": [],
   "source": []
  }
 ],
 "metadata": {
  "kernelspec": {
   "display_name": "Python 3",
   "language": "python",
   "name": "python3"
  },
  "language_info": {
   "codemirror_mode": {
    "name": "ipython",
    "version": 3
   },
   "file_extension": ".py",
   "mimetype": "text/x-python",
   "name": "python",
   "nbconvert_exporter": "python",
   "pygments_lexer": "ipython3",
   "version": "3.7.6"
  }
 },
 "nbformat": 4,
 "nbformat_minor": 4
}
